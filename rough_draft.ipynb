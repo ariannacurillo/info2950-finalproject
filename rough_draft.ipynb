{
 "cells": [
  {
   "cell_type": "markdown",
   "metadata": {},
   "source": [
    "# Introduction"
   ]
  },
  {
   "cell_type": "markdown",
   "metadata": {},
   "source": [
    "For our project we have decided to dive deep into the issue of climate change and the rise in pollution levels over the past decade. Our generation is already dealing with the negative effects of climate change and it is something that will be an issue that we must deal with for most likely the rest of our lives. While we are aware of how prevalent the climate change issue is in our world, we want to analyze how much climate change has actually become an issue, specifically in New York state where we are both currently students of Cornell University. These issues are ones that weigh heavily on many of our consciences and is something that affects our everyday decisions. In our analysis we want to see if over the years, as pollution levels rise and climate change becomes more rampant, are people making more sustainable choices to fight this reality. We will look at recycling rates and bike usage to quantify these sustainable efforts to help fight the climate change that is occuring. While we know these small individual actions will not completely save the planet, we want to see if there is positive change occuring in our society to fight against our current reality in whatever ways an individual can because small changes can lead to big movements.\n",
    "\n",
    "For our data sources we use a dataset to examine the pollution levels in New York called, ghgp_data_by_year.csv which shows pollution levels across New  York organized by cities, industry sectors, and total emissions by year. The other dataset we have includes recycling rates in New York City where pollution is a major concern which is called recycling-diversion-and-capture-rates.csv which gives us the date, the borough, the recycling diversion rate, and the recycling capture rate for the years of 2010 and 2016. The other datasets we have include bike usage by Citi Bike in New York City. Here we have the date, the borough, and the bike’s usage information such as the birth year, gender, and type of user, and the time duration of the bike rental. For our overall research question, we are interested in how an increase in pollution levels over the last couple decades have affected public sentiment towards environmental activism and sustainable practices. We are interested in better understanding the relationship between climate change throughout the years and sentiment towards environmental activism and sustainable practices such as recycling and bike usage. "
   ]
  },
  {
   "cell_type": "markdown",
   "metadata": {},
   "source": [
    "# Data Description"
   ]
  },
  {
   "cell_type": "markdown",
   "metadata": {},
   "source": [
    "### Pollution dataset\n",
    "For the dataset on greenhouse gas emissions, each observation is of a facility that emits greenhouse gases. The majority of the facilities include power plants and chemical production centers. The attributes for each of these observations include FRS ID, facility name, city, state, zip code, address, county, latitude, longitude, NAICS code, industry subparts, industry sector, and emission for the years 2011 through 2018.  This dataset was created by the Environmental Protection Agency (EPA) in order to monitor greenhouse gas emissions for specific facilities across industries over time. Since the EPA sets environmental regulations, this data was likely collected in order to better understand how much pollution certain facilities contribute to the environment in order to determine a plan for regulating these industries. Given this, each facility likely provides the EPA with this data and is aware of the data collection that is occurring. The raw data can be found on our github page under the csv file that is named ghgp_data_by_year or our cleaned dataset version called ghg_data_ny."
   ]
  },
  {
   "cell_type": "markdown",
   "metadata": {},
   "source": [
    "### Recycling dataset\n",
    "For the dataset on recycling rates in New York City, we have divided the data set into two dividing by the two years present in the dataset including 2010 and 2016. The attributes for this dataset include Zone, District, Fiscal Month Number, Fiscal Year, Month Name, Diversion Rate, and Capture Rate. This dataset was created by \n",
    "The raw data can be found on our github page under the csv file that is named recycling-diversion-and-capture-rates or our cleaned dataset versions called recycling_2010 and recycling_2016."
   ]
  },
  {
   "cell_type": "markdown",
   "metadata": {},
   "source": [
    "### Biking dataset\n",
    "For the dataset on bike usage in New York City, we got our dataset from Citi Bike which has data on bike usage for every month and year since 2013. We have chosen to examine two datasets for the years of 2013 and 2016 to most closely resemble the years for the recycling datasets. The attributes for this dataset include Zone, Start Station Latitude, Start Station Longitude, tripduration, starttime, stoptime, start station id, end station id, end station name, end station latitude, end station longitude, bikeid, usertype, birthyear, and gender . The raw data can be found on our github page under the csv file that is named 201306-citibike-tripdata.csv and 201606-citibike-tripdata.csv or our cleaned samples of the dataset called biking_2013.csv and biking_2016.csv"
   ]
  },
  {
   "cell_type": "markdown",
   "metadata": {},
   "source": [
    "# Pre-Registration Statement"
   ]
  },
  {
   "cell_type": "markdown",
   "metadata": {},
   "source": [
    "For our two analyses we would like to understand how both individuals and local government have been able to carry out and influence sustainable human actions and behaviors over time as pollution levels change. Using our first two datasets, the goal of our first hypothesis test is to understand if a higher percentage of waste is being recycled in New York City over time across multiple districts. By comparing this against our dataset that maps pollution levels for NYC and another for the whole country, we are interested in whether the trends in recycling match that of pollution levels.  We will use a linear regression model with our x input being the pollution levels and seeing if there is a positive correlation with the y output of recycling. We would like to do a similar analysis with the biking and use a linear regression model with our x input in this case also being pollution levels, but this time comparing that with our y output of bike usage and see if there is a positive correlation. This is an appropriate method to address our research question because we want to see if people’s knowledge of a rise in pollution levels (the x variable) affect people’s participation in sustainable practices (recycling and bike usage as the y variables).\n",
    "\n",
    "For our second hypothesis test, we plan on using Citi bike data from NYC since biking is more sustainable than other forms of transportation. We are interested in seeing how pollution levels might correlate with higher uses of the bikes, greater construction of bike routes on the part of the government, and if there are certain correlations between the location of where bike routes are established and the sustainable behaviors of the people. We plan on creating a multivariable Linear Regression model where we will group by the 5 boroughs of NYC and use measures of recycling such as the diversion rate (the percent of total waste that is recycled) and capture rate (the total recyclable waste that is sent to be recycled) as our X inputs to predict the number of bike routes in each area, the Y input. For this model, we’ll also have to create a new dataframe where we join the recycling data and the biking data. This model is appropriate because it will help us see if there is a correlation between how much people are biking and how much they are recycling to understand if people are engaging in environmentally sustainable behaviors. This will help us address our research question as it will help explain the sentiment towards environmental activism and how it varies between the NYC boroughs so that we can provide more context for our previous model which directly compares pollution levels to environmental activism. \n",
    "\n",
    "These two tests will hopefully help us understand if government actions like constructing bike routes might be driving responses (which might lead to higher Citi bike use) to rising pollution levels or if individuals are taking action of their own and are becoming more environmentally conscious (this can be inferred from the recycling data analysis) as they become aware of increasing pollution levels. "
   ]
  },
  {
   "cell_type": "markdown",
   "metadata": {},
   "source": [
    "# Data Analysis"
   ]
  },
  {
   "cell_type": "code",
   "execution_count": 1,
   "metadata": {},
   "outputs": [],
   "source": [
    "import pandas as pd\n",
    "import numpy as np\n",
    "import matplotlib.pyplot as plt\n",
    "from scipy import stats\n",
    "import seaborn as sns\n",
    "from datetime import datetime\n",
    "from sklearn.cluster import KMeans\n",
    "from sklearn.linear_model import LinearRegression\n",
    "from sklearn.linear_model import LogisticRegression\n",
    "from sklearn.model_selection import train_test_split\n",
    "from scipy import stats\n",
    "from scipy.stats import poisson, ttest_ind"
   ]
  },
  {
   "cell_type": "markdown",
   "metadata": {},
   "source": [
    "### Understanding Pollution Levels in NY\n",
    "Before analyzing how attitudes towards sustainable practices have changed from 2010 to 2016 in New York, we wanted to understand how pollution levels have changed over time and who were the largest contributors to pollution both from the persepctive of which cities were contributing the most to pollution and which industries. "
   ]
  },
  {
   "cell_type": "code",
   "execution_count": 5,
   "metadata": {},
   "outputs": [
    {
     "data": {
      "text/html": [
       "<div>\n",
       "<style scoped>\n",
       "    .dataframe tbody tr th:only-of-type {\n",
       "        vertical-align: middle;\n",
       "    }\n",
       "\n",
       "    .dataframe tbody tr th {\n",
       "        vertical-align: top;\n",
       "    }\n",
       "\n",
       "    .dataframe thead th {\n",
       "        text-align: right;\n",
       "    }\n",
       "</style>\n",
       "<table border=\"1\" class=\"dataframe\">\n",
       "  <thead>\n",
       "    <tr style=\"text-align: right;\">\n",
       "      <th></th>\n",
       "      <th>Unnamed: 0</th>\n",
       "      <th>facility_id</th>\n",
       "      <th>frs_id</th>\n",
       "      <th>facility_name</th>\n",
       "      <th>city</th>\n",
       "      <th>state</th>\n",
       "      <th>zip_code</th>\n",
       "      <th>address</th>\n",
       "      <th>county</th>\n",
       "      <th>latitude</th>\n",
       "      <th>...</th>\n",
       "      <th>industy_subparts</th>\n",
       "      <th>industry_sector</th>\n",
       "      <th>2018</th>\n",
       "      <th>2017</th>\n",
       "      <th>2016</th>\n",
       "      <th>2015</th>\n",
       "      <th>2014</th>\n",
       "      <th>2013</th>\n",
       "      <th>2012</th>\n",
       "      <th>2011</th>\n",
       "    </tr>\n",
       "  </thead>\n",
       "  <tbody>\n",
       "    <tr>\n",
       "      <th>0</th>\n",
       "      <td>0</td>\n",
       "      <td>1000077</td>\n",
       "      <td>110000774797</td>\n",
       "      <td>REPUBLIC STEEL LACKAWANNA</td>\n",
       "      <td>BLASDELL</td>\n",
       "      <td>NY</td>\n",
       "      <td>14219</td>\n",
       "      <td>S3049 LAKESHORE RD.</td>\n",
       "      <td>ERIE COUNTY</td>\n",
       "      <td>42.80</td>\n",
       "      <td>...</td>\n",
       "      <td>C</td>\n",
       "      <td>Metals</td>\n",
       "      <td>78801.40</td>\n",
       "      <td>76235.01</td>\n",
       "      <td>61447.47</td>\n",
       "      <td>73193.02</td>\n",
       "      <td>77355.81</td>\n",
       "      <td>71702.38</td>\n",
       "      <td>80619.20</td>\n",
       "      <td>72355.73</td>\n",
       "    </tr>\n",
       "    <tr>\n",
       "      <th>1</th>\n",
       "      <td>1</td>\n",
       "      <td>1000093</td>\n",
       "      <td>110000324435</td>\n",
       "      <td>Momentive Performance Materials</td>\n",
       "      <td>WATERFORD</td>\n",
       "      <td>NY</td>\n",
       "      <td>12188</td>\n",
       "      <td>260 HUDSON RIVER ROAD</td>\n",
       "      <td>Saratoga</td>\n",
       "      <td>42.82</td>\n",
       "      <td>...</td>\n",
       "      <td>CTT</td>\n",
       "      <td>OtherWaste</td>\n",
       "      <td>134663.45</td>\n",
       "      <td>131363.56</td>\n",
       "      <td>125491.33</td>\n",
       "      <td>126818.78</td>\n",
       "      <td>127808.87</td>\n",
       "      <td>132095.46</td>\n",
       "      <td>120944.74</td>\n",
       "      <td>142529.89</td>\n",
       "    </tr>\n",
       "    <tr>\n",
       "      <th>2</th>\n",
       "      <td>2</td>\n",
       "      <td>1000101</td>\n",
       "      <td>110019468057</td>\n",
       "      <td>Athens Generating Company</td>\n",
       "      <td>ATHENS</td>\n",
       "      <td>NY</td>\n",
       "      <td>12015</td>\n",
       "      <td>9300 U S HIGHWAY 9W</td>\n",
       "      <td>Greene</td>\n",
       "      <td>42.27</td>\n",
       "      <td>...</td>\n",
       "      <td>D</td>\n",
       "      <td>Power Plants</td>\n",
       "      <td>1381328.03</td>\n",
       "      <td>1487213.14</td>\n",
       "      <td>1514867.54</td>\n",
       "      <td>1285191.24</td>\n",
       "      <td>1026373.20</td>\n",
       "      <td>1376177.50</td>\n",
       "      <td>2133936.99</td>\n",
       "      <td>1566947.61</td>\n",
       "    </tr>\n",
       "    <tr>\n",
       "      <th>3</th>\n",
       "      <td>3</td>\n",
       "      <td>1000108</td>\n",
       "      <td>110012158707</td>\n",
       "      <td>North 1st</td>\n",
       "      <td>BROOKLYN</td>\n",
       "      <td>NY</td>\n",
       "      <td>11211</td>\n",
       "      <td>NORTH 1ST &amp; 47-79 RIVER ST</td>\n",
       "      <td>Kings</td>\n",
       "      <td>40.72</td>\n",
       "      <td>...</td>\n",
       "      <td>CD</td>\n",
       "      <td>Power Plants</td>\n",
       "      <td>31069.94</td>\n",
       "      <td>22460.32</td>\n",
       "      <td>26369.45</td>\n",
       "      <td>18559.93</td>\n",
       "      <td>20816.32</td>\n",
       "      <td>26629.45</td>\n",
       "      <td>26775.50</td>\n",
       "      <td>45473.83</td>\n",
       "    </tr>\n",
       "    <tr>\n",
       "      <th>4</th>\n",
       "      <td>4</td>\n",
       "      <td>1000111</td>\n",
       "      <td>110012158734</td>\n",
       "      <td>Vernon Boulevard</td>\n",
       "      <td>LONG ISLAND CITY</td>\n",
       "      <td>NY</td>\n",
       "      <td>11427</td>\n",
       "      <td>42 30 VERNON BLVD</td>\n",
       "      <td>Queens</td>\n",
       "      <td>40.75</td>\n",
       "      <td>...</td>\n",
       "      <td>CD</td>\n",
       "      <td>Power Plants</td>\n",
       "      <td>35221.82</td>\n",
       "      <td>28073.30</td>\n",
       "      <td>28262.00</td>\n",
       "      <td>27000.90</td>\n",
       "      <td>26232.55</td>\n",
       "      <td>43133.84</td>\n",
       "      <td>38257.51</td>\n",
       "      <td>44820.68</td>\n",
       "    </tr>\n",
       "  </tbody>\n",
       "</table>\n",
       "<p>5 rows × 22 columns</p>\n",
       "</div>"
      ],
      "text/plain": [
       "   Unnamed: 0  facility_id        frs_id                    facility_name  \\\n",
       "0           0      1000077  110000774797        REPUBLIC STEEL LACKAWANNA   \n",
       "1           1      1000093  110000324435  Momentive Performance Materials   \n",
       "2           2      1000101  110019468057        Athens Generating Company   \n",
       "3           3      1000108  110012158707                        North 1st   \n",
       "4           4      1000111  110012158734                 Vernon Boulevard   \n",
       "\n",
       "               city state  zip_code                     address       county  \\\n",
       "0          BLASDELL    NY     14219         S3049 LAKESHORE RD.  ERIE COUNTY   \n",
       "1         WATERFORD    NY     12188       260 HUDSON RIVER ROAD     Saratoga   \n",
       "2            ATHENS    NY     12015         9300 U S HIGHWAY 9W       Greene   \n",
       "3          BROOKLYN    NY     11211  NORTH 1ST & 47-79 RIVER ST        Kings   \n",
       "4  LONG ISLAND CITY    NY     11427           42 30 VERNON BLVD       Queens   \n",
       "\n",
       "   latitude  ...  industy_subparts  industry_sector        2018        2017  \\\n",
       "0     42.80  ...                 C           Metals    78801.40    76235.01   \n",
       "1     42.82  ...               CTT       OtherWaste   134663.45   131363.56   \n",
       "2     42.27  ...                 D     Power Plants  1381328.03  1487213.14   \n",
       "3     40.72  ...                CD     Power Plants    31069.94    22460.32   \n",
       "4     40.75  ...                CD     Power Plants    35221.82    28073.30   \n",
       "\n",
       "         2016        2015        2014        2013        2012        2011  \n",
       "0    61447.47    73193.02    77355.81    71702.38    80619.20    72355.73  \n",
       "1   125491.33   126818.78   127808.87   132095.46   120944.74   142529.89  \n",
       "2  1514867.54  1285191.24  1026373.20  1376177.50  2133936.99  1566947.61  \n",
       "3    26369.45    18559.93    20816.32    26629.45    26775.50    45473.83  \n",
       "4    28262.00    27000.90    26232.55    43133.84    38257.51    44820.68  \n",
       "\n",
       "[5 rows x 22 columns]"
      ]
     },
     "execution_count": 5,
     "metadata": {},
     "output_type": "execute_result"
    }
   ],
   "source": [
    "ghg_ny = pd.read_csv('ghg_ny.csv')\n",
    "ghg_ny.head()"
   ]
  },
  {
   "cell_type": "markdown",
   "metadata": {},
   "source": [
    "#### Changes in Pollution from 2010 to 2016\n",
    "For our first visuallization, we wanted to see if there is any relationship between the pollution levels in 2010 and 2016. We chose these two years because all of our 5 datasets have a large data sample for 2016 and and we chose 2010 so that there was a large enough time difference between the two years to see noticeable trends."
   ]
  },
  {
   "cell_type": "code",
   "execution_count": 6,
   "metadata": {},
   "outputs": [
    {
     "data": {
      "image/png": "[encoded data removed]",
      "text/plain": [
       "<Figure size 432x288 with 1 Axes>"
      ]
     },
     "metadata": {
      "needs_background": "light"
     },
     "output_type": "display_data"
    }
   ],
   "source": [
    "sns.regplot(x=\"2011\", y=\"2016\", data=ghg_ny)\n",
    "plt.xlabel(\"Pollution Levels in 2011\")\n",
    "plt.ylabel(\"Pollution Levels in 2016\")\n",
    "plt.show()"
   ]
  },
  {
   "cell_type": "markdown",
   "metadata": {},
   "source": [
    "In this graph, we notice two key ideas. The first is that the axis scales for 2016 have pollution rates that are higher than the highest ones in 2011 by 500,000. This shows that there has been a large increase in pollution levels from 2011 to 2016. This graph also shows a proportional relationship where as pollution levels increase in 2011, pollution levels increase proportionately in 2016. This relationship reveals that the highest polluters in 2011 continue to be the highest polluters in 2016 despite new regulations from the Environmental Protection Agency (EPA) on power and chemical plants such as the Mercury and Air Toxics Standards of 2014. We test the signifiance of these findings later in the report."
   ]
  },
  {
   "cell_type": "markdown",
   "metadata": {},
   "source": [
    "#### Pollution Level by Industry\n",
    "In the previous graph, we noticed that the points seem to be grouped in two clusters - one seems to occur below 0.5e6 levels on pollution in both 2011 and 2016 and the other cluster seems to start at 0.6e6 pollution level in 2011 and 2016 and increases more rapidly in 2016 than the first cluster. The dataset contains several different variables that could correlate with these two clusters such as industry sector or zip code. We graphed these variables and industry sector seems to follow the trends most closely of the clusters we noticed initiatilly. On the next graph, you can see the graph we created where we color coded the clusters. The first cluster refers to the green and red points while the second cluster refers to the brown points. "
   ]
  },
  {
   "cell_type": "code",
   "execution_count": 7,
   "metadata": {},
   "outputs": [
    {
     "data": {
      "image/png": "[encoded data removed]",
      "text/plain": [
       "<Figure size 576.25x360 with 1 Axes>"
      ]
     },
     "metadata": {
      "needs_background": "light"
     },
     "output_type": "display_data"
    }
   ],
   "source": [
    "sns.relplot(x=\"2011\", y=\"2016\", hue=\"industry_sector\", data=ghg_ny)\n",
    "plt.xlabel(\"Pollution Levels in 2011\")\n",
    "plt.ylabel(\"Pollution Levels in 2016\")\n",
    "plt.show()"
   ]
  },
  {
   "cell_type": "markdown",
   "metadata": {},
   "source": [
    "After color coding the points in the graph based on industry sector, there were a few key ideas that we came across that influenced the next steps of our analysis. At first, based on our initial plots, thought there were two industries based on the cluster patterns we saw. However, this graph showed us that there were 13 different industry sectors within dataset, but only a few were prevalent such as power plants (the brown colored points). To limit the number of industries so that it fit the cluster pattern, we wanted to calculate which industries had the highest counts in the dataset and focus on those. "
   ]
  },
  {
   "cell_type": "code",
   "execution_count": 8,
   "metadata": {},
   "outputs": [
    {
     "data": {
      "text/plain": [
       "Power Plants                         76\n",
       "Waste                                36\n",
       "Other                                32\n",
       "Minerals                              9\n",
       "Petroleum and Natural Gas Systems     7\n",
       "Metals                                6\n",
       "Pulp and Paper                        5\n",
       "OtherSuppliers of CO2                 2\n",
       "Chemicals                             2\n",
       "MetalsWaste                           1\n",
       "Pulp and PaperWaste                   1\n",
       "OtherSuppliers of CO2Waste            1\n",
       "OtherWaste                            1\n",
       "Name: industry_sector, dtype: int64"
      ]
     },
     "execution_count": 8,
     "metadata": {},
     "output_type": "execute_result"
    }
   ],
   "source": [
    "ghg_ny[\"industry_sector\"].value_counts()"
   ]
  },
  {
   "cell_type": "markdown",
   "metadata": {},
   "source": [
    "After using the value counts function, we found that the most prevalent industries in this dataset were power plants, waste, and other. Since waste and other have a very small difference in the number of counts, we decided to cluster our dataset by 3 groups. We chose not to include the other industry sectors in our analysis since their counts were too low and too mixed in with our top three groups to be able to identify clear trends and patterns. We used KMeans clustering in order to do this analysis."
   ]
  },
  {
   "cell_type": "code",
   "execution_count": 213,
   "metadata": {},
   "outputs": [
    {
     "data": {
      "text/plain": [
       "array([[  87235.63477987,   88936.0527044 ],\n",
       "       [1901039.43888889, 1806430.52      ],\n",
       "       [1055539.39181818,  606134.08272727]])"
      ]
     },
     "execution_count": 213,
     "metadata": {},
     "output_type": "execute_result"
    }
   ],
   "source": [
    "## initialize a KMeans object\n",
    "clustering = KMeans(n_clusters = 3, random_state = 15)\n",
    "\n",
    "## perform the KMeans algorithm on the pollution for 2011 and 2016\n",
    "clustering.fit(ghg_ny[[\"2011\", \"2016\"]])\n",
    "\n",
    "##finding the cluster centers\n",
    "clustering.cluster_centers_"
   ]
  },
  {
   "cell_type": "code",
   "execution_count": 214,
   "metadata": {},
   "outputs": [
    {
     "data": {
      "text/html": [
       "<div>\n",
       "<style scoped>\n",
       "    .dataframe tbody tr th:only-of-type {\n",
       "        vertical-align: middle;\n",
       "    }\n",
       "\n",
       "    .dataframe tbody tr th {\n",
       "        vertical-align: top;\n",
       "    }\n",
       "\n",
       "    .dataframe thead th {\n",
       "        text-align: right;\n",
       "    }\n",
       "</style>\n",
       "<table border=\"1\" class=\"dataframe\">\n",
       "  <thead>\n",
       "    <tr style=\"text-align: right;\">\n",
       "      <th></th>\n",
       "      <th>Unnamed: 0</th>\n",
       "      <th>facility_id</th>\n",
       "      <th>frs_id</th>\n",
       "      <th>facility_name</th>\n",
       "      <th>city</th>\n",
       "      <th>state</th>\n",
       "      <th>zip_code</th>\n",
       "      <th>address</th>\n",
       "      <th>county</th>\n",
       "      <th>latitude</th>\n",
       "      <th>...</th>\n",
       "      <th>industry_sector</th>\n",
       "      <th>2018</th>\n",
       "      <th>2017</th>\n",
       "      <th>2016</th>\n",
       "      <th>2015</th>\n",
       "      <th>2014</th>\n",
       "      <th>2013</th>\n",
       "      <th>2012</th>\n",
       "      <th>2011</th>\n",
       "      <th>cluster_label</th>\n",
       "    </tr>\n",
       "  </thead>\n",
       "  <tbody>\n",
       "    <tr>\n",
       "      <th>0</th>\n",
       "      <td>0</td>\n",
       "      <td>1000077</td>\n",
       "      <td>110000774797</td>\n",
       "      <td>REPUBLIC STEEL LACKAWANNA</td>\n",
       "      <td>BLASDELL</td>\n",
       "      <td>NY</td>\n",
       "      <td>14219</td>\n",
       "      <td>S3049 LAKESHORE RD.</td>\n",
       "      <td>ERIE COUNTY</td>\n",
       "      <td>42.80</td>\n",
       "      <td>...</td>\n",
       "      <td>Metals</td>\n",
       "      <td>78801.40</td>\n",
       "      <td>76235.01</td>\n",
       "      <td>61447.47</td>\n",
       "      <td>73193.02</td>\n",
       "      <td>77355.81</td>\n",
       "      <td>71702.38</td>\n",
       "      <td>80619.20</td>\n",
       "      <td>72355.73</td>\n",
       "      <td>0</td>\n",
       "    </tr>\n",
       "    <tr>\n",
       "      <th>1</th>\n",
       "      <td>1</td>\n",
       "      <td>1000093</td>\n",
       "      <td>110000324435</td>\n",
       "      <td>Momentive Performance Materials</td>\n",
       "      <td>WATERFORD</td>\n",
       "      <td>NY</td>\n",
       "      <td>12188</td>\n",
       "      <td>260 HUDSON RIVER ROAD</td>\n",
       "      <td>Saratoga</td>\n",
       "      <td>42.82</td>\n",
       "      <td>...</td>\n",
       "      <td>OtherWaste</td>\n",
       "      <td>134663.45</td>\n",
       "      <td>131363.56</td>\n",
       "      <td>125491.33</td>\n",
       "      <td>126818.78</td>\n",
       "      <td>127808.87</td>\n",
       "      <td>132095.46</td>\n",
       "      <td>120944.74</td>\n",
       "      <td>142529.89</td>\n",
       "      <td>0</td>\n",
       "    </tr>\n",
       "    <tr>\n",
       "      <th>2</th>\n",
       "      <td>2</td>\n",
       "      <td>1000101</td>\n",
       "      <td>110019468057</td>\n",
       "      <td>Athens Generating Company</td>\n",
       "      <td>ATHENS</td>\n",
       "      <td>NY</td>\n",
       "      <td>12015</td>\n",
       "      <td>9300 U S HIGHWAY 9W</td>\n",
       "      <td>Greene</td>\n",
       "      <td>42.27</td>\n",
       "      <td>...</td>\n",
       "      <td>Power Plants</td>\n",
       "      <td>1381328.03</td>\n",
       "      <td>1487213.14</td>\n",
       "      <td>1514867.54</td>\n",
       "      <td>1285191.24</td>\n",
       "      <td>1026373.20</td>\n",
       "      <td>1376177.50</td>\n",
       "      <td>2133936.99</td>\n",
       "      <td>1566947.61</td>\n",
       "      <td>1</td>\n",
       "    </tr>\n",
       "    <tr>\n",
       "      <th>3</th>\n",
       "      <td>3</td>\n",
       "      <td>1000108</td>\n",
       "      <td>110012158707</td>\n",
       "      <td>North 1st</td>\n",
       "      <td>BROOKLYN</td>\n",
       "      <td>NY</td>\n",
       "      <td>11211</td>\n",
       "      <td>NORTH 1ST &amp; 47-79 RIVER ST</td>\n",
       "      <td>Kings</td>\n",
       "      <td>40.72</td>\n",
       "      <td>...</td>\n",
       "      <td>Power Plants</td>\n",
       "      <td>31069.94</td>\n",
       "      <td>22460.32</td>\n",
       "      <td>26369.45</td>\n",
       "      <td>18559.93</td>\n",
       "      <td>20816.32</td>\n",
       "      <td>26629.45</td>\n",
       "      <td>26775.50</td>\n",
       "      <td>45473.83</td>\n",
       "      <td>0</td>\n",
       "    </tr>\n",
       "    <tr>\n",
       "      <th>4</th>\n",
       "      <td>4</td>\n",
       "      <td>1000111</td>\n",
       "      <td>110012158734</td>\n",
       "      <td>Vernon Boulevard</td>\n",
       "      <td>LONG ISLAND CITY</td>\n",
       "      <td>NY</td>\n",
       "      <td>11427</td>\n",
       "      <td>42 30 VERNON BLVD</td>\n",
       "      <td>Queens</td>\n",
       "      <td>40.75</td>\n",
       "      <td>...</td>\n",
       "      <td>Power Plants</td>\n",
       "      <td>35221.82</td>\n",
       "      <td>28073.30</td>\n",
       "      <td>28262.00</td>\n",
       "      <td>27000.90</td>\n",
       "      <td>26232.55</td>\n",
       "      <td>43133.84</td>\n",
       "      <td>38257.51</td>\n",
       "      <td>44820.68</td>\n",
       "      <td>0</td>\n",
       "    </tr>\n",
       "  </tbody>\n",
       "</table>\n",
       "<p>5 rows × 23 columns</p>\n",
       "</div>"
      ],
      "text/plain": [
       "   Unnamed: 0  facility_id        frs_id                    facility_name  \\\n",
       "0           0      1000077  110000774797        REPUBLIC STEEL LACKAWANNA   \n",
       "1           1      1000093  110000324435  Momentive Performance Materials   \n",
       "2           2      1000101  110019468057        Athens Generating Company   \n",
       "3           3      1000108  110012158707                        North 1st   \n",
       "4           4      1000111  110012158734                 Vernon Boulevard   \n",
       "\n",
       "               city state  zip_code                     address       county  \\\n",
       "0          BLASDELL    NY     14219         S3049 LAKESHORE RD.  ERIE COUNTY   \n",
       "1         WATERFORD    NY     12188       260 HUDSON RIVER ROAD     Saratoga   \n",
       "2            ATHENS    NY     12015         9300 U S HIGHWAY 9W       Greene   \n",
       "3          BROOKLYN    NY     11211  NORTH 1ST & 47-79 RIVER ST        Kings   \n",
       "4  LONG ISLAND CITY    NY     11427           42 30 VERNON BLVD       Queens   \n",
       "\n",
       "   latitude  ...  industry_sector        2018        2017        2016  \\\n",
       "0     42.80  ...           Metals    78801.40    76235.01    61447.47   \n",
       "1     42.82  ...       OtherWaste   134663.45   131363.56   125491.33   \n",
       "2     42.27  ...     Power Plants  1381328.03  1487213.14  1514867.54   \n",
       "3     40.72  ...     Power Plants    31069.94    22460.32    26369.45   \n",
       "4     40.75  ...     Power Plants    35221.82    28073.30    28262.00   \n",
       "\n",
       "         2015        2014        2013        2012        2011  cluster_label  \n",
       "0    73193.02    77355.81    71702.38    80619.20    72355.73              0  \n",
       "1   126818.78   127808.87   132095.46   120944.74   142529.89              0  \n",
       "2  1285191.24  1026373.20  1376177.50  2133936.99  1566947.61              1  \n",
       "3    18559.93    20816.32    26629.45    26775.50    45473.83              0  \n",
       "4    27000.90    26232.55    43133.84    38257.51    44820.68              0  \n",
       "\n",
       "[5 rows x 23 columns]"
      ]
     },
     "execution_count": 214,
     "metadata": {},
     "output_type": "execute_result"
    }
   ],
   "source": [
    "## Create cluster labels\n",
    "cluster_labels = clustering.labels_\n",
    "cluster_labels[0:5]\n",
    "ghg_ny['cluster_label'] = cluster_labels\n",
    "ghg_ny.head()"
   ]
  },
  {
   "cell_type": "markdown",
   "metadata": {},
   "source": [
    "After initializing a KMeans object, we performed the KMeans algorithm on the pollution levels for 2010 and for 2016 in order to create cluster labels that had the predicted industry. We added these cluster labels to the ghg_ny dataframe and then, tested the accuracy of the algorithm visually using the plot below. The colors of the points indicate the actual industry that produced pollution and the styles of the points indicate the industry predicted by the algorithm. In the legend of the graph, 0 represents Power Plants, 1 represents Waste, and 2 representes Other. "
   ]
  },
  {
   "cell_type": "code",
   "execution_count": 215,
   "metadata": {},
   "outputs": [
    {
     "data": {
      "image/png": "[encoded data removed]",
      "text/plain": [
       "<Figure size 576.25x360 with 1 Axes>"
      ]
     },
     "metadata": {
      "needs_background": "light"
     },
     "output_type": "display_data"
    }
   ],
   "source": [
    "sns.relplot(x=\"2011\", y=\"2016\", hue=\"industry_sector\", style=\"cluster_label\", data=ghg_ny)\n",
    "plt.xlabel(\"Pollution Levels in 2011\")\n",
    "plt.ylabel(\"Pollution Levels in 2016\")\n",
    "plt.show()"
   ]
  },
  {
   "cell_type": "markdown",
   "metadata": {},
   "source": [
    "After creating the plot, it seems that the clustering algorithm was not that accurate as several of the Power Plant points were identified to be a mix of all three of the industries (We complete a more thorough analysis of the statistical significance of these findings later in the report). This reveals that the clusters are likely not correlated with industry sector and that pollution levels contributed varies a lot within an industry. Some likely causes for this variation could be variables that were not measured by the dataset such as size of the factory or differing environmental regulations across cities. "
   ]
  },
  {
   "cell_type": "markdown",
   "metadata": {},
   "source": [
    "#### Top Contributors to Pollution by City\n",
    "After looking at industry, we were able to understand how pollution varies within and across industries, but we were still unable to fully explain what was causing some of the higher values of pollution in some of the power plants. To further explore this question, we decided to look at what the highest pollution levels were, which cities were overall producting the most pollution, and which cities were consisently polluting the most from 2010-2018. The graph compares pollution levels in 2010 and 2016, but is color coded by city this time instead of industry."
   ]
  },
  {
   "cell_type": "code",
   "execution_count": 225,
   "metadata": {},
   "outputs": [
    {
     "data": {
      "image/png": "[encoded data removed]",
      "text/plain": [
       "<Figure size 520.625x360 with 1 Axes>"
      ]
     },
     "metadata": {
      "needs_background": "light"
     },
     "output_type": "display_data"
    }
   ],
   "source": [
    "sns.relplot(x=\"2011\", y=\"2016\", hue=\"city\", data=ghg_ny)\n",
    "plt.xlabel(\"Pollution Levels in 2011\")\n",
    "plt.ylabel(\"Pollution Levels in 2016\")\n",
    "plt.show()"
   ]
  },
  {
   "cell_type": "markdown",
   "metadata": {},
   "source": [
    "Based on the graph, it seems that some of the top polluters are in Astoria and New York as indicated by the orange and brown colored points. To get a more comprehensive understanding of which factories and cities are the top polluters, we decided to see how pollution levels in these cities across the entire timespan of the dataset (2011-2018). In the next few steps, we use the function, nlargest, to calculate the largest polluters and track their greenhouse gas emissions over time in a new dataframe titled top_polluters."
   ]
  },
  {
   "cell_type": "code",
   "execution_count": 13,
   "metadata": {},
   "outputs": [
    {
     "data": {
      "text/html": [
       "<div>\n",
       "<style scoped>\n",
       "    .dataframe tbody tr th:only-of-type {\n",
       "        vertical-align: middle;\n",
       "    }\n",
       "\n",
       "    .dataframe tbody tr th {\n",
       "        vertical-align: top;\n",
       "    }\n",
       "\n",
       "    .dataframe thead th {\n",
       "        text-align: right;\n",
       "    }\n",
       "</style>\n",
       "<table border=\"1\" class=\"dataframe\">\n",
       "  <thead>\n",
       "    <tr style=\"text-align: right;\">\n",
       "      <th></th>\n",
       "      <th>counts_2012</th>\n",
       "      <th>counts_2011</th>\n",
       "      <th>counts_2013</th>\n",
       "      <th>counts_2014</th>\n",
       "      <th>counts_2015</th>\n",
       "      <th>counts_2016</th>\n",
       "      <th>counts_2017</th>\n",
       "      <th>counts_2018</th>\n",
       "    </tr>\n",
       "    <tr>\n",
       "      <th>city</th>\n",
       "      <th></th>\n",
       "      <th></th>\n",
       "      <th></th>\n",
       "      <th></th>\n",
       "      <th></th>\n",
       "      <th></th>\n",
       "      <th></th>\n",
       "      <th></th>\n",
       "    </tr>\n",
       "  </thead>\n",
       "  <tbody>\n",
       "    <tr>\n",
       "      <th>ASTORIA</th>\n",
       "      <td>4764387.02</td>\n",
       "      <td>4042716.00</td>\n",
       "      <td>4380823.02</td>\n",
       "      <td>4675385.27</td>\n",
       "      <td>4466886.67</td>\n",
       "      <td>4155855.99</td>\n",
       "      <td>3778604.39</td>\n",
       "      <td>4217072.28</td>\n",
       "    </tr>\n",
       "    <tr>\n",
       "      <th>NEW YORK</th>\n",
       "      <td>2622599.36</td>\n",
       "      <td>2735569.11</td>\n",
       "      <td>2803733.68</td>\n",
       "      <td>2662647.29</td>\n",
       "      <td>2675021.50</td>\n",
       "      <td>2643367.57</td>\n",
       "      <td>2610288.32</td>\n",
       "      <td>2682403.80</td>\n",
       "    </tr>\n",
       "    <tr>\n",
       "      <th>OSWEGO</th>\n",
       "      <td>2422483.93</td>\n",
       "      <td>1500633.06</td>\n",
       "      <td>2346473.42</td>\n",
       "      <td>2683641.65</td>\n",
       "      <td>2847435.29</td>\n",
       "      <td>2086964.18</td>\n",
       "      <td>1941340.78</td>\n",
       "      <td>2319907.68</td>\n",
       "    </tr>\n",
       "  </tbody>\n",
       "</table>\n",
       "</div>"
      ],
      "text/plain": [
       "          counts_2012  counts_2011  counts_2013  counts_2014  counts_2015  \\\n",
       "city                                                                        \n",
       "ASTORIA    4764387.02   4042716.00   4380823.02   4675385.27   4466886.67   \n",
       "NEW YORK   2622599.36   2735569.11   2803733.68   2662647.29   2675021.50   \n",
       "OSWEGO     2422483.93   1500633.06   2346473.42   2683641.65   2847435.29   \n",
       "\n",
       "          counts_2016  counts_2017  counts_2018  \n",
       "city                                             \n",
       "ASTORIA    4155855.99   3778604.39   4217072.28  \n",
       "NEW YORK   2643367.57   2610288.32   2682403.80  \n",
       "OSWEGO     2086964.18   1941340.78   2319907.68  "
      ]
     },
     "execution_count": 13,
     "metadata": {},
     "output_type": "execute_result"
    }
   ],
   "source": [
    "top_pollutors = pd.DataFrame()\n",
    "top_pollutors[\"counts_2012\"] = ghg_ny.groupby(\"city\")[\"2012\"].sum().nlargest(3)\n",
    "top_pollutors[\"counts_2011\"] = ghg_ny.groupby(\"city\")[\"2011\"].sum()\n",
    "top_pollutors[\"counts_2013\"] = ghg_ny.groupby(\"city\")[\"2013\"].sum()\n",
    "top_pollutors[\"counts_2014\"] = ghg_ny.groupby(\"city\")[\"2014\"].sum()\n",
    "top_pollutors[\"counts_2015\"] = ghg_ny.groupby(\"city\")[\"2015\"].sum()\n",
    "top_pollutors[\"counts_2016\"] = ghg_ny.groupby(\"city\")[\"2016\"].sum()\n",
    "top_pollutors[\"counts_2017\"] = ghg_ny.groupby(\"city\")[\"2017\"].sum()\n",
    "top_pollutors[\"counts_2018\"] = ghg_ny.groupby(\"city\")[\"2018\"].sum()\n",
    "top_pollutors.head()"
   ]
  },
  {
   "cell_type": "code",
   "execution_count": 43,
   "metadata": {},
   "outputs": [
    {
     "data": {
      "image/png": "[encoded data removed]",
      "text/plain": [
       "<Figure size 432x288 with 1 Axes>"
      ]
     },
     "metadata": {
      "needs_background": "light"
     },
     "output_type": "display_data"
    }
   ],
   "source": [
    "# set width of bar\n",
    "barWidth = 0.25\n",
    " \n",
    "# set height of bar\n",
    "bars1 = top_pollutors.iloc[0]\n",
    "bars2 = top_pollutors.iloc[1]\n",
    "bars3 = top_pollutors.iloc[2]\n",
    " \n",
    "# Set position of bar on X axis\n",
    "r1 = np.arange(len(bars1))\n",
    "r2 = [x + barWidth for x in r1]\n",
    "r3 = [x + barWidth for x in r2]\n",
    " \n",
    "# Make the plot\n",
    "plt.bar(r1, bars1, color='#7f6d5f', width=barWidth, edgecolor='white', label='Astoria')\n",
    "plt.bar(r2, bars2, color='#557f2d', width=barWidth, edgecolor='white', label='New York')\n",
    "plt.bar(r3, bars3, color='#2d7f5e', width=barWidth, edgecolor='white', label='Oswego')\n",
    " \n",
    "# Add xticks on the middle of the group bars\n",
    "plt.xlabel('Year', fontweight='bold')\n",
    "plt.ylabel('Pollution Level', fontweight='bold')\n",
    "plt.xticks([r + barWidth for r in range(len(bars1))], ['2011', '2012', '2013', '2014', '2015', '2016', '2017', '2018'])\n",
    " \n",
    "# Create legend & Show graphic\n",
    "plt.legend()\n",
    "plt.show()"
   ]
  },
  {
   "cell_type": "markdown",
   "metadata": {},
   "source": [
    "After creating this graph, we found out that the top three polluters in New York state have consistently been Astoria, New York, and Oswego. Although Astoria surpasses New York and Oswego levels all eight years, we decided to focus the rest of our analysis on New York (NYC) since there was more data available on environmental activism and sustainability initiatives."
   ]
  },
  {
   "cell_type": "markdown",
   "metadata": {},
   "source": [
    "### Recycling in 2010 vs. 2016\n",
    "There are two csv files for recycling data. One file is for 2010 and the other file is for 2016."
   ]
  },
  {
   "cell_type": "code",
   "execution_count": 14,
   "metadata": {},
   "outputs": [
    {
     "data": {
      "text/html": [
       "<div>\n",
       "<style scoped>\n",
       "    .dataframe tbody tr th:only-of-type {\n",
       "        vertical-align: middle;\n",
       "    }\n",
       "\n",
       "    .dataframe tbody tr th {\n",
       "        vertical-align: top;\n",
       "    }\n",
       "\n",
       "    .dataframe thead th {\n",
       "        text-align: right;\n",
       "    }\n",
       "</style>\n",
       "<table border=\"1\" class=\"dataframe\">\n",
       "  <thead>\n",
       "    <tr style=\"text-align: right;\">\n",
       "      <th></th>\n",
       "      <th>Unnamed: 0</th>\n",
       "      <th>Zone</th>\n",
       "      <th>District</th>\n",
       "      <th>Fiscal Month Number</th>\n",
       "      <th>Fiscal Year</th>\n",
       "      <th>Month Name</th>\n",
       "      <th>Diversion Rate</th>\n",
       "      <th>Capture Rate-Paper (Total Paper / Max Paper)</th>\n",
       "      <th>Capture Rate-MGP (Total MGP / Max MGP)</th>\n",
       "      <th>Capture Rate</th>\n",
       "    </tr>\n",
       "  </thead>\n",
       "  <tbody>\n",
       "    <tr>\n",
       "      <th>0</th>\n",
       "      <td>0</td>\n",
       "      <td>Manhattan</td>\n",
       "      <td>MN01</td>\n",
       "      <td>11</td>\n",
       "      <td>2010</td>\n",
       "      <td>May</td>\n",
       "      <td>29.3</td>\n",
       "      <td>54.4</td>\n",
       "      <td>70.2</td>\n",
       "      <td>58.2</td>\n",
       "    </tr>\n",
       "    <tr>\n",
       "      <th>1</th>\n",
       "      <td>1</td>\n",
       "      <td>Manhattan</td>\n",
       "      <td>MN02</td>\n",
       "      <td>11</td>\n",
       "      <td>2010</td>\n",
       "      <td>May</td>\n",
       "      <td>26.5</td>\n",
       "      <td>44.3</td>\n",
       "      <td>79.0</td>\n",
       "      <td>52.7</td>\n",
       "    </tr>\n",
       "    <tr>\n",
       "      <th>2</th>\n",
       "      <td>2</td>\n",
       "      <td>Manhattan</td>\n",
       "      <td>MN03</td>\n",
       "      <td>11</td>\n",
       "      <td>2010</td>\n",
       "      <td>May</td>\n",
       "      <td>13.1</td>\n",
       "      <td>47.5</td>\n",
       "      <td>39.5</td>\n",
       "      <td>44.0</td>\n",
       "    </tr>\n",
       "    <tr>\n",
       "      <th>3</th>\n",
       "      <td>3</td>\n",
       "      <td>Manhattan</td>\n",
       "      <td>MN04</td>\n",
       "      <td>11</td>\n",
       "      <td>2010</td>\n",
       "      <td>May</td>\n",
       "      <td>23.1</td>\n",
       "      <td>37.4</td>\n",
       "      <td>73.0</td>\n",
       "      <td>45.9</td>\n",
       "    </tr>\n",
       "    <tr>\n",
       "      <th>4</th>\n",
       "      <td>4</td>\n",
       "      <td>Manhattan</td>\n",
       "      <td>MN05</td>\n",
       "      <td>11</td>\n",
       "      <td>2010</td>\n",
       "      <td>May</td>\n",
       "      <td>23.8</td>\n",
       "      <td>41.1</td>\n",
       "      <td>66.6</td>\n",
       "      <td>47.3</td>\n",
       "    </tr>\n",
       "  </tbody>\n",
       "</table>\n",
       "</div>"
      ],
      "text/plain": [
       "   Unnamed: 0       Zone District  Fiscal Month Number  Fiscal Year  \\\n",
       "0           0  Manhattan     MN01                   11         2010   \n",
       "1           1  Manhattan     MN02                   11         2010   \n",
       "2           2  Manhattan     MN03                   11         2010   \n",
       "3           3  Manhattan     MN04                   11         2010   \n",
       "4           4  Manhattan     MN05                   11         2010   \n",
       "\n",
       "  Month Name  Diversion Rate  Capture Rate-Paper (Total Paper / Max Paper)  \\\n",
       "0        May            29.3                                          54.4   \n",
       "1        May            26.5                                          44.3   \n",
       "2        May            13.1                                          47.5   \n",
       "3        May            23.1                                          37.4   \n",
       "4        May            23.8                                          41.1   \n",
       "\n",
       "   Capture Rate-MGP (Total MGP / Max MGP)  Capture Rate  \n",
       "0                                    70.2          58.2  \n",
       "1                                    79.0          52.7  \n",
       "2                                    39.5          44.0  \n",
       "3                                    73.0          45.9  \n",
       "4                                    66.6          47.3  "
      ]
     },
     "execution_count": 14,
     "metadata": {},
     "output_type": "execute_result"
    }
   ],
   "source": [
    "recycling_2010 = pd.read_csv('recycling_2010.csv')\n",
    "recycling_2010.head()"
   ]
  },
  {
   "cell_type": "code",
   "execution_count": 15,
   "metadata": {
    "scrolled": true
   },
   "outputs": [
    {
     "data": {
      "text/html": [
       "<div>\n",
       "<style scoped>\n",
       "    .dataframe tbody tr th:only-of-type {\n",
       "        vertical-align: middle;\n",
       "    }\n",
       "\n",
       "    .dataframe tbody tr th {\n",
       "        vertical-align: top;\n",
       "    }\n",
       "\n",
       "    .dataframe thead th {\n",
       "        text-align: right;\n",
       "    }\n",
       "</style>\n",
       "<table border=\"1\" class=\"dataframe\">\n",
       "  <thead>\n",
       "    <tr style=\"text-align: right;\">\n",
       "      <th></th>\n",
       "      <th>Unnamed: 0</th>\n",
       "      <th>Zone</th>\n",
       "      <th>District</th>\n",
       "      <th>Fiscal Month Number</th>\n",
       "      <th>Fiscal Year</th>\n",
       "      <th>Month Name</th>\n",
       "      <th>Diversion Rate</th>\n",
       "      <th>Capture Rate-Paper (Total Paper / Max Paper)</th>\n",
       "      <th>Capture Rate-MGP (Total MGP / Max MGP)</th>\n",
       "      <th>Capture Rate</th>\n",
       "    </tr>\n",
       "  </thead>\n",
       "  <tbody>\n",
       "    <tr>\n",
       "      <th>0</th>\n",
       "      <td>59</td>\n",
       "      <td>Brooklyn</td>\n",
       "      <td>BKN01</td>\n",
       "      <td>1</td>\n",
       "      <td>2016</td>\n",
       "      <td>July</td>\n",
       "      <td>14.7</td>\n",
       "      <td>44.0</td>\n",
       "      <td>43.2</td>\n",
       "      <td>43.6</td>\n",
       "    </tr>\n",
       "    <tr>\n",
       "      <th>1</th>\n",
       "      <td>60</td>\n",
       "      <td>Brooklyn</td>\n",
       "      <td>BKN02</td>\n",
       "      <td>1</td>\n",
       "      <td>2016</td>\n",
       "      <td>July</td>\n",
       "      <td>16.5</td>\n",
       "      <td>30.2</td>\n",
       "      <td>49.8</td>\n",
       "      <td>36.0</td>\n",
       "    </tr>\n",
       "    <tr>\n",
       "      <th>2</th>\n",
       "      <td>61</td>\n",
       "      <td>Brooklyn</td>\n",
       "      <td>BKN03</td>\n",
       "      <td>1</td>\n",
       "      <td>2016</td>\n",
       "      <td>July</td>\n",
       "      <td>10.1</td>\n",
       "      <td>29.0</td>\n",
       "      <td>32.8</td>\n",
       "      <td>30.8</td>\n",
       "    </tr>\n",
       "    <tr>\n",
       "      <th>3</th>\n",
       "      <td>62</td>\n",
       "      <td>Brooklyn</td>\n",
       "      <td>BKN04</td>\n",
       "      <td>1</td>\n",
       "      <td>2016</td>\n",
       "      <td>July</td>\n",
       "      <td>12.4</td>\n",
       "      <td>30.6</td>\n",
       "      <td>46.4</td>\n",
       "      <td>37.8</td>\n",
       "    </tr>\n",
       "    <tr>\n",
       "      <th>4</th>\n",
       "      <td>63</td>\n",
       "      <td>Brooklyn</td>\n",
       "      <td>BKN05</td>\n",
       "      <td>1</td>\n",
       "      <td>2016</td>\n",
       "      <td>July</td>\n",
       "      <td>9.1</td>\n",
       "      <td>23.5</td>\n",
       "      <td>33.0</td>\n",
       "      <td>27.9</td>\n",
       "    </tr>\n",
       "  </tbody>\n",
       "</table>\n",
       "</div>"
      ],
      "text/plain": [
       "   Unnamed: 0      Zone District  Fiscal Month Number  Fiscal Year Month Name  \\\n",
       "0          59  Brooklyn    BKN01                    1         2016       July   \n",
       "1          60  Brooklyn    BKN02                    1         2016       July   \n",
       "2          61  Brooklyn    BKN03                    1         2016       July   \n",
       "3          62  Brooklyn    BKN04                    1         2016       July   \n",
       "4          63  Brooklyn    BKN05                    1         2016       July   \n",
       "\n",
       "   Diversion Rate  Capture Rate-Paper (Total Paper / Max Paper)  \\\n",
       "0            14.7                                          44.0   \n",
       "1            16.5                                          30.2   \n",
       "2            10.1                                          29.0   \n",
       "3            12.4                                          30.6   \n",
       "4             9.1                                          23.5   \n",
       "\n",
       "   Capture Rate-MGP (Total MGP / Max MGP)  Capture Rate  \n",
       "0                                    43.2          43.6  \n",
       "1                                    49.8          36.0  \n",
       "2                                    32.8          30.8  \n",
       "3                                    46.4          37.8  \n",
       "4                                    33.0          27.9  "
      ]
     },
     "execution_count": 15,
     "metadata": {},
     "output_type": "execute_result"
    }
   ],
   "source": [
    "recycling_2016 = pd.read_csv('recycling_2016.csv')\n",
    "recycling_2016.head()"
   ]
  },
  {
   "cell_type": "markdown",
   "metadata": {},
   "source": [
    "There are two files for Citibike data. One is for 2013 (the earliest year recorded) and the other is for 2016."
   ]
  },
  {
   "cell_type": "code",
   "execution_count": 18,
   "metadata": {},
   "outputs": [
    {
     "data": {
      "text/html": [
       "<div>\n",
       "<style scoped>\n",
       "    .dataframe tbody tr th:only-of-type {\n",
       "        vertical-align: middle;\n",
       "    }\n",
       "\n",
       "    .dataframe tbody tr th {\n",
       "        vertical-align: top;\n",
       "    }\n",
       "\n",
       "    .dataframe thead th {\n",
       "        text-align: right;\n",
       "    }\n",
       "</style>\n",
       "<table border=\"1\" class=\"dataframe\">\n",
       "  <thead>\n",
       "    <tr style=\"text-align: right;\">\n",
       "      <th></th>\n",
       "      <th>Unnamed: 0</th>\n",
       "      <th>Zone</th>\n",
       "      <th>start station latitude</th>\n",
       "      <th>start station longitude</th>\n",
       "      <th>index</th>\n",
       "      <th>tripduration</th>\n",
       "      <th>starttime</th>\n",
       "      <th>stoptime</th>\n",
       "      <th>start station id</th>\n",
       "      <th>start station name</th>\n",
       "      <th>end station id</th>\n",
       "      <th>end station name</th>\n",
       "      <th>end station latitude</th>\n",
       "      <th>end station longitude</th>\n",
       "      <th>bikeid</th>\n",
       "      <th>usertype</th>\n",
       "      <th>birthyear</th>\n",
       "      <th>gender</th>\n",
       "    </tr>\n",
       "  </thead>\n",
       "  <tbody>\n",
       "    <tr>\n",
       "      <th>0</th>\n",
       "      <td>8</td>\n",
       "      <td>1.0</td>\n",
       "      <td>40.72</td>\n",
       "      <td>-73.98</td>\n",
       "      <td>416821</td>\n",
       "      <td>663</td>\n",
       "      <td>2013-06-25 08:23:45</td>\n",
       "      <td>2013-06-25 08:34:48</td>\n",
       "      <td>393</td>\n",
       "      <td>E 5 St &amp; Avenue C</td>\n",
       "      <td>293.0</td>\n",
       "      <td>Lafayette St &amp; E 8 St</td>\n",
       "      <td>40.730207</td>\n",
       "      <td>-73.991026</td>\n",
       "      <td>16733</td>\n",
       "      <td>Subscriber</td>\n",
       "      <td>1957.0</td>\n",
       "      <td>2</td>\n",
       "    </tr>\n",
       "    <tr>\n",
       "      <th>1</th>\n",
       "      <td>16</td>\n",
       "      <td>1.0</td>\n",
       "      <td>40.72</td>\n",
       "      <td>-73.98</td>\n",
       "      <td>305402</td>\n",
       "      <td>1452</td>\n",
       "      <td>2013-06-21 07:00:30</td>\n",
       "      <td>2013-06-21 07:24:42</td>\n",
       "      <td>349</td>\n",
       "      <td>Rivington St &amp; Ridge St</td>\n",
       "      <td>522.0</td>\n",
       "      <td>E 51 St &amp; Lexington Ave</td>\n",
       "      <td>40.757148</td>\n",
       "      <td>-73.972078</td>\n",
       "      <td>19616</td>\n",
       "      <td>Subscriber</td>\n",
       "      <td>1987.0</td>\n",
       "      <td>2</td>\n",
       "    </tr>\n",
       "    <tr>\n",
       "      <th>2</th>\n",
       "      <td>24</td>\n",
       "      <td>1.0</td>\n",
       "      <td>40.72</td>\n",
       "      <td>-73.98</td>\n",
       "      <td>525696</td>\n",
       "      <td>719</td>\n",
       "      <td>2013-06-29 09:27:43</td>\n",
       "      <td>2013-06-29 09:39:42</td>\n",
       "      <td>349</td>\n",
       "      <td>Rivington St &amp; Ridge St</td>\n",
       "      <td>369.0</td>\n",
       "      <td>Washington Pl &amp; 6 Ave</td>\n",
       "      <td>40.732241</td>\n",
       "      <td>-74.000264</td>\n",
       "      <td>17302</td>\n",
       "      <td>Subscriber</td>\n",
       "      <td>1982.0</td>\n",
       "      <td>1</td>\n",
       "    </tr>\n",
       "    <tr>\n",
       "      <th>3</th>\n",
       "      <td>32</td>\n",
       "      <td>1.0</td>\n",
       "      <td>40.72</td>\n",
       "      <td>-73.98</td>\n",
       "      <td>290404</td>\n",
       "      <td>561</td>\n",
       "      <td>2013-06-20 16:08:52</td>\n",
       "      <td>2013-06-20 16:18:13</td>\n",
       "      <td>411</td>\n",
       "      <td>E 6 St &amp; Avenue D</td>\n",
       "      <td>502.0</td>\n",
       "      <td>Henry St &amp; Grand St</td>\n",
       "      <td>40.714215</td>\n",
       "      <td>-73.981346</td>\n",
       "      <td>17235</td>\n",
       "      <td>Subscriber</td>\n",
       "      <td>1964.0</td>\n",
       "      <td>2</td>\n",
       "    </tr>\n",
       "    <tr>\n",
       "      <th>4</th>\n",
       "      <td>40</td>\n",
       "      <td>1.0</td>\n",
       "      <td>40.72</td>\n",
       "      <td>-73.98</td>\n",
       "      <td>473951</td>\n",
       "      <td>943</td>\n",
       "      <td>2013-06-27 08:18:32</td>\n",
       "      <td>2013-06-27 08:34:15</td>\n",
       "      <td>317</td>\n",
       "      <td>E 6 St &amp; Avenue B</td>\n",
       "      <td>442.0</td>\n",
       "      <td>W 27 St &amp; 7 Ave</td>\n",
       "      <td>40.746647</td>\n",
       "      <td>-73.993915</td>\n",
       "      <td>17940</td>\n",
       "      <td>Subscriber</td>\n",
       "      <td>1984.0</td>\n",
       "      <td>1</td>\n",
       "    </tr>\n",
       "  </tbody>\n",
       "</table>\n",
       "</div>"
      ],
      "text/plain": [
       "   Unnamed: 0  Zone  start station latitude  start station longitude   index  \\\n",
       "0           8   1.0                   40.72                   -73.98  416821   \n",
       "1          16   1.0                   40.72                   -73.98  305402   \n",
       "2          24   1.0                   40.72                   -73.98  525696   \n",
       "3          32   1.0                   40.72                   -73.98  290404   \n",
       "4          40   1.0                   40.72                   -73.98  473951   \n",
       "\n",
       "   tripduration            starttime             stoptime  start station id  \\\n",
       "0           663  2013-06-25 08:23:45  2013-06-25 08:34:48               393   \n",
       "1          1452  2013-06-21 07:00:30  2013-06-21 07:24:42               349   \n",
       "2           719  2013-06-29 09:27:43  2013-06-29 09:39:42               349   \n",
       "3           561  2013-06-20 16:08:52  2013-06-20 16:18:13               411   \n",
       "4           943  2013-06-27 08:18:32  2013-06-27 08:34:15               317   \n",
       "\n",
       "        start station name  end station id         end station name  \\\n",
       "0        E 5 St & Avenue C           293.0    Lafayette St & E 8 St   \n",
       "1  Rivington St & Ridge St           522.0  E 51 St & Lexington Ave   \n",
       "2  Rivington St & Ridge St           369.0    Washington Pl & 6 Ave   \n",
       "3        E 6 St & Avenue D           502.0      Henry St & Grand St   \n",
       "4        E 6 St & Avenue B           442.0          W 27 St & 7 Ave   \n",
       "\n",
       "   end station latitude  end station longitude  bikeid    usertype  birthyear  \\\n",
       "0             40.730207             -73.991026   16733  Subscriber     1957.0   \n",
       "1             40.757148             -73.972078   19616  Subscriber     1987.0   \n",
       "2             40.732241             -74.000264   17302  Subscriber     1982.0   \n",
       "3             40.714215             -73.981346   17235  Subscriber     1964.0   \n",
       "4             40.746647             -73.993915   17940  Subscriber     1984.0   \n",
       "\n",
       "   gender  \n",
       "0       2  \n",
       "1       2  \n",
       "2       1  \n",
       "3       2  \n",
       "4       1  "
      ]
     },
     "execution_count": 18,
     "metadata": {},
     "output_type": "execute_result"
    }
   ],
   "source": [
    "biking_2013 = pd.read_csv('biking_2013.csv')\n",
    "biking_2013.head()"
   ]
  },
  {
   "cell_type": "code",
   "execution_count": 19,
   "metadata": {},
   "outputs": [
    {
     "data": {
      "text/html": [
       "<div>\n",
       "<style scoped>\n",
       "    .dataframe tbody tr th:only-of-type {\n",
       "        vertical-align: middle;\n",
       "    }\n",
       "\n",
       "    .dataframe tbody tr th {\n",
       "        vertical-align: top;\n",
       "    }\n",
       "\n",
       "    .dataframe thead th {\n",
       "        text-align: right;\n",
       "    }\n",
       "</style>\n",
       "<table border=\"1\" class=\"dataframe\">\n",
       "  <thead>\n",
       "    <tr style=\"text-align: right;\">\n",
       "      <th></th>\n",
       "      <th>Unnamed: 0</th>\n",
       "      <th>Zone</th>\n",
       "      <th>start station latitude</th>\n",
       "      <th>start station longitude</th>\n",
       "      <th>index</th>\n",
       "      <th>tripduration</th>\n",
       "      <th>starttime</th>\n",
       "      <th>stoptime</th>\n",
       "      <th>start station id</th>\n",
       "      <th>start station name</th>\n",
       "      <th>end station id</th>\n",
       "      <th>end station name</th>\n",
       "      <th>end station latitude</th>\n",
       "      <th>end station longitude</th>\n",
       "      <th>bikeid</th>\n",
       "      <th>usertype</th>\n",
       "      <th>birthyear</th>\n",
       "      <th>gender</th>\n",
       "    </tr>\n",
       "  </thead>\n",
       "  <tbody>\n",
       "    <tr>\n",
       "      <th>0</th>\n",
       "      <td>0</td>\n",
       "      <td>3.0</td>\n",
       "      <td>40.71</td>\n",
       "      <td>-73.94</td>\n",
       "      <td>900435</td>\n",
       "      <td>160</td>\n",
       "      <td>6/20/2016 06:22:53</td>\n",
       "      <td>6/20/2016 06:25:33</td>\n",
       "      <td>3070</td>\n",
       "      <td>McKibbin St &amp; Manhattan Ave</td>\n",
       "      <td>3071</td>\n",
       "      <td>Boerum St &amp; Broadway</td>\n",
       "      <td>40.705381</td>\n",
       "      <td>-73.949765</td>\n",
       "      <td>17226</td>\n",
       "      <td>Subscriber</td>\n",
       "      <td>1952.0</td>\n",
       "      <td>1</td>\n",
       "    </tr>\n",
       "    <tr>\n",
       "      <th>1</th>\n",
       "      <td>2</td>\n",
       "      <td>3.0</td>\n",
       "      <td>40.71</td>\n",
       "      <td>-73.94</td>\n",
       "      <td>750686</td>\n",
       "      <td>1474</td>\n",
       "      <td>6/17/2016 00:03:24</td>\n",
       "      <td>6/17/2016 00:27:59</td>\n",
       "      <td>3074</td>\n",
       "      <td>Montrose Ave &amp; Bushwick Ave</td>\n",
       "      <td>3129</td>\n",
       "      <td>Queens Plaza North &amp; Crescent St</td>\n",
       "      <td>40.751102</td>\n",
       "      <td>-73.940737</td>\n",
       "      <td>25447</td>\n",
       "      <td>Subscriber</td>\n",
       "      <td>1991.0</td>\n",
       "      <td>1</td>\n",
       "    </tr>\n",
       "    <tr>\n",
       "      <th>2</th>\n",
       "      <td>4</td>\n",
       "      <td>3.0</td>\n",
       "      <td>40.71</td>\n",
       "      <td>-73.94</td>\n",
       "      <td>747914</td>\n",
       "      <td>634</td>\n",
       "      <td>6/16/2016 21:44:55</td>\n",
       "      <td>6/16/2016 21:55:30</td>\n",
       "      <td>3081</td>\n",
       "      <td>Graham Ave &amp; Grand St</td>\n",
       "      <td>3068</td>\n",
       "      <td>Humboldt St &amp; Varet St</td>\n",
       "      <td>40.703172</td>\n",
       "      <td>-73.940636</td>\n",
       "      <td>19282</td>\n",
       "      <td>Subscriber</td>\n",
       "      <td>1981.0</td>\n",
       "      <td>1</td>\n",
       "    </tr>\n",
       "    <tr>\n",
       "      <th>3</th>\n",
       "      <td>6</td>\n",
       "      <td>1.0</td>\n",
       "      <td>40.72</td>\n",
       "      <td>-73.98</td>\n",
       "      <td>895781</td>\n",
       "      <td>1249</td>\n",
       "      <td>6/19/2016 21:02:22</td>\n",
       "      <td>6/19/2016 21:23:11</td>\n",
       "      <td>411</td>\n",
       "      <td>E 6 St &amp; Avenue D</td>\n",
       "      <td>446</td>\n",
       "      <td>W 24 St &amp; 7 Ave</td>\n",
       "      <td>40.744876</td>\n",
       "      <td>-73.995299</td>\n",
       "      <td>20052</td>\n",
       "      <td>Subscriber</td>\n",
       "      <td>1980.0</td>\n",
       "      <td>1</td>\n",
       "    </tr>\n",
       "    <tr>\n",
       "      <th>4</th>\n",
       "      <td>14</td>\n",
       "      <td>1.0</td>\n",
       "      <td>40.72</td>\n",
       "      <td>-73.98</td>\n",
       "      <td>1022077</td>\n",
       "      <td>443</td>\n",
       "      <td>6/22/2016 11:02:31</td>\n",
       "      <td>6/22/2016 11:09:55</td>\n",
       "      <td>150</td>\n",
       "      <td>E 2 St &amp; Avenue C</td>\n",
       "      <td>293</td>\n",
       "      <td>Lafayette St &amp; E 8 St</td>\n",
       "      <td>40.730287</td>\n",
       "      <td>-73.990765</td>\n",
       "      <td>18622</td>\n",
       "      <td>Subscriber</td>\n",
       "      <td>1991.0</td>\n",
       "      <td>1</td>\n",
       "    </tr>\n",
       "  </tbody>\n",
       "</table>\n",
       "</div>"
      ],
      "text/plain": [
       "   Unnamed: 0  Zone  start station latitude  start station longitude    index  \\\n",
       "0           0   3.0                   40.71                   -73.94   900435   \n",
       "1           2   3.0                   40.71                   -73.94   750686   \n",
       "2           4   3.0                   40.71                   -73.94   747914   \n",
       "3           6   1.0                   40.72                   -73.98   895781   \n",
       "4          14   1.0                   40.72                   -73.98  1022077   \n",
       "\n",
       "   tripduration           starttime            stoptime  start station id  \\\n",
       "0           160  6/20/2016 06:22:53  6/20/2016 06:25:33              3070   \n",
       "1          1474  6/17/2016 00:03:24  6/17/2016 00:27:59              3074   \n",
       "2           634  6/16/2016 21:44:55  6/16/2016 21:55:30              3081   \n",
       "3          1249  6/19/2016 21:02:22  6/19/2016 21:23:11               411   \n",
       "4           443  6/22/2016 11:02:31  6/22/2016 11:09:55               150   \n",
       "\n",
       "            start station name  end station id  \\\n",
       "0  McKibbin St & Manhattan Ave            3071   \n",
       "1  Montrose Ave & Bushwick Ave            3129   \n",
       "2        Graham Ave & Grand St            3068   \n",
       "3            E 6 St & Avenue D             446   \n",
       "4            E 2 St & Avenue C             293   \n",
       "\n",
       "                   end station name  end station latitude  \\\n",
       "0              Boerum St & Broadway             40.705381   \n",
       "1  Queens Plaza North & Crescent St             40.751102   \n",
       "2            Humboldt St & Varet St             40.703172   \n",
       "3                   W 24 St & 7 Ave             40.744876   \n",
       "4             Lafayette St & E 8 St             40.730287   \n",
       "\n",
       "   end station longitude  bikeid    usertype  birthyear  gender  \n",
       "0             -73.949765   17226  Subscriber     1952.0       1  \n",
       "1             -73.940737   25447  Subscriber     1991.0       1  \n",
       "2             -73.940636   19282  Subscriber     1981.0       1  \n",
       "3             -73.995299   20052  Subscriber     1980.0       1  \n",
       "4             -73.990765   18622  Subscriber     1991.0       1  "
      ]
     },
     "execution_count": 19,
     "metadata": {},
     "output_type": "execute_result"
    }
   ],
   "source": [
    "biking_2016 = pd.read_csv('biking_2016.csv')\n",
    "biking_2016.head()"
   ]
  },
  {
   "cell_type": "markdown",
   "metadata": {},
   "source": [
    "#### Capture Rate 2010\n",
    "In this dataset, the capture rate represents the percent of the total waste that is sent to the plant that actually ends up being recycled. The closer the capture rate is to 100, the more efficient the recycling plant is. Ideally, a plant should have a capture rate of 70%, but a more realistic capture rate of 50% is also considered to be very efficient. In the following analyses, we analyze the probability of reaching a capture rate of 50% and 70% in NYC."
   ]
  },
  {
   "cell_type": "markdown",
   "metadata": {},
   "source": [
    "The following histogram shows the distribution of capture rates for each of the districts of NYC."
   ]
  },
  {
   "cell_type": "code",
   "execution_count": 20,
   "metadata": {},
   "outputs": [
    {
     "data": {
      "image/png": "[encoded data removed]",
      "text/plain": [
       "<Figure size 432x288 with 1 Axes>"
      ]
     },
     "metadata": {
      "needs_background": "light"
     },
     "output_type": "display_data"
    }
   ],
   "source": [
    "##Histogram for 2010\n",
    "plt.hist(recycling_2010[\"Capture Rate\"], bins=18)\n",
    "plt.xlabel(\"Capture Rate in 2010\")\n",
    "plt.ylabel(\"Frequency\")\n",
    "plt.show()"
   ]
  },
  {
   "cell_type": "markdown",
   "metadata": {},
   "source": [
    "In order to predict the probabilities of reaching a capture rate of 50% and 70%, we calculated the overall mean capture rate in 2010 and used it to approximate a poisson distribution of 1000 samples. We chose to model this scenario using a poisson distribution because there more than two outcomes and each outcome does not have an equal chance of occurring."
   ]
  },
  {
   "cell_type": "code",
   "execution_count": 21,
   "metadata": {},
   "outputs": [],
   "source": [
    "## Average Capture Rate for 2010\n",
    "mean_2010 = round(recycling_2010[[\"Capture Rate\"]].mean(),2)\n",
    "draws_2010 = np.random.poisson(mean_2010, 1000)"
   ]
  },
  {
   "cell_type": "code",
   "execution_count": 226,
   "metadata": {},
   "outputs": [
    {
     "name": "stdout",
     "output_type": "stream",
     "text": [
      "Mean Capture Rate for 2010:  43.22\n"
     ]
    }
   ],
   "source": [
    "print(\"Mean Capture Rate for 2010: \", mean_2010[0])"
   ]
  },
  {
   "cell_type": "markdown",
   "metadata": {},
   "source": [
    "This graph below shows the poisson distribution that is an approximation of the previous histogram. The graph also has two lines - the red line marks which values fall after a 50% capture rate and the green line marks which values fall after a 70% capture rate."
   ]
  },
  {
   "cell_type": "code",
   "execution_count": 23,
   "metadata": {},
   "outputs": [
    {
     "data": {
      "image/png": "[encoded data removed]",
      "text/plain": [
       "<Figure size 432x288 with 1 Axes>"
      ]
     },
     "metadata": {
      "needs_background": "light"
     },
     "output_type": "display_data"
    }
   ],
   "source": [
    "## Histogram for draws_2010\n",
    "plt.hist(draws_2010, bins=18)\n",
    "plt.xlabel(\"Sample Value Based on The Mean Capture Rate for 2010\")\n",
    "plt.ylabel(\"Frequency at Which Sample Value Occurs\")\n",
    "plt.axvline(color='r', linestyle=\"dotted\", x=50, label=\"Realistic Capture Rate\")\n",
    "plt.axvline(color='g', linestyle=\"dotted\", x=70, label=\"Ideal Capture Rate\")\n",
    "plt.legend(loc=\"upper right\")\n",
    "plt.show()"
   ]
  },
  {
   "cell_type": "code",
   "execution_count": 228,
   "metadata": {},
   "outputs": [
    {
     "name": "stdout",
     "output_type": "stream",
     "text": [
      "The probability of capturing more than 50% of recycled waste is: 13.501%\n"
     ]
    }
   ],
   "source": [
    "## Probability of Capturing 50% in 2010\n",
    "rate50_2010 = round(float(poisson.sf(50, mean_2010)*100),4)\n",
    "print(\"The probability of capturing more than 50% of recycled waste is: \"+ str(rate50_2010)+\"%\")"
   ]
  },
  {
   "cell_type": "code",
   "execution_count": 227,
   "metadata": {},
   "outputs": [
    {
     "name": "stdout",
     "output_type": "stream",
     "text": [
      "The probability of capturing more than 70% of recycled waste is: 0.0066%\n"
     ]
    }
   ],
   "source": [
    "## Probability of Capturing 70% in 2010\n",
    "rate70_2010 = round(float(poisson.sf(70, mean_2010)*100),4)\n",
    "print(\"The probability of capturing more than 70% of recycled waste is: \"+ str(rate70_2010)+\"%\")"
   ]
  },
  {
   "cell_type": "markdown",
   "metadata": {},
   "source": [
    "Based on the histogram and the probabilities, in 2010 the probability of a district having a capture rate over 50 was 13.5% and having one over 70 was 0.0066%. These probabilities are extremely low and could be attributed to a variety of reasons such as not having enough facilitites to recycle all waste, individuals recycling waste that cannot actually be recycled at the plant, or not having specialized recycling facilities that handle wastes like CD's that cannot be recycled in a typical recycling plant."
   ]
  },
  {
   "cell_type": "markdown",
   "metadata": {},
   "source": [
    "#### Capture Rate 2016\n",
    "The following histogram shows the distribution of capture rates for each of the districts of NYC in 2016. The analyses follows the same steps that we did for the analysis of the capture rate in 2010."
   ]
  },
  {
   "cell_type": "code",
   "execution_count": 26,
   "metadata": {},
   "outputs": [
    {
     "data": {
      "image/png": "[encoded data removed]",
      "text/plain": [
       "<Figure size 432x288 with 1 Axes>"
      ]
     },
     "metadata": {
      "needs_background": "light"
     },
     "output_type": "display_data"
    }
   ],
   "source": [
    "##Histogram for 2016\n",
    "plt.hist(recycling_2016[\"Capture Rate\"], bins=18)\n",
    "plt.xlabel(\"Capture Rate in 2016\")\n",
    "plt.ylabel(\"Frequency\")\n",
    "plt.show()"
   ]
  },
  {
   "cell_type": "markdown",
   "metadata": {},
   "source": [
    "Creating the poisson distribution:"
   ]
  },
  {
   "cell_type": "code",
   "execution_count": 27,
   "metadata": {},
   "outputs": [],
   "source": [
    "## Average Capture Rate for 2016\n",
    "mean_2016 = round(recycling_2016[[\"Capture Rate\"]].mean(),2)\n",
    "draws_2016 = np.random.poisson(mean_2016, 1000)"
   ]
  },
  {
   "cell_type": "code",
   "execution_count": 229,
   "metadata": {},
   "outputs": [
    {
     "name": "stdout",
     "output_type": "stream",
     "text": [
      "Mean Capture Rate for 2016:  42.02\n"
     ]
    }
   ],
   "source": [
    "print(\"Mean Capture Rate for 2016: \", mean_2016[0])"
   ]
  },
  {
   "cell_type": "markdown",
   "metadata": {},
   "source": [
    "Graphing the poisson approximation and the realistic (50) vs. ideal (70) capture rates:"
   ]
  },
  {
   "cell_type": "code",
   "execution_count": 29,
   "metadata": {},
   "outputs": [
    {
     "data": {
      "image/png": "[encoded data removed]",
      "text/plain": [
       "<Figure size 432x288 with 1 Axes>"
      ]
     },
     "metadata": {
      "needs_background": "light"
     },
     "output_type": "display_data"
    }
   ],
   "source": [
    "## Histogram for draws_2016\n",
    "plt.hist(draws_2016, bins=18)\n",
    "plt.xlabel(\"Sample Value Based on The Mean Capture Rate for 2016\")\n",
    "plt.ylabel(\"Frequency at Which Sample Value Occurs\")\n",
    "plt.axvline(color='r', linestyle=\"dotted\", x=50, label=\"Realistic Capture Rate\")\n",
    "plt.axvline(color='g', linestyle=\"dotted\", x=70, label=\"Ideal Capture Rate\")\n",
    "plt.legend(loc=\"upper right\")\n",
    "plt.show()"
   ]
  },
  {
   "cell_type": "code",
   "execution_count": 230,
   "metadata": {},
   "outputs": [
    {
     "name": "stdout",
     "output_type": "stream",
     "text": [
      "The probability of capturing more than 50% of recycled waste is: 9.8094%\n"
     ]
    }
   ],
   "source": [
    "## Probability of Capturing 50% in 2016\n",
    "rate50_2016 = round(float(poisson.sf(50, mean_2016)*100),4)\n",
    "print(\"The probability of capturing more than 50% of recycled waste is: \"+ str(rate50_2016)+\"%\")"
   ]
  },
  {
   "cell_type": "code",
   "execution_count": 231,
   "metadata": {},
   "outputs": [
    {
     "name": "stdout",
     "output_type": "stream",
     "text": [
      "The probability of capturing more than 70% of recycled waste is: 0.0029%\n"
     ]
    }
   ],
   "source": [
    "## Probability of Capturing 70% in 2016\n",
    "rate70_2016 = round(float(poisson.sf(70, mean_2016)*100),4)\n",
    "print(\"The probability of capturing more than 70% of recycled waste is: \"+ str(rate70_2016)+\"%\")"
   ]
  },
  {
   "cell_type": "markdown",
   "metadata": {},
   "source": [
    "The probabilities for reaching a realistic or ideal capture rate in 2016 were even lower than the ones for 2010, which shows that NYC's capture rate has decreased over time. This decrease in the capture rate could suggest that a decrease in environmental activism or it could be due to other factors that were listed before such as individuals recycling items that cannot be recycled. In the next steps of our analyses, we explore what might have contributed to a decrease in the capture rate by grouping the data by borough instead of looking at the overall values."
   ]
  },
  {
   "cell_type": "markdown",
   "metadata": {},
   "source": [
    "#### Capture Rate by Borough in 2010 and 2016\n",
    "This bar graph shows the capture rate by borough in NYC in 2010."
   ]
  },
  {
   "cell_type": "code",
   "execution_count": 32,
   "metadata": {},
   "outputs": [
    {
     "data": {
      "image/png": "[encoded data removed]",
      "text/plain": [
       "<Figure size 432x288 with 1 Axes>"
      ]
     },
     "metadata": {
      "needs_background": "light"
     },
     "output_type": "display_data"
    }
   ],
   "source": [
    "plt.bar(recycling_2010[\"Zone\"], recycling_2010[\"Capture Rate\"])\n",
    "plt.xlabel('Borough of NYC')\n",
    "plt.ylabel('Recycling Capture Rate in 2010')\n",
    "plt.show()"
   ]
  },
  {
   "cell_type": "markdown",
   "metadata": {},
   "source": [
    "This bar graph shows the capture rate by borough in NYC in 2016."
   ]
  },
  {
   "cell_type": "code",
   "execution_count": 33,
   "metadata": {},
   "outputs": [
    {
     "data": {
      "image/png": "[encoded data removed]",
      "text/plain": [
       "<Figure size 432x288 with 1 Axes>"
      ]
     },
     "metadata": {
      "needs_background": "light"
     },
     "output_type": "display_data"
    }
   ],
   "source": [
    "plt.bar(recycling_2016[\"Zone\"], recycling_2016[\"Capture Rate\"])\n",
    "plt.xlabel('Borough of NYC')\n",
    "plt.ylabel('Recycling Capture Rate in 2016')\n",
    "plt.show()"
   ]
  },
  {
   "cell_type": "markdown",
   "metadata": {},
   "source": [
    "From 2010 to 2016 the capture rates for Brooklyn, Queens, and Staten Island stay the same. The capture rate for the Bronx increases, but the capture rate for Manhattan decreases. Baesd on these charts, it becomes more clear that the state of recycling did not change across all of New York City, but instead depended on the borough. The Bronx was able to increase efficiency which could have been through more efficient recycling plants or even through more awareness among individuals who have improved their recycling practices. The overall decrease in the capture rate from 2010 and 2016 as we saw from the previous analyses can be attributed to the decrease in the capture rate in Manhattan. Since Manhattan is the second largest borough in NYC (after Brooklyn) with a population of 1.62 million, a change in the capture rate in Manhattan affected the overall rate more than an increase in the capture rate in the Bronx since it is a smaller area with a smaller population, and therefore, a smaller impact. In this section, we used recycling capture rates as a measure of sustainable behaviors. In the next sections, we explore biking as a sustainable behavior by trying to find if the decrease in recycling in Manhattan correlates with a decrease in other sustainable behaviors including biking."
   ]
  },
  {
   "cell_type": "markdown",
   "metadata": {},
   "source": [
    "### Comparing Sustainable Behaviors (Biking vs. Recycling)\n",
    "In this section we compare the number of Citibike trips in 2013 and 2016 by borough to see if they follow the same trends as what we found in the previous analysis with recycling capture rates. If we see the same trends, we can use the data to further understand how sustainable behavior in NYC has changed over time."
   ]
  },
  {
   "cell_type": "markdown",
   "metadata": {},
   "source": [
    "In the next two cells, we count the number of bike trips per borough. The first dataframe is for 2013 and the second dataframe is for 2016."
   ]
  },
  {
   "cell_type": "code",
   "execution_count": 34,
   "metadata": {},
   "outputs": [
    {
     "data": {
      "text/html": [
       "<div>\n",
       "<style scoped>\n",
       "    .dataframe tbody tr th:only-of-type {\n",
       "        vertical-align: middle;\n",
       "    }\n",
       "\n",
       "    .dataframe tbody tr th {\n",
       "        vertical-align: top;\n",
       "    }\n",
       "\n",
       "    .dataframe thead th {\n",
       "        text-align: right;\n",
       "    }\n",
       "</style>\n",
       "<table border=\"1\" class=\"dataframe\">\n",
       "  <thead>\n",
       "    <tr style=\"text-align: right;\">\n",
       "      <th></th>\n",
       "      <th>boro_counts</th>\n",
       "      <th>Zone</th>\n",
       "    </tr>\n",
       "  </thead>\n",
       "  <tbody>\n",
       "    <tr>\n",
       "      <th>1.0</th>\n",
       "      <td>706</td>\n",
       "      <td>Manhattan</td>\n",
       "    </tr>\n",
       "    <tr>\n",
       "      <th>3.0</th>\n",
       "      <td>91</td>\n",
       "      <td>Brooklyn</td>\n",
       "    </tr>\n",
       "  </tbody>\n",
       "</table>\n",
       "</div>"
      ],
      "text/plain": [
       "     boro_counts       Zone\n",
       "1.0          706  Manhattan\n",
       "3.0           91   Brooklyn"
      ]
     },
     "execution_count": 34,
     "metadata": {},
     "output_type": "execute_result"
    }
   ],
   "source": [
    "boro_counts_2013 = pd.DataFrame(biking_2013[\"Zone\"].value_counts())\n",
    "boro_counts_2013 = boro_counts_2013.rename(columns={\"Zone\":\"boro_counts\"})\n",
    "boro_counts_2013[\"Zone\"] = [\"Manhattan\", \"Brooklyn\"]\n",
    "boro_counts_2013.head()"
   ]
  },
  {
   "cell_type": "code",
   "execution_count": 35,
   "metadata": {},
   "outputs": [
    {
     "data": {
      "text/html": [
       "<div>\n",
       "<style scoped>\n",
       "    .dataframe tbody tr th:only-of-type {\n",
       "        vertical-align: middle;\n",
       "    }\n",
       "\n",
       "    .dataframe tbody tr th {\n",
       "        vertical-align: top;\n",
       "    }\n",
       "\n",
       "    .dataframe thead th {\n",
       "        text-align: right;\n",
       "    }\n",
       "</style>\n",
       "<table border=\"1\" class=\"dataframe\">\n",
       "  <thead>\n",
       "    <tr style=\"text-align: right;\">\n",
       "      <th></th>\n",
       "      <th>boro_counts</th>\n",
       "      <th>Zone</th>\n",
       "    </tr>\n",
       "  </thead>\n",
       "  <tbody>\n",
       "    <tr>\n",
       "      <th>1.0</th>\n",
       "      <td>740</td>\n",
       "      <td>Manhattan</td>\n",
       "    </tr>\n",
       "    <tr>\n",
       "      <th>3.0</th>\n",
       "      <td>73</td>\n",
       "      <td>Brooklyn</td>\n",
       "    </tr>\n",
       "    <tr>\n",
       "      <th>4.0</th>\n",
       "      <td>16</td>\n",
       "      <td>Queens</td>\n",
       "    </tr>\n",
       "  </tbody>\n",
       "</table>\n",
       "</div>"
      ],
      "text/plain": [
       "     boro_counts       Zone\n",
       "1.0          740  Manhattan\n",
       "3.0           73   Brooklyn\n",
       "4.0           16     Queens"
      ]
     },
     "execution_count": 35,
     "metadata": {},
     "output_type": "execute_result"
    }
   ],
   "source": [
    "boro_counts_2016 = pd.DataFrame(biking_2016[\"Zone\"].value_counts())\n",
    "boro_counts_2016 = boro_counts_2016.rename(columns={\"Zone\":\"boro_counts\"})\n",
    "boro_counts_2016[\"Zone\"] = [\"Manhattan\", \"Brooklyn\",\"Queens\"]\n",
    "boro_counts_2016.head()"
   ]
  },
  {
   "cell_type": "markdown",
   "metadata": {},
   "source": [
    "The two bar graphs below are a graphical representation of the dataframes from above."
   ]
  },
  {
   "cell_type": "code",
   "execution_count": 36,
   "metadata": {},
   "outputs": [
    {
     "data": {
      "image/png": "[encoded data removed]",
      "text/plain": [
       "<Figure size 432x288 with 1 Axes>"
      ]
     },
     "metadata": {
      "needs_background": "light"
     },
     "output_type": "display_data"
    }
   ],
   "source": [
    "plt.bar(boro_counts_2013[\"Zone\"], boro_counts_2013[\"boro_counts\"])\n",
    "plt.xlabel('Borough of NYC')\n",
    "plt.ylabel('Number of Bikers 2013')\n",
    "plt.show()"
   ]
  },
  {
   "cell_type": "code",
   "execution_count": 37,
   "metadata": {},
   "outputs": [
    {
     "data": {
      "image/png": "[encoded data removed]",
      "text/plain": [
       "<Figure size 432x288 with 1 Axes>"
      ]
     },
     "metadata": {
      "needs_background": "light"
     },
     "output_type": "display_data"
    }
   ],
   "source": [
    "plt.bar(boro_counts_2016[\"Zone\"], boro_counts_2016[\"boro_counts\"])\n",
    "plt.xlabel('Borough of NYC')\n",
    "plt.ylabel('Number of Bikers 2016')\n",
    "plt.show()"
   ]
  },
  {
   "cell_type": "markdown",
   "metadata": {},
   "source": [
    "From these graphs, we are able to see that the number of bike trips in Manhattan and Brooklyn remained almost the same in 2013 and 2016. However, there was an increase in the number of bike trips in Queens. There are a few reasons that this could have happened. Since there are no trips in Queens in 2013, it is likely that there were no bike stations contructed in Queens since that is the first year the Citibike was implemented. Customers might have used the bike in Queens but could not return or pick up a bike from Queens. Our dataset only shows the start and end location (where the bike was returned and where it was picked up), based on the station. Based on this, new stations were likely constructed in Queens by 2016. One reason we might not have seen a change in Manhattan and Brooklyn from 2013 to 2016 could be because we are working with a smaller sample from the full dataset since each orginal dataset had 2 million observations and we were unable to process and work with such large datasets. These plots might have showed more of a difference had we been able to process the entire dataset. "
   ]
  },
  {
   "cell_type": "markdown",
   "metadata": {},
   "source": [
    "When looking at this analysis in comparison to the analysis on the recycling capture rates, we do not see the same trends in sustainable behaviors. For recycling, in Manhattan, we saw a decrease in the capture rate but the same number of trips for bikers. Given that none of the trends match up for boroughs, it is difficult to determine a relationship between recycling and biking."
   ]
  },
  {
   "cell_type": "markdown",
   "metadata": {},
   "source": [
    "### Pollution Levels vs. Citibike Trips\n",
    "In this section, we were interested in looking at how pollution levels and the number of biking trips using the Citibike have changed over the years. Using the Citibike operations reports, we constructed a new dataframe that contains the total yearly pollution (we did this by summing the columns in ghg_ny) and biker counts from 2013 to 2018."
   ]
  },
  {
   "cell_type": "code",
   "execution_count": 38,
   "metadata": {},
   "outputs": [
    {
     "name": "stdout",
     "output_type": "stream",
     "text": [
      "The sum of pollution levels for each year from 2011-2018: \n"
     ]
    },
    {
     "data": {
      "text/html": [
       "<div>\n",
       "<style scoped>\n",
       "    .dataframe tbody tr th:only-of-type {\n",
       "        vertical-align: middle;\n",
       "    }\n",
       "\n",
       "    .dataframe tbody tr th {\n",
       "        vertical-align: top;\n",
       "    }\n",
       "\n",
       "    .dataframe thead th {\n",
       "        text-align: right;\n",
       "    }\n",
       "</style>\n",
       "<table border=\"1\" class=\"dataframe\">\n",
       "  <thead>\n",
       "    <tr style=\"text-align: right;\">\n",
       "      <th></th>\n",
       "      <th>Year</th>\n",
       "      <th>total_pollution</th>\n",
       "      <th>biker_counts</th>\n",
       "    </tr>\n",
       "  </thead>\n",
       "  <tbody>\n",
       "    <tr>\n",
       "      <th>0</th>\n",
       "      <td>2013</td>\n",
       "      <td>39270240.62</td>\n",
       "      <td>618572</td>\n",
       "    </tr>\n",
       "    <tr>\n",
       "      <th>1</th>\n",
       "      <td>2014</td>\n",
       "      <td>39988530.62</td>\n",
       "      <td>1035478</td>\n",
       "    </tr>\n",
       "    <tr>\n",
       "      <th>2</th>\n",
       "      <td>2015</td>\n",
       "      <td>39958269.61</td>\n",
       "      <td>941117</td>\n",
       "    </tr>\n",
       "    <tr>\n",
       "      <th>3</th>\n",
       "      <td>2016</td>\n",
       "      <td>37066181.97</td>\n",
       "      <td>1460303</td>\n",
       "    </tr>\n",
       "    <tr>\n",
       "      <th>4</th>\n",
       "      <td>2017</td>\n",
       "      <td>31824056.02</td>\n",
       "      <td>1731155</td>\n",
       "    </tr>\n",
       "  </tbody>\n",
       "</table>\n",
       "</div>"
      ],
      "text/plain": [
       "   Year  total_pollution  biker_counts\n",
       "0  2013      39270240.62        618572\n",
       "1  2014      39988530.62       1035478\n",
       "2  2015      39958269.61        941117\n",
       "3  2016      37066181.97       1460303\n",
       "4  2017      31824056.02       1731155"
      ]
     },
     "execution_count": 38,
     "metadata": {},
     "output_type": "execute_result"
    }
   ],
   "source": [
    "year = 2013\n",
    "total_sums = np.zeros(6)\n",
    "for i in range(6):\n",
    "    year_str = str(year)\n",
    "    total_sums[i] = ghg_ny[year_str].sum()\n",
    "    year = year+1\n",
    "total_sums = pd.DataFrame(total_sums)\n",
    "total_sums[\"total_pollution\"] = total_sums\n",
    "total_sums[\"Year\"] = [\"2013\", \"2014\", \"2015\", \"2016\", \"2017\", \"2018\"]\n",
    "total_sums = total_sums[[\"Year\", \"total_pollution\"]]\n",
    "total_sums[\"biker_counts\"] = [618572, 1035478, 941117, 1460303, 1731155, 1952950]\n",
    "print(\"The sum of pollution levels for each year from 2011-2018: \")\n",
    "total_sums.head()"
   ]
  },
  {
   "cell_type": "markdown",
   "metadata": {},
   "source": [
    "We created this plot to see individually understand the trends for how the number of bikers has changed and how total polluion has changed from 2013 to 2018."
   ]
  },
  {
   "cell_type": "code",
   "execution_count": 39,
   "metadata": {},
   "outputs": [
    {
     "data": {
      "image/png": "[encoded data removed]",
      "text/plain": [
       "<Figure size 432x288 with 1 Axes>"
      ]
     },
     "metadata": {
      "needs_background": "light"
     },
     "output_type": "display_data"
    }
   ],
   "source": [
    "plt.plot(total_sums['Year'], total_sums[\"total_pollution\"], label=\"Total Pollution\")\n",
    "plt.plot(total_sums['Year'], total_sums[\"biker_counts\"], label=\"Number of Bikers\")\n",
    "plt.xlabel(\"Year\")\n",
    "plt.ylabel(\"Count\")\n",
    "plt.legend()\n",
    "plt.show()"
   ]
  },
  {
   "cell_type": "markdown",
   "metadata": {},
   "source": [
    "For pollution levels, we see a decrease from 2013 to 2017, but an increase from there into 2018. Overall though, there is a decrease in the pollution levels. The number of Citibike trips has steadily increased from 2013 to 2018. While this could be a predictor of increased environmentally sustainable behavior, this increase in the number of trips could be due to a variety of other factors such as the growth in the Citibike program as more people find out about it and an increased convenience in using Citibike as new stations were constructed in places such as Queens (as per previous plots). "
   ]
  },
  {
   "cell_type": "code",
   "execution_count": 40,
   "metadata": {},
   "outputs": [
    {
     "data": {
      "image/png": "[encoded data removed]",
      "text/plain": [
       "<Figure size 432x288 with 1 Axes>"
      ]
     },
     "metadata": {
      "needs_background": "light"
     },
     "output_type": "display_data"
    }
   ],
   "source": [
    "sns.regplot(x='total_pollution', y=\"biker_counts\", data=total_sums)\n",
    "plt.xlabel(\"Total Pollution\")\n",
    "plt.ylabel(\"Number of Bikers\")\n",
    "plt.show()"
   ]
  },
  {
   "cell_type": "markdown",
   "metadata": {},
   "source": [
    "When we compare the total pollution levels to the number of bikers, we see a inversely proportional relationship. As the total pollution increase, we see a decrease in the number of bike trips (even though the overall trend is an increase as per the last plot). This seems contradictory to the previous plot at first, but can help explain how the levels of pollution in NYC, even though they are decreasing, are so high that increased sustainable behaviors like biking are unable to offset the differences. "
   ]
  },
  {
   "cell_type": "markdown",
   "metadata": {},
   "source": [
    "# Evaluation of Significance"
   ]
  },
  {
   "cell_type": "markdown",
   "metadata": {},
   "source": [
    "### Recycling Capture Rate in 2010 vs. 2016\n",
    "In this section, we used a t-test to see if the decrease in the capture rate from 2010 to 2016 was statistically significant. We did this by using the mean and standard deviation to contruct a normal distribution to approximate the sample from above and calculated the p value."
   ]
  },
  {
   "cell_type": "code",
   "execution_count": 44,
   "metadata": {},
   "outputs": [],
   "source": [
    "## Find the standard deviation for 2010 and 2016\n",
    "std_2010 = recycling_2010[[\"Capture Rate\"]].std()\n",
    "std_2016 = recycling_2016[[\"Capture Rate\"]].std()"
   ]
  },
  {
   "cell_type": "code",
   "execution_count": 45,
   "metadata": {},
   "outputs": [
    {
     "name": "stdout",
     "output_type": "stream",
     "text": [
      "the slope is:  -0.0588\n"
     ]
    }
   ],
   "source": [
    "##Create the distributions for 2010 and 2016 \n",
    "x_2010 = pd.DataFrame(np.random.normal(mean_2010,std_2010, size=1000))\n",
    "y_2016 = pd.DataFrame(np.random.normal(mean_2016,std_2016, size=1000))\n",
    "recycling_model = LinearRegression().fit(x_2010,y_2016)\n",
    "print(\"the slope is: \", round(float(recycling_model.coef_),4))"
   ]
  },
  {
   "cell_type": "code",
   "execution_count": 237,
   "metadata": {},
   "outputs": [
    {
     "name": "stdout",
     "output_type": "stream",
     "text": [
      "The p-value is:  0.0237\n",
      "The test statistic is: 2.26\n"
     ]
    }
   ],
   "source": [
    "recycle_val = stats.ttest_ind(x_2010, y_2016)\n",
    "print(\"The p-value is: \", round(float(recycle_val[1]),4))\n",
    "print(\"The test statistic is:\", round(float(recycle_val[0]),2))"
   ]
  },
  {
   "cell_type": "markdown",
   "metadata": {},
   "source": [
    "In this case, our p-value was 0.02. Since the p-value is less than 0.05, this indicates that at a 95% confidence level, there is a statistically significant difference between the capture rates in 2010 and in 2016. This means that the decrease that we saw in capture rate from 2010 to 2016 likely occurred due to some other factor other than random chance. Based on our analysis from earlier, this decrease could have been due to decreased efficiency at the recycling plant or a decrease in sustainable recycling behaviors on the part of the general public. "
   ]
  },
  {
   "cell_type": "markdown",
   "metadata": {},
   "source": [
    "### Pollution Levels vs. Citibike Trips\n",
    "In order to test whether the inversely proportional relationship was statistically significant, we created a Linear Regression model and fit the data with the total pollution sum and the counts of the number of bike rides. From this Linear Regression model, we were able to determine the slope, intercept, and r squared value."
   ]
  },
  {
   "cell_type": "code",
   "execution_count": 47,
   "metadata": {},
   "outputs": [
    {
     "name": "stdout",
     "output_type": "stream",
     "text": [
      "The slope for total pollution levels in NYC vs. number of Citi bike trips is: -0.130\n",
      "The intercept for total pollution levels in NYC vs. number of Citi bike trips is: 6096814.740\n",
      "The r squared value for total pollution levels in NYC vs. number of Citi bike trips is: 0.737\n"
     ]
    }
   ],
   "source": [
    "pollution_bike_model = LinearRegression().fit(total_sums[['total_pollution']],total_sums[['biker_counts']])\n",
    "pollution_bike_slope = pollution_bike_model.coef_[0][0]\n",
    "pollution_bike_intercept = pollution_bike_model.intercept_[0]\n",
    "pollution_bike_corr = pollution_bike_model.score(total_sums[['total_pollution']],total_sums[['biker_counts']])\n",
    "print(\"The slope for total pollution levels in NYC vs. number of Citi bike trips is: {:.3f}\".format(pollution_bike_slope))\n",
    "print(\"The intercept for total pollution levels in NYC vs. number of Citi bike trips is: {:.3f}\".format(pollution_bike_intercept))\n",
    "print(\"The r squared value for total pollution levels in NYC vs. number of Citi bike trips is: {:.3f}\".format(pollution_bike_corr))"
   ]
  },
  {
   "cell_type": "markdown",
   "metadata": {},
   "source": [
    "The slope shows us that as the pollution levels increase by 1, the total number of bike trips decreases by 0.130. Since the r squared value, based on the linear regression model, was 0.737 we can see that the relationship between these two variables is quite strong and that the pollution levels is a good predictor of the number of bike trips. This shows us that the data is statistically significant."
   ]
  },
  {
   "cell_type": "markdown",
   "metadata": {},
   "source": [
    "### Pollution in 2011 vs. 2016\n",
    "In this section, we test the statistical significance of the relationship between pollution levels in 2011 vs. the pollution levels in 2016. In order to do this, we split the dataset using train test split, train a linear regression model using the training set, and then test the accuracy of the linear regression model on the testing set. We then determine the accuracy of the training and testing set."
   ]
  },
  {
   "cell_type": "code",
   "execution_count": 232,
   "metadata": {},
   "outputs": [
    {
     "name": "stdout",
     "output_type": "stream",
     "text": [
      "This is the training set for the NY pollution data:       Unnamed: 0  facility_id        frs_id                      facility_name  \\\n",
      "71           71      1002160  110004541434            GUARDIAN INDUSTRIES LLC   \n",
      "31           31      1000771  110000582398                          Northport   \n",
      "138         138      1006042  110007384106      TGP Station 245 West Winfield   \n",
      "151         151      1006910  110019768526      OSWEGO CO ENERGY RECOVERY FAC   \n",
      "120         120      1004894  110004513571  FULTON COUNTY DEPT OF SOLID WASTE   \n",
      "\n",
      "              city state  zip_code               address           county  \\\n",
      "71          GENEVA    NY     14456          50 FORGE AVE   ONTARIO COUNTY   \n",
      "31       NORTHPORT    NY     11768     EATON'S NECK ROAD          Suffolk   \n",
      "138  WEST WINFIELD    NY     13491        457 BURROWS RD  HERKIMER COUNTY   \n",
      "151         Fulton    NY     13069  2801 STATE ROUTE 481    OSWEGO COUNTY   \n",
      "120      JOHNSTOWN    NY     12095            847 MUD RD    FULTON COUNTY   \n",
      "\n",
      "     latitude  ...                    industry_sector        2018       2017  \\\n",
      "71      42.88  ...                           Minerals    94019.34  139846.26   \n",
      "31      40.92  ...                       Power Plants  1622224.51  992247.85   \n",
      "138     42.87  ...  Petroleum and Natural Gas Systems    46683.83   50941.22   \n",
      "151     43.35  ...                              Waste    29101.30   27699.04   \n",
      "120     43.01  ...                              Waste    32826.00   14486.80   \n",
      "\n",
      "           2016        2015        2014        2013        2012        2011  \\\n",
      "71    140136.16   138709.86   136448.02   133326.23   142014.85   140496.21   \n",
      "31   1481120.55  1836382.11  1656151.69  1886742.79  1952018.63  2111284.68   \n",
      "138    62102.88    51755.70    49018.48    58759.90    58561.81    50696.57   \n",
      "151    29446.17    28739.81    16900.58    31039.33    30640.70    30979.61   \n",
      "120    18165.10    17503.60    25088.60    16805.15    25042.40    24403.75   \n",
      "\n",
      "     cluster_label  \n",
      "71               0  \n",
      "31               1  \n",
      "138              0  \n",
      "151              0  \n",
      "120              0  \n",
      "\n",
      "[5 rows x 23 columns]\n",
      "This is the test set for the NY pollution data:       Unnamed: 0  facility_id        frs_id  \\\n",
      "26           26      1000763  110008054265   \n",
      "21           21      1000482  110008035704   \n",
      "107         107      1004057  110007155121   \n",
      "112         112      1004412  110000808083   \n",
      "36           36      1000781  110019644679   \n",
      "\n",
      "                            facility_name       city state  zip_code  \\\n",
      "26             Narrows Generating Station   BROOKLYN    NY     11232   \n",
      "21               ReEnergy Black River LLC  FORT DRUM    NY     13602   \n",
      "107  DANC SOLID WASTE MANAGEMENT FACILITY     RODMAN    NY     13682   \n",
      "112             GE GLOBAL RESEARCH CENTER  NISKAYUNA    NY     12309   \n",
      "36    CON ED-EAST 60TH STREET STEAM PLANT  MANHATTAN    NY     10022   \n",
      "\n",
      "                              address            county  latitude  ...  \\\n",
      "26                53RD ST AND 1ST AVE             Kings     40.65  ...   \n",
      "21   4515 Euphrates River Valley Road  JEFFERSON COUNTY     44.04  ...   \n",
      "107                23400 NY ROUTE 177         JEFFERSON     43.83  ...   \n",
      "112               ONE RESEARCH CIRCLE       SCHENECTADY     42.83  ...   \n",
      "36               514 EAST 60TH STREET   NEW YORK COUNTY     40.76  ...   \n",
      "\n",
      "     industry_sector       2018       2017       2016       2015       2014  \\\n",
      "26      Power Plants   66469.00   23171.91   72685.02   57026.62   25653.40   \n",
      "21      Power Plants   72777.15   63353.55   52544.56   29193.71   37231.60   \n",
      "107            Waste   47585.15   33742.15   42644.35   54085.75   99117.70   \n",
      "112            Other   24947.51   23855.53   26807.34   30498.56   28621.62   \n",
      "36      Power Plants  112792.08  100345.22  116696.76  136345.94  158933.49   \n",
      "\n",
      "          2013       2012       2011  cluster_label  \n",
      "26   112345.07   99636.85  107077.43              0  \n",
      "21    21442.40     106.20      98.10              0  \n",
      "107   72084.65   52527.45   46922.15              0  \n",
      "112   28317.17   26429.64   27274.08              0  \n",
      "36   174569.99  204689.43  221298.62              0  \n",
      "\n",
      "[5 rows x 23 columns]\n"
     ]
    }
   ],
   "source": [
    "train_set, test_set = train_test_split(ghg_ny, test_size = 0.20, random_state = 15)\n",
    "print (\"This is the training set for the NY pollution data: \", train_set.head())\n",
    "print (\"This is the test set for the NY pollution data: \", test_set.head())"
   ]
  },
  {
   "cell_type": "code",
   "execution_count": 217,
   "metadata": {},
   "outputs": [
    {
     "name": "stdout",
     "output_type": "stream",
     "text": [
      "The slope for NY pollution levels in 2011 vs. the pollution levels in 2016: 0.659\n",
      "The intercept for NY pollution levels in 2011 vs. the pollution levels in 2016: 46633.421\n",
      "The r squared for NY pollution levels in 2011 vs. the pollution levels in 2016: 0.563\n"
     ]
    }
   ],
   "source": [
    "pollution_model = LinearRegression().fit(train_set[[\"2011\"]],train_set[[\"2016\"]])\n",
    "pollution_slope = pollution_model.coef_[0][0]\n",
    "pollution_intercept = pollution_model.intercept_[0]\n",
    "pollution_corr = pollution_model.score(train_set[[\"2011\"]],train_set[[\"2016\"]])\n",
    "print(\"The slope for NY pollution levels in 2011 vs. the pollution levels in 2016: {:.3f}\".format(pollution_slope))\n",
    "print(\"The intercept for NY pollution levels in 2011 vs. the pollution levels in 2016: {:.3f}\".format(pollution_intercept))\n",
    "print(\"The r squared for NY pollution levels in 2011 vs. the pollution levels in 2016: {:.3f}\".format(pollution_corr))"
   ]
  },
  {
   "cell_type": "code",
   "execution_count": 218,
   "metadata": {},
   "outputs": [
    {
     "name": "stdout",
     "output_type": "stream",
     "text": [
      "The percent accuracy of the training set is 56.27%\n"
     ]
    }
   ],
   "source": [
    "score_train = pollution_model.score(train_set[['2011']], train_set['2016'])\n",
    "print(\"The percent accuracy of the training set is \" + \"{:.2%}\".format(score_train))"
   ]
  },
  {
   "cell_type": "code",
   "execution_count": 219,
   "metadata": {},
   "outputs": [
    {
     "name": "stdout",
     "output_type": "stream",
     "text": [
      "The percent accuracy of the testing set is 80.29%\n"
     ]
    }
   ],
   "source": [
    "score_test = pollution_model.score(test_set[['2011']], test_set['2016'])\n",
    "print(\"The percent accuracy of the testing set is \" + \"{:.2%}\".format(score_test))"
   ]
  },
  {
   "cell_type": "markdown",
   "metadata": {},
   "source": [
    "Through this test, we are able to find that the training set had an accuracy of 56% while the testing set had an accuracy of 80%. This shows that the data is somewhat predictive as we have a correlationof 0.563, but it does not have as strong a correlation as we saw before. This means that there is a correlation between pollution levels in 2011 and 2016, but it may not be as strong."
   ]
  },
  {
   "cell_type": "markdown",
   "metadata": {},
   "source": [
    "### Clustering Pollution Levels by Industry\n",
    "In this section, we test the accuracy of the KMeans clustering by determining if the predicted industries (based on the KMeans clustering algorithm) correctly identifies the industry that the dataset originally indicated. "
   ]
  },
  {
   "cell_type": "code",
   "execution_count": 220,
   "metadata": {},
   "outputs": [
    {
     "data": {
      "text/html": [
       "<div>\n",
       "<style scoped>\n",
       "    .dataframe tbody tr th:only-of-type {\n",
       "        vertical-align: middle;\n",
       "    }\n",
       "\n",
       "    .dataframe tbody tr th {\n",
       "        vertical-align: top;\n",
       "    }\n",
       "\n",
       "    .dataframe thead th {\n",
       "        text-align: right;\n",
       "    }\n",
       "</style>\n",
       "<table border=\"1\" class=\"dataframe\">\n",
       "  <thead>\n",
       "    <tr style=\"text-align: right;\">\n",
       "      <th></th>\n",
       "      <th>cluster_label</th>\n",
       "      <th>predicted_industry</th>\n",
       "    </tr>\n",
       "  </thead>\n",
       "  <tbody>\n",
       "    <tr>\n",
       "      <th>0</th>\n",
       "      <td>0</td>\n",
       "      <td>Power Plants</td>\n",
       "    </tr>\n",
       "    <tr>\n",
       "      <th>1</th>\n",
       "      <td>1</td>\n",
       "      <td>Waste</td>\n",
       "    </tr>\n",
       "    <tr>\n",
       "      <th>2</th>\n",
       "      <td>2</td>\n",
       "      <td>Other</td>\n",
       "    </tr>\n",
       "  </tbody>\n",
       "</table>\n",
       "</div>"
      ],
      "text/plain": [
       "   cluster_label predicted_industry\n",
       "0              0       Power Plants\n",
       "1              1              Waste\n",
       "2              2              Other"
      ]
     },
     "execution_count": 220,
     "metadata": {},
     "output_type": "execute_result"
    }
   ],
   "source": [
    "industry_lookup = pd.DataFrame({\"cluster_label\": [0, 1, 2],\n",
    "                                        \"predicted_industry\": [\"Power Plants\", \"Waste\", \"Other\"]})\n",
    "industry_lookup.head()"
   ]
  },
  {
   "cell_type": "code",
   "execution_count": 221,
   "metadata": {},
   "outputs": [
    {
     "data": {
      "text/html": [
       "<div>\n",
       "<style scoped>\n",
       "    .dataframe tbody tr th:only-of-type {\n",
       "        vertical-align: middle;\n",
       "    }\n",
       "\n",
       "    .dataframe tbody tr th {\n",
       "        vertical-align: top;\n",
       "    }\n",
       "\n",
       "    .dataframe thead th {\n",
       "        text-align: right;\n",
       "    }\n",
       "</style>\n",
       "<table border=\"1\" class=\"dataframe\">\n",
       "  <thead>\n",
       "    <tr style=\"text-align: right;\">\n",
       "      <th></th>\n",
       "      <th>Unnamed: 0</th>\n",
       "      <th>facility_id</th>\n",
       "      <th>frs_id</th>\n",
       "      <th>facility_name</th>\n",
       "      <th>city</th>\n",
       "      <th>state</th>\n",
       "      <th>zip_code</th>\n",
       "      <th>address</th>\n",
       "      <th>county</th>\n",
       "      <th>latitude</th>\n",
       "      <th>...</th>\n",
       "      <th>2018</th>\n",
       "      <th>2017</th>\n",
       "      <th>2016</th>\n",
       "      <th>2015</th>\n",
       "      <th>2014</th>\n",
       "      <th>2013</th>\n",
       "      <th>2012</th>\n",
       "      <th>2011</th>\n",
       "      <th>cluster_label</th>\n",
       "      <th>predicted_industry</th>\n",
       "    </tr>\n",
       "  </thead>\n",
       "  <tbody>\n",
       "    <tr>\n",
       "      <th>0</th>\n",
       "      <td>0</td>\n",
       "      <td>1000077</td>\n",
       "      <td>110000774797</td>\n",
       "      <td>REPUBLIC STEEL LACKAWANNA</td>\n",
       "      <td>BLASDELL</td>\n",
       "      <td>NY</td>\n",
       "      <td>14219</td>\n",
       "      <td>S3049 LAKESHORE RD.</td>\n",
       "      <td>ERIE COUNTY</td>\n",
       "      <td>42.80</td>\n",
       "      <td>...</td>\n",
       "      <td>78801.40</td>\n",
       "      <td>76235.01</td>\n",
       "      <td>61447.47</td>\n",
       "      <td>73193.02</td>\n",
       "      <td>77355.81</td>\n",
       "      <td>71702.38</td>\n",
       "      <td>80619.20</td>\n",
       "      <td>72355.73</td>\n",
       "      <td>0</td>\n",
       "      <td>Power Plants</td>\n",
       "    </tr>\n",
       "    <tr>\n",
       "      <th>1</th>\n",
       "      <td>1</td>\n",
       "      <td>1000093</td>\n",
       "      <td>110000324435</td>\n",
       "      <td>Momentive Performance Materials</td>\n",
       "      <td>WATERFORD</td>\n",
       "      <td>NY</td>\n",
       "      <td>12188</td>\n",
       "      <td>260 HUDSON RIVER ROAD</td>\n",
       "      <td>Saratoga</td>\n",
       "      <td>42.82</td>\n",
       "      <td>...</td>\n",
       "      <td>134663.45</td>\n",
       "      <td>131363.56</td>\n",
       "      <td>125491.33</td>\n",
       "      <td>126818.78</td>\n",
       "      <td>127808.87</td>\n",
       "      <td>132095.46</td>\n",
       "      <td>120944.74</td>\n",
       "      <td>142529.89</td>\n",
       "      <td>0</td>\n",
       "      <td>Power Plants</td>\n",
       "    </tr>\n",
       "    <tr>\n",
       "      <th>2</th>\n",
       "      <td>3</td>\n",
       "      <td>1000108</td>\n",
       "      <td>110012158707</td>\n",
       "      <td>North 1st</td>\n",
       "      <td>BROOKLYN</td>\n",
       "      <td>NY</td>\n",
       "      <td>11211</td>\n",
       "      <td>NORTH 1ST &amp; 47-79 RIVER ST</td>\n",
       "      <td>Kings</td>\n",
       "      <td>40.72</td>\n",
       "      <td>...</td>\n",
       "      <td>31069.94</td>\n",
       "      <td>22460.32</td>\n",
       "      <td>26369.45</td>\n",
       "      <td>18559.93</td>\n",
       "      <td>20816.32</td>\n",
       "      <td>26629.45</td>\n",
       "      <td>26775.50</td>\n",
       "      <td>45473.83</td>\n",
       "      <td>0</td>\n",
       "      <td>Power Plants</td>\n",
       "    </tr>\n",
       "    <tr>\n",
       "      <th>3</th>\n",
       "      <td>4</td>\n",
       "      <td>1000111</td>\n",
       "      <td>110012158734</td>\n",
       "      <td>Vernon Boulevard</td>\n",
       "      <td>LONG ISLAND CITY</td>\n",
       "      <td>NY</td>\n",
       "      <td>11427</td>\n",
       "      <td>42 30 VERNON BLVD</td>\n",
       "      <td>Queens</td>\n",
       "      <td>40.75</td>\n",
       "      <td>...</td>\n",
       "      <td>35221.82</td>\n",
       "      <td>28073.30</td>\n",
       "      <td>28262.00</td>\n",
       "      <td>27000.90</td>\n",
       "      <td>26232.55</td>\n",
       "      <td>43133.84</td>\n",
       "      <td>38257.51</td>\n",
       "      <td>44820.68</td>\n",
       "      <td>0</td>\n",
       "      <td>Power Plants</td>\n",
       "    </tr>\n",
       "    <tr>\n",
       "      <th>4</th>\n",
       "      <td>5</td>\n",
       "      <td>1000112</td>\n",
       "      <td>110019827286</td>\n",
       "      <td>23rd and 3rd</td>\n",
       "      <td>BROOKLYN</td>\n",
       "      <td>NY</td>\n",
       "      <td>11232</td>\n",
       "      <td>730 3rd Avenue</td>\n",
       "      <td>Kings</td>\n",
       "      <td>40.66</td>\n",
       "      <td>...</td>\n",
       "      <td>70705.29</td>\n",
       "      <td>52698.66</td>\n",
       "      <td>66797.35</td>\n",
       "      <td>67399.25</td>\n",
       "      <td>40722.20</td>\n",
       "      <td>102599.22</td>\n",
       "      <td>68984.74</td>\n",
       "      <td>100591.83</td>\n",
       "      <td>0</td>\n",
       "      <td>Power Plants</td>\n",
       "    </tr>\n",
       "  </tbody>\n",
       "</table>\n",
       "<p>5 rows × 24 columns</p>\n",
       "</div>"
      ],
      "text/plain": [
       "   Unnamed: 0  facility_id        frs_id                    facility_name  \\\n",
       "0           0      1000077  110000774797        REPUBLIC STEEL LACKAWANNA   \n",
       "1           1      1000093  110000324435  Momentive Performance Materials   \n",
       "2           3      1000108  110012158707                        North 1st   \n",
       "3           4      1000111  110012158734                 Vernon Boulevard   \n",
       "4           5      1000112  110019827286                     23rd and 3rd   \n",
       "\n",
       "               city state  zip_code                     address       county  \\\n",
       "0          BLASDELL    NY     14219         S3049 LAKESHORE RD.  ERIE COUNTY   \n",
       "1         WATERFORD    NY     12188       260 HUDSON RIVER ROAD     Saratoga   \n",
       "2          BROOKLYN    NY     11211  NORTH 1ST & 47-79 RIVER ST        Kings   \n",
       "3  LONG ISLAND CITY    NY     11427           42 30 VERNON BLVD       Queens   \n",
       "4          BROOKLYN    NY     11232              730 3rd Avenue        Kings   \n",
       "\n",
       "   latitude  ...       2018       2017       2016       2015       2014  \\\n",
       "0     42.80  ...   78801.40   76235.01   61447.47   73193.02   77355.81   \n",
       "1     42.82  ...  134663.45  131363.56  125491.33  126818.78  127808.87   \n",
       "2     40.72  ...   31069.94   22460.32   26369.45   18559.93   20816.32   \n",
       "3     40.75  ...   35221.82   28073.30   28262.00   27000.90   26232.55   \n",
       "4     40.66  ...   70705.29   52698.66   66797.35   67399.25   40722.20   \n",
       "\n",
       "        2013       2012       2011  cluster_label  predicted_industry  \n",
       "0   71702.38   80619.20   72355.73              0        Power Plants  \n",
       "1  132095.46  120944.74  142529.89              0        Power Plants  \n",
       "2   26629.45   26775.50   45473.83              0        Power Plants  \n",
       "3   43133.84   38257.51   44820.68              0        Power Plants  \n",
       "4  102599.22   68984.74  100591.83              0        Power Plants  \n",
       "\n",
       "[5 rows x 24 columns]"
      ]
     },
     "execution_count": 221,
     "metadata": {},
     "output_type": "execute_result"
    }
   ],
   "source": [
    "industry_predict = pd.merge(ghg_ny, industry_lookup, on=\"cluster_label\")\n",
    "industry_predict.head()"
   ]
  },
  {
   "cell_type": "code",
   "execution_count": 223,
   "metadata": {},
   "outputs": [
    {
     "name": "stdout",
     "output_type": "stream",
     "text": [
      "The percent accuracy of predicting industry based on 2011 and 2016 pollution levels is: 39.58%\n"
     ]
    }
   ],
   "source": [
    "num_correct = 0\n",
    "for row in range(len(industry_predict)):\n",
    "    if (industry_predict.iloc[row]['industry_sector'] == industry_predict.iloc[row][\"predicted_industry\"]):\n",
    "        num_correct = num_correct + 1\n",
    "accuracy = (num_correct/(len(industry_predict)-35))\n",
    "print(\"The percent accuracy of predicting industry based on 2011 and 2016 pollution levels is: \" + \"{:.2%}\".format(accuracy))"
   ]
  },
  {
   "cell_type": "markdown",
   "metadata": {},
   "source": [
    "After removing the industries that did not fall under Power Plants, Waste, and Other (the top three industries we clustered by), we got a prediction accuracy of 39%. As we saw with the pollution analysis for 2011 vs. 2016, this tells us that there is a relationship between the two variables but it may not be that strong. Including other variables might help lead to a stronger accuracy. "
   ]
  },
  {
   "cell_type": "markdown",
   "metadata": {},
   "source": [
    "# Interpretations and Conclusion"
   ]
  },
  {
   "cell_type": "markdown",
   "metadata": {},
   "source": [
    "Overall, we see a few major trends in the datasets. From 2011 to 2018, we see an overall decrease in the pollution levels, but if we look at just NYC, which has been consistently in the top three polluters in New York state, the greenhouse gas emission levles have been relatively stable throughout the years and do not seem to increase nor decrease. By analyzing the recycling capture rate, we see a statistically significant decrease in the capture rate from 2010 to 2016, which shows a decrease in the efficiency of the recycling process which could either be due to lower engagement with sustainable practices in the general public or due to lower efficiency in the recycling plants themselves. However, this decrease can be attributed to changes in Manhattan as capture rates stay the same in Queens, Brooklyn, and Staten Island, and even increase in the Bronx. Lastly, from the Citibike dataset, we see that there is an increase in the number of bike trips from 2013 to 2018, which could be due to a number of factors including the construction of new drop-off and pick up stations in Queens, the growth of the Citibike program, or an increase in sustainable behavior. "
   ]
  },
  {
   "cell_type": "markdown",
   "metadata": {},
   "source": [
    "When we put all of these trends together, we see that there has been a mixed response to climate change from the general public. From the biking data, we see that the public and individuals are engaging more with sustainable behabiors by using transportation like bikes in place of fossil-fuel-dependent transportation options. However, from the recycling data, we see that perhaps on the government side (the government runs the recycling programs in NYC), that there is a decrease in engagement with sustainable behaviors as pollution decreases. This could be due to economic reasons or due to issues that NYC might be facing. In terms of the overall impact of these sustainable behaviors, in the graph where we compare pollution levels to number of bike trips, we see that even as the number of bike trips increases yearly, the pollution levels are so much greater, even though they are decreasing, that the benefits of sustainable transportation are almost negligible. The number of bikers are enough to offset pollution levels at the scales that we are seeing."
   ]
  },
  {
   "cell_type": "markdown",
   "metadata": {},
   "source": [
    "# Limitations"
   ]
  },
  {
   "cell_type": "markdown",
   "metadata": {},
   "source": [
    "For our research question, we are interested in the relationship between climate change throughout the years and sentiment towards environmental activism and sustainable practices in the general public. This dataset, however, shows pollution levels by specific facilities and industries and not the general public. Because the dataset doesn’t reflect the entire population of who we’re trying to analyze, the trends we find might not be generalizable to the entire public and it might be difficult to bring the dataset of greenhouse gas emissions and recycling and bike usage together exactly. Since this data was collected by the EPA likely to regulate emissions, the emissions over time for each observation might be affected by certain EPA regulations. Another limitation includes the fact that the bike and recycling data is only for New York City and so we are not able to generalize our finding to all of New York State."
   ]
  },
  {
   "cell_type": "markdown",
   "metadata": {},
   "source": [
    "# Sources"
   ]
  },
  {
   "cell_type": "markdown",
   "metadata": {},
   "source": [
    " - https://www.epa.gov/mats/regulatory-actions-final-mercury-and-air-toxics-standards-mats-power-plants\n",
    " - https://www.citibikenyc.com/system-data/operating-reports\n",
    " - https://www.citibikenyc.com/system-data\n",
    " - https://python-graph-gallery.com/11-grouped-barplot/\n",
    " - https://data.world/city-of-ny/gaq9-z3hz\n",
    " - https://data.world/city-of-ny/7vsa-caz7\n",
    " - https://worldpopulationreview.com/boroughs/manhattan-population\n",
    " - https://portal.311.nyc.gov/article/?kanumber=KA-02013"
   ]
  }
 ],
 "metadata": {
  "kernelspec": {
   "display_name": "Python 3",
   "language": "python",
   "name": "python3"
  },
  "language_info": {
   "codemirror_mode": {
    "name": "ipython",
    "version": 3
   },
   "file_extension": ".py",
   "mimetype": "text/x-python",
   "name": "python",
   "nbconvert_exporter": "python",
   "pygments_lexer": "ipython3",
   "version": "3.6.10"
  }
 },
 "nbformat": 4,
 "nbformat_minor": 4
}
