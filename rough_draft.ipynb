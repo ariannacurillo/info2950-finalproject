{
 "cells": [
  {
   "cell_type": "markdown",
   "metadata": {},
   "source": [
    "# Introduction"
   ]
  },
  {
   "cell_type": "markdown",
   "metadata": {},
   "source": [
    "For our project we have decided to dive deep into the issue of climate change and the rise in pollution levels over the past decade. Our generation is already dealing with the negative effects of climate change and it is something that will be an issue that we must deal with for most likely the rest of our lives. While we are aware of how prevalent the climate change issue is in our world, we want to analyze how much climate change has actually become an issue, specifically in New York state where we are both currently students of Cornell University. These issues are ones that weigh heavily on many of our consciences and is something that affects our everyday decisions. In our analysis we want to see if over the years, as pollution levels rise and climate change becomes more rampant, are people making more sustainable choices to fight this reality. We will look at recycling rates and bike usage to quantify these sustainable efforts to help fight the climate change that is occuring. While we know these small individual actions will not completely save the planet, we want to see if there is positive change occuring in our society to fight against our current reality in whatever ways an individual can because small changes can lead to big movements.\n",
    "\n",
    "For our data sources we use a dataset to examine the pollution levels in New York called, ghgp_data_by_year.csv which shows pollution levels across New  York organized by cities, industry sectors, and total emissions by year. The other dataset we have includes recycling rates in New York City where pollution is a major concern which is called recycling-diversion-and-capture-rates.csv which gives us the date, the borough, the recycling diversion rate, and the recycling capture rate for the years of 2010 and 2016. The other datasets we have include bike usage by Citi Bike in New York City. Here we have the date, the borough, and the bike’s usage information such as the birth year, gender, and type of user, and the time duration of the bike rental. For our overall research question, we are interested in how an increase in pollution levels over the last couple decades have affected public sentiment towards environmental activism and sustainable practices. We are interested in better understanding the relationship between climate change throughout the years and sentiment towards environmental activism and sustainable practices such as recycling and bike usage. "
   ]
  },
  {
   "cell_type": "markdown",
   "metadata": {},
   "source": [
    "# Data Description"
   ]
  },
  {
   "cell_type": "markdown",
   "metadata": {},
   "source": [
    "### Pollution dataset\n",
    "For the dataset on greenhouse gas emissions, each observation is of a facility that emits greenhouse gases. The majority of the facilities include power plants and chemical production centers. The attributes for each of these observations include FRS ID, facility name, city, state, zip code, address, county, latitude, longitude, NAICS code, industry subparts, industry sector, and emission for the years 2011 through 2018.  This dataset was created by the Environmental Protection Agency (EPA) in order to monitor greenhouse gas emissions for specific facilities across industries over time. Since the EPA sets environmental regulations, this data was likely collected in order to better understand how much pollution certain facilities contribute to the environment in order to determine a plan for regulating these industries. Given this, each facility likely provides the EPA with this data and is aware of the data collection that is occurring. The raw data can be found on our github page under the csv file that is named ghgp_data_by_year or our cleaned dataset version called ghg_data_ny."
   ]
  },
  {
   "cell_type": "markdown",
   "metadata": {},
   "source": [
    "### Recycling dataset\n",
    "For the dataset on recycling rates in New York City, we have divided the data set into two dividing by the two years present in the dataset including 2010 and 2016. The attributes for this dataset include Zone, District, Fiscal Month Number, Fiscal Year, Month Name, Diversion Rate, and Capture Rate. This dataset was created by \n",
    "The raw data can be found on our github page under the csv file that is named recycling-diversion-and-capture-rates or our cleaned dataset versions called recycling_2010 and recycling_2016."
   ]
  },
  {
   "cell_type": "markdown",
   "metadata": {},
   "source": [
    "### Biking dataset\n",
    "For the dataset on bike usage in New York City, we got our dataset from Citi Bike which has data on bike usage for every month and year since 2013. We have chosen to examine two datasets for the years of 2013 and 2016 to most closely resemble the years for the recycling datasets. The attributes for this dataset include Zone, Start Station Latitude, Start Station Longitude, tripduration, starttime, stoptime, start station id, end station id, end station name, end station latitude, end station longitude, bikeid, usertype, birthyear, and gender . The raw data can be found on our github page under the csv file that is named 201306-citibike-tripdata.csv and 201606-citibike-tripdata.csv or our cleaned samples of the dataset called biking_2013.csv and biking_2016.csv"
   ]
  },
  {
   "cell_type": "markdown",
   "metadata": {},
   "source": [
    "# Pre-Registration Statement"
   ]
  },
  {
   "cell_type": "markdown",
   "metadata": {},
   "source": [
    "For our two analyses we would like to understand how both individuals and local government have been able to carry out and influence sustainable human actions and behaviors over time as pollution levels change. Using our first two datasets, the goal of our first hypothesis test is to understand if a higher percentage of waste is being recycled in New York City over time across multiple districts. By comparing this against our dataset that maps pollution levels for NYC and another for the whole country, we are interested in whether the trends in recycling match that of pollution levels.  We will use a linear regression model with our x input being the pollution levels and seeing if there is a positive correlation with the y output of recycling. We would like to do a similar analysis with the biking and use a linear regression model with our x input in this case also being pollution levels, but this time comparing that with our y output of bike usage and see if there is a positive correlation. This is an appropriate method to address our research question because we want to see if people’s knowledge of a rise in pollution levels (the x variable) affect people’s participation in sustainable practices (recycling and bike usage as the y variables).\n",
    "\n",
    "For our second hypothesis test, we plan on using Citi bike data from NYC since biking is more sustainable than other forms of transportation. We are interested in seeing how pollution levels might correlate with higher uses of the bikes, greater construction of bike routes on the part of the government, and if there are certain correlations between the location of where bike routes are established and the sustainable behaviors of the people. We plan on creating a multivariable Linear Regression model where we will group by the 5 boroughs of NYC and use measures of recycling such as the diversion rate (the percent of total waste that is recycled) and capture rate (the total recyclable waste that is sent to be recycled) as our X inputs to predict the number of bike routes in each area, the Y input. For this model, we’ll also have to create a new dataframe where we join the recycling data and the biking data. This model is appropriate because it will help us see if there is a correlation between how much people are biking and how much they are recycling to understand if people are engaging in environmentally sustainable behaviors. This will help us address our research question as it will help explain the sentiment towards environmental activism and how it varies between the NYC boroughs so that we can provide more context for our previous model which directly compares pollution levels to environmental activism. \n",
    "\n",
    "These two tests will hopefully help us understand if government actions like constructing bike routes might be driving responses (which might lead to higher Citi bike use) to rising pollution levels or if individuals are taking action of their own and are becoming more environmentally conscious (this can be inferred from the recycling data analysis) as they become aware of increasing pollution levels. "
   ]
  },
  {
   "cell_type": "markdown",
   "metadata": {},
   "source": [
    "# Data Analysis"
   ]
  },
  {
   "cell_type": "code",
   "execution_count": 1,
   "metadata": {},
   "outputs": [],
   "source": [
    "import pandas as pd\n",
    "import numpy as np\n",
    "import matplotlib.pyplot as plt\n",
    "from scipy import stats\n",
    "import seaborn as sns\n",
    "from datetime import datetime\n",
    "from sklearn.cluster import KMeans\n",
    "from sklearn.linear_model import LinearRegression\n",
    "from sklearn.linear_model import LogisticRegression\n",
    "from sklearn.model_selection import train_test_split\n",
    "from scipy import stats\n",
    "from scipy.stats import poisson, ttest_ind"
   ]
  },
  {
   "cell_type": "markdown",
   "metadata": {},
   "source": [
    "First we will analyze our pollution dataset and see how much pollution levels have risen over the past few years in New York."
   ]
  },
  {
   "cell_type": "code",
   "execution_count": 5,
   "metadata": {},
   "outputs": [
    {
     "data": {
      "text/html": [
       "<div>\n",
       "<style scoped>\n",
       "    .dataframe tbody tr th:only-of-type {\n",
       "        vertical-align: middle;\n",
       "    }\n",
       "\n",
       "    .dataframe tbody tr th {\n",
       "        vertical-align: top;\n",
       "    }\n",
       "\n",
       "    .dataframe thead th {\n",
       "        text-align: right;\n",
       "    }\n",
       "</style>\n",
       "<table border=\"1\" class=\"dataframe\">\n",
       "  <thead>\n",
       "    <tr style=\"text-align: right;\">\n",
       "      <th></th>\n",
       "      <th>Unnamed: 0</th>\n",
       "      <th>facility_id</th>\n",
       "      <th>frs_id</th>\n",
       "      <th>facility_name</th>\n",
       "      <th>city</th>\n",
       "      <th>state</th>\n",
       "      <th>zip_code</th>\n",
       "      <th>address</th>\n",
       "      <th>county</th>\n",
       "      <th>latitude</th>\n",
       "      <th>...</th>\n",
       "      <th>industy_subparts</th>\n",
       "      <th>industry_sector</th>\n",
       "      <th>2018</th>\n",
       "      <th>2017</th>\n",
       "      <th>2016</th>\n",
       "      <th>2015</th>\n",
       "      <th>2014</th>\n",
       "      <th>2013</th>\n",
       "      <th>2012</th>\n",
       "      <th>2011</th>\n",
       "    </tr>\n",
       "  </thead>\n",
       "  <tbody>\n",
       "    <tr>\n",
       "      <th>0</th>\n",
       "      <td>0</td>\n",
       "      <td>1000077</td>\n",
       "      <td>110000774797</td>\n",
       "      <td>REPUBLIC STEEL LACKAWANNA</td>\n",
       "      <td>BLASDELL</td>\n",
       "      <td>NY</td>\n",
       "      <td>14219</td>\n",
       "      <td>S3049 LAKESHORE RD.</td>\n",
       "      <td>ERIE COUNTY</td>\n",
       "      <td>42.80</td>\n",
       "      <td>...</td>\n",
       "      <td>C</td>\n",
       "      <td>Metals</td>\n",
       "      <td>78801.40</td>\n",
       "      <td>76235.01</td>\n",
       "      <td>61447.47</td>\n",
       "      <td>73193.02</td>\n",
       "      <td>77355.81</td>\n",
       "      <td>71702.38</td>\n",
       "      <td>80619.20</td>\n",
       "      <td>72355.73</td>\n",
       "    </tr>\n",
       "    <tr>\n",
       "      <th>1</th>\n",
       "      <td>1</td>\n",
       "      <td>1000093</td>\n",
       "      <td>110000324435</td>\n",
       "      <td>Momentive Performance Materials</td>\n",
       "      <td>WATERFORD</td>\n",
       "      <td>NY</td>\n",
       "      <td>12188</td>\n",
       "      <td>260 HUDSON RIVER ROAD</td>\n",
       "      <td>Saratoga</td>\n",
       "      <td>42.82</td>\n",
       "      <td>...</td>\n",
       "      <td>CTT</td>\n",
       "      <td>OtherWaste</td>\n",
       "      <td>134663.45</td>\n",
       "      <td>131363.56</td>\n",
       "      <td>125491.33</td>\n",
       "      <td>126818.78</td>\n",
       "      <td>127808.87</td>\n",
       "      <td>132095.46</td>\n",
       "      <td>120944.74</td>\n",
       "      <td>142529.89</td>\n",
       "    </tr>\n",
       "    <tr>\n",
       "      <th>2</th>\n",
       "      <td>2</td>\n",
       "      <td>1000101</td>\n",
       "      <td>110019468057</td>\n",
       "      <td>Athens Generating Company</td>\n",
       "      <td>ATHENS</td>\n",
       "      <td>NY</td>\n",
       "      <td>12015</td>\n",
       "      <td>9300 U S HIGHWAY 9W</td>\n",
       "      <td>Greene</td>\n",
       "      <td>42.27</td>\n",
       "      <td>...</td>\n",
       "      <td>D</td>\n",
       "      <td>Power Plants</td>\n",
       "      <td>1381328.03</td>\n",
       "      <td>1487213.14</td>\n",
       "      <td>1514867.54</td>\n",
       "      <td>1285191.24</td>\n",
       "      <td>1026373.20</td>\n",
       "      <td>1376177.50</td>\n",
       "      <td>2133936.99</td>\n",
       "      <td>1566947.61</td>\n",
       "    </tr>\n",
       "    <tr>\n",
       "      <th>3</th>\n",
       "      <td>3</td>\n",
       "      <td>1000108</td>\n",
       "      <td>110012158707</td>\n",
       "      <td>North 1st</td>\n",
       "      <td>BROOKLYN</td>\n",
       "      <td>NY</td>\n",
       "      <td>11211</td>\n",
       "      <td>NORTH 1ST &amp; 47-79 RIVER ST</td>\n",
       "      <td>Kings</td>\n",
       "      <td>40.72</td>\n",
       "      <td>...</td>\n",
       "      <td>CD</td>\n",
       "      <td>Power Plants</td>\n",
       "      <td>31069.94</td>\n",
       "      <td>22460.32</td>\n",
       "      <td>26369.45</td>\n",
       "      <td>18559.93</td>\n",
       "      <td>20816.32</td>\n",
       "      <td>26629.45</td>\n",
       "      <td>26775.50</td>\n",
       "      <td>45473.83</td>\n",
       "    </tr>\n",
       "    <tr>\n",
       "      <th>4</th>\n",
       "      <td>4</td>\n",
       "      <td>1000111</td>\n",
       "      <td>110012158734</td>\n",
       "      <td>Vernon Boulevard</td>\n",
       "      <td>LONG ISLAND CITY</td>\n",
       "      <td>NY</td>\n",
       "      <td>11427</td>\n",
       "      <td>42 30 VERNON BLVD</td>\n",
       "      <td>Queens</td>\n",
       "      <td>40.75</td>\n",
       "      <td>...</td>\n",
       "      <td>CD</td>\n",
       "      <td>Power Plants</td>\n",
       "      <td>35221.82</td>\n",
       "      <td>28073.30</td>\n",
       "      <td>28262.00</td>\n",
       "      <td>27000.90</td>\n",
       "      <td>26232.55</td>\n",
       "      <td>43133.84</td>\n",
       "      <td>38257.51</td>\n",
       "      <td>44820.68</td>\n",
       "    </tr>\n",
       "  </tbody>\n",
       "</table>\n",
       "<p>5 rows × 22 columns</p>\n",
       "</div>"
      ],
      "text/plain": [
       "   Unnamed: 0  facility_id        frs_id                    facility_name  \\\n",
       "0           0      1000077  110000774797        REPUBLIC STEEL LACKAWANNA   \n",
       "1           1      1000093  110000324435  Momentive Performance Materials   \n",
       "2           2      1000101  110019468057        Athens Generating Company   \n",
       "3           3      1000108  110012158707                        North 1st   \n",
       "4           4      1000111  110012158734                 Vernon Boulevard   \n",
       "\n",
       "               city state  zip_code                     address       county  \\\n",
       "0          BLASDELL    NY     14219         S3049 LAKESHORE RD.  ERIE COUNTY   \n",
       "1         WATERFORD    NY     12188       260 HUDSON RIVER ROAD     Saratoga   \n",
       "2            ATHENS    NY     12015         9300 U S HIGHWAY 9W       Greene   \n",
       "3          BROOKLYN    NY     11211  NORTH 1ST & 47-79 RIVER ST        Kings   \n",
       "4  LONG ISLAND CITY    NY     11427           42 30 VERNON BLVD       Queens   \n",
       "\n",
       "   latitude  ...  industy_subparts  industry_sector        2018        2017  \\\n",
       "0     42.80  ...                 C           Metals    78801.40    76235.01   \n",
       "1     42.82  ...               CTT       OtherWaste   134663.45   131363.56   \n",
       "2     42.27  ...                 D     Power Plants  1381328.03  1487213.14   \n",
       "3     40.72  ...                CD     Power Plants    31069.94    22460.32   \n",
       "4     40.75  ...                CD     Power Plants    35221.82    28073.30   \n",
       "\n",
       "         2016        2015        2014        2013        2012        2011  \n",
       "0    61447.47    73193.02    77355.81    71702.38    80619.20    72355.73  \n",
       "1   125491.33   126818.78   127808.87   132095.46   120944.74   142529.89  \n",
       "2  1514867.54  1285191.24  1026373.20  1376177.50  2133936.99  1566947.61  \n",
       "3    26369.45    18559.93    20816.32    26629.45    26775.50    45473.83  \n",
       "4    28262.00    27000.90    26232.55    43133.84    38257.51    44820.68  \n",
       "\n",
       "[5 rows x 22 columns]"
      ]
     },
     "execution_count": 5,
     "metadata": {},
     "output_type": "execute_result"
    }
   ],
   "source": [
    "ghg_ny = pd.read_csv('ghg_ny.csv')\n",
    "ghg_ny.head()"
   ]
  },
  {
   "cell_type": "code",
   "execution_count": 6,
   "metadata": {},
   "outputs": [
    {
     "data": {
      "image/png": "[encoded data removed]",
      "text/plain": [
       "<Figure size 432x288 with 1 Axes>"
      ]
     },
     "metadata": {
      "needs_background": "light"
     },
     "output_type": "display_data"
    }
   ],
   "source": [
    "sns.regplot(x=\"2011\", y=\"2016\", data=ghg_ny)\n",
    "plt.xlabel(\"Pollution Levels in 2011\")\n",
    "plt.ylabel(\"Pollution Levels in 2016\")\n",
    "plt.show()"
   ]
  },
  {
   "cell_type": "code",
   "execution_count": 7,
   "metadata": {},
   "outputs": [
    {
     "data": {
      "image/png": "[encoded data removed]",
      "text/plain": [
       "<Figure size 576.25x360 with 1 Axes>"
      ]
     },
     "metadata": {
      "needs_background": "light"
     },
     "output_type": "display_data"
    }
   ],
   "source": [
    "sns.relplot(x=\"2011\", y=\"2016\", hue=\"industry_sector\", data=ghg_ny)\n",
    "plt.xlabel(\"Pollution Levels in 2011\")\n",
    "plt.ylabel(\"Pollution Levels in 2016\")\n",
    "plt.show()"
   ]
  },
  {
   "cell_type": "code",
   "execution_count": 8,
   "metadata": {},
   "outputs": [
    {
     "data": {
      "text/plain": [
       "Power Plants                         76\n",
       "Waste                                36\n",
       "Other                                32\n",
       "Minerals                              9\n",
       "Petroleum and Natural Gas Systems     7\n",
       "Metals                                6\n",
       "Pulp and Paper                        5\n",
       "OtherSuppliers of CO2                 2\n",
       "Chemicals                             2\n",
       "MetalsWaste                           1\n",
       "Pulp and PaperWaste                   1\n",
       "OtherSuppliers of CO2Waste            1\n",
       "OtherWaste                            1\n",
       "Name: industry_sector, dtype: int64"
      ]
     },
     "execution_count": 8,
     "metadata": {},
     "output_type": "execute_result"
    }
   ],
   "source": [
    "ghg_ny[\"industry_sector\"].value_counts()"
   ]
  },
  {
   "cell_type": "code",
   "execution_count": 9,
   "metadata": {},
   "outputs": [
    {
     "data": {
      "text/plain": [
       "array([[  87235.63477987,   81408.68408805],\n",
       "       [1961293.7075    , 1737516.9175    ],\n",
       "       [1085828.21666667,  620179.6375    ]])"
      ]
     },
     "execution_count": 9,
     "metadata": {},
     "output_type": "execute_result"
    }
   ],
   "source": [
    "## initialize a KMeans object\n",
    "clustering = KMeans(n_clusters = 3, random_state = 15)\n",
    "\n",
    "## perform the KMeans algorithm on the penguins_clean bill and flipper length data\n",
    "clustering.fit(ghg_ny[[\"2011\", \"2018\"]])\n",
    "\n",
    "##finding the cluster centers\n",
    "clustering.cluster_centers_"
   ]
  },
  {
   "cell_type": "code",
   "execution_count": 10,
   "metadata": {},
   "outputs": [
    {
     "data": {
      "text/html": [
       "<div>\n",
       "<style scoped>\n",
       "    .dataframe tbody tr th:only-of-type {\n",
       "        vertical-align: middle;\n",
       "    }\n",
       "\n",
       "    .dataframe tbody tr th {\n",
       "        vertical-align: top;\n",
       "    }\n",
       "\n",
       "    .dataframe thead th {\n",
       "        text-align: right;\n",
       "    }\n",
       "</style>\n",
       "<table border=\"1\" class=\"dataframe\">\n",
       "  <thead>\n",
       "    <tr style=\"text-align: right;\">\n",
       "      <th></th>\n",
       "      <th>Unnamed: 0</th>\n",
       "      <th>facility_id</th>\n",
       "      <th>frs_id</th>\n",
       "      <th>zip_code</th>\n",
       "      <th>latitude</th>\n",
       "      <th>longitude</th>\n",
       "      <th>naics_code</th>\n",
       "      <th>2018</th>\n",
       "      <th>2017</th>\n",
       "      <th>2016</th>\n",
       "      <th>2015</th>\n",
       "      <th>2014</th>\n",
       "      <th>2013</th>\n",
       "      <th>2012</th>\n",
       "      <th>2011</th>\n",
       "    </tr>\n",
       "  </thead>\n",
       "  <tbody>\n",
       "    <tr>\n",
       "      <th>count</th>\n",
       "      <td>179.000000</td>\n",
       "      <td>1.790000e+02</td>\n",
       "      <td>1.790000e+02</td>\n",
       "      <td>179.000000</td>\n",
       "      <td>179.000000</td>\n",
       "      <td>179.000000</td>\n",
       "      <td>179.000000</td>\n",
       "      <td>1.790000e+02</td>\n",
       "      <td>1.790000e+02</td>\n",
       "      <td>1.790000e+02</td>\n",
       "      <td>1.790000e+02</td>\n",
       "      <td>1.790000e+02</td>\n",
       "      <td>1.790000e+02</td>\n",
       "      <td>1.790000e+02</td>\n",
       "      <td>1.790000e+02</td>\n",
       "    </tr>\n",
       "    <tr>\n",
       "      <th>mean</th>\n",
       "      <td>89.000000</td>\n",
       "      <td>1.003555e+06</td>\n",
       "      <td>1.100140e+11</td>\n",
       "      <td>12451.111732</td>\n",
       "      <td>42.093296</td>\n",
       "      <td>-75.122123</td>\n",
       "      <td>375564.335196</td>\n",
       "      <td>1.915434e+05</td>\n",
       "      <td>1.777880e+05</td>\n",
       "      <td>2.070736e+05</td>\n",
       "      <td>2.232306e+05</td>\n",
       "      <td>2.233996e+05</td>\n",
       "      <td>2.193868e+05</td>\n",
       "      <td>2.355143e+05</td>\n",
       "      <td>2.379372e+05</td>\n",
       "    </tr>\n",
       "    <tr>\n",
       "      <th>std</th>\n",
       "      <td>51.816986</td>\n",
       "      <td>2.837565e+03</td>\n",
       "      <td>1.773127e+07</td>\n",
       "      <td>1431.822975</td>\n",
       "      <td>1.196583</td>\n",
       "      <td>1.883042</td>\n",
       "      <td>169157.430534</td>\n",
       "      <td>4.008765e+05</td>\n",
       "      <td>3.672045e+05</td>\n",
       "      <td>4.352217e+05</td>\n",
       "      <td>4.522830e+05</td>\n",
       "      <td>4.422304e+05</td>\n",
       "      <td>4.238308e+05</td>\n",
       "      <td>4.724936e+05</td>\n",
       "      <td>4.838693e+05</td>\n",
       "    </tr>\n",
       "    <tr>\n",
       "      <th>min</th>\n",
       "      <td>0.000000</td>\n",
       "      <td>1.000077e+06</td>\n",
       "      <td>1.100003e+11</td>\n",
       "      <td>10009.000000</td>\n",
       "      <td>40.560000</td>\n",
       "      <td>-79.350000</td>\n",
       "      <td>221112.000000</td>\n",
       "      <td>3.240500e+02</td>\n",
       "      <td>1.090000e+01</td>\n",
       "      <td>2.000000e-01</td>\n",
       "      <td>0.000000e+00</td>\n",
       "      <td>0.000000e+00</td>\n",
       "      <td>0.000000e+00</td>\n",
       "      <td>0.000000e+00</td>\n",
       "      <td>9.810000e+01</td>\n",
       "    </tr>\n",
       "    <tr>\n",
       "      <th>25%</th>\n",
       "      <td>44.500000</td>\n",
       "      <td>1.001194e+06</td>\n",
       "      <td>1.100008e+11</td>\n",
       "      <td>11235.500000</td>\n",
       "      <td>40.810000</td>\n",
       "      <td>-76.490000</td>\n",
       "      <td>221112.000000</td>\n",
       "      <td>3.103041e+04</td>\n",
       "      <td>2.838040e+04</td>\n",
       "      <td>3.090339e+04</td>\n",
       "      <td>3.199285e+04</td>\n",
       "      <td>3.056397e+04</td>\n",
       "      <td>3.260268e+04</td>\n",
       "      <td>3.516281e+04</td>\n",
       "      <td>3.573856e+04</td>\n",
       "    </tr>\n",
       "    <tr>\n",
       "      <th>50%</th>\n",
       "      <td>89.000000</td>\n",
       "      <td>1.002843e+06</td>\n",
       "      <td>1.100072e+11</td>\n",
       "      <td>12188.000000</td>\n",
       "      <td>42.290000</td>\n",
       "      <td>-74.000000</td>\n",
       "      <td>325211.000000</td>\n",
       "      <td>6.236400e+04</td>\n",
       "      <td>5.526479e+04</td>\n",
       "      <td>6.144747e+04</td>\n",
       "      <td>6.907765e+04</td>\n",
       "      <td>7.016813e+04</td>\n",
       "      <td>6.718341e+04</td>\n",
       "      <td>6.539170e+04</td>\n",
       "      <td>6.747830e+04</td>\n",
       "    </tr>\n",
       "    <tr>\n",
       "      <th>75%</th>\n",
       "      <td>133.500000</td>\n",
       "      <td>1.005860e+06</td>\n",
       "      <td>1.100197e+11</td>\n",
       "      <td>13665.500000</td>\n",
       "      <td>43.035000</td>\n",
       "      <td>-73.775000</td>\n",
       "      <td>562212.000000</td>\n",
       "      <td>1.252133e+05</td>\n",
       "      <td>1.330378e+05</td>\n",
       "      <td>1.397206e+05</td>\n",
       "      <td>1.507080e+05</td>\n",
       "      <td>1.535405e+05</td>\n",
       "      <td>1.470076e+05</td>\n",
       "      <td>1.479933e+05</td>\n",
       "      <td>1.519051e+05</td>\n",
       "    </tr>\n",
       "    <tr>\n",
       "      <th>max</th>\n",
       "      <td>178.000000</td>\n",
       "      <td>1.011742e+06</td>\n",
       "      <td>1.100701e+11</td>\n",
       "      <td>14903.000000</td>\n",
       "      <td>44.990000</td>\n",
       "      <td>-72.870000</td>\n",
       "      <td>928110.000000</td>\n",
       "      <td>2.584176e+06</td>\n",
       "      <td>2.311840e+06</td>\n",
       "      <td>2.865681e+06</td>\n",
       "      <td>2.643762e+06</td>\n",
       "      <td>2.570292e+06</td>\n",
       "      <td>2.274036e+06</td>\n",
       "      <td>2.585287e+06</td>\n",
       "      <td>3.449007e+06</td>\n",
       "    </tr>\n",
       "  </tbody>\n",
       "</table>\n",
       "</div>"
      ],
      "text/plain": [
       "       Unnamed: 0   facility_id        frs_id      zip_code    latitude  \\\n",
       "count  179.000000  1.790000e+02  1.790000e+02    179.000000  179.000000   \n",
       "mean    89.000000  1.003555e+06  1.100140e+11  12451.111732   42.093296   \n",
       "std     51.816986  2.837565e+03  1.773127e+07   1431.822975    1.196583   \n",
       "min      0.000000  1.000077e+06  1.100003e+11  10009.000000   40.560000   \n",
       "25%     44.500000  1.001194e+06  1.100008e+11  11235.500000   40.810000   \n",
       "50%     89.000000  1.002843e+06  1.100072e+11  12188.000000   42.290000   \n",
       "75%    133.500000  1.005860e+06  1.100197e+11  13665.500000   43.035000   \n",
       "max    178.000000  1.011742e+06  1.100701e+11  14903.000000   44.990000   \n",
       "\n",
       "        longitude     naics_code          2018          2017          2016  \\\n",
       "count  179.000000     179.000000  1.790000e+02  1.790000e+02  1.790000e+02   \n",
       "mean   -75.122123  375564.335196  1.915434e+05  1.777880e+05  2.070736e+05   \n",
       "std      1.883042  169157.430534  4.008765e+05  3.672045e+05  4.352217e+05   \n",
       "min    -79.350000  221112.000000  3.240500e+02  1.090000e+01  2.000000e-01   \n",
       "25%    -76.490000  221112.000000  3.103041e+04  2.838040e+04  3.090339e+04   \n",
       "50%    -74.000000  325211.000000  6.236400e+04  5.526479e+04  6.144747e+04   \n",
       "75%    -73.775000  562212.000000  1.252133e+05  1.330378e+05  1.397206e+05   \n",
       "max    -72.870000  928110.000000  2.584176e+06  2.311840e+06  2.865681e+06   \n",
       "\n",
       "               2015          2014          2013          2012          2011  \n",
       "count  1.790000e+02  1.790000e+02  1.790000e+02  1.790000e+02  1.790000e+02  \n",
       "mean   2.232306e+05  2.233996e+05  2.193868e+05  2.355143e+05  2.379372e+05  \n",
       "std    4.522830e+05  4.422304e+05  4.238308e+05  4.724936e+05  4.838693e+05  \n",
       "min    0.000000e+00  0.000000e+00  0.000000e+00  0.000000e+00  9.810000e+01  \n",
       "25%    3.199285e+04  3.056397e+04  3.260268e+04  3.516281e+04  3.573856e+04  \n",
       "50%    6.907765e+04  7.016813e+04  6.718341e+04  6.539170e+04  6.747830e+04  \n",
       "75%    1.507080e+05  1.535405e+05  1.470076e+05  1.479933e+05  1.519051e+05  \n",
       "max    2.643762e+06  2.570292e+06  2.274036e+06  2.585287e+06  3.449007e+06  "
      ]
     },
     "execution_count": 10,
     "metadata": {},
     "output_type": "execute_result"
    }
   ],
   "source": [
    "ghg_ny.describe()"
   ]
  },
  {
   "cell_type": "code",
   "execution_count": 11,
   "metadata": {},
   "outputs": [
    {
     "data": {
      "text/html": [
       "<div>\n",
       "<style scoped>\n",
       "    .dataframe tbody tr th:only-of-type {\n",
       "        vertical-align: middle;\n",
       "    }\n",
       "\n",
       "    .dataframe tbody tr th {\n",
       "        vertical-align: top;\n",
       "    }\n",
       "\n",
       "    .dataframe thead th {\n",
       "        text-align: right;\n",
       "    }\n",
       "</style>\n",
       "<table border=\"1\" class=\"dataframe\">\n",
       "  <thead>\n",
       "    <tr style=\"text-align: right;\">\n",
       "      <th></th>\n",
       "      <th>Unnamed: 0</th>\n",
       "      <th>facility_id</th>\n",
       "      <th>frs_id</th>\n",
       "      <th>facility_name</th>\n",
       "      <th>city</th>\n",
       "      <th>state</th>\n",
       "      <th>zip_code</th>\n",
       "      <th>address</th>\n",
       "      <th>county</th>\n",
       "      <th>latitude</th>\n",
       "      <th>...</th>\n",
       "      <th>industry_sector</th>\n",
       "      <th>2018</th>\n",
       "      <th>2017</th>\n",
       "      <th>2016</th>\n",
       "      <th>2015</th>\n",
       "      <th>2014</th>\n",
       "      <th>2013</th>\n",
       "      <th>2012</th>\n",
       "      <th>2011</th>\n",
       "      <th>cluster_label</th>\n",
       "    </tr>\n",
       "  </thead>\n",
       "  <tbody>\n",
       "    <tr>\n",
       "      <th>0</th>\n",
       "      <td>0</td>\n",
       "      <td>1000077</td>\n",
       "      <td>110000774797</td>\n",
       "      <td>REPUBLIC STEEL LACKAWANNA</td>\n",
       "      <td>BLASDELL</td>\n",
       "      <td>NY</td>\n",
       "      <td>14219</td>\n",
       "      <td>S3049 LAKESHORE RD.</td>\n",
       "      <td>ERIE COUNTY</td>\n",
       "      <td>42.80</td>\n",
       "      <td>...</td>\n",
       "      <td>Metals</td>\n",
       "      <td>78801.40</td>\n",
       "      <td>76235.01</td>\n",
       "      <td>61447.47</td>\n",
       "      <td>73193.02</td>\n",
       "      <td>77355.81</td>\n",
       "      <td>71702.38</td>\n",
       "      <td>80619.20</td>\n",
       "      <td>72355.73</td>\n",
       "      <td>0</td>\n",
       "    </tr>\n",
       "    <tr>\n",
       "      <th>1</th>\n",
       "      <td>1</td>\n",
       "      <td>1000093</td>\n",
       "      <td>110000324435</td>\n",
       "      <td>Momentive Performance Materials</td>\n",
       "      <td>WATERFORD</td>\n",
       "      <td>NY</td>\n",
       "      <td>12188</td>\n",
       "      <td>260 HUDSON RIVER ROAD</td>\n",
       "      <td>Saratoga</td>\n",
       "      <td>42.82</td>\n",
       "      <td>...</td>\n",
       "      <td>OtherWaste</td>\n",
       "      <td>134663.45</td>\n",
       "      <td>131363.56</td>\n",
       "      <td>125491.33</td>\n",
       "      <td>126818.78</td>\n",
       "      <td>127808.87</td>\n",
       "      <td>132095.46</td>\n",
       "      <td>120944.74</td>\n",
       "      <td>142529.89</td>\n",
       "      <td>0</td>\n",
       "    </tr>\n",
       "    <tr>\n",
       "      <th>2</th>\n",
       "      <td>2</td>\n",
       "      <td>1000101</td>\n",
       "      <td>110019468057</td>\n",
       "      <td>Athens Generating Company</td>\n",
       "      <td>ATHENS</td>\n",
       "      <td>NY</td>\n",
       "      <td>12015</td>\n",
       "      <td>9300 U S HIGHWAY 9W</td>\n",
       "      <td>Greene</td>\n",
       "      <td>42.27</td>\n",
       "      <td>...</td>\n",
       "      <td>Power Plants</td>\n",
       "      <td>1381328.03</td>\n",
       "      <td>1487213.14</td>\n",
       "      <td>1514867.54</td>\n",
       "      <td>1285191.24</td>\n",
       "      <td>1026373.20</td>\n",
       "      <td>1376177.50</td>\n",
       "      <td>2133936.99</td>\n",
       "      <td>1566947.61</td>\n",
       "      <td>1</td>\n",
       "    </tr>\n",
       "    <tr>\n",
       "      <th>3</th>\n",
       "      <td>3</td>\n",
       "      <td>1000108</td>\n",
       "      <td>110012158707</td>\n",
       "      <td>North 1st</td>\n",
       "      <td>BROOKLYN</td>\n",
       "      <td>NY</td>\n",
       "      <td>11211</td>\n",
       "      <td>NORTH 1ST &amp; 47-79 RIVER ST</td>\n",
       "      <td>Kings</td>\n",
       "      <td>40.72</td>\n",
       "      <td>...</td>\n",
       "      <td>Power Plants</td>\n",
       "      <td>31069.94</td>\n",
       "      <td>22460.32</td>\n",
       "      <td>26369.45</td>\n",
       "      <td>18559.93</td>\n",
       "      <td>20816.32</td>\n",
       "      <td>26629.45</td>\n",
       "      <td>26775.50</td>\n",
       "      <td>45473.83</td>\n",
       "      <td>0</td>\n",
       "    </tr>\n",
       "    <tr>\n",
       "      <th>4</th>\n",
       "      <td>4</td>\n",
       "      <td>1000111</td>\n",
       "      <td>110012158734</td>\n",
       "      <td>Vernon Boulevard</td>\n",
       "      <td>LONG ISLAND CITY</td>\n",
       "      <td>NY</td>\n",
       "      <td>11427</td>\n",
       "      <td>42 30 VERNON BLVD</td>\n",
       "      <td>Queens</td>\n",
       "      <td>40.75</td>\n",
       "      <td>...</td>\n",
       "      <td>Power Plants</td>\n",
       "      <td>35221.82</td>\n",
       "      <td>28073.30</td>\n",
       "      <td>28262.00</td>\n",
       "      <td>27000.90</td>\n",
       "      <td>26232.55</td>\n",
       "      <td>43133.84</td>\n",
       "      <td>38257.51</td>\n",
       "      <td>44820.68</td>\n",
       "      <td>0</td>\n",
       "    </tr>\n",
       "  </tbody>\n",
       "</table>\n",
       "<p>5 rows × 23 columns</p>\n",
       "</div>"
      ],
      "text/plain": [
       "   Unnamed: 0  facility_id        frs_id                    facility_name  \\\n",
       "0           0      1000077  110000774797        REPUBLIC STEEL LACKAWANNA   \n",
       "1           1      1000093  110000324435  Momentive Performance Materials   \n",
       "2           2      1000101  110019468057        Athens Generating Company   \n",
       "3           3      1000108  110012158707                        North 1st   \n",
       "4           4      1000111  110012158734                 Vernon Boulevard   \n",
       "\n",
       "               city state  zip_code                     address       county  \\\n",
       "0          BLASDELL    NY     14219         S3049 LAKESHORE RD.  ERIE COUNTY   \n",
       "1         WATERFORD    NY     12188       260 HUDSON RIVER ROAD     Saratoga   \n",
       "2            ATHENS    NY     12015         9300 U S HIGHWAY 9W       Greene   \n",
       "3          BROOKLYN    NY     11211  NORTH 1ST & 47-79 RIVER ST        Kings   \n",
       "4  LONG ISLAND CITY    NY     11427           42 30 VERNON BLVD       Queens   \n",
       "\n",
       "   latitude  ...  industry_sector        2018        2017        2016  \\\n",
       "0     42.80  ...           Metals    78801.40    76235.01    61447.47   \n",
       "1     42.82  ...       OtherWaste   134663.45   131363.56   125491.33   \n",
       "2     42.27  ...     Power Plants  1381328.03  1487213.14  1514867.54   \n",
       "3     40.72  ...     Power Plants    31069.94    22460.32    26369.45   \n",
       "4     40.75  ...     Power Plants    35221.82    28073.30    28262.00   \n",
       "\n",
       "         2015        2014        2013        2012        2011  cluster_label  \n",
       "0    73193.02    77355.81    71702.38    80619.20    72355.73              0  \n",
       "1   126818.78   127808.87   132095.46   120944.74   142529.89              0  \n",
       "2  1285191.24  1026373.20  1376177.50  2133936.99  1566947.61              1  \n",
       "3    18559.93    20816.32    26629.45    26775.50    45473.83              0  \n",
       "4    27000.90    26232.55    43133.84    38257.51    44820.68              0  \n",
       "\n",
       "[5 rows x 23 columns]"
      ]
     },
     "execution_count": 11,
     "metadata": {},
     "output_type": "execute_result"
    }
   ],
   "source": [
    "cluster_labels = clustering.labels_\n",
    "cluster_labels[0:5]\n",
    "ghg_ny['cluster_label'] = cluster_labels\n",
    "ghg_ny.head()"
   ]
  },
  {
   "cell_type": "code",
   "execution_count": 12,
   "metadata": {},
   "outputs": [
    {
     "data": {
      "image/png": "[encoded data removed]",
      "text/plain": [
       "<Figure size 576.25x360 with 1 Axes>"
      ]
     },
     "metadata": {
      "needs_background": "light"
     },
     "output_type": "display_data"
    }
   ],
   "source": [
    "sns.relplot(x=\"2011\", y=\"2016\", hue=\"industry_sector\", style=\"cluster_label\", data=ghg_ny)\n",
    "plt.xlabel(\"Pollution Levels in 2011\")\n",
    "plt.ylabel(\"Pollution Levels in 2016\")\n",
    "plt.show()"
   ]
  },
  {
   "cell_type": "code",
   "execution_count": 13,
   "metadata": {},
   "outputs": [
    {
     "data": {
      "text/html": [
       "<div>\n",
       "<style scoped>\n",
       "    .dataframe tbody tr th:only-of-type {\n",
       "        vertical-align: middle;\n",
       "    }\n",
       "\n",
       "    .dataframe tbody tr th {\n",
       "        vertical-align: top;\n",
       "    }\n",
       "\n",
       "    .dataframe thead th {\n",
       "        text-align: right;\n",
       "    }\n",
       "</style>\n",
       "<table border=\"1\" class=\"dataframe\">\n",
       "  <thead>\n",
       "    <tr style=\"text-align: right;\">\n",
       "      <th></th>\n",
       "      <th>counts_2012</th>\n",
       "      <th>counts_2011</th>\n",
       "      <th>counts_2013</th>\n",
       "      <th>counts_2014</th>\n",
       "      <th>counts_2015</th>\n",
       "      <th>counts_2016</th>\n",
       "      <th>counts_2017</th>\n",
       "      <th>counts_2018</th>\n",
       "    </tr>\n",
       "    <tr>\n",
       "      <th>city</th>\n",
       "      <th></th>\n",
       "      <th></th>\n",
       "      <th></th>\n",
       "      <th></th>\n",
       "      <th></th>\n",
       "      <th></th>\n",
       "      <th></th>\n",
       "      <th></th>\n",
       "    </tr>\n",
       "  </thead>\n",
       "  <tbody>\n",
       "    <tr>\n",
       "      <th>ASTORIA</th>\n",
       "      <td>4764387.02</td>\n",
       "      <td>4042716.00</td>\n",
       "      <td>4380823.02</td>\n",
       "      <td>4675385.27</td>\n",
       "      <td>4466886.67</td>\n",
       "      <td>4155855.99</td>\n",
       "      <td>3778604.39</td>\n",
       "      <td>4217072.28</td>\n",
       "    </tr>\n",
       "    <tr>\n",
       "      <th>NEW YORK</th>\n",
       "      <td>2622599.36</td>\n",
       "      <td>2735569.11</td>\n",
       "      <td>2803733.68</td>\n",
       "      <td>2662647.29</td>\n",
       "      <td>2675021.50</td>\n",
       "      <td>2643367.57</td>\n",
       "      <td>2610288.32</td>\n",
       "      <td>2682403.80</td>\n",
       "    </tr>\n",
       "    <tr>\n",
       "      <th>OSWEGO</th>\n",
       "      <td>2422483.93</td>\n",
       "      <td>1500633.06</td>\n",
       "      <td>2346473.42</td>\n",
       "      <td>2683641.65</td>\n",
       "      <td>2847435.29</td>\n",
       "      <td>2086964.18</td>\n",
       "      <td>1941340.78</td>\n",
       "      <td>2319907.68</td>\n",
       "    </tr>\n",
       "  </tbody>\n",
       "</table>\n",
       "</div>"
      ],
      "text/plain": [
       "          counts_2012  counts_2011  counts_2013  counts_2014  counts_2015  \\\n",
       "city                                                                        \n",
       "ASTORIA    4764387.02   4042716.00   4380823.02   4675385.27   4466886.67   \n",
       "NEW YORK   2622599.36   2735569.11   2803733.68   2662647.29   2675021.50   \n",
       "OSWEGO     2422483.93   1500633.06   2346473.42   2683641.65   2847435.29   \n",
       "\n",
       "          counts_2016  counts_2017  counts_2018  \n",
       "city                                             \n",
       "ASTORIA    4155855.99   3778604.39   4217072.28  \n",
       "NEW YORK   2643367.57   2610288.32   2682403.80  \n",
       "OSWEGO     2086964.18   1941340.78   2319907.68  "
      ]
     },
     "execution_count": 13,
     "metadata": {},
     "output_type": "execute_result"
    }
   ],
   "source": [
    "top_pollutors = pd.DataFrame()\n",
    "top_pollutors[\"counts_2012\"] = ghg_ny.groupby(\"city\")[\"2012\"].sum().nlargest(3)\n",
    "top_pollutors[\"counts_2011\"] = ghg_ny.groupby(\"city\")[\"2011\"].sum()\n",
    "top_pollutors[\"counts_2013\"] = ghg_ny.groupby(\"city\")[\"2013\"].sum()\n",
    "top_pollutors[\"counts_2014\"] = ghg_ny.groupby(\"city\")[\"2014\"].sum()\n",
    "top_pollutors[\"counts_2015\"] = ghg_ny.groupby(\"city\")[\"2015\"].sum()\n",
    "top_pollutors[\"counts_2016\"] = ghg_ny.groupby(\"city\")[\"2016\"].sum()\n",
    "top_pollutors[\"counts_2017\"] = ghg_ny.groupby(\"city\")[\"2017\"].sum()\n",
    "top_pollutors[\"counts_2018\"] = ghg_ny.groupby(\"city\")[\"2018\"].sum()\n",
    "top_pollutors.head()"
   ]
  },
  {
   "cell_type": "code",
   "execution_count": 41,
   "metadata": {},
   "outputs": [
    {
     "data": {
      "image/png": "[encoded data removed]",
      "text/plain": [
       "<Figure size 576.25x360 with 1 Axes>"
      ]
     },
     "metadata": {
      "needs_background": "light"
     },
     "output_type": "display_data"
    }
   ],
   "source": [
    "sns.relplot(x=\"2011\", y=\"2016\", hue=\"industry_sector\", style=\"cluster_label\", data=ghg_ny)\n",
    "plt.xlabel(\"Pollution Levels in 2011\")\n",
    "plt.ylabel(\"Pollution Levels in 2016\")\n",
    "plt.show()"
   ]
  },
  {
   "cell_type": "code",
   "execution_count": 42,
   "metadata": {},
   "outputs": [
    {
     "data": {
      "image/png": "[encoded data removed]",
      "text/plain": [
       "<Figure size 576.25x360 with 1 Axes>"
      ]
     },
     "metadata": {
      "needs_background": "light"
     },
     "output_type": "display_data"
    },
    {
     "data": {
      "text/html": [
       "<div>\n",
       "<style scoped>\n",
       "    .dataframe tbody tr th:only-of-type {\n",
       "        vertical-align: middle;\n",
       "    }\n",
       "\n",
       "    .dataframe tbody tr th {\n",
       "        vertical-align: top;\n",
       "    }\n",
       "\n",
       "    .dataframe thead th {\n",
       "        text-align: right;\n",
       "    }\n",
       "</style>\n",
       "<table border=\"1\" class=\"dataframe\">\n",
       "  <thead>\n",
       "    <tr style=\"text-align: right;\">\n",
       "      <th></th>\n",
       "      <th>counts_2012</th>\n",
       "      <th>counts_2011</th>\n",
       "      <th>counts_2013</th>\n",
       "      <th>counts_2014</th>\n",
       "      <th>counts_2015</th>\n",
       "      <th>counts_2016</th>\n",
       "      <th>counts_2017</th>\n",
       "      <th>counts_2018</th>\n",
       "    </tr>\n",
       "    <tr>\n",
       "      <th>city</th>\n",
       "      <th></th>\n",
       "      <th></th>\n",
       "      <th></th>\n",
       "      <th></th>\n",
       "      <th></th>\n",
       "      <th></th>\n",
       "      <th></th>\n",
       "      <th></th>\n",
       "    </tr>\n",
       "  </thead>\n",
       "  <tbody>\n",
       "    <tr>\n",
       "      <th>ASTORIA</th>\n",
       "      <td>4764387.02</td>\n",
       "      <td>4042716.00</td>\n",
       "      <td>4380823.02</td>\n",
       "      <td>4675385.27</td>\n",
       "      <td>4466886.67</td>\n",
       "      <td>4155855.99</td>\n",
       "      <td>3778604.39</td>\n",
       "      <td>4217072.28</td>\n",
       "    </tr>\n",
       "    <tr>\n",
       "      <th>NEW YORK</th>\n",
       "      <td>2622599.36</td>\n",
       "      <td>2735569.11</td>\n",
       "      <td>2803733.68</td>\n",
       "      <td>2662647.29</td>\n",
       "      <td>2675021.50</td>\n",
       "      <td>2643367.57</td>\n",
       "      <td>2610288.32</td>\n",
       "      <td>2682403.80</td>\n",
       "    </tr>\n",
       "    <tr>\n",
       "      <th>OSWEGO</th>\n",
       "      <td>2422483.93</td>\n",
       "      <td>1500633.06</td>\n",
       "      <td>2346473.42</td>\n",
       "      <td>2683641.65</td>\n",
       "      <td>2847435.29</td>\n",
       "      <td>2086964.18</td>\n",
       "      <td>1941340.78</td>\n",
       "      <td>2319907.68</td>\n",
       "    </tr>\n",
       "  </tbody>\n",
       "</table>\n",
       "</div>"
      ],
      "text/plain": [
       "          counts_2012  counts_2011  counts_2013  counts_2014  counts_2015  \\\n",
       "city                                                                        \n",
       "ASTORIA    4764387.02   4042716.00   4380823.02   4675385.27   4466886.67   \n",
       "NEW YORK   2622599.36   2735569.11   2803733.68   2662647.29   2675021.50   \n",
       "OSWEGO     2422483.93   1500633.06   2346473.42   2683641.65   2847435.29   \n",
       "\n",
       "          counts_2016  counts_2017  counts_2018  \n",
       "city                                             \n",
       "ASTORIA    4155855.99   3778604.39   4217072.28  \n",
       "NEW YORK   2643367.57   2610288.32   2682403.80  \n",
       "OSWEGO     2086964.18   1941340.78   2319907.68  "
      ]
     },
     "execution_count": 42,
     "metadata": {},
     "output_type": "execute_result"
    }
   ],
   "source": [
    "sns.relplot(x=\"2011\", y=\"2016\", hue=\"industry_sector\", style=\"cluster_label\", data=ghg_ny)\n",
    "plt.xlabel(\"Pollution Levels in 2011\")\n",
    "plt.ylabel(\"Pollution Levels in 2016\")\n",
    "plt.show()\n",
    "top_pollutors = pd.DataFrame()\n",
    "top_pollutors[\"counts_2012\"] = ghg_ny.groupby(\"city\")[\"2012\"].sum().nlargest(3)\n",
    "top_pollutors[\"counts_2011\"] = ghg_ny.groupby(\"city\")[\"2011\"].sum()\n",
    "top_pollutors[\"counts_2013\"] = ghg_ny.groupby(\"city\")[\"2013\"].sum()\n",
    "top_pollutors[\"counts_2014\"] = ghg_ny.groupby(\"city\")[\"2014\"].sum()\n",
    "top_pollutors[\"counts_2015\"] = ghg_ny.groupby(\"city\")[\"2015\"].sum()\n",
    "top_pollutors[\"counts_2016\"] = ghg_ny.groupby(\"city\")[\"2016\"].sum()\n",
    "top_pollutors[\"counts_2017\"] = ghg_ny.groupby(\"city\")[\"2017\"].sum()\n",
    "top_pollutors[\"counts_2018\"] = ghg_ny.groupby(\"city\")[\"2018\"].sum()\n",
    "top_pollutors.head()"
   ]
  },
  {
   "cell_type": "code",
   "execution_count": 43,
   "metadata": {},
   "outputs": [
    {
     "data": {
      "image/png": "[encoded data removed]",
      "text/plain": [
       "<Figure size 432x288 with 1 Axes>"
      ]
     },
     "metadata": {
      "needs_background": "light"
     },
     "output_type": "display_data"
    }
   ],
   "source": [
    "# set width of bar\n",
    "barWidth = 0.25\n",
    " \n",
    "# set height of bar\n",
    "bars1 = top_pollutors.iloc[0]\n",
    "bars2 = top_pollutors.iloc[1]\n",
    "bars3 = top_pollutors.iloc[2]\n",
    " \n",
    "# Set position of bar on X axis\n",
    "r1 = np.arange(len(bars1))\n",
    "r2 = [x + barWidth for x in r1]\n",
    "r3 = [x + barWidth for x in r2]\n",
    " \n",
    "# Make the plot\n",
    "plt.bar(r1, bars1, color='#7f6d5f', width=barWidth, edgecolor='white', label='Astoria')\n",
    "plt.bar(r2, bars2, color='#557f2d', width=barWidth, edgecolor='white', label='New York')\n",
    "plt.bar(r3, bars3, color='#2d7f5e', width=barWidth, edgecolor='white', label='Oswego')\n",
    " \n",
    "# Add xticks on the middle of the group bars\n",
    "plt.xlabel('Year', fontweight='bold')\n",
    "plt.ylabel('Pollution Level', fontweight='bold')\n",
    "plt.xticks([r + barWidth for r in range(len(bars1))], ['2011', '2012', '2013', '2014', '2015', '2016', '2017', '2018'])\n",
    " \n",
    "# Create legend & Show graphic\n",
    "plt.legend()\n",
    "plt.show()"
   ]
  },
  {
   "cell_type": "code",
   "execution_count": 14,
   "metadata": {},
   "outputs": [
    {
     "data": {
      "text/html": [
       "<div>\n",
       "<style scoped>\n",
       "    .dataframe tbody tr th:only-of-type {\n",
       "        vertical-align: middle;\n",
       "    }\n",
       "\n",
       "    .dataframe tbody tr th {\n",
       "        vertical-align: top;\n",
       "    }\n",
       "\n",
       "    .dataframe thead th {\n",
       "        text-align: right;\n",
       "    }\n",
       "</style>\n",
       "<table border=\"1\" class=\"dataframe\">\n",
       "  <thead>\n",
       "    <tr style=\"text-align: right;\">\n",
       "      <th></th>\n",
       "      <th>Unnamed: 0</th>\n",
       "      <th>Zone</th>\n",
       "      <th>District</th>\n",
       "      <th>Fiscal Month Number</th>\n",
       "      <th>Fiscal Year</th>\n",
       "      <th>Month Name</th>\n",
       "      <th>Diversion Rate</th>\n",
       "      <th>Capture Rate-Paper (Total Paper / Max Paper)</th>\n",
       "      <th>Capture Rate-MGP (Total MGP / Max MGP)</th>\n",
       "      <th>Capture Rate</th>\n",
       "    </tr>\n",
       "  </thead>\n",
       "  <tbody>\n",
       "    <tr>\n",
       "      <th>0</th>\n",
       "      <td>0</td>\n",
       "      <td>Manhattan</td>\n",
       "      <td>MN01</td>\n",
       "      <td>11</td>\n",
       "      <td>2010</td>\n",
       "      <td>May</td>\n",
       "      <td>29.3</td>\n",
       "      <td>54.4</td>\n",
       "      <td>70.2</td>\n",
       "      <td>58.2</td>\n",
       "    </tr>\n",
       "    <tr>\n",
       "      <th>1</th>\n",
       "      <td>1</td>\n",
       "      <td>Manhattan</td>\n",
       "      <td>MN02</td>\n",
       "      <td>11</td>\n",
       "      <td>2010</td>\n",
       "      <td>May</td>\n",
       "      <td>26.5</td>\n",
       "      <td>44.3</td>\n",
       "      <td>79.0</td>\n",
       "      <td>52.7</td>\n",
       "    </tr>\n",
       "    <tr>\n",
       "      <th>2</th>\n",
       "      <td>2</td>\n",
       "      <td>Manhattan</td>\n",
       "      <td>MN03</td>\n",
       "      <td>11</td>\n",
       "      <td>2010</td>\n",
       "      <td>May</td>\n",
       "      <td>13.1</td>\n",
       "      <td>47.5</td>\n",
       "      <td>39.5</td>\n",
       "      <td>44.0</td>\n",
       "    </tr>\n",
       "    <tr>\n",
       "      <th>3</th>\n",
       "      <td>3</td>\n",
       "      <td>Manhattan</td>\n",
       "      <td>MN04</td>\n",
       "      <td>11</td>\n",
       "      <td>2010</td>\n",
       "      <td>May</td>\n",
       "      <td>23.1</td>\n",
       "      <td>37.4</td>\n",
       "      <td>73.0</td>\n",
       "      <td>45.9</td>\n",
       "    </tr>\n",
       "    <tr>\n",
       "      <th>4</th>\n",
       "      <td>4</td>\n",
       "      <td>Manhattan</td>\n",
       "      <td>MN05</td>\n",
       "      <td>11</td>\n",
       "      <td>2010</td>\n",
       "      <td>May</td>\n",
       "      <td>23.8</td>\n",
       "      <td>41.1</td>\n",
       "      <td>66.6</td>\n",
       "      <td>47.3</td>\n",
       "    </tr>\n",
       "  </tbody>\n",
       "</table>\n",
       "</div>"
      ],
      "text/plain": [
       "   Unnamed: 0       Zone District  Fiscal Month Number  Fiscal Year  \\\n",
       "0           0  Manhattan     MN01                   11         2010   \n",
       "1           1  Manhattan     MN02                   11         2010   \n",
       "2           2  Manhattan     MN03                   11         2010   \n",
       "3           3  Manhattan     MN04                   11         2010   \n",
       "4           4  Manhattan     MN05                   11         2010   \n",
       "\n",
       "  Month Name  Diversion Rate  Capture Rate-Paper (Total Paper / Max Paper)  \\\n",
       "0        May            29.3                                          54.4   \n",
       "1        May            26.5                                          44.3   \n",
       "2        May            13.1                                          47.5   \n",
       "3        May            23.1                                          37.4   \n",
       "4        May            23.8                                          41.1   \n",
       "\n",
       "   Capture Rate-MGP (Total MGP / Max MGP)  Capture Rate  \n",
       "0                                    70.2          58.2  \n",
       "1                                    79.0          52.7  \n",
       "2                                    39.5          44.0  \n",
       "3                                    73.0          45.9  \n",
       "4                                    66.6          47.3  "
      ]
     },
     "execution_count": 14,
     "metadata": {},
     "output_type": "execute_result"
    }
   ],
   "source": [
    "recycling_2010 = pd.read_csv('recycling_2010.csv')\n",
    "recycling_2010.head()"
   ]
  },
  {
   "cell_type": "code",
   "execution_count": 15,
   "metadata": {},
   "outputs": [
    {
     "data": {
      "text/html": [
       "<div>\n",
       "<style scoped>\n",
       "    .dataframe tbody tr th:only-of-type {\n",
       "        vertical-align: middle;\n",
       "    }\n",
       "\n",
       "    .dataframe tbody tr th {\n",
       "        vertical-align: top;\n",
       "    }\n",
       "\n",
       "    .dataframe thead th {\n",
       "        text-align: right;\n",
       "    }\n",
       "</style>\n",
       "<table border=\"1\" class=\"dataframe\">\n",
       "  <thead>\n",
       "    <tr style=\"text-align: right;\">\n",
       "      <th></th>\n",
       "      <th>Unnamed: 0</th>\n",
       "      <th>Zone</th>\n",
       "      <th>District</th>\n",
       "      <th>Fiscal Month Number</th>\n",
       "      <th>Fiscal Year</th>\n",
       "      <th>Month Name</th>\n",
       "      <th>Diversion Rate</th>\n",
       "      <th>Capture Rate-Paper (Total Paper / Max Paper)</th>\n",
       "      <th>Capture Rate-MGP (Total MGP / Max MGP)</th>\n",
       "      <th>Capture Rate</th>\n",
       "    </tr>\n",
       "  </thead>\n",
       "  <tbody>\n",
       "    <tr>\n",
       "      <th>0</th>\n",
       "      <td>59</td>\n",
       "      <td>Brooklyn</td>\n",
       "      <td>BKN01</td>\n",
       "      <td>1</td>\n",
       "      <td>2016</td>\n",
       "      <td>July</td>\n",
       "      <td>14.7</td>\n",
       "      <td>44.0</td>\n",
       "      <td>43.2</td>\n",
       "      <td>43.6</td>\n",
       "    </tr>\n",
       "    <tr>\n",
       "      <th>1</th>\n",
       "      <td>60</td>\n",
       "      <td>Brooklyn</td>\n",
       "      <td>BKN02</td>\n",
       "      <td>1</td>\n",
       "      <td>2016</td>\n",
       "      <td>July</td>\n",
       "      <td>16.5</td>\n",
       "      <td>30.2</td>\n",
       "      <td>49.8</td>\n",
       "      <td>36.0</td>\n",
       "    </tr>\n",
       "    <tr>\n",
       "      <th>2</th>\n",
       "      <td>61</td>\n",
       "      <td>Brooklyn</td>\n",
       "      <td>BKN03</td>\n",
       "      <td>1</td>\n",
       "      <td>2016</td>\n",
       "      <td>July</td>\n",
       "      <td>10.1</td>\n",
       "      <td>29.0</td>\n",
       "      <td>32.8</td>\n",
       "      <td>30.8</td>\n",
       "    </tr>\n",
       "    <tr>\n",
       "      <th>3</th>\n",
       "      <td>62</td>\n",
       "      <td>Brooklyn</td>\n",
       "      <td>BKN04</td>\n",
       "      <td>1</td>\n",
       "      <td>2016</td>\n",
       "      <td>July</td>\n",
       "      <td>12.4</td>\n",
       "      <td>30.6</td>\n",
       "      <td>46.4</td>\n",
       "      <td>37.8</td>\n",
       "    </tr>\n",
       "    <tr>\n",
       "      <th>4</th>\n",
       "      <td>63</td>\n",
       "      <td>Brooklyn</td>\n",
       "      <td>BKN05</td>\n",
       "      <td>1</td>\n",
       "      <td>2016</td>\n",
       "      <td>July</td>\n",
       "      <td>9.1</td>\n",
       "      <td>23.5</td>\n",
       "      <td>33.0</td>\n",
       "      <td>27.9</td>\n",
       "    </tr>\n",
       "  </tbody>\n",
       "</table>\n",
       "</div>"
      ],
      "text/plain": [
       "   Unnamed: 0      Zone District  Fiscal Month Number  Fiscal Year Month Name  \\\n",
       "0          59  Brooklyn    BKN01                    1         2016       July   \n",
       "1          60  Brooklyn    BKN02                    1         2016       July   \n",
       "2          61  Brooklyn    BKN03                    1         2016       July   \n",
       "3          62  Brooklyn    BKN04                    1         2016       July   \n",
       "4          63  Brooklyn    BKN05                    1         2016       July   \n",
       "\n",
       "   Diversion Rate  Capture Rate-Paper (Total Paper / Max Paper)  \\\n",
       "0            14.7                                          44.0   \n",
       "1            16.5                                          30.2   \n",
       "2            10.1                                          29.0   \n",
       "3            12.4                                          30.6   \n",
       "4             9.1                                          23.5   \n",
       "\n",
       "   Capture Rate-MGP (Total MGP / Max MGP)  Capture Rate  \n",
       "0                                    43.2          43.6  \n",
       "1                                    49.8          36.0  \n",
       "2                                    32.8          30.8  \n",
       "3                                    46.4          37.8  \n",
       "4                                    33.0          27.9  "
      ]
     },
     "execution_count": 15,
     "metadata": {},
     "output_type": "execute_result"
    }
   ],
   "source": [
    "recycling_2016 = pd.read_csv('recycling_2016.csv')\n",
    "recycling_2016.head()"
   ]
  },
  {
   "cell_type": "code",
   "execution_count": 18,
   "metadata": {},
   "outputs": [
    {
     "data": {
      "text/html": [
       "<div>\n",
       "<style scoped>\n",
       "    .dataframe tbody tr th:only-of-type {\n",
       "        vertical-align: middle;\n",
       "    }\n",
       "\n",
       "    .dataframe tbody tr th {\n",
       "        vertical-align: top;\n",
       "    }\n",
       "\n",
       "    .dataframe thead th {\n",
       "        text-align: right;\n",
       "    }\n",
       "</style>\n",
       "<table border=\"1\" class=\"dataframe\">\n",
       "  <thead>\n",
       "    <tr style=\"text-align: right;\">\n",
       "      <th></th>\n",
       "      <th>Unnamed: 0</th>\n",
       "      <th>Zone</th>\n",
       "      <th>start station latitude</th>\n",
       "      <th>start station longitude</th>\n",
       "      <th>index</th>\n",
       "      <th>tripduration</th>\n",
       "      <th>starttime</th>\n",
       "      <th>stoptime</th>\n",
       "      <th>start station id</th>\n",
       "      <th>start station name</th>\n",
       "      <th>end station id</th>\n",
       "      <th>end station name</th>\n",
       "      <th>end station latitude</th>\n",
       "      <th>end station longitude</th>\n",
       "      <th>bikeid</th>\n",
       "      <th>usertype</th>\n",
       "      <th>birthyear</th>\n",
       "      <th>gender</th>\n",
       "    </tr>\n",
       "  </thead>\n",
       "  <tbody>\n",
       "    <tr>\n",
       "      <th>0</th>\n",
       "      <td>8</td>\n",
       "      <td>1.0</td>\n",
       "      <td>40.72</td>\n",
       "      <td>-73.98</td>\n",
       "      <td>416821</td>\n",
       "      <td>663</td>\n",
       "      <td>2013-06-25 08:23:45</td>\n",
       "      <td>2013-06-25 08:34:48</td>\n",
       "      <td>393</td>\n",
       "      <td>E 5 St &amp; Avenue C</td>\n",
       "      <td>293.0</td>\n",
       "      <td>Lafayette St &amp; E 8 St</td>\n",
       "      <td>40.730207</td>\n",
       "      <td>-73.991026</td>\n",
       "      <td>16733</td>\n",
       "      <td>Subscriber</td>\n",
       "      <td>1957.0</td>\n",
       "      <td>2</td>\n",
       "    </tr>\n",
       "    <tr>\n",
       "      <th>1</th>\n",
       "      <td>16</td>\n",
       "      <td>1.0</td>\n",
       "      <td>40.72</td>\n",
       "      <td>-73.98</td>\n",
       "      <td>305402</td>\n",
       "      <td>1452</td>\n",
       "      <td>2013-06-21 07:00:30</td>\n",
       "      <td>2013-06-21 07:24:42</td>\n",
       "      <td>349</td>\n",
       "      <td>Rivington St &amp; Ridge St</td>\n",
       "      <td>522.0</td>\n",
       "      <td>E 51 St &amp; Lexington Ave</td>\n",
       "      <td>40.757148</td>\n",
       "      <td>-73.972078</td>\n",
       "      <td>19616</td>\n",
       "      <td>Subscriber</td>\n",
       "      <td>1987.0</td>\n",
       "      <td>2</td>\n",
       "    </tr>\n",
       "    <tr>\n",
       "      <th>2</th>\n",
       "      <td>24</td>\n",
       "      <td>1.0</td>\n",
       "      <td>40.72</td>\n",
       "      <td>-73.98</td>\n",
       "      <td>525696</td>\n",
       "      <td>719</td>\n",
       "      <td>2013-06-29 09:27:43</td>\n",
       "      <td>2013-06-29 09:39:42</td>\n",
       "      <td>349</td>\n",
       "      <td>Rivington St &amp; Ridge St</td>\n",
       "      <td>369.0</td>\n",
       "      <td>Washington Pl &amp; 6 Ave</td>\n",
       "      <td>40.732241</td>\n",
       "      <td>-74.000264</td>\n",
       "      <td>17302</td>\n",
       "      <td>Subscriber</td>\n",
       "      <td>1982.0</td>\n",
       "      <td>1</td>\n",
       "    </tr>\n",
       "    <tr>\n",
       "      <th>3</th>\n",
       "      <td>32</td>\n",
       "      <td>1.0</td>\n",
       "      <td>40.72</td>\n",
       "      <td>-73.98</td>\n",
       "      <td>290404</td>\n",
       "      <td>561</td>\n",
       "      <td>2013-06-20 16:08:52</td>\n",
       "      <td>2013-06-20 16:18:13</td>\n",
       "      <td>411</td>\n",
       "      <td>E 6 St &amp; Avenue D</td>\n",
       "      <td>502.0</td>\n",
       "      <td>Henry St &amp; Grand St</td>\n",
       "      <td>40.714215</td>\n",
       "      <td>-73.981346</td>\n",
       "      <td>17235</td>\n",
       "      <td>Subscriber</td>\n",
       "      <td>1964.0</td>\n",
       "      <td>2</td>\n",
       "    </tr>\n",
       "    <tr>\n",
       "      <th>4</th>\n",
       "      <td>40</td>\n",
       "      <td>1.0</td>\n",
       "      <td>40.72</td>\n",
       "      <td>-73.98</td>\n",
       "      <td>473951</td>\n",
       "      <td>943</td>\n",
       "      <td>2013-06-27 08:18:32</td>\n",
       "      <td>2013-06-27 08:34:15</td>\n",
       "      <td>317</td>\n",
       "      <td>E 6 St &amp; Avenue B</td>\n",
       "      <td>442.0</td>\n",
       "      <td>W 27 St &amp; 7 Ave</td>\n",
       "      <td>40.746647</td>\n",
       "      <td>-73.993915</td>\n",
       "      <td>17940</td>\n",
       "      <td>Subscriber</td>\n",
       "      <td>1984.0</td>\n",
       "      <td>1</td>\n",
       "    </tr>\n",
       "  </tbody>\n",
       "</table>\n",
       "</div>"
      ],
      "text/plain": [
       "   Unnamed: 0  Zone  start station latitude  start station longitude   index  \\\n",
       "0           8   1.0                   40.72                   -73.98  416821   \n",
       "1          16   1.0                   40.72                   -73.98  305402   \n",
       "2          24   1.0                   40.72                   -73.98  525696   \n",
       "3          32   1.0                   40.72                   -73.98  290404   \n",
       "4          40   1.0                   40.72                   -73.98  473951   \n",
       "\n",
       "   tripduration            starttime             stoptime  start station id  \\\n",
       "0           663  2013-06-25 08:23:45  2013-06-25 08:34:48               393   \n",
       "1          1452  2013-06-21 07:00:30  2013-06-21 07:24:42               349   \n",
       "2           719  2013-06-29 09:27:43  2013-06-29 09:39:42               349   \n",
       "3           561  2013-06-20 16:08:52  2013-06-20 16:18:13               411   \n",
       "4           943  2013-06-27 08:18:32  2013-06-27 08:34:15               317   \n",
       "\n",
       "        start station name  end station id         end station name  \\\n",
       "0        E 5 St & Avenue C           293.0    Lafayette St & E 8 St   \n",
       "1  Rivington St & Ridge St           522.0  E 51 St & Lexington Ave   \n",
       "2  Rivington St & Ridge St           369.0    Washington Pl & 6 Ave   \n",
       "3        E 6 St & Avenue D           502.0      Henry St & Grand St   \n",
       "4        E 6 St & Avenue B           442.0          W 27 St & 7 Ave   \n",
       "\n",
       "   end station latitude  end station longitude  bikeid    usertype  birthyear  \\\n",
       "0             40.730207             -73.991026   16733  Subscriber     1957.0   \n",
       "1             40.757148             -73.972078   19616  Subscriber     1987.0   \n",
       "2             40.732241             -74.000264   17302  Subscriber     1982.0   \n",
       "3             40.714215             -73.981346   17235  Subscriber     1964.0   \n",
       "4             40.746647             -73.993915   17940  Subscriber     1984.0   \n",
       "\n",
       "   gender  \n",
       "0       2  \n",
       "1       2  \n",
       "2       1  \n",
       "3       2  \n",
       "4       1  "
      ]
     },
     "execution_count": 18,
     "metadata": {},
     "output_type": "execute_result"
    }
   ],
   "source": [
    "biking_2013 = pd.read_csv('biking_2013.csv')\n",
    "biking_2013.head()"
   ]
  },
  {
   "cell_type": "code",
   "execution_count": 19,
   "metadata": {},
   "outputs": [
    {
     "data": {
      "text/html": [
       "<div>\n",
       "<style scoped>\n",
       "    .dataframe tbody tr th:only-of-type {\n",
       "        vertical-align: middle;\n",
       "    }\n",
       "\n",
       "    .dataframe tbody tr th {\n",
       "        vertical-align: top;\n",
       "    }\n",
       "\n",
       "    .dataframe thead th {\n",
       "        text-align: right;\n",
       "    }\n",
       "</style>\n",
       "<table border=\"1\" class=\"dataframe\">\n",
       "  <thead>\n",
       "    <tr style=\"text-align: right;\">\n",
       "      <th></th>\n",
       "      <th>Unnamed: 0</th>\n",
       "      <th>Zone</th>\n",
       "      <th>start station latitude</th>\n",
       "      <th>start station longitude</th>\n",
       "      <th>index</th>\n",
       "      <th>tripduration</th>\n",
       "      <th>starttime</th>\n",
       "      <th>stoptime</th>\n",
       "      <th>start station id</th>\n",
       "      <th>start station name</th>\n",
       "      <th>end station id</th>\n",
       "      <th>end station name</th>\n",
       "      <th>end station latitude</th>\n",
       "      <th>end station longitude</th>\n",
       "      <th>bikeid</th>\n",
       "      <th>usertype</th>\n",
       "      <th>birthyear</th>\n",
       "      <th>gender</th>\n",
       "    </tr>\n",
       "  </thead>\n",
       "  <tbody>\n",
       "    <tr>\n",
       "      <th>0</th>\n",
       "      <td>0</td>\n",
       "      <td>3.0</td>\n",
       "      <td>40.71</td>\n",
       "      <td>-73.94</td>\n",
       "      <td>900435</td>\n",
       "      <td>160</td>\n",
       "      <td>6/20/2016 06:22:53</td>\n",
       "      <td>6/20/2016 06:25:33</td>\n",
       "      <td>3070</td>\n",
       "      <td>McKibbin St &amp; Manhattan Ave</td>\n",
       "      <td>3071</td>\n",
       "      <td>Boerum St &amp; Broadway</td>\n",
       "      <td>40.705381</td>\n",
       "      <td>-73.949765</td>\n",
       "      <td>17226</td>\n",
       "      <td>Subscriber</td>\n",
       "      <td>1952.0</td>\n",
       "      <td>1</td>\n",
       "    </tr>\n",
       "    <tr>\n",
       "      <th>1</th>\n",
       "      <td>2</td>\n",
       "      <td>3.0</td>\n",
       "      <td>40.71</td>\n",
       "      <td>-73.94</td>\n",
       "      <td>750686</td>\n",
       "      <td>1474</td>\n",
       "      <td>6/17/2016 00:03:24</td>\n",
       "      <td>6/17/2016 00:27:59</td>\n",
       "      <td>3074</td>\n",
       "      <td>Montrose Ave &amp; Bushwick Ave</td>\n",
       "      <td>3129</td>\n",
       "      <td>Queens Plaza North &amp; Crescent St</td>\n",
       "      <td>40.751102</td>\n",
       "      <td>-73.940737</td>\n",
       "      <td>25447</td>\n",
       "      <td>Subscriber</td>\n",
       "      <td>1991.0</td>\n",
       "      <td>1</td>\n",
       "    </tr>\n",
       "    <tr>\n",
       "      <th>2</th>\n",
       "      <td>4</td>\n",
       "      <td>3.0</td>\n",
       "      <td>40.71</td>\n",
       "      <td>-73.94</td>\n",
       "      <td>747914</td>\n",
       "      <td>634</td>\n",
       "      <td>6/16/2016 21:44:55</td>\n",
       "      <td>6/16/2016 21:55:30</td>\n",
       "      <td>3081</td>\n",
       "      <td>Graham Ave &amp; Grand St</td>\n",
       "      <td>3068</td>\n",
       "      <td>Humboldt St &amp; Varet St</td>\n",
       "      <td>40.703172</td>\n",
       "      <td>-73.940636</td>\n",
       "      <td>19282</td>\n",
       "      <td>Subscriber</td>\n",
       "      <td>1981.0</td>\n",
       "      <td>1</td>\n",
       "    </tr>\n",
       "    <tr>\n",
       "      <th>3</th>\n",
       "      <td>6</td>\n",
       "      <td>1.0</td>\n",
       "      <td>40.72</td>\n",
       "      <td>-73.98</td>\n",
       "      <td>895781</td>\n",
       "      <td>1249</td>\n",
       "      <td>6/19/2016 21:02:22</td>\n",
       "      <td>6/19/2016 21:23:11</td>\n",
       "      <td>411</td>\n",
       "      <td>E 6 St &amp; Avenue D</td>\n",
       "      <td>446</td>\n",
       "      <td>W 24 St &amp; 7 Ave</td>\n",
       "      <td>40.744876</td>\n",
       "      <td>-73.995299</td>\n",
       "      <td>20052</td>\n",
       "      <td>Subscriber</td>\n",
       "      <td>1980.0</td>\n",
       "      <td>1</td>\n",
       "    </tr>\n",
       "    <tr>\n",
       "      <th>4</th>\n",
       "      <td>14</td>\n",
       "      <td>1.0</td>\n",
       "      <td>40.72</td>\n",
       "      <td>-73.98</td>\n",
       "      <td>1022077</td>\n",
       "      <td>443</td>\n",
       "      <td>6/22/2016 11:02:31</td>\n",
       "      <td>6/22/2016 11:09:55</td>\n",
       "      <td>150</td>\n",
       "      <td>E 2 St &amp; Avenue C</td>\n",
       "      <td>293</td>\n",
       "      <td>Lafayette St &amp; E 8 St</td>\n",
       "      <td>40.730287</td>\n",
       "      <td>-73.990765</td>\n",
       "      <td>18622</td>\n",
       "      <td>Subscriber</td>\n",
       "      <td>1991.0</td>\n",
       "      <td>1</td>\n",
       "    </tr>\n",
       "  </tbody>\n",
       "</table>\n",
       "</div>"
      ],
      "text/plain": [
       "   Unnamed: 0  Zone  start station latitude  start station longitude    index  \\\n",
       "0           0   3.0                   40.71                   -73.94   900435   \n",
       "1           2   3.0                   40.71                   -73.94   750686   \n",
       "2           4   3.0                   40.71                   -73.94   747914   \n",
       "3           6   1.0                   40.72                   -73.98   895781   \n",
       "4          14   1.0                   40.72                   -73.98  1022077   \n",
       "\n",
       "   tripduration           starttime            stoptime  start station id  \\\n",
       "0           160  6/20/2016 06:22:53  6/20/2016 06:25:33              3070   \n",
       "1          1474  6/17/2016 00:03:24  6/17/2016 00:27:59              3074   \n",
       "2           634  6/16/2016 21:44:55  6/16/2016 21:55:30              3081   \n",
       "3          1249  6/19/2016 21:02:22  6/19/2016 21:23:11               411   \n",
       "4           443  6/22/2016 11:02:31  6/22/2016 11:09:55               150   \n",
       "\n",
       "            start station name  end station id  \\\n",
       "0  McKibbin St & Manhattan Ave            3071   \n",
       "1  Montrose Ave & Bushwick Ave            3129   \n",
       "2        Graham Ave & Grand St            3068   \n",
       "3            E 6 St & Avenue D             446   \n",
       "4            E 2 St & Avenue C             293   \n",
       "\n",
       "                   end station name  end station latitude  \\\n",
       "0              Boerum St & Broadway             40.705381   \n",
       "1  Queens Plaza North & Crescent St             40.751102   \n",
       "2            Humboldt St & Varet St             40.703172   \n",
       "3                   W 24 St & 7 Ave             40.744876   \n",
       "4             Lafayette St & E 8 St             40.730287   \n",
       "\n",
       "   end station longitude  bikeid    usertype  birthyear  gender  \n",
       "0             -73.949765   17226  Subscriber     1952.0       1  \n",
       "1             -73.940737   25447  Subscriber     1991.0       1  \n",
       "2             -73.940636   19282  Subscriber     1981.0       1  \n",
       "3             -73.995299   20052  Subscriber     1980.0       1  \n",
       "4             -73.990765   18622  Subscriber     1991.0       1  "
      ]
     },
     "execution_count": 19,
     "metadata": {},
     "output_type": "execute_result"
    }
   ],
   "source": [
    "biking_2016 = pd.read_csv('biking_2016.csv')\n",
    "biking_2016.head()"
   ]
  },
  {
   "cell_type": "code",
   "execution_count": 20,
   "metadata": {},
   "outputs": [
    {
     "data": {
      "image/png": "[encoded data removed]",
      "text/plain": [
       "<Figure size 432x288 with 1 Axes>"
      ]
     },
     "metadata": {
      "needs_background": "light"
     },
     "output_type": "display_data"
    }
   ],
   "source": [
    "##Histogram for 2010\n",
    "plt.hist(recycling_2010[\"Capture Rate\"], bins=18)\n",
    "plt.xlabel(\"Capture Rate in 2010\")\n",
    "plt.ylabel(\"Frequency\")\n",
    "plt.show()"
   ]
  },
  {
   "cell_type": "code",
   "execution_count": 21,
   "metadata": {},
   "outputs": [],
   "source": [
    "## Average Capture Rate for 2010\n",
    "mean_2010 = round(recycling_2010[[\"Capture Rate\"]].mean(),2)\n",
    "draws_2010 = np.random.poisson(mean_2010, 1000)"
   ]
  },
  {
   "cell_type": "code",
   "execution_count": 22,
   "metadata": {},
   "outputs": [
    {
     "name": "stdout",
     "output_type": "stream",
     "text": [
      "Mean Capture Rate for 2010:  Capture Rate    43.22\n",
      "dtype: float64\n"
     ]
    }
   ],
   "source": [
    "print(\"Mean Capture Rate for 2010: \", mean_2010)"
   ]
  },
  {
   "cell_type": "code",
   "execution_count": 23,
   "metadata": {},
   "outputs": [
    {
     "data": {
      "image/png": "[encoded data removed]",
      "text/plain": [
       "<Figure size 432x288 with 1 Axes>"
      ]
     },
     "metadata": {
      "needs_background": "light"
     },
     "output_type": "display_data"
    }
   ],
   "source": [
    "## Histogram for draws_2010\n",
    "plt.hist(draws_2010, bins=18)\n",
    "plt.xlabel(\"Sample Value Based on The Mean Capture Rate for 2010\")\n",
    "plt.ylabel(\"Frequency at Which Sample Value Occurs\")\n",
    "plt.axvline(color='r', linestyle=\"dotted\", x=50, label=\"Realistic Capture Rate\")\n",
    "plt.axvline(color='g', linestyle=\"dotted\", x=70, label=\"Ideal Capture Rate\")\n",
    "plt.legend(loc=\"upper right\")\n",
    "plt.show()"
   ]
  },
  {
   "cell_type": "code",
   "execution_count": 24,
   "metadata": {},
   "outputs": [
    {
     "name": "stdout",
     "output_type": "stream",
     "text": [
      "probability of capturing more than 50% of recycled waste: 13.501%\n"
     ]
    }
   ],
   "source": [
    "## Probability of Capturing 50% in 2010\n",
    "rate50_2010 = round(float(poisson.sf(50, mean_2010)*100),4)\n",
    "print(\"probability of capturing more than 50% of recycled waste: \"+ str(rate50_2010)+\"%\")"
   ]
  },
  {
   "cell_type": "code",
   "execution_count": 25,
   "metadata": {},
   "outputs": [
    {
     "name": "stdout",
     "output_type": "stream",
     "text": [
      "probability of capturing more than 70% of recycled waste: 0.0066%\n"
     ]
    }
   ],
   "source": [
    "## Probability of Capturing 70% in 2010\n",
    "rate70_2010 = round(float(poisson.sf(70, mean_2010)*100),4)\n",
    "print(\"probability of capturing more than 70% of recycled waste: \"+ str(rate70_2010)+\"%\")"
   ]
  },
  {
   "cell_type": "code",
   "execution_count": 26,
   "metadata": {},
   "outputs": [
    {
     "data": {
      "image/png": "[encoded data removed]",
      "text/plain": [
       "<Figure size 432x288 with 1 Axes>"
      ]
     },
     "metadata": {
      "needs_background": "light"
     },
     "output_type": "display_data"
    }
   ],
   "source": [
    "##Histogram for 2016\n",
    "plt.hist(recycling_2016[\"Capture Rate\"], bins=18)\n",
    "plt.xlabel(\"Capture Rate in 2016\")\n",
    "plt.ylabel(\"Frequency\")\n",
    "plt.show()"
   ]
  },
  {
   "cell_type": "code",
   "execution_count": 27,
   "metadata": {},
   "outputs": [],
   "source": [
    "## Average Capture Rate for 2016\n",
    "mean_2016 = round(recycling_2016[[\"Capture Rate\"]].mean(),2)\n",
    "draws_2016 = np.random.poisson(mean_2016, 1000)"
   ]
  },
  {
   "cell_type": "code",
   "execution_count": 28,
   "metadata": {},
   "outputs": [
    {
     "name": "stdout",
     "output_type": "stream",
     "text": [
      "Mean Capture Rate for 2016:  Capture Rate    42.02\n",
      "dtype: float64\n"
     ]
    }
   ],
   "source": [
    "print(\"Mean Capture Rate for 2016: \", mean_2016)"
   ]
  },
  {
   "cell_type": "code",
   "execution_count": 29,
   "metadata": {},
   "outputs": [
    {
     "data": {
      "image/png": "[encoded data removed]",
      "text/plain": [
       "<Figure size 432x288 with 1 Axes>"
      ]
     },
     "metadata": {
      "needs_background": "light"
     },
     "output_type": "display_data"
    }
   ],
   "source": [
    "## Histogram for draws_2016\n",
    "plt.hist(draws_2016, bins=18)\n",
    "plt.xlabel(\"Sample Value Based on The Mean Capture Rate for 2016\")\n",
    "plt.ylabel(\"Frequency at Which Sample Value Occurs\")\n",
    "plt.axvline(color='r', linestyle=\"dotted\", x=50, label=\"Realistic Capture Rate\")\n",
    "plt.axvline(color='g', linestyle=\"dotted\", x=70, label=\"Ideal Capture Rate\")\n",
    "plt.legend(loc=\"upper right\")\n",
    "plt.show()"
   ]
  },
  {
   "cell_type": "code",
   "execution_count": 30,
   "metadata": {},
   "outputs": [
    {
     "name": "stdout",
     "output_type": "stream",
     "text": [
      "probability of capturing more than 50% of recycled waste: 9.8094%\n"
     ]
    }
   ],
   "source": [
    "## Probability of Capturing 50% in 2016\n",
    "rate50_2016 = round(float(poisson.sf(50, mean_2016)*100),4)\n",
    "print(\"probability of capturing more than 50% of recycled waste: \"+ str(rate50_2016)+\"%\")"
   ]
  },
  {
   "cell_type": "code",
   "execution_count": 31,
   "metadata": {},
   "outputs": [
    {
     "name": "stdout",
     "output_type": "stream",
     "text": [
      "probability of capturing more than 70% of recycled waste: 0.0029%\n"
     ]
    }
   ],
   "source": [
    "## Probability of Capturing 70% in 2016\n",
    "rate70_2016 = round(float(poisson.sf(70, mean_2016)*100),4)\n",
    "print(\"probability of capturing more than 70% of recycled waste: \"+ str(rate70_2016)+\"%\")"
   ]
  },
  {
   "cell_type": "code",
   "execution_count": 32,
   "metadata": {},
   "outputs": [
    {
     "data": {
      "image/png": "[encoded data removed]",
      "text/plain": [
       "<Figure size 432x288 with 1 Axes>"
      ]
     },
     "metadata": {
      "needs_background": "light"
     },
     "output_type": "display_data"
    }
   ],
   "source": [
    "plt.bar(recycling_2010[\"Zone\"], recycling_2010[\"Capture Rate\"])\n",
    "plt.xlabel('Borough of NYC')\n",
    "plt.ylabel('Recycling Capture Rate in 2010')\n",
    "plt.show()"
   ]
  },
  {
   "cell_type": "code",
   "execution_count": 33,
   "metadata": {},
   "outputs": [
    {
     "data": {
      "image/png": "[encoded data removed]",
      "text/plain": [
       "<Figure size 432x288 with 1 Axes>"
      ]
     },
     "metadata": {
      "needs_background": "light"
     },
     "output_type": "display_data"
    }
   ],
   "source": [
    "plt.bar(recycling_2016[\"Zone\"], recycling_2016[\"Capture Rate\"])\n",
    "plt.xlabel('Borough of NYC')\n",
    "plt.ylabel('Recycling Capture Rate in 2016')\n",
    "plt.show()"
   ]
  },
  {
   "cell_type": "code",
   "execution_count": 34,
   "metadata": {},
   "outputs": [
    {
     "data": {
      "text/html": [
       "<div>\n",
       "<style scoped>\n",
       "    .dataframe tbody tr th:only-of-type {\n",
       "        vertical-align: middle;\n",
       "    }\n",
       "\n",
       "    .dataframe tbody tr th {\n",
       "        vertical-align: top;\n",
       "    }\n",
       "\n",
       "    .dataframe thead th {\n",
       "        text-align: right;\n",
       "    }\n",
       "</style>\n",
       "<table border=\"1\" class=\"dataframe\">\n",
       "  <thead>\n",
       "    <tr style=\"text-align: right;\">\n",
       "      <th></th>\n",
       "      <th>boro_counts</th>\n",
       "      <th>Zone</th>\n",
       "    </tr>\n",
       "  </thead>\n",
       "  <tbody>\n",
       "    <tr>\n",
       "      <th>1.0</th>\n",
       "      <td>706</td>\n",
       "      <td>Manhattan</td>\n",
       "    </tr>\n",
       "    <tr>\n",
       "      <th>3.0</th>\n",
       "      <td>91</td>\n",
       "      <td>Brooklyn</td>\n",
       "    </tr>\n",
       "  </tbody>\n",
       "</table>\n",
       "</div>"
      ],
      "text/plain": [
       "     boro_counts       Zone\n",
       "1.0          706  Manhattan\n",
       "3.0           91   Brooklyn"
      ]
     },
     "execution_count": 34,
     "metadata": {},
     "output_type": "execute_result"
    }
   ],
   "source": [
    "boro_counts_2013 = pd.DataFrame(biking_2013[\"Zone\"].value_counts())\n",
    "boro_counts_2013 = boro_counts_2013.rename(columns={\"Zone\":\"boro_counts\"})\n",
    "boro_counts_2013[\"Zone\"] = [\"Manhattan\", \"Brooklyn\"]\n",
    "boro_counts_2013.head()"
   ]
  },
  {
   "cell_type": "code",
   "execution_count": 35,
   "metadata": {},
   "outputs": [
    {
     "data": {
      "text/html": [
       "<div>\n",
       "<style scoped>\n",
       "    .dataframe tbody tr th:only-of-type {\n",
       "        vertical-align: middle;\n",
       "    }\n",
       "\n",
       "    .dataframe tbody tr th {\n",
       "        vertical-align: top;\n",
       "    }\n",
       "\n",
       "    .dataframe thead th {\n",
       "        text-align: right;\n",
       "    }\n",
       "</style>\n",
       "<table border=\"1\" class=\"dataframe\">\n",
       "  <thead>\n",
       "    <tr style=\"text-align: right;\">\n",
       "      <th></th>\n",
       "      <th>boro_counts</th>\n",
       "      <th>Zone</th>\n",
       "    </tr>\n",
       "  </thead>\n",
       "  <tbody>\n",
       "    <tr>\n",
       "      <th>1.0</th>\n",
       "      <td>740</td>\n",
       "      <td>Manhattan</td>\n",
       "    </tr>\n",
       "    <tr>\n",
       "      <th>3.0</th>\n",
       "      <td>73</td>\n",
       "      <td>Brooklyn</td>\n",
       "    </tr>\n",
       "    <tr>\n",
       "      <th>4.0</th>\n",
       "      <td>16</td>\n",
       "      <td>Queens</td>\n",
       "    </tr>\n",
       "  </tbody>\n",
       "</table>\n",
       "</div>"
      ],
      "text/plain": [
       "     boro_counts       Zone\n",
       "1.0          740  Manhattan\n",
       "3.0           73   Brooklyn\n",
       "4.0           16     Queens"
      ]
     },
     "execution_count": 35,
     "metadata": {},
     "output_type": "execute_result"
    }
   ],
   "source": [
    "boro_counts_2016 = pd.DataFrame(biking_2016[\"Zone\"].value_counts())\n",
    "boro_counts_2016 = boro_counts_2016.rename(columns={\"Zone\":\"boro_counts\"})\n",
    "boro_counts_2016[\"Zone\"] = [\"Manhattan\", \"Brooklyn\",\"Queens\"]\n",
    "boro_counts_2016.head()"
   ]
  },
  {
   "cell_type": "code",
   "execution_count": 36,
   "metadata": {},
   "outputs": [
    {
     "data": {
      "image/png": "[encoded data removed]",
      "text/plain": [
       "<Figure size 432x288 with 1 Axes>"
      ]
     },
     "metadata": {
      "needs_background": "light"
     },
     "output_type": "display_data"
    }
   ],
   "source": [
    "plt.bar(boro_counts_2013[\"Zone\"], boro_counts_2013[\"boro_counts\"])\n",
    "plt.xlabel('Borough of NYC')\n",
    "plt.ylabel('Number of Bikers 2013')\n",
    "plt.show()"
   ]
  },
  {
   "cell_type": "code",
   "execution_count": 37,
   "metadata": {},
   "outputs": [
    {
     "data": {
      "image/png": "[encoded data removed]",
      "text/plain": [
       "<Figure size 432x288 with 1 Axes>"
      ]
     },
     "metadata": {
      "needs_background": "light"
     },
     "output_type": "display_data"
    }
   ],
   "source": [
    "plt.bar(boro_counts_2016[\"Zone\"], boro_counts_2016[\"boro_counts\"])\n",
    "plt.xlabel('Borough of NYC')\n",
    "plt.ylabel('Number of Bikers 2016')\n",
    "plt.show()"
   ]
  },
  {
   "cell_type": "code",
   "execution_count": 38,
   "metadata": {},
   "outputs": [
    {
     "name": "stdout",
     "output_type": "stream",
     "text": [
      "The sum of pollution levels for each year from 2011-2018: \n"
     ]
    },
    {
     "data": {
      "text/html": [
       "<div>\n",
       "<style scoped>\n",
       "    .dataframe tbody tr th:only-of-type {\n",
       "        vertical-align: middle;\n",
       "    }\n",
       "\n",
       "    .dataframe tbody tr th {\n",
       "        vertical-align: top;\n",
       "    }\n",
       "\n",
       "    .dataframe thead th {\n",
       "        text-align: right;\n",
       "    }\n",
       "</style>\n",
       "<table border=\"1\" class=\"dataframe\">\n",
       "  <thead>\n",
       "    <tr style=\"text-align: right;\">\n",
       "      <th></th>\n",
       "      <th>Year</th>\n",
       "      <th>total_pollution</th>\n",
       "      <th>biker_counts</th>\n",
       "    </tr>\n",
       "  </thead>\n",
       "  <tbody>\n",
       "    <tr>\n",
       "      <th>0</th>\n",
       "      <td>2013</td>\n",
       "      <td>39270240.62</td>\n",
       "      <td>618572</td>\n",
       "    </tr>\n",
       "    <tr>\n",
       "      <th>1</th>\n",
       "      <td>2014</td>\n",
       "      <td>39988530.62</td>\n",
       "      <td>1035478</td>\n",
       "    </tr>\n",
       "    <tr>\n",
       "      <th>2</th>\n",
       "      <td>2015</td>\n",
       "      <td>39958269.61</td>\n",
       "      <td>941117</td>\n",
       "    </tr>\n",
       "    <tr>\n",
       "      <th>3</th>\n",
       "      <td>2016</td>\n",
       "      <td>37066181.97</td>\n",
       "      <td>1460303</td>\n",
       "    </tr>\n",
       "    <tr>\n",
       "      <th>4</th>\n",
       "      <td>2017</td>\n",
       "      <td>31824056.02</td>\n",
       "      <td>1731155</td>\n",
       "    </tr>\n",
       "  </tbody>\n",
       "</table>\n",
       "</div>"
      ],
      "text/plain": [
       "   Year  total_pollution  biker_counts\n",
       "0  2013      39270240.62        618572\n",
       "1  2014      39988530.62       1035478\n",
       "2  2015      39958269.61        941117\n",
       "3  2016      37066181.97       1460303\n",
       "4  2017      31824056.02       1731155"
      ]
     },
     "execution_count": 38,
     "metadata": {},
     "output_type": "execute_result"
    }
   ],
   "source": [
    "year = 2013\n",
    "total_sums = np.zeros(6)\n",
    "for i in range(6):\n",
    "    year_str = str(year)\n",
    "    total_sums[i] = ghg_ny[year_str].sum()\n",
    "    year = year+1\n",
    "total_sums = pd.DataFrame(total_sums)\n",
    "total_sums[\"total_pollution\"] = total_sums\n",
    "total_sums[\"Year\"] = [\"2013\", \"2014\", \"2015\", \"2016\", \"2017\", \"2018\"]\n",
    "total_sums = total_sums[[\"Year\", \"total_pollution\"]]\n",
    "total_sums[\"biker_counts\"] = [618572, 1035478, 941117, 1460303, 1731155, 1952950]\n",
    "print(\"The sum of pollution levels for each year from 2011-2018: \")\n",
    "total_sums.head()"
   ]
  },
  {
   "cell_type": "code",
   "execution_count": 39,
   "metadata": {},
   "outputs": [
    {
     "data": {
      "image/png": "[encoded data removed]",
      "text/plain": [
       "<Figure size 432x288 with 1 Axes>"
      ]
     },
     "metadata": {
      "needs_background": "light"
     },
     "output_type": "display_data"
    }
   ],
   "source": [
    "plt.plot(total_sums['Year'], total_sums[\"total_pollution\"], label=\"Total Pollution\")\n",
    "plt.plot(total_sums['Year'], total_sums[\"biker_counts\"], label=\"Number of Bikers\")\n",
    "plt.xlabel(\"Year\")\n",
    "plt.ylabel(\"Count\")\n",
    "plt.legend()\n",
    "plt.show()"
   ]
  },
  {
   "cell_type": "code",
   "execution_count": 40,
   "metadata": {},
   "outputs": [
    {
     "data": {
      "image/png": "[encoded data removed]",
      "text/plain": [
       "<Figure size 432x288 with 1 Axes>"
      ]
     },
     "metadata": {
      "needs_background": "light"
     },
     "output_type": "display_data"
    }
   ],
   "source": [
    "sns.regplot(x='total_pollution', y=\"biker_counts\", data=total_sums)\n",
    "plt.xlabel(\"Total Pollution\")\n",
    "plt.ylabel(\"Number of Bikers\")\n",
    "plt.show()"
   ]
  },
  {
   "cell_type": "markdown",
   "metadata": {},
   "source": [
    "# Evaluation of Significance"
   ]
  },
  {
   "cell_type": "code",
   "execution_count": 44,
   "metadata": {},
   "outputs": [],
   "source": [
    "## Find the standard deviation for 2010 and 2016\n",
    "std_2010 = recycling_2010[[\"Capture Rate\"]].std()\n",
    "std_2016 = recycling_2016[[\"Capture Rate\"]].std()"
   ]
  },
  {
   "cell_type": "code",
   "execution_count": 45,
   "metadata": {},
   "outputs": [
    {
     "name": "stdout",
     "output_type": "stream",
     "text": [
      "the slope is:  -0.0588\n"
     ]
    }
   ],
   "source": [
    "##Create the distributions for 2010 and 2016 \n",
    "x_2010 = pd.DataFrame(np.random.normal(mean_2010,std_2010, size=1000))\n",
    "y_2016 = pd.DataFrame(np.random.normal(mean_2016,std_2016, size=1000))\n",
    "recycling_model = LinearRegression().fit(x_2010,y_2016)\n",
    "print(\"the slope is: \", round(float(recycling_model.coef_),4))"
   ]
  },
  {
   "cell_type": "code",
   "execution_count": 46,
   "metadata": {},
   "outputs": [
    {
     "name": "stdout",
     "output_type": "stream",
     "text": [
      "The p-value is 0.139\n",
      "The test statistic is 1.477\n"
     ]
    }
   ],
   "source": [
    "stats.ttest_ind(x_2010, y_2016)\n",
    "print(\"The p-value is 0.139\")\n",
    "print(\"The test statistic is 1.477\")"
   ]
  },
  {
   "cell_type": "code",
   "execution_count": 47,
   "metadata": {},
   "outputs": [
    {
     "name": "stdout",
     "output_type": "stream",
     "text": [
      "The slope for total pollution levels in NYC vs. number of Citi bike trips is: -0.130\n",
      "The intercept for total pollution levels in NYC vs. number of Citi bike trips is: 6096814.740\n",
      "The r squared value for total pollution levels in NYC vs. number of Citi bike trips is: 0.737\n"
     ]
    }
   ],
   "source": [
    "pollution_bike_model = LinearRegression().fit(total_sums[['total_pollution']],total_sums[['biker_counts']])\n",
    "pollution_bike_slope = pollution_bike_model.coef_[0][0]\n",
    "pollution_bike_intercept = pollution_bike_model.intercept_[0]\n",
    "pollution_bike_corr = pollution_bike_model.score(total_sums[['total_pollution']],total_sums[['biker_counts']])\n",
    "print(\"The slope for total pollution levels in NYC vs. number of Citi bike trips is: {:.3f}\".format(pollution_bike_slope))\n",
    "print(\"The intercept for total pollution levels in NYC vs. number of Citi bike trips is: {:.3f}\".format(pollution_bike_intercept))\n",
    "print(\"The r squared value for total pollution levels in NYC vs. number of Citi bike trips is: {:.3f}\".format(pollution_bike_corr))"
   ]
  },
  {
   "cell_type": "code",
   "execution_count": 48,
   "metadata": {},
   "outputs": [
    {
     "name": "stdout",
     "output_type": "stream",
     "text": [
      "This is the training set for the NY pollution data:       Unnamed: 0  facility_id        frs_id  \\\n",
      "71           71      1002160  110004541434   \n",
      "31           31      1000771  110000582398   \n",
      "138         138      1006042  110007384106   \n",
      "151         151      1006910  110019768526   \n",
      "120         120      1004894  110004513571   \n",
      "..          ...          ...           ...   \n",
      "156         156      1007087  110001595239   \n",
      "128         128      1005360  110056973182   \n",
      "119         119      1004818  110056972307   \n",
      "133         133      1005849  110043970913   \n",
      "140         140      1006276  110037939737   \n",
      "\n",
      "                           facility_name           city state  zip_code  \\\n",
      "71               GUARDIAN INDUSTRIES LLC         GENEVA    NY     14456   \n",
      "31                             Northport      NORTHPORT    NY     11768   \n",
      "138        TGP Station 245 West Winfield  WEST WINFIELD    NY     13491   \n",
      "151        OSWEGO CO ENERGY RECOVERY FAC         Fulton    NY     13069   \n",
      "120    FULTON COUNTY DEPT OF SOLID WASTE      JOHNSTOWN    NY     12095   \n",
      "..                                   ...            ...   ...       ...   \n",
      "156  SYRACUSE UNIVERSITY - STEAM STATION       SYRACUSE    NY     13244   \n",
      "128       LAFARGE BUILDING MATERIALS INC         RAVENA    NY     12143   \n",
      "119          SUNOCO FULTON ETHANOL PLANT         FULTON    NY     13069   \n",
      "133     U S SALT - WATKINS GLEN REFINERY   WATKINS GLEN    NY     14891   \n",
      "140                      ALBANY LANDFILL         ALBANY    NY     12205   \n",
      "\n",
      "                    address           county  latitude  ...  \\\n",
      "71             50 FORGE AVE   ONTARIO COUNTY     42.88  ...   \n",
      "31        EATON'S NECK ROAD          Suffolk     40.92  ...   \n",
      "138          457 BURROWS RD  HERKIMER COUNTY     42.87  ...   \n",
      "151    2801 STATE ROUTE 481    OSWEGO COUNTY     43.35  ...   \n",
      "120              847 MUD RD    FULTON COUNTY     43.01  ...   \n",
      "..                      ...              ...       ...  ...   \n",
      "156  500 EAST TAYLOR STREET  ONONDAGA COUNTY     43.04  ...   \n",
      "128       1916 ROUTE 9 WEST    ALBANY COUNTY     42.50  ...   \n",
      "119            376 OWENS RD    OSWEGO COUNTY     43.30  ...   \n",
      "133         3580 SALT PT RD         SCHUYLER     42.41  ...   \n",
      "140             525 RAPP RD    ALBANY COUNTY     42.70  ...   \n",
      "\n",
      "                       industry_sector        2018       2017        2016  \\\n",
      "71                            Minerals    94019.34  139846.26   140136.16   \n",
      "31                        Power Plants  1622224.51  992247.85  1481120.55   \n",
      "138  Petroleum and Natural Gas Systems    46683.83   50941.22    62102.88   \n",
      "151                              Waste    29101.30   27699.04    29446.17   \n",
      "120                              Waste    32826.00   14486.80    18165.10   \n",
      "..                                 ...         ...        ...         ...   \n",
      "156                              Other    56551.64   55055.14    53314.90   \n",
      "128                           Minerals  1048662.08  561154.73   297791.75   \n",
      "119              OtherSuppliers of CO2   115963.86  116322.46   119217.95   \n",
      "133                              Other    74404.37   78561.80    79298.60   \n",
      "140                              Waste    62364.00   47674.50    44025.50   \n",
      "\n",
      "           2015        2014        2013        2012        2011  cluster_label  \n",
      "71    138709.86   136448.02   133326.23   142014.85   140496.21              0  \n",
      "31   1836382.11  1656151.69  1886742.79  1952018.63  2111284.68              1  \n",
      "138    51755.70    49018.48    58759.90    58561.81    50696.57              0  \n",
      "151    28739.81    16900.58    31039.33    30640.70    30979.61              0  \n",
      "120    17503.60    25088.60    16805.15    25042.40    24403.75              0  \n",
      "..          ...         ...         ...         ...         ...            ...  \n",
      "156    61746.76    57902.08    56438.39    52283.20    55283.19              0  \n",
      "128   996071.52   817232.17   980975.97  1138373.27   981246.79              2  \n",
      "119   113975.47    99928.17    97120.76    90660.78    82499.60              0  \n",
      "133    72107.39    71002.03    71792.53    61394.02    65580.49              0  \n",
      "140   156346.50   134991.75   107917.50    84452.25    75360.75              0  \n",
      "\n",
      "[143 rows x 23 columns]\n",
      "This is the test set for the NY pollution data:       Unnamed: 0  facility_id        frs_id  \\\n",
      "26           26      1000763  110008054265   \n",
      "21           21      1000482  110008035704   \n",
      "107         107      1004057  110007155121   \n",
      "112         112      1004412  110000808083   \n",
      "36           36      1000781  110019644679   \n",
      "131         131      1005513  110000328556   \n",
      "116         116      1004626  110001600786   \n",
      "9             9      1000131  110019673441   \n",
      "127         127      1005259  110004316348   \n",
      "55           55      1001257  110001603809   \n",
      "163         163      1007617  110010307630   \n",
      "149         149      1006772  110000546124   \n",
      "47           47      1001218  110019421017   \n",
      "113         113      1004494  110037098869   \n",
      "117         117      1004629  110028032386   \n",
      "92           92      1003031  110013983886   \n",
      "132         132      1005784  110008025528   \n",
      "121         121      1004968  110028049699   \n",
      "58           58      1001265  110000326530   \n",
      "122         122      1005111  110009485191   \n",
      "124         124      1005217  110032965548   \n",
      "173         173      1009696  110019739354   \n",
      "30           30      1000768  110000582389   \n",
      "145         145      1006493  110001603934   \n",
      "68           68      1001861  110057275997   \n",
      "136         136      1006011  110007152990   \n",
      "171         171      1009558  110002379818   \n",
      "137         137      1006021  110001567377   \n",
      "177         177      1011227  110001984103   \n",
      "12           12      1000268  110012589902   \n",
      "25           25      1000761  110000322623   \n",
      "109         109      1004244  110010710944   \n",
      "178         178      1011742  110001142228   \n",
      "6             6      1000113  110028050230   \n",
      "150         150      1006885  110000325005   \n",
      "170         170      1008767  110000885784   \n",
      "\n",
      "                                       facility_name            city state  \\\n",
      "26                        Narrows Generating Station        BROOKLYN    NY   \n",
      "21                          ReEnergy Black River LLC       FORT DRUM    NY   \n",
      "107             DANC SOLID WASTE MANAGEMENT FACILITY          RODMAN    NY   \n",
      "112                        GE GLOBAL RESEARCH CENTER       NISKAYUNA    NY   \n",
      "36               CON ED-EAST 60TH STREET STEAM PLANT       MANHATTAN    NY   \n",
      "131          CARGILL INCORPORATED WATKINS GLEN PLANT    WATKINS GLEN    NY   \n",
      "116                            PRATT PAPER (NY) INC.   STATEN ISLAND    NY   \n",
      "9                         Bayswater Peaking Facility    FAR ROCKAWAY    NY   \n",
      "127                 CLINTON COUNTY REGIONAL LANDFILL   MORRISONVILLE    NY   \n",
      "55                    Carr Street Generating Station   EAST SYRACUSE    NY   \n",
      "163                 WASTE MANAGEMENT OF NEW YORK LLC         CHAFFEE    NY   \n",
      "149           ONONDAGA CO RESOURCE RECOVERY FACILITY      JAMESVILLE    NY   \n",
      "47                                   Carthage Energy        Carthage    NY   \n",
      "113                   BRISTOL HILL SANITARY LANDFILL          FULTON    NY   \n",
      "117                NEW YORK UNIVERSITY CENTRAL PLANT        NEW YORK    NY   \n",
      "92                 FRANKLIN COUNTY REGIONAL LANDFILL       CONSTABLE    NY   \n",
      "132                     Port Jefferson Energy Center  PORT JEFFERSON    NY   \n",
      "121                    WHEELABRATOR HUDSON FALLS LLC    HUDSON FALLS    NY   \n",
      "58                                          Lockport        LOCKPORT    NY   \n",
      "122                    WARBASSE HOUSES & POWER PLANT        BROOKLYN    NY   \n",
      "124                      WESTERN NEW YORK ENERGY LLC          MEDINA    NY   \n",
      "173    New York Presbyterian Hospital- 525 E 68th St        New York    NY   \n",
      "30                                       E F Barrett     ISLAND PARK    NY   \n",
      "145           ROCHESTER DISTRICT HEATING COOPERATIVE       ROCHESTER    NY   \n",
      "68   American Sugar Refining Inc. - Yonkers Refinery         Yonkers    NY   \n",
      "136                                 ROCHDALE VILLAGE         JAMAICA    NY   \n",
      "171  Montefiore Medical Center-111 East 210th Street           Bronx    NY   \n",
      "137                          CHEMUNG COUNTY LANDFILL          ELMIRA    NY   \n",
      "177                           Orange County Landfill     New Hampton    NY   \n",
      "12                                   Shoreham Energy        SHOREHAM    NY   \n",
      "25                                        East River        NEW YORK    NY   \n",
      "109                      WHEELABRATOR WESTCHESTER LP       PEEKSKILL    NY   \n",
      "178                       Special Metals Corporation         Dunkirk    NY   \n",
      "6                                     Pouch Terminal   STATEN ISLAND    NY   \n",
      "150             International Paper Ticonderoga Mill     TICONDEROGA    NY   \n",
      "170          Irving Tissue Inc. Fort Edward Facility     Fort Edward    NY   \n",
      "\n",
      "     zip_code                           address              county  latitude  \\\n",
      "26      11232               53RD ST AND 1ST AVE               Kings     40.65   \n",
      "21      13602  4515 Euphrates River Valley Road    JEFFERSON COUNTY     44.04   \n",
      "107     13682                23400 NY ROUTE 177           JEFFERSON     43.83   \n",
      "112     12309               ONE RESEARCH CIRCLE         SCHENECTADY     42.83   \n",
      "36      10022              514 EAST 60TH STREET     NEW YORK COUNTY     40.76   \n",
      "131     14891               518 EAST 4TH STREET     SCHUYLER COUNTY     42.38   \n",
      "116     10314            4435 VICTORY BOULEVARD     RICHMOND COUNTY     40.59   \n",
      "9       11691                 14-25 BAY 24TH ST              Queens     40.61   \n",
      "127     12962                       286 SAND RD      CLINTON COUNTY     44.69   \n",
      "55      13057                        64 CARR ST            Onondaga     43.06   \n",
      "163     14030                  10860 OLEAN ROAD                ERIE     42.58   \n",
      "149     13078                5801 ROCK CUT ROAD     ONONDAGA COUNTY     43.00   \n",
      "47      13619                  701 West End Ave           Jefferson     43.98   \n",
      "113     13069                3125 State Route 3       OSWEGO COUNTY     43.35   \n",
      "117     10012                 251 MERCER STREET            NEW YORK     40.73   \n",
      "92      12926                         828 CR 20     FRANKLIN COUNTY     44.98   \n",
      "132     11777                          BEACH ST             Suffolk     40.95   \n",
      "121     12839                   93 RIVER STREET   WASHINGTON COUNTY     43.31   \n",
      "58      14094                5087 JUNCTION ROAD             Niagara     43.16   \n",
      "122     11224              2701 WEST 6TH STREET        KINGS COUNTY     40.58   \n",
      "124     14103                     4141 BATES RD      ORLEANS COUNTY     43.21   \n",
      "173     10021                 525 E 68th Street               KINGS     40.62   \n",
      "30      11558                     MCCARTHY ROAD              Nassau     40.62   \n",
      "145     14607               15 - 17 LAWN STREET              MONROE     43.15   \n",
      "68      10705                     1 Federal St.  WESTCHESTER COUNTY     40.93   \n",
      "136     11434                  132-11 BEDELL ST              QUEENS     40.68   \n",
      "171     10467             111 East 210th Street        BRONX COUNTY     40.88   \n",
      "137     14901              4349 COUNTY ROUTE 60      CHEMUNG COUNTY     42.03   \n",
      "177     10924           21 Training Center Lane              ORANGE     41.40   \n",
      "12      11719                   227 N COUNTY RD             Suffolk     40.96   \n",
      "25      10009                  801 EAST 14TH ST            New York     40.73   \n",
      "109     10566                  1 CHARLES PT AVE  WESTCHESTER COUNTY     41.28   \n",
      "178     14048                100 Willowbrook Dr   CHAUTAUQUA COUNTY     42.47   \n",
      "6       10305              143 EDGEWATER STREET            Richmond     40.62   \n",
      "150     12883              568 SHORE AIRPORT RD               Essex     43.89   \n",
      "170     12828                     1 Eddy Street   WASHINGTON COUNTY     43.27   \n",
      "\n",
      "     ...             industry_sector        2018        2017        2016  \\\n",
      "26   ...                Power Plants    66469.00    23171.91    72685.02   \n",
      "21   ...                Power Plants    72777.15    63353.55    52544.56   \n",
      "107  ...                       Waste    47585.15    33742.15    42644.35   \n",
      "112  ...                       Other    24947.51    23855.53    26807.34   \n",
      "36   ...                Power Plants   112792.08   100345.22   116696.76   \n",
      "131  ...                       Other    51108.21    48440.77    49128.22   \n",
      "116  ...              Pulp and Paper    97473.33   102918.21   112329.63   \n",
      "9    ...                Power Plants    94891.16    66776.68   136909.20   \n",
      "127  ...                       Waste    18761.91    16705.25    18086.55   \n",
      "55   ...                Power Plants    78894.46    39406.60    83193.19   \n",
      "163  ...                       Waste    60704.17    40056.33    46518.82   \n",
      "149  ...                       Waste   172535.23   157203.63   151334.70   \n",
      "47   ...                Power Plants     9993.86     2401.14     5345.38   \n",
      "113  ...                       Waste    21544.55    16071.65    14389.85   \n",
      "117  ...                       Other    78742.15    74343.74    82315.64   \n",
      "92   ...                       Waste     2526.05     2372.20     3056.60   \n",
      "132  ...                Power Plants   261123.17   165894.03   286259.00   \n",
      "121  ...                       Waste    69397.82    59680.19    67398.58   \n",
      "58   ...                Power Plants   224573.34    66830.15   293076.32   \n",
      "122  ...                Power Plants    33259.22    32111.08    32291.43   \n",
      "124  ...  OtherSuppliers of CO2Waste    77838.45    78756.65    79054.45   \n",
      "173  ...                       Other    75321.15    71990.41    76181.04   \n",
      "30   ...                Power Plants   903165.71   842832.31  1074674.89   \n",
      "145  ...                Power Plants    27817.10    26993.05    27059.85   \n",
      "68   ...                       Other    84652.80    81106.06    86377.36   \n",
      "136  ...                       Other    55810.74    69560.09    58457.38   \n",
      "171  ...                       Other     8360.15    33975.64    30965.47   \n",
      "137  ...                       Waste    23481.15    19678.80    14404.15   \n",
      "177  ...                       Waste    53043.45    55091.75    57212.35   \n",
      "12   ...                Power Plants     5810.91     3250.20     5303.26   \n",
      "25   ...                Power Plants  2003208.14  2058999.50  2062008.07   \n",
      "109  ...                       Waste   278673.74   274078.41   275864.29   \n",
      "178  ...                       Other    35986.26    34515.72    31802.28   \n",
      "6    ...                Power Plants    34950.42    26109.40    37529.01   \n",
      "150  ...         Pulp and PaperWaste   253693.11   260735.45   255147.44   \n",
      "170  ...              Pulp and Paper    32249.03    30277.24    30142.24   \n",
      "\n",
      "           2015        2014        2013        2012        2011  cluster_label  \n",
      "26     57026.62    25653.40   112345.07    99636.85   107077.43              0  \n",
      "21     29193.71    37231.60    21442.40      106.20       98.10              0  \n",
      "107    54085.75    99117.70    72084.65    52527.45    46922.15              0  \n",
      "112    30498.56    28621.62    28317.17    26429.64    27274.08              0  \n",
      "36    136345.94   158933.49   174569.99   204689.43   221298.62              0  \n",
      "131    50902.81    50967.71    83872.16    90203.71    88096.91              0  \n",
      "116   102463.96   102070.92    97992.24    99579.12   105993.60              0  \n",
      "9     151666.15   151252.33   111412.60    87295.81    65298.32              0  \n",
      "127    17561.90    19033.00    21902.10    32601.30    35630.10              0  \n",
      "55    141464.25    45044.53    19398.67    30589.09     9406.92              0  \n",
      "163    45270.79    47668.69    50201.79    88843.16    90908.98              0  \n",
      "149   144473.59   138324.23   135971.95   144866.77   143615.47              0  \n",
      "47      5233.48     6135.26     1554.19    13078.40     4412.75              0  \n",
      "113    12110.90    31379.20    30359.50    34189.85    31321.10              0  \n",
      "117    86456.21    88244.40    84232.88    82713.14    99319.14              0  \n",
      "92      3703.30     3912.25     3654.55     4591.25     5284.05              0  \n",
      "132   364673.56   302723.77   312006.15   355857.45   368704.75              0  \n",
      "121    64421.48    68010.28    65433.81    64287.46    63135.79              0  \n",
      "58    134780.21   182529.02   182851.90   774496.48    30121.27              0  \n",
      "122    32520.68    33185.02    32021.43    28372.34    33554.77              0  \n",
      "124    75834.76    76816.26    75437.71    75075.67    75567.81              0  \n",
      "173    71729.10    82947.06    99696.62    96879.98   119523.46              0  \n",
      "30    998234.30   992705.42   746005.13   731330.38   642612.81              2  \n",
      "145    27448.40    28713.49    28170.64    25089.06    29259.14              0  \n",
      "68     82872.33    84396.86    81789.91    79804.14    79792.80              0  \n",
      "136    69480.59    75650.62    74387.22    73066.12    74222.72              0  \n",
      "171    49099.17    47031.54    61528.39    55926.09    46862.50              0  \n",
      "137    14560.45    13626.20     5819.65     8721.70    10657.70              0  \n",
      "177    59444.35    61729.65    63791.10    65068.05    67478.30              0  \n",
      "12      3522.39     9257.20    14445.91    14927.56    15135.15              0  \n",
      "25   2047925.39  1963921.06  2222282.67  2133628.19  1997382.15              1  \n",
      "109   301073.50   265899.07   271203.62   252981.28   235935.24              0  \n",
      "178    34286.52    32025.28    30897.58    32691.48    30299.54              0  \n",
      "6      35012.82    23087.66    57174.39    52424.56    59359.68              0  \n",
      "150   284483.58   297559.60   271177.58   278812.88   305919.12              0  \n",
      "170    29727.69    28397.54    29107.84    28913.39    30689.88              0  \n",
      "\n",
      "[36 rows x 23 columns]\n"
     ]
    }
   ],
   "source": [
    "train_set, test_set = train_test_split(ghg_ny, test_size = 0.20, random_state = 15)\n",
    "print (\"This is the training set for the NY pollution data: \", train_set)\n",
    "print (\"This is the test set for the NY pollution data: \", test_set)"
   ]
  },
  {
   "cell_type": "code",
   "execution_count": 49,
   "metadata": {},
   "outputs": [
    {
     "name": "stdout",
     "output_type": "stream",
     "text": [
      "The slope for NY pollution levels in 2011 vs. the pollution levels in 2016: 0.659\n",
      "The intercept for NY pollution levels in 2011 vs. the pollution levels in 2016: 46633.421\n",
      "The r squared for NY pollution levels in 2011 vs. the pollution levels in 2016: 0.563\n"
     ]
    }
   ],
   "source": [
    "pollution_model = LinearRegression().fit(train_set[[\"2011\"]],train_set[[\"2016\"]])\n",
    "pollution_slope = pollution_model.coef_[0][0]\n",
    "pollution_intercept = pollution_model.intercept_[0]\n",
    "pollution_corr = pollution_model.score(train_set[[\"2011\"]],train_set[[\"2016\"]])\n",
    "print(\"The slope for NY pollution levels in 2011 vs. the pollution levels in 2016: {:.3f}\".format(pollution_slope))\n",
    "print(\"The intercept for NY pollution levels in 2011 vs. the pollution levels in 2016: {:.3f}\".format(pollution_intercept))\n",
    "print(\"The r squared for NY pollution levels in 2011 vs. the pollution levels in 2016: {:.3f}\".format(pollution_corr))"
   ]
  },
  {
   "cell_type": "code",
   "execution_count": 50,
   "metadata": {},
   "outputs": [
    {
     "name": "stdout",
     "output_type": "stream",
     "text": [
      "The percent accuracy of the training set is 56.27%\n"
     ]
    }
   ],
   "source": [
    "score_train = pollution_model.score(train_set[['2011']], train_set['2016'])\n",
    "print(\"The percent accuracy of the training set is \" + \"{:.2%}\".format(score_train))"
   ]
  },
  {
   "cell_type": "code",
   "execution_count": 51,
   "metadata": {},
   "outputs": [
    {
     "name": "stdout",
     "output_type": "stream",
     "text": [
      "The percent accuracy of the testing set is 80.29%\n"
     ]
    }
   ],
   "source": [
    "score_test = pollution_model.score(test_set[['2011']], test_set['2016'])\n",
    "print(\"The percent accuracy of the testing set is \" + \"{:.2%}\".format(score_test))"
   ]
  },
  {
   "cell_type": "code",
   "execution_count": 52,
   "metadata": {},
   "outputs": [
    {
     "data": {
      "text/html": [
       "<div>\n",
       "<style scoped>\n",
       "    .dataframe tbody tr th:only-of-type {\n",
       "        vertical-align: middle;\n",
       "    }\n",
       "\n",
       "    .dataframe tbody tr th {\n",
       "        vertical-align: top;\n",
       "    }\n",
       "\n",
       "    .dataframe thead th {\n",
       "        text-align: right;\n",
       "    }\n",
       "</style>\n",
       "<table border=\"1\" class=\"dataframe\">\n",
       "  <thead>\n",
       "    <tr style=\"text-align: right;\">\n",
       "      <th></th>\n",
       "      <th>cluster_label</th>\n",
       "      <th>predicted_industry</th>\n",
       "    </tr>\n",
       "  </thead>\n",
       "  <tbody>\n",
       "    <tr>\n",
       "      <th>0</th>\n",
       "      <td>0</td>\n",
       "      <td>Power Plants</td>\n",
       "    </tr>\n",
       "    <tr>\n",
       "      <th>1</th>\n",
       "      <td>1</td>\n",
       "      <td>Waste</td>\n",
       "    </tr>\n",
       "    <tr>\n",
       "      <th>2</th>\n",
       "      <td>2</td>\n",
       "      <td>Other</td>\n",
       "    </tr>\n",
       "  </tbody>\n",
       "</table>\n",
       "</div>"
      ],
      "text/plain": [
       "   cluster_label predicted_industry\n",
       "0              0       Power Plants\n",
       "1              1              Waste\n",
       "2              2              Other"
      ]
     },
     "execution_count": 52,
     "metadata": {},
     "output_type": "execute_result"
    }
   ],
   "source": [
    "industry_lookup = pd.DataFrame({\"cluster_label\": [0, 1, 2],\n",
    "                                        \"predicted_industry\": [\"Power Plants\", \"Waste\", \"Other\"]})\n",
    "industry_lookup.head()"
   ]
  },
  {
   "cell_type": "code",
   "execution_count": 53,
   "metadata": {},
   "outputs": [
    {
     "data": {
      "text/html": [
       "<div>\n",
       "<style scoped>\n",
       "    .dataframe tbody tr th:only-of-type {\n",
       "        vertical-align: middle;\n",
       "    }\n",
       "\n",
       "    .dataframe tbody tr th {\n",
       "        vertical-align: top;\n",
       "    }\n",
       "\n",
       "    .dataframe thead th {\n",
       "        text-align: right;\n",
       "    }\n",
       "</style>\n",
       "<table border=\"1\" class=\"dataframe\">\n",
       "  <thead>\n",
       "    <tr style=\"text-align: right;\">\n",
       "      <th></th>\n",
       "      <th>Unnamed: 0</th>\n",
       "      <th>facility_id</th>\n",
       "      <th>frs_id</th>\n",
       "      <th>facility_name</th>\n",
       "      <th>city</th>\n",
       "      <th>state</th>\n",
       "      <th>zip_code</th>\n",
       "      <th>address</th>\n",
       "      <th>county</th>\n",
       "      <th>latitude</th>\n",
       "      <th>...</th>\n",
       "      <th>2018</th>\n",
       "      <th>2017</th>\n",
       "      <th>2016</th>\n",
       "      <th>2015</th>\n",
       "      <th>2014</th>\n",
       "      <th>2013</th>\n",
       "      <th>2012</th>\n",
       "      <th>2011</th>\n",
       "      <th>cluster_label</th>\n",
       "      <th>predicted_industry</th>\n",
       "    </tr>\n",
       "  </thead>\n",
       "  <tbody>\n",
       "    <tr>\n",
       "      <th>0</th>\n",
       "      <td>0</td>\n",
       "      <td>1000077</td>\n",
       "      <td>110000774797</td>\n",
       "      <td>REPUBLIC STEEL LACKAWANNA</td>\n",
       "      <td>BLASDELL</td>\n",
       "      <td>NY</td>\n",
       "      <td>14219</td>\n",
       "      <td>S3049 LAKESHORE RD.</td>\n",
       "      <td>ERIE COUNTY</td>\n",
       "      <td>42.80</td>\n",
       "      <td>...</td>\n",
       "      <td>78801.40</td>\n",
       "      <td>76235.01</td>\n",
       "      <td>61447.47</td>\n",
       "      <td>73193.02</td>\n",
       "      <td>77355.81</td>\n",
       "      <td>71702.38</td>\n",
       "      <td>80619.20</td>\n",
       "      <td>72355.73</td>\n",
       "      <td>0</td>\n",
       "      <td>Power Plants</td>\n",
       "    </tr>\n",
       "    <tr>\n",
       "      <th>1</th>\n",
       "      <td>1</td>\n",
       "      <td>1000093</td>\n",
       "      <td>110000324435</td>\n",
       "      <td>Momentive Performance Materials</td>\n",
       "      <td>WATERFORD</td>\n",
       "      <td>NY</td>\n",
       "      <td>12188</td>\n",
       "      <td>260 HUDSON RIVER ROAD</td>\n",
       "      <td>Saratoga</td>\n",
       "      <td>42.82</td>\n",
       "      <td>...</td>\n",
       "      <td>134663.45</td>\n",
       "      <td>131363.56</td>\n",
       "      <td>125491.33</td>\n",
       "      <td>126818.78</td>\n",
       "      <td>127808.87</td>\n",
       "      <td>132095.46</td>\n",
       "      <td>120944.74</td>\n",
       "      <td>142529.89</td>\n",
       "      <td>0</td>\n",
       "      <td>Power Plants</td>\n",
       "    </tr>\n",
       "    <tr>\n",
       "      <th>2</th>\n",
       "      <td>3</td>\n",
       "      <td>1000108</td>\n",
       "      <td>110012158707</td>\n",
       "      <td>North 1st</td>\n",
       "      <td>BROOKLYN</td>\n",
       "      <td>NY</td>\n",
       "      <td>11211</td>\n",
       "      <td>NORTH 1ST &amp; 47-79 RIVER ST</td>\n",
       "      <td>Kings</td>\n",
       "      <td>40.72</td>\n",
       "      <td>...</td>\n",
       "      <td>31069.94</td>\n",
       "      <td>22460.32</td>\n",
       "      <td>26369.45</td>\n",
       "      <td>18559.93</td>\n",
       "      <td>20816.32</td>\n",
       "      <td>26629.45</td>\n",
       "      <td>26775.50</td>\n",
       "      <td>45473.83</td>\n",
       "      <td>0</td>\n",
       "      <td>Power Plants</td>\n",
       "    </tr>\n",
       "    <tr>\n",
       "      <th>3</th>\n",
       "      <td>4</td>\n",
       "      <td>1000111</td>\n",
       "      <td>110012158734</td>\n",
       "      <td>Vernon Boulevard</td>\n",
       "      <td>LONG ISLAND CITY</td>\n",
       "      <td>NY</td>\n",
       "      <td>11427</td>\n",
       "      <td>42 30 VERNON BLVD</td>\n",
       "      <td>Queens</td>\n",
       "      <td>40.75</td>\n",
       "      <td>...</td>\n",
       "      <td>35221.82</td>\n",
       "      <td>28073.30</td>\n",
       "      <td>28262.00</td>\n",
       "      <td>27000.90</td>\n",
       "      <td>26232.55</td>\n",
       "      <td>43133.84</td>\n",
       "      <td>38257.51</td>\n",
       "      <td>44820.68</td>\n",
       "      <td>0</td>\n",
       "      <td>Power Plants</td>\n",
       "    </tr>\n",
       "    <tr>\n",
       "      <th>4</th>\n",
       "      <td>5</td>\n",
       "      <td>1000112</td>\n",
       "      <td>110019827286</td>\n",
       "      <td>23rd and 3rd</td>\n",
       "      <td>BROOKLYN</td>\n",
       "      <td>NY</td>\n",
       "      <td>11232</td>\n",
       "      <td>730 3rd Avenue</td>\n",
       "      <td>Kings</td>\n",
       "      <td>40.66</td>\n",
       "      <td>...</td>\n",
       "      <td>70705.29</td>\n",
       "      <td>52698.66</td>\n",
       "      <td>66797.35</td>\n",
       "      <td>67399.25</td>\n",
       "      <td>40722.20</td>\n",
       "      <td>102599.22</td>\n",
       "      <td>68984.74</td>\n",
       "      <td>100591.83</td>\n",
       "      <td>0</td>\n",
       "      <td>Power Plants</td>\n",
       "    </tr>\n",
       "  </tbody>\n",
       "</table>\n",
       "<p>5 rows × 24 columns</p>\n",
       "</div>"
      ],
      "text/plain": [
       "   Unnamed: 0  facility_id        frs_id                    facility_name  \\\n",
       "0           0      1000077  110000774797        REPUBLIC STEEL LACKAWANNA   \n",
       "1           1      1000093  110000324435  Momentive Performance Materials   \n",
       "2           3      1000108  110012158707                        North 1st   \n",
       "3           4      1000111  110012158734                 Vernon Boulevard   \n",
       "4           5      1000112  110019827286                     23rd and 3rd   \n",
       "\n",
       "               city state  zip_code                     address       county  \\\n",
       "0          BLASDELL    NY     14219         S3049 LAKESHORE RD.  ERIE COUNTY   \n",
       "1         WATERFORD    NY     12188       260 HUDSON RIVER ROAD     Saratoga   \n",
       "2          BROOKLYN    NY     11211  NORTH 1ST & 47-79 RIVER ST        Kings   \n",
       "3  LONG ISLAND CITY    NY     11427           42 30 VERNON BLVD       Queens   \n",
       "4          BROOKLYN    NY     11232              730 3rd Avenue        Kings   \n",
       "\n",
       "   latitude  ...       2018       2017       2016       2015       2014  \\\n",
       "0     42.80  ...   78801.40   76235.01   61447.47   73193.02   77355.81   \n",
       "1     42.82  ...  134663.45  131363.56  125491.33  126818.78  127808.87   \n",
       "2     40.72  ...   31069.94   22460.32   26369.45   18559.93   20816.32   \n",
       "3     40.75  ...   35221.82   28073.30   28262.00   27000.90   26232.55   \n",
       "4     40.66  ...   70705.29   52698.66   66797.35   67399.25   40722.20   \n",
       "\n",
       "        2013       2012       2011  cluster_label  predicted_industry  \n",
       "0   71702.38   80619.20   72355.73              0        Power Plants  \n",
       "1  132095.46  120944.74  142529.89              0        Power Plants  \n",
       "2   26629.45   26775.50   45473.83              0        Power Plants  \n",
       "3   43133.84   38257.51   44820.68              0        Power Plants  \n",
       "4  102599.22   68984.74  100591.83              0        Power Plants  \n",
       "\n",
       "[5 rows x 24 columns]"
      ]
     },
     "execution_count": 53,
     "metadata": {},
     "output_type": "execute_result"
    }
   ],
   "source": [
    "industry_predict = pd.merge(ghg_ny, industry_lookup, on=\"cluster_label\")\n",
    "industry_predict.head()"
   ]
  },
  {
   "cell_type": "code",
   "execution_count": 54,
   "metadata": {},
   "outputs": [
    {
     "name": "stdout",
     "output_type": "stream",
     "text": [
      "The percent accuracy of predicting industry based on 2011 and 2016 pollution levels is: 31.84%\n"
     ]
    }
   ],
   "source": [
    "num_correct = 0\n",
    "for row in range(len(industry_predict)):\n",
    "    if (industry_predict.iloc[row]['industry_sector'] == industry_predict.iloc[row][\"predicted_industry\"]):\n",
    "        num_correct = num_correct + 1\n",
    "accuracy = (num_correct/len(industry_predict))\n",
    "print(\"The percent accuracy of predicting industry based on 2011 and 2016 pollution levels is: \" + \"{:.2%}\".format(accuracy))"
   ]
  },
  {
   "cell_type": "markdown",
   "metadata": {},
   "source": [
    "# Interpretations and Conclusion"
   ]
  },
  {
   "cell_type": "markdown",
   "metadata": {},
   "source": [
    "# Limitations"
   ]
  },
  {
   "cell_type": "markdown",
   "metadata": {},
   "source": [
    "For our research question, we are interested in the relationship between climate change throughout the years and sentiment towards environmental activism and sustainable practices in the general public. This dataset, however, shows pollution levels by specific facilities and industries and not the general public. Because the dataset doesn’t reflect the entire population of who we’re trying to analyze, the trends we find might not be generalizable to the entire public and it might be difficult to bring the dataset of greenhouse gas emissions and recycling and bike usage together exactly. Since this data was collected by the EPA likely to regulate emissions, the emissions over time for each observation might be affected by certain EPA regulations. Another limitation includes the fact that the bike and recycling data is only for New York City and so we are not able to generalize our finding to all of New York State."
   ]
  },
  {
   "cell_type": "code",
   "execution_count": null,
   "metadata": {},
   "outputs": [],
   "source": []
  }
 ],
 "metadata": {
  "kernelspec": {
   "display_name": "Python 3",
   "language": "python",
   "name": "python3"
  },
  "language_info": {
   "codemirror_mode": {
    "name": "ipython",
    "version": 3
   },
   "file_extension": ".py",
   "mimetype": "text/x-python",
   "name": "python",
   "nbconvert_exporter": "python",
   "pygments_lexer": "ipython3",
   "version": "3.8.3"
  }
 },
 "nbformat": 4,
 "nbformat_minor": 4
}
