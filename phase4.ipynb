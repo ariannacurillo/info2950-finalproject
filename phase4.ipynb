{
 "cells": [
  {
   "cell_type": "code",
   "execution_count": 133,
   "metadata": {},
   "outputs": [],
   "source": [
    "## load libraries\n",
    "import pandas as pd\n",
    "import numpy as np\n",
    "import matplotlib.pyplot as plt\n",
    "from scipy import stats\n",
    "import seaborn as sns\n",
    "from datetime import datetime\n",
    "from sklearn.cluster import KMeans\n",
    "from sklearn.linear_model import LinearRegression\n",
    "from sklearn.linear_model import LogisticRegression\n",
    "from sklearn.model_selection import train_test_split\n",
    "from scipy import stats\n",
    "from scipy.stats import poisson, ttest_ind"
   ]
  },
  {
   "cell_type": "code",
   "execution_count": 2,
   "metadata": {},
   "outputs": [
    {
     "data": {
      "text/html": [
       "<div>\n",
       "<style scoped>\n",
       "    .dataframe tbody tr th:only-of-type {\n",
       "        vertical-align: middle;\n",
       "    }\n",
       "\n",
       "    .dataframe tbody tr th {\n",
       "        vertical-align: top;\n",
       "    }\n",
       "\n",
       "    .dataframe thead th {\n",
       "        text-align: right;\n",
       "    }\n",
       "</style>\n",
       "<table border=\"1\" class=\"dataframe\">\n",
       "  <thead>\n",
       "    <tr style=\"text-align: right;\">\n",
       "      <th></th>\n",
       "      <th>tripduration</th>\n",
       "      <th>starttime</th>\n",
       "      <th>stoptime</th>\n",
       "      <th>start station id</th>\n",
       "      <th>start station name</th>\n",
       "      <th>start station latitude</th>\n",
       "      <th>start station longitude</th>\n",
       "      <th>end station id</th>\n",
       "      <th>end station name</th>\n",
       "      <th>end station latitude</th>\n",
       "      <th>end station longitude</th>\n",
       "      <th>bikeid</th>\n",
       "      <th>usertype</th>\n",
       "      <th>birthyear</th>\n",
       "      <th>gender</th>\n",
       "    </tr>\n",
       "  </thead>\n",
       "  <tbody>\n",
       "    <tr>\n",
       "      <th>0</th>\n",
       "      <td>695</td>\n",
       "      <td>2013-06-01 00:00:01</td>\n",
       "      <td>2013-06-01 00:11:36</td>\n",
       "      <td>444</td>\n",
       "      <td>Broadway &amp; W 24 St</td>\n",
       "      <td>40.742354</td>\n",
       "      <td>-73.989151</td>\n",
       "      <td>434.0</td>\n",
       "      <td>9 Ave &amp; W 18 St</td>\n",
       "      <td>40.743174</td>\n",
       "      <td>-74.003664</td>\n",
       "      <td>19678</td>\n",
       "      <td>Subscriber</td>\n",
       "      <td>1983.0</td>\n",
       "      <td>1</td>\n",
       "    </tr>\n",
       "    <tr>\n",
       "      <th>1</th>\n",
       "      <td>693</td>\n",
       "      <td>2013-06-01 00:00:08</td>\n",
       "      <td>2013-06-01 00:11:41</td>\n",
       "      <td>444</td>\n",
       "      <td>Broadway &amp; W 24 St</td>\n",
       "      <td>40.742354</td>\n",
       "      <td>-73.989151</td>\n",
       "      <td>434.0</td>\n",
       "      <td>9 Ave &amp; W 18 St</td>\n",
       "      <td>40.743174</td>\n",
       "      <td>-74.003664</td>\n",
       "      <td>16649</td>\n",
       "      <td>Subscriber</td>\n",
       "      <td>1984.0</td>\n",
       "      <td>1</td>\n",
       "    </tr>\n",
       "    <tr>\n",
       "      <th>2</th>\n",
       "      <td>2059</td>\n",
       "      <td>2013-06-01 00:00:44</td>\n",
       "      <td>2013-06-01 00:35:03</td>\n",
       "      <td>406</td>\n",
       "      <td>Hicks St &amp; Montague St</td>\n",
       "      <td>40.695128</td>\n",
       "      <td>-73.995951</td>\n",
       "      <td>406.0</td>\n",
       "      <td>Hicks St &amp; Montague St</td>\n",
       "      <td>40.695128</td>\n",
       "      <td>-73.995951</td>\n",
       "      <td>19599</td>\n",
       "      <td>Customer</td>\n",
       "      <td>NaN</td>\n",
       "      <td>0</td>\n",
       "    </tr>\n",
       "    <tr>\n",
       "      <th>3</th>\n",
       "      <td>123</td>\n",
       "      <td>2013-06-01 00:01:04</td>\n",
       "      <td>2013-06-01 00:03:07</td>\n",
       "      <td>475</td>\n",
       "      <td>E 15 St &amp; Irving Pl</td>\n",
       "      <td>40.735243</td>\n",
       "      <td>-73.987586</td>\n",
       "      <td>262.0</td>\n",
       "      <td>Washington Park</td>\n",
       "      <td>40.691782</td>\n",
       "      <td>-73.973730</td>\n",
       "      <td>16352</td>\n",
       "      <td>Subscriber</td>\n",
       "      <td>1960.0</td>\n",
       "      <td>1</td>\n",
       "    </tr>\n",
       "    <tr>\n",
       "      <th>4</th>\n",
       "      <td>1521</td>\n",
       "      <td>2013-06-01 00:01:22</td>\n",
       "      <td>2013-06-01 00:26:43</td>\n",
       "      <td>2008</td>\n",
       "      <td>Little West St &amp; 1 Pl</td>\n",
       "      <td>40.705693</td>\n",
       "      <td>-74.016777</td>\n",
       "      <td>310.0</td>\n",
       "      <td>State St &amp; Smith St</td>\n",
       "      <td>40.689269</td>\n",
       "      <td>-73.989129</td>\n",
       "      <td>15567</td>\n",
       "      <td>Subscriber</td>\n",
       "      <td>1983.0</td>\n",
       "      <td>1</td>\n",
       "    </tr>\n",
       "  </tbody>\n",
       "</table>\n",
       "</div>"
      ],
      "text/plain": [
       "   tripduration            starttime             stoptime  start station id  \\\n",
       "0           695  2013-06-01 00:00:01  2013-06-01 00:11:36               444   \n",
       "1           693  2013-06-01 00:00:08  2013-06-01 00:11:41               444   \n",
       "2          2059  2013-06-01 00:00:44  2013-06-01 00:35:03               406   \n",
       "3           123  2013-06-01 00:01:04  2013-06-01 00:03:07               475   \n",
       "4          1521  2013-06-01 00:01:22  2013-06-01 00:26:43              2008   \n",
       "\n",
       "       start station name  start station latitude  start station longitude  \\\n",
       "0      Broadway & W 24 St               40.742354               -73.989151   \n",
       "1      Broadway & W 24 St               40.742354               -73.989151   \n",
       "2  Hicks St & Montague St               40.695128               -73.995951   \n",
       "3     E 15 St & Irving Pl               40.735243               -73.987586   \n",
       "4   Little West St & 1 Pl               40.705693               -74.016777   \n",
       "\n",
       "   end station id        end station name  end station latitude  \\\n",
       "0           434.0         9 Ave & W 18 St             40.743174   \n",
       "1           434.0         9 Ave & W 18 St             40.743174   \n",
       "2           406.0  Hicks St & Montague St             40.695128   \n",
       "3           262.0         Washington Park             40.691782   \n",
       "4           310.0     State St & Smith St             40.689269   \n",
       "\n",
       "   end station longitude  bikeid    usertype  birthyear  gender  \n",
       "0             -74.003664   19678  Subscriber     1983.0       1  \n",
       "1             -74.003664   16649  Subscriber     1984.0       1  \n",
       "2             -73.995951   19599    Customer        NaN       0  \n",
       "3             -73.973730   16352  Subscriber     1960.0       1  \n",
       "4             -73.989129   15567  Subscriber     1983.0       1  "
      ]
     },
     "execution_count": 2,
     "metadata": {},
     "output_type": "execute_result"
    }
   ],
   "source": [
    "## load data on ghg data\n",
    "biking_2013 = pd.read_csv(\"201306-citibike-tripdata.csv\")\n",
    "biking_2013 = biking_2013.rename(columns={\"birth year\":\"birthyear\"})\n",
    "biking_2013.head()"
   ]
  },
  {
   "cell_type": "code",
   "execution_count": 3,
   "metadata": {},
   "outputs": [
    {
     "data": {
      "text/html": [
       "<div>\n",
       "<style scoped>\n",
       "    .dataframe tbody tr th:only-of-type {\n",
       "        vertical-align: middle;\n",
       "    }\n",
       "\n",
       "    .dataframe tbody tr th {\n",
       "        vertical-align: top;\n",
       "    }\n",
       "\n",
       "    .dataframe thead th {\n",
       "        text-align: right;\n",
       "    }\n",
       "</style>\n",
       "<table border=\"1\" class=\"dataframe\">\n",
       "  <thead>\n",
       "    <tr style=\"text-align: right;\">\n",
       "      <th></th>\n",
       "      <th>tripduration</th>\n",
       "      <th>starttime</th>\n",
       "      <th>stoptime</th>\n",
       "      <th>start station id</th>\n",
       "      <th>start station name</th>\n",
       "      <th>start station latitude</th>\n",
       "      <th>start station longitude</th>\n",
       "      <th>end station id</th>\n",
       "      <th>end station name</th>\n",
       "      <th>end station latitude</th>\n",
       "      <th>end station longitude</th>\n",
       "      <th>bikeid</th>\n",
       "      <th>usertype</th>\n",
       "      <th>birthyear</th>\n",
       "      <th>gender</th>\n",
       "    </tr>\n",
       "  </thead>\n",
       "  <tbody>\n",
       "    <tr>\n",
       "      <th>0</th>\n",
       "      <td>1470</td>\n",
       "      <td>6/1/2016 00:00:18</td>\n",
       "      <td>6/1/2016 00:24:48</td>\n",
       "      <td>380</td>\n",
       "      <td>W 4 St &amp; 7 Ave S</td>\n",
       "      <td>40.734011</td>\n",
       "      <td>-74.002939</td>\n",
       "      <td>3236</td>\n",
       "      <td>W 42 St &amp; Dyer Ave</td>\n",
       "      <td>40.758985</td>\n",
       "      <td>-73.993800</td>\n",
       "      <td>19859</td>\n",
       "      <td>Subscriber</td>\n",
       "      <td>1972.0</td>\n",
       "      <td>1</td>\n",
       "    </tr>\n",
       "    <tr>\n",
       "      <th>1</th>\n",
       "      <td>229</td>\n",
       "      <td>6/1/2016 00:00:20</td>\n",
       "      <td>6/1/2016 00:04:09</td>\n",
       "      <td>3092</td>\n",
       "      <td>Berry St &amp; N 8 St</td>\n",
       "      <td>40.719009</td>\n",
       "      <td>-73.958525</td>\n",
       "      <td>3103</td>\n",
       "      <td>N 11 St &amp; Wythe Ave</td>\n",
       "      <td>40.721533</td>\n",
       "      <td>-73.957824</td>\n",
       "      <td>16233</td>\n",
       "      <td>Subscriber</td>\n",
       "      <td>1967.0</td>\n",
       "      <td>1</td>\n",
       "    </tr>\n",
       "    <tr>\n",
       "      <th>2</th>\n",
       "      <td>344</td>\n",
       "      <td>6/1/2016 00:00:21</td>\n",
       "      <td>6/1/2016 00:06:06</td>\n",
       "      <td>449</td>\n",
       "      <td>W 52 St &amp; 9 Ave</td>\n",
       "      <td>40.764618</td>\n",
       "      <td>-73.987895</td>\n",
       "      <td>469</td>\n",
       "      <td>Broadway &amp; W 53 St</td>\n",
       "      <td>40.763441</td>\n",
       "      <td>-73.982681</td>\n",
       "      <td>22397</td>\n",
       "      <td>Subscriber</td>\n",
       "      <td>1989.0</td>\n",
       "      <td>1</td>\n",
       "    </tr>\n",
       "    <tr>\n",
       "      <th>3</th>\n",
       "      <td>1120</td>\n",
       "      <td>6/1/2016 00:00:28</td>\n",
       "      <td>6/1/2016 00:19:09</td>\n",
       "      <td>522</td>\n",
       "      <td>E 51 St &amp; Lexington Ave</td>\n",
       "      <td>40.757148</td>\n",
       "      <td>-73.972078</td>\n",
       "      <td>401</td>\n",
       "      <td>Allen St &amp; Rivington St</td>\n",
       "      <td>40.720196</td>\n",
       "      <td>-73.989978</td>\n",
       "      <td>16231</td>\n",
       "      <td>Subscriber</td>\n",
       "      <td>1991.0</td>\n",
       "      <td>1</td>\n",
       "    </tr>\n",
       "    <tr>\n",
       "      <th>4</th>\n",
       "      <td>229</td>\n",
       "      <td>6/1/2016 00:00:53</td>\n",
       "      <td>6/1/2016 00:04:42</td>\n",
       "      <td>335</td>\n",
       "      <td>Washington Pl &amp; Broadway</td>\n",
       "      <td>40.729039</td>\n",
       "      <td>-73.994046</td>\n",
       "      <td>285</td>\n",
       "      <td>Broadway &amp; E 14 St</td>\n",
       "      <td>40.734546</td>\n",
       "      <td>-73.990741</td>\n",
       "      <td>15400</td>\n",
       "      <td>Subscriber</td>\n",
       "      <td>1989.0</td>\n",
       "      <td>1</td>\n",
       "    </tr>\n",
       "  </tbody>\n",
       "</table>\n",
       "</div>"
      ],
      "text/plain": [
       "   tripduration          starttime           stoptime  start station id  \\\n",
       "0          1470  6/1/2016 00:00:18  6/1/2016 00:24:48               380   \n",
       "1           229  6/1/2016 00:00:20  6/1/2016 00:04:09              3092   \n",
       "2           344  6/1/2016 00:00:21  6/1/2016 00:06:06               449   \n",
       "3          1120  6/1/2016 00:00:28  6/1/2016 00:19:09               522   \n",
       "4           229  6/1/2016 00:00:53  6/1/2016 00:04:42               335   \n",
       "\n",
       "         start station name  start station latitude  start station longitude  \\\n",
       "0          W 4 St & 7 Ave S               40.734011               -74.002939   \n",
       "1         Berry St & N 8 St               40.719009               -73.958525   \n",
       "2           W 52 St & 9 Ave               40.764618               -73.987895   \n",
       "3   E 51 St & Lexington Ave               40.757148               -73.972078   \n",
       "4  Washington Pl & Broadway               40.729039               -73.994046   \n",
       "\n",
       "   end station id         end station name  end station latitude  \\\n",
       "0            3236       W 42 St & Dyer Ave             40.758985   \n",
       "1            3103      N 11 St & Wythe Ave             40.721533   \n",
       "2             469       Broadway & W 53 St             40.763441   \n",
       "3             401  Allen St & Rivington St             40.720196   \n",
       "4             285       Broadway & E 14 St             40.734546   \n",
       "\n",
       "   end station longitude  bikeid    usertype  birthyear  gender  \n",
       "0             -73.993800   19859  Subscriber     1972.0       1  \n",
       "1             -73.957824   16233  Subscriber     1967.0       1  \n",
       "2             -73.982681   22397  Subscriber     1989.0       1  \n",
       "3             -73.989978   16231  Subscriber     1991.0       1  \n",
       "4             -73.990741   15400  Subscriber     1989.0       1  "
      ]
     },
     "execution_count": 3,
     "metadata": {},
     "output_type": "execute_result"
    }
   ],
   "source": [
    "biking_2016 = pd.read_csv(\"201606-citibike-tripdata.csv\")\n",
    "biking_2016 = biking_2016.rename(columns={\"birth year\":\"birthyear\"})\n",
    "biking_2016.head()"
   ]
  },
  {
   "cell_type": "code",
   "execution_count": 4,
   "metadata": {},
   "outputs": [
    {
     "data": {
      "text/html": [
       "<div>\n",
       "<style scoped>\n",
       "    .dataframe tbody tr th:only-of-type {\n",
       "        vertical-align: middle;\n",
       "    }\n",
       "\n",
       "    .dataframe tbody tr th {\n",
       "        vertical-align: top;\n",
       "    }\n",
       "\n",
       "    .dataframe thead th {\n",
       "        text-align: right;\n",
       "    }\n",
       "</style>\n",
       "<table border=\"1\" class=\"dataframe\">\n",
       "  <thead>\n",
       "    <tr style=\"text-align: right;\">\n",
       "      <th></th>\n",
       "      <th>fromstreet</th>\n",
       "      <th>street</th>\n",
       "      <th>boro</th>\n",
       "      <th>the_geom</th>\n",
       "      <th>tostreet</th>\n",
       "      <th>onoffst</th>\n",
       "      <th>allclasses</th>\n",
       "      <th>instdate</th>\n",
       "      <th>moddate</th>\n",
       "      <th>comments</th>\n",
       "      <th>bikedir</th>\n",
       "      <th>lanecount</th>\n",
       "      <th>ft_facilit</th>\n",
       "      <th>tf_facilit</th>\n",
       "      <th>SegmentID</th>\n",
       "      <th>Shape_Leng</th>\n",
       "    </tr>\n",
       "  </thead>\n",
       "  <tbody>\n",
       "    <tr>\n",
       "      <th>0</th>\n",
       "      <td>W 16 ST</td>\n",
       "      <td>9 AV</td>\n",
       "      <td>1</td>\n",
       "      <td>MULTILINESTRING ((-74.00039850899998 40.747767...</td>\n",
       "      <td>W 31 ST</td>\n",
       "      <td>ON</td>\n",
       "      <td>I</td>\n",
       "      <td>09/25/2008 12:00:00 AM +0000</td>\n",
       "      <td>09/25/2008 12:00:00 AM +0000</td>\n",
       "      <td>NaN</td>\n",
       "      <td>L</td>\n",
       "      <td>1</td>\n",
       "      <td>NaN</td>\n",
       "      <td>Protected Path</td>\n",
       "      <td>33547.0</td>\n",
       "      <td>0.000782</td>\n",
       "    </tr>\n",
       "    <tr>\n",
       "      <th>1</th>\n",
       "      <td>DEAN ST</td>\n",
       "      <td>3 AV</td>\n",
       "      <td>3</td>\n",
       "      <td>MULTILINESTRING ((-73.98747868599997 40.675707...</td>\n",
       "      <td>15 ST</td>\n",
       "      <td>ON</td>\n",
       "      <td>II</td>\n",
       "      <td>07/01/1980 12:00:00 AM +0000</td>\n",
       "      <td>07/01/1980 12:00:00 AM +0000</td>\n",
       "      <td>NaN</td>\n",
       "      <td>R</td>\n",
       "      <td>1</td>\n",
       "      <td>Standard</td>\n",
       "      <td>NaN</td>\n",
       "      <td>22630.0</td>\n",
       "      <td>0.000820</td>\n",
       "    </tr>\n",
       "    <tr>\n",
       "      <th>2</th>\n",
       "      <td>TILLARY ST</td>\n",
       "      <td>ADAMS ST</td>\n",
       "      <td>3</td>\n",
       "      <td>MULTILINESTRING ((-73.98850195799997 40.697357...</td>\n",
       "      <td>SANDS ST</td>\n",
       "      <td>ON</td>\n",
       "      <td>III</td>\n",
       "      <td>06/01/2006 12:00:00 AM +0000</td>\n",
       "      <td>07/01/2017 12:00:00 AM +0000</td>\n",
       "      <td>downgrade to shared</td>\n",
       "      <td>L</td>\n",
       "      <td>1</td>\n",
       "      <td>NaN</td>\n",
       "      <td>Sharrows</td>\n",
       "      <td>299123.0</td>\n",
       "      <td>0.001014</td>\n",
       "    </tr>\n",
       "    <tr>\n",
       "      <th>3</th>\n",
       "      <td>5 AV</td>\n",
       "      <td>W 39 ST</td>\n",
       "      <td>1</td>\n",
       "      <td>MULTILINESTRING ((-73.98227490399995 40.751577...</td>\n",
       "      <td>8 AV</td>\n",
       "      <td>ON</td>\n",
       "      <td>III</td>\n",
       "      <td>09/12/2012 12:00:00 AM +0000</td>\n",
       "      <td>09/12/2012 12:00:00 AM +0000</td>\n",
       "      <td>NaN</td>\n",
       "      <td>R</td>\n",
       "      <td>1</td>\n",
       "      <td>Sharrows</td>\n",
       "      <td>NaN</td>\n",
       "      <td>34170.0</td>\n",
       "      <td>0.003488</td>\n",
       "    </tr>\n",
       "    <tr>\n",
       "      <th>4</th>\n",
       "      <td>FLUSHING AV</td>\n",
       "      <td>THROOP AV</td>\n",
       "      <td>3</td>\n",
       "      <td>MULTILINESTRING ((-73.94149491699994 40.685764...</td>\n",
       "      <td>FULTON ST</td>\n",
       "      <td>ON</td>\n",
       "      <td>II</td>\n",
       "      <td>06/01/2003 12:00:00 AM +0000</td>\n",
       "      <td>06/01/2003 12:00:00 AM +0000</td>\n",
       "      <td>NaN</td>\n",
       "      <td>L</td>\n",
       "      <td>1</td>\n",
       "      <td>NaN</td>\n",
       "      <td>Standard</td>\n",
       "      <td>43043.0</td>\n",
       "      <td>0.000748</td>\n",
       "    </tr>\n",
       "  </tbody>\n",
       "</table>\n",
       "</div>"
      ],
      "text/plain": [
       "    fromstreet     street  boro  \\\n",
       "0      W 16 ST       9 AV     1   \n",
       "1      DEAN ST       3 AV     3   \n",
       "2   TILLARY ST   ADAMS ST     3   \n",
       "3         5 AV    W 39 ST     1   \n",
       "4  FLUSHING AV  THROOP AV     3   \n",
       "\n",
       "                                            the_geom   tostreet onoffst  \\\n",
       "0  MULTILINESTRING ((-74.00039850899998 40.747767...    W 31 ST      ON   \n",
       "1  MULTILINESTRING ((-73.98747868599997 40.675707...      15 ST      ON   \n",
       "2  MULTILINESTRING ((-73.98850195799997 40.697357...   SANDS ST      ON   \n",
       "3  MULTILINESTRING ((-73.98227490399995 40.751577...       8 AV      ON   \n",
       "4  MULTILINESTRING ((-73.94149491699994 40.685764...  FULTON ST      ON   \n",
       "\n",
       "  allclasses                      instdate                       moddate  \\\n",
       "0          I  09/25/2008 12:00:00 AM +0000  09/25/2008 12:00:00 AM +0000   \n",
       "1         II  07/01/1980 12:00:00 AM +0000  07/01/1980 12:00:00 AM +0000   \n",
       "2        III  06/01/2006 12:00:00 AM +0000  07/01/2017 12:00:00 AM +0000   \n",
       "3        III  09/12/2012 12:00:00 AM +0000  09/12/2012 12:00:00 AM +0000   \n",
       "4         II  06/01/2003 12:00:00 AM +0000  06/01/2003 12:00:00 AM +0000   \n",
       "\n",
       "              comments bikedir  lanecount ft_facilit      tf_facilit  \\\n",
       "0                  NaN       L          1        NaN  Protected Path   \n",
       "1                  NaN       R          1   Standard             NaN   \n",
       "2  downgrade to shared       L          1        NaN        Sharrows   \n",
       "3                  NaN       R          1   Sharrows             NaN   \n",
       "4                  NaN       L          1        NaN        Standard   \n",
       "\n",
       "   SegmentID  Shape_Leng  \n",
       "0    33547.0    0.000782  \n",
       "1    22630.0    0.000820  \n",
       "2   299123.0    0.001014  \n",
       "3    34170.0    0.003488  \n",
       "4    43043.0    0.000748  "
      ]
     },
     "execution_count": 4,
     "metadata": {},
     "output_type": "execute_result"
    }
   ],
   "source": [
    "routes = pd.read_csv(\"bicycle-routes-1.csv\")\n",
    "routes.head()"
   ]
  },
  {
   "cell_type": "code",
   "execution_count": 5,
   "metadata": {},
   "outputs": [
    {
     "data": {
      "text/plain": [
       "1460318"
      ]
     },
     "execution_count": 5,
     "metadata": {},
     "output_type": "execute_result"
    }
   ],
   "source": [
    "len(biking_2016)"
   ]
  },
  {
   "cell_type": "code",
   "execution_count": 6,
   "metadata": {},
   "outputs": [
    {
     "data": {
      "text/plain": [
       "577703"
      ]
     },
     "execution_count": 6,
     "metadata": {},
     "output_type": "execute_result"
    }
   ],
   "source": [
    "len(biking_2013)"
   ]
  },
  {
   "cell_type": "code",
   "execution_count": 7,
   "metadata": {},
   "outputs": [
    {
     "data": {
      "image/png": "[encoded data removed]",
      "text/plain": [
       "<Figure size 432x288 with 1 Axes>"
      ]
     },
     "metadata": {
      "needs_background": "light"
     },
     "output_type": "display_data"
    }
   ],
   "source": [
    "plt.plot(biking_2013[\"tripduration\"])\n",
    "plt.xlabel(\"User id\")\n",
    "plt.ylabel(\"Trip duration in 2013\")\n",
    "plt.show()"
   ]
  },
  {
   "cell_type": "code",
   "execution_count": 8,
   "metadata": {},
   "outputs": [
    {
     "data": {
      "image/png": "[encoded data removed]",
      "text/plain": [
       "<Figure size 432x288 with 1 Axes>"
      ]
     },
     "metadata": {
      "needs_background": "light"
     },
     "output_type": "display_data"
    }
   ],
   "source": [
    "plt.plot(biking_2016[\"tripduration\"])\n",
    "plt.xlabel(\"User id\")\n",
    "plt.ylabel(\"Trip duration in 2016\")\n",
    "plt.show()"
   ]
  },
  {
   "cell_type": "code",
   "execution_count": 9,
   "metadata": {},
   "outputs": [
    {
     "data": {
      "text/plain": [
       "337384"
      ]
     },
     "execution_count": 9,
     "metadata": {},
     "output_type": "execute_result"
    }
   ],
   "source": [
    "num_subscribers_2013 = biking_2013.query(\"usertype == 'Subscriber'\")\n",
    "len(num_subscribers_2013)"
   ]
  },
  {
   "cell_type": "code",
   "execution_count": 10,
   "metadata": {},
   "outputs": [
    {
     "data": {
      "text/plain": [
       "1303486"
      ]
     },
     "execution_count": 10,
     "metadata": {},
     "output_type": "execute_result"
    }
   ],
   "source": [
    "num_subscribers_2016 = biking_2016.query(\"usertype == 'Subscriber'\")\n",
    "len(num_subscribers_2016)"
   ]
  },
  {
   "cell_type": "code",
   "execution_count": 11,
   "metadata": {},
   "outputs": [
    {
     "name": "stdout",
     "output_type": "stream",
     "text": [
      "The percent of subscribers in 2013 is 58.40%\n"
     ]
    }
   ],
   "source": [
    "percent_subscribers_2013 = len(num_subscribers_2013) / len(biking_2013)\n",
    "print(\"The percent of subscribers in 2013 is \" + \"{:.2%}\".format(percent_subscribers_2013))"
   ]
  },
  {
   "cell_type": "code",
   "execution_count": 12,
   "metadata": {},
   "outputs": [
    {
     "name": "stdout",
     "output_type": "stream",
     "text": [
      "The percent of subscribers in 2016 is 89.26%\n"
     ]
    }
   ],
   "source": [
    "percent_subscribers_2016 = len(num_subscribers_2016) / len(biking_2016)\n",
    "print(\"The percent of subscribers in 2016 is \" + \"{:.2%}\".format(percent_subscribers_2016))"
   ]
  },
  {
   "cell_type": "code",
   "execution_count": 13,
   "metadata": {},
   "outputs": [
    {
     "name": "stdout",
     "output_type": "stream",
     "text": [
      "The percent of change of subscribers from 2013 to 2016 is 286.35%\n"
     ]
    }
   ],
   "source": [
    "##Percent change in subscribers from 2013 to 2019\n",
    "percent_change = (len(num_subscribers_2016) - len(num_subscribers_2013) ) / len(num_subscribers_2013)\n",
    "print(\"The percent of change of subscribers from 2013 to 2016 is \" + \"{:.2%}\".format(percent_change))"
   ]
  },
  {
   "cell_type": "code",
   "execution_count": 21,
   "metadata": {},
   "outputs": [
    {
     "data": {
      "text/plain": [
       "73961"
      ]
     },
     "execution_count": 21,
     "metadata": {},
     "output_type": "execute_result"
    }
   ],
   "source": [
    "biking_2013_subset[\"tripduration\"].max()"
   ]
  },
  {
   "cell_type": "code",
   "execution_count": 24,
   "metadata": {},
   "outputs": [
    {
     "data": {
      "text/html": [
       "<div>\n",
       "<style scoped>\n",
       "    .dataframe tbody tr th:only-of-type {\n",
       "        vertical-align: middle;\n",
       "    }\n",
       "\n",
       "    .dataframe tbody tr th {\n",
       "        vertical-align: top;\n",
       "    }\n",
       "\n",
       "    .dataframe thead th {\n",
       "        text-align: right;\n",
       "    }\n",
       "</style>\n",
       "<table border=\"1\" class=\"dataframe\">\n",
       "  <thead>\n",
       "    <tr style=\"text-align: right;\">\n",
       "      <th></th>\n",
       "      <th>index</th>\n",
       "      <th>tripduration</th>\n",
       "      <th>starttime</th>\n",
       "      <th>stoptime</th>\n",
       "      <th>start station id</th>\n",
       "      <th>start station name</th>\n",
       "      <th>start station latitude</th>\n",
       "      <th>start station longitude</th>\n",
       "      <th>end station id</th>\n",
       "      <th>end station name</th>\n",
       "      <th>end station latitude</th>\n",
       "      <th>end station longitude</th>\n",
       "      <th>bikeid</th>\n",
       "      <th>usertype</th>\n",
       "      <th>birthyear</th>\n",
       "      <th>gender</th>\n",
       "    </tr>\n",
       "  </thead>\n",
       "  <tbody>\n",
       "    <tr>\n",
       "      <th>0</th>\n",
       "      <td>293204</td>\n",
       "      <td>936</td>\n",
       "      <td>2013-06-20 17:34:19</td>\n",
       "      <td>2013-06-20 17:49:55</td>\n",
       "      <td>151</td>\n",
       "      <td>Cleveland Pl &amp; Spring St</td>\n",
       "      <td>40.722104</td>\n",
       "      <td>-73.997249</td>\n",
       "      <td>402.0</td>\n",
       "      <td>Broadway &amp; E 22 St</td>\n",
       "      <td>40.740343</td>\n",
       "      <td>-73.989551</td>\n",
       "      <td>15610</td>\n",
       "      <td>Subscriber</td>\n",
       "      <td>1981.0</td>\n",
       "      <td>2</td>\n",
       "    </tr>\n",
       "    <tr>\n",
       "      <th>1</th>\n",
       "      <td>299950</td>\n",
       "      <td>349</td>\n",
       "      <td>2013-06-20 20:06:31</td>\n",
       "      <td>2013-06-20 20:12:20</td>\n",
       "      <td>435</td>\n",
       "      <td>W 21 St &amp; 6 Ave</td>\n",
       "      <td>40.741740</td>\n",
       "      <td>-73.994156</td>\n",
       "      <td>459.0</td>\n",
       "      <td>W 20 St &amp; 11 Ave</td>\n",
       "      <td>40.746745</td>\n",
       "      <td>-74.007756</td>\n",
       "      <td>14611</td>\n",
       "      <td>Subscriber</td>\n",
       "      <td>1962.0</td>\n",
       "      <td>1</td>\n",
       "    </tr>\n",
       "    <tr>\n",
       "      <th>2</th>\n",
       "      <td>449621</td>\n",
       "      <td>1002</td>\n",
       "      <td>2013-06-26 11:14:51</td>\n",
       "      <td>2013-06-26 11:31:33</td>\n",
       "      <td>330</td>\n",
       "      <td>Reade St &amp; Broadway</td>\n",
       "      <td>40.714505</td>\n",
       "      <td>-74.005628</td>\n",
       "      <td>330.0</td>\n",
       "      <td>Reade St &amp; Broadway</td>\n",
       "      <td>40.714505</td>\n",
       "      <td>-74.005628</td>\n",
       "      <td>15378</td>\n",
       "      <td>Subscriber</td>\n",
       "      <td>1957.0</td>\n",
       "      <td>1</td>\n",
       "    </tr>\n",
       "    <tr>\n",
       "      <th>3</th>\n",
       "      <td>467913</td>\n",
       "      <td>1077</td>\n",
       "      <td>2013-06-26 21:03:11</td>\n",
       "      <td>2013-06-26 21:21:08</td>\n",
       "      <td>327</td>\n",
       "      <td>Vesey Pl &amp; River Terrace</td>\n",
       "      <td>40.715338</td>\n",
       "      <td>-74.016584</td>\n",
       "      <td>327.0</td>\n",
       "      <td>Vesey Pl &amp; River Terrace</td>\n",
       "      <td>40.715338</td>\n",
       "      <td>-74.016584</td>\n",
       "      <td>17497</td>\n",
       "      <td>Subscriber</td>\n",
       "      <td>1982.0</td>\n",
       "      <td>1</td>\n",
       "    </tr>\n",
       "    <tr>\n",
       "      <th>4</th>\n",
       "      <td>371314</td>\n",
       "      <td>317</td>\n",
       "      <td>2013-06-23 13:34:14</td>\n",
       "      <td>2013-06-23 13:39:31</td>\n",
       "      <td>489</td>\n",
       "      <td>10 Ave &amp; W 28 St</td>\n",
       "      <td>40.750664</td>\n",
       "      <td>-74.001768</td>\n",
       "      <td>441.0</td>\n",
       "      <td>E 52 St &amp; 2 Ave</td>\n",
       "      <td>40.756014</td>\n",
       "      <td>-73.967416</td>\n",
       "      <td>17213</td>\n",
       "      <td>Subscriber</td>\n",
       "      <td>1944.0</td>\n",
       "      <td>2</td>\n",
       "    </tr>\n",
       "  </tbody>\n",
       "</table>\n",
       "</div>"
      ],
      "text/plain": [
       "    index  tripduration            starttime             stoptime  \\\n",
       "0  293204           936  2013-06-20 17:34:19  2013-06-20 17:49:55   \n",
       "1  299950           349  2013-06-20 20:06:31  2013-06-20 20:12:20   \n",
       "2  449621          1002  2013-06-26 11:14:51  2013-06-26 11:31:33   \n",
       "3  467913          1077  2013-06-26 21:03:11  2013-06-26 21:21:08   \n",
       "4  371314           317  2013-06-23 13:34:14  2013-06-23 13:39:31   \n",
       "\n",
       "   start station id        start station name  start station latitude  \\\n",
       "0               151  Cleveland Pl & Spring St               40.722104   \n",
       "1               435           W 21 St & 6 Ave               40.741740   \n",
       "2               330       Reade St & Broadway               40.714505   \n",
       "3               327  Vesey Pl & River Terrace               40.715338   \n",
       "4               489          10 Ave & W 28 St               40.750664   \n",
       "\n",
       "   start station longitude  end station id          end station name  \\\n",
       "0               -73.997249           402.0        Broadway & E 22 St   \n",
       "1               -73.994156           459.0          W 20 St & 11 Ave   \n",
       "2               -74.005628           330.0       Reade St & Broadway   \n",
       "3               -74.016584           327.0  Vesey Pl & River Terrace   \n",
       "4               -74.001768           441.0           E 52 St & 2 Ave   \n",
       "\n",
       "   end station latitude  end station longitude  bikeid    usertype  birthyear  \\\n",
       "0             40.740343             -73.989551   15610  Subscriber     1981.0   \n",
       "1             40.746745             -74.007756   14611  Subscriber     1962.0   \n",
       "2             40.714505             -74.005628   15378  Subscriber     1957.0   \n",
       "3             40.715338             -74.016584   17497  Subscriber     1982.0   \n",
       "4             40.756014             -73.967416   17213  Subscriber     1944.0   \n",
       "\n",
       "   gender  \n",
       "0       2  \n",
       "1       1  \n",
       "2       1  \n",
       "3       1  \n",
       "4       2  "
      ]
     },
     "execution_count": 24,
     "metadata": {},
     "output_type": "execute_result"
    }
   ],
   "source": [
    "biking_2013_subset = biking_2013.query('birthyear > 1920 & gender > 0 & tripduration < 60000')\n",
    "biking_2013_subset = biking_2013_subset.sample(n=1000, random_state=1)\n",
    "biking_2013_subset = biking_2013_subset.reset_index(level=0)\n",
    "biking_2013_subset.head()"
   ]
  },
  {
   "cell_type": "code",
   "execution_count": 25,
   "metadata": {},
   "outputs": [
    {
     "data": {
      "text/html": [
       "<div>\n",
       "<style scoped>\n",
       "    .dataframe tbody tr th:only-of-type {\n",
       "        vertical-align: middle;\n",
       "    }\n",
       "\n",
       "    .dataframe tbody tr th {\n",
       "        vertical-align: top;\n",
       "    }\n",
       "\n",
       "    .dataframe thead th {\n",
       "        text-align: right;\n",
       "    }\n",
       "</style>\n",
       "<table border=\"1\" class=\"dataframe\">\n",
       "  <thead>\n",
       "    <tr style=\"text-align: right;\">\n",
       "      <th></th>\n",
       "      <th>index</th>\n",
       "      <th>tripduration</th>\n",
       "      <th>starttime</th>\n",
       "      <th>stoptime</th>\n",
       "      <th>start station id</th>\n",
       "      <th>start station name</th>\n",
       "      <th>start station latitude</th>\n",
       "      <th>start station longitude</th>\n",
       "      <th>end station id</th>\n",
       "      <th>end station name</th>\n",
       "      <th>end station latitude</th>\n",
       "      <th>end station longitude</th>\n",
       "      <th>bikeid</th>\n",
       "      <th>usertype</th>\n",
       "      <th>birthyear</th>\n",
       "      <th>gender</th>\n",
       "    </tr>\n",
       "  </thead>\n",
       "  <tbody>\n",
       "    <tr>\n",
       "      <th>0</th>\n",
       "      <td>1048327</td>\n",
       "      <td>1103</td>\n",
       "      <td>6/22/2016 18:53:53</td>\n",
       "      <td>6/22/2016 19:12:16</td>\n",
       "      <td>513</td>\n",
       "      <td>W 56 St &amp; 10 Ave</td>\n",
       "      <td>40.768254</td>\n",
       "      <td>-73.988639</td>\n",
       "      <td>494</td>\n",
       "      <td>W 26 St &amp; 8 Ave</td>\n",
       "      <td>40.747348</td>\n",
       "      <td>-73.997236</td>\n",
       "      <td>21245</td>\n",
       "      <td>Subscriber</td>\n",
       "      <td>1983.0</td>\n",
       "      <td>2</td>\n",
       "    </tr>\n",
       "    <tr>\n",
       "      <th>1</th>\n",
       "      <td>59908</td>\n",
       "      <td>451</td>\n",
       "      <td>6/2/2016 07:54:58</td>\n",
       "      <td>6/2/2016 08:02:30</td>\n",
       "      <td>3122</td>\n",
       "      <td>48 Ave &amp; 5 St</td>\n",
       "      <td>40.744363</td>\n",
       "      <td>-73.955873</td>\n",
       "      <td>3126</td>\n",
       "      <td>44 Dr &amp; Jackson Ave</td>\n",
       "      <td>40.747182</td>\n",
       "      <td>-73.943264</td>\n",
       "      <td>17648</td>\n",
       "      <td>Subscriber</td>\n",
       "      <td>1983.0</td>\n",
       "      <td>2</td>\n",
       "    </tr>\n",
       "    <tr>\n",
       "      <th>2</th>\n",
       "      <td>97765</td>\n",
       "      <td>559</td>\n",
       "      <td>6/2/2016 18:49:19</td>\n",
       "      <td>6/2/2016 18:58:39</td>\n",
       "      <td>434</td>\n",
       "      <td>9 Ave &amp; W 18 St</td>\n",
       "      <td>40.743174</td>\n",
       "      <td>-74.003664</td>\n",
       "      <td>345</td>\n",
       "      <td>W 13 St &amp; 6 Ave</td>\n",
       "      <td>40.736494</td>\n",
       "      <td>-73.997044</td>\n",
       "      <td>20177</td>\n",
       "      <td>Subscriber</td>\n",
       "      <td>1988.0</td>\n",
       "      <td>1</td>\n",
       "    </tr>\n",
       "    <tr>\n",
       "      <th>3</th>\n",
       "      <td>947825</td>\n",
       "      <td>316</td>\n",
       "      <td>6/20/2016 21:10:31</td>\n",
       "      <td>6/20/2016 21:15:48</td>\n",
       "      <td>388</td>\n",
       "      <td>W 26 St &amp; 10 Ave</td>\n",
       "      <td>40.749718</td>\n",
       "      <td>-74.002950</td>\n",
       "      <td>434</td>\n",
       "      <td>9 Ave &amp; W 18 St</td>\n",
       "      <td>40.743174</td>\n",
       "      <td>-74.003664</td>\n",
       "      <td>16844</td>\n",
       "      <td>Subscriber</td>\n",
       "      <td>1968.0</td>\n",
       "      <td>1</td>\n",
       "    </tr>\n",
       "    <tr>\n",
       "      <th>4</th>\n",
       "      <td>805364</td>\n",
       "      <td>521</td>\n",
       "      <td>6/18/2016 00:44:11</td>\n",
       "      <td>6/18/2016 00:52:52</td>\n",
       "      <td>2003</td>\n",
       "      <td>1 Ave &amp; E 18 St</td>\n",
       "      <td>40.733812</td>\n",
       "      <td>-73.980544</td>\n",
       "      <td>454</td>\n",
       "      <td>E 51 St &amp; 1 Ave</td>\n",
       "      <td>40.754557</td>\n",
       "      <td>-73.965930</td>\n",
       "      <td>19623</td>\n",
       "      <td>Subscriber</td>\n",
       "      <td>1989.0</td>\n",
       "      <td>1</td>\n",
       "    </tr>\n",
       "  </tbody>\n",
       "</table>\n",
       "</div>"
      ],
      "text/plain": [
       "     index  tripduration           starttime            stoptime  \\\n",
       "0  1048327          1103  6/22/2016 18:53:53  6/22/2016 19:12:16   \n",
       "1    59908           451   6/2/2016 07:54:58   6/2/2016 08:02:30   \n",
       "2    97765           559   6/2/2016 18:49:19   6/2/2016 18:58:39   \n",
       "3   947825           316  6/20/2016 21:10:31  6/20/2016 21:15:48   \n",
       "4   805364           521  6/18/2016 00:44:11  6/18/2016 00:52:52   \n",
       "\n",
       "   start station id start station name  start station latitude  \\\n",
       "0               513   W 56 St & 10 Ave               40.768254   \n",
       "1              3122      48 Ave & 5 St               40.744363   \n",
       "2               434    9 Ave & W 18 St               40.743174   \n",
       "3               388   W 26 St & 10 Ave               40.749718   \n",
       "4              2003    1 Ave & E 18 St               40.733812   \n",
       "\n",
       "   start station longitude  end station id     end station name  \\\n",
       "0               -73.988639             494      W 26 St & 8 Ave   \n",
       "1               -73.955873            3126  44 Dr & Jackson Ave   \n",
       "2               -74.003664             345      W 13 St & 6 Ave   \n",
       "3               -74.002950             434      9 Ave & W 18 St   \n",
       "4               -73.980544             454      E 51 St & 1 Ave   \n",
       "\n",
       "   end station latitude  end station longitude  bikeid    usertype  birthyear  \\\n",
       "0             40.747348             -73.997236   21245  Subscriber     1983.0   \n",
       "1             40.747182             -73.943264   17648  Subscriber     1983.0   \n",
       "2             40.736494             -73.997044   20177  Subscriber     1988.0   \n",
       "3             40.743174             -74.003664   16844  Subscriber     1968.0   \n",
       "4             40.754557             -73.965930   19623  Subscriber     1989.0   \n",
       "\n",
       "   gender  \n",
       "0       2  \n",
       "1       2  \n",
       "2       1  \n",
       "3       1  \n",
       "4       1  "
      ]
     },
     "execution_count": 25,
     "metadata": {},
     "output_type": "execute_result"
    }
   ],
   "source": [
    "biking_2016_subset = biking_2016.query('birthyear > 1920 & gender > 0 & tripduration < 60000')\n",
    "biking_2016_subset = biking_2016_subset.sample(n=1000, random_state=1)\n",
    "biking_2016_subset = biking_2016_subset.reset_index(level=0)\n",
    "biking_2016_subset.head()"
   ]
  },
  {
   "cell_type": "code",
   "execution_count": 26,
   "metadata": {},
   "outputs": [
    {
     "data": {
      "text/html": [
       "<div>\n",
       "<style scoped>\n",
       "    .dataframe tbody tr th:only-of-type {\n",
       "        vertical-align: middle;\n",
       "    }\n",
       "\n",
       "    .dataframe tbody tr th {\n",
       "        vertical-align: top;\n",
       "    }\n",
       "\n",
       "    .dataframe thead th {\n",
       "        text-align: right;\n",
       "    }\n",
       "</style>\n",
       "<table border=\"1\" class=\"dataframe\">\n",
       "  <thead>\n",
       "    <tr style=\"text-align: right;\">\n",
       "      <th></th>\n",
       "      <th>index</th>\n",
       "      <th>fromstreet</th>\n",
       "      <th>street</th>\n",
       "      <th>boro</th>\n",
       "      <th>the_geom</th>\n",
       "      <th>tostreet</th>\n",
       "      <th>onoffst</th>\n",
       "      <th>allclasses</th>\n",
       "      <th>instdate</th>\n",
       "      <th>moddate</th>\n",
       "      <th>comments</th>\n",
       "      <th>bikedir</th>\n",
       "      <th>lanecount</th>\n",
       "      <th>ft_facilit</th>\n",
       "      <th>tf_facilit</th>\n",
       "      <th>SegmentID</th>\n",
       "      <th>Shape_Leng</th>\n",
       "    </tr>\n",
       "  </thead>\n",
       "  <tbody>\n",
       "    <tr>\n",
       "      <th>0</th>\n",
       "      <td>7356</td>\n",
       "      <td>BEACH 193 ST</td>\n",
       "      <td>STATE RD</td>\n",
       "      <td>4</td>\n",
       "      <td>MULTILINESTRING ((-73.90225363399998 40.562189...</td>\n",
       "      <td>BEACH 169 ST</td>\n",
       "      <td>ON</td>\n",
       "      <td>II</td>\n",
       "      <td>05/01/1997 12:00:00 AM +0000</td>\n",
       "      <td>05/01/1997 12:00:00 AM +0000</td>\n",
       "      <td>NaN</td>\n",
       "      <td>R</td>\n",
       "      <td>1</td>\n",
       "      <td>Curbside</td>\n",
       "      <td>NaN</td>\n",
       "      <td>149081.0</td>\n",
       "      <td>0.000068</td>\n",
       "    </tr>\n",
       "    <tr>\n",
       "      <th>1</th>\n",
       "      <td>9269</td>\n",
       "      <td>32 AVE</td>\n",
       "      <td>101 ST</td>\n",
       "      <td>4</td>\n",
       "      <td>MULTILINESTRING ((-73.86824140499994 40.761723...</td>\n",
       "      <td>ASTORIA BLVD</td>\n",
       "      <td>ON</td>\n",
       "      <td>II</td>\n",
       "      <td>10/14/2016 12:00:00 AM +0000</td>\n",
       "      <td>10/14/2016 12:00:00 AM +0000</td>\n",
       "      <td>NaN</td>\n",
       "      <td>L</td>\n",
       "      <td>1</td>\n",
       "      <td>NaN</td>\n",
       "      <td>Standard</td>\n",
       "      <td>177415.0</td>\n",
       "      <td>0.000619</td>\n",
       "    </tr>\n",
       "    <tr>\n",
       "      <th>2</th>\n",
       "      <td>12243</td>\n",
       "      <td>E 125 ST</td>\n",
       "      <td>2 AV</td>\n",
       "      <td>1</td>\n",
       "      <td>MULTILINESTRING ((-73.93411419099994 40.802046...</td>\n",
       "      <td>E 104 ST</td>\n",
       "      <td>ON</td>\n",
       "      <td>I</td>\n",
       "      <td>10/26/2012 12:00:00 AM +0000</td>\n",
       "      <td>10/26/2012 12:00:00 AM +0000</td>\n",
       "      <td>NaN</td>\n",
       "      <td>L</td>\n",
       "      <td>1</td>\n",
       "      <td>NaN</td>\n",
       "      <td>Protected Path</td>\n",
       "      <td>110979.0</td>\n",
       "      <td>0.000060</td>\n",
       "    </tr>\n",
       "    <tr>\n",
       "      <th>3</th>\n",
       "      <td>9482</td>\n",
       "      <td>SUNNYSIDE AV</td>\n",
       "      <td>VERMONT ST</td>\n",
       "      <td>3</td>\n",
       "      <td>MULTILINESTRING ((-73.89597729299999 40.680112...</td>\n",
       "      <td>COZINE AV</td>\n",
       "      <td>ON</td>\n",
       "      <td>III</td>\n",
       "      <td>10/01/2009 12:00:00 AM +0000</td>\n",
       "      <td>10/01/2009 12:00:00 AM +0000</td>\n",
       "      <td>NaN</td>\n",
       "      <td>L</td>\n",
       "      <td>1</td>\n",
       "      <td>NaN</td>\n",
       "      <td>Sharrows</td>\n",
       "      <td>47593.0</td>\n",
       "      <td>0.001175</td>\n",
       "    </tr>\n",
       "    <tr>\n",
       "      <th>4</th>\n",
       "      <td>13586</td>\n",
       "      <td>GARRISON AVE</td>\n",
       "      <td>HUNTS PT AV</td>\n",
       "      <td>2</td>\n",
       "      <td>MULTILINESTRING ((-73.88838357299994 40.817305...</td>\n",
       "      <td>SPOFFORD AVE</td>\n",
       "      <td>ON</td>\n",
       "      <td>II</td>\n",
       "      <td>11/01/2011 12:00:00 AM +0000</td>\n",
       "      <td>11/01/2011 12:00:00 AM +0000</td>\n",
       "      <td>NaN</td>\n",
       "      <td>2</td>\n",
       "      <td>2</td>\n",
       "      <td>Standard</td>\n",
       "      <td>Standard</td>\n",
       "      <td>9002144.0</td>\n",
       "      <td>0.000059</td>\n",
       "    </tr>\n",
       "  </tbody>\n",
       "</table>\n",
       "</div>"
      ],
      "text/plain": [
       "   index    fromstreet       street  boro  \\\n",
       "0   7356  BEACH 193 ST     STATE RD     4   \n",
       "1   9269        32 AVE       101 ST     4   \n",
       "2  12243      E 125 ST         2 AV     1   \n",
       "3   9482  SUNNYSIDE AV   VERMONT ST     3   \n",
       "4  13586  GARRISON AVE  HUNTS PT AV     2   \n",
       "\n",
       "                                            the_geom      tostreet onoffst  \\\n",
       "0  MULTILINESTRING ((-73.90225363399998 40.562189...  BEACH 169 ST      ON   \n",
       "1  MULTILINESTRING ((-73.86824140499994 40.761723...  ASTORIA BLVD      ON   \n",
       "2  MULTILINESTRING ((-73.93411419099994 40.802046...      E 104 ST      ON   \n",
       "3  MULTILINESTRING ((-73.89597729299999 40.680112...     COZINE AV      ON   \n",
       "4  MULTILINESTRING ((-73.88838357299994 40.817305...  SPOFFORD AVE      ON   \n",
       "\n",
       "  allclasses                      instdate                       moddate  \\\n",
       "0         II  05/01/1997 12:00:00 AM +0000  05/01/1997 12:00:00 AM +0000   \n",
       "1         II  10/14/2016 12:00:00 AM +0000  10/14/2016 12:00:00 AM +0000   \n",
       "2          I  10/26/2012 12:00:00 AM +0000  10/26/2012 12:00:00 AM +0000   \n",
       "3        III  10/01/2009 12:00:00 AM +0000  10/01/2009 12:00:00 AM +0000   \n",
       "4         II  11/01/2011 12:00:00 AM +0000  11/01/2011 12:00:00 AM +0000   \n",
       "\n",
       "  comments bikedir  lanecount ft_facilit      tf_facilit  SegmentID  \\\n",
       "0      NaN       R          1   Curbside             NaN   149081.0   \n",
       "1      NaN       L          1        NaN        Standard   177415.0   \n",
       "2      NaN       L          1        NaN  Protected Path   110979.0   \n",
       "3      NaN       L          1        NaN        Sharrows    47593.0   \n",
       "4      NaN       2          2   Standard        Standard  9002144.0   \n",
       "\n",
       "   Shape_Leng  \n",
       "0    0.000068  \n",
       "1    0.000619  \n",
       "2    0.000060  \n",
       "3    0.001175  \n",
       "4    0.000059  "
      ]
     },
     "execution_count": 26,
     "metadata": {},
     "output_type": "execute_result"
    }
   ],
   "source": [
    "routes_subset = routes.sample(n=1000, random_state=1)\n",
    "routes_subset = routes_subset.reset_index(level=0)\n",
    "routes_subset.head()"
   ]
  },
  {
   "cell_type": "code",
   "execution_count": 27,
   "metadata": {},
   "outputs": [
    {
     "data": {
      "image/png": "[encoded data removed]",
      "text/plain": [
       "<Figure size 431.5x360 with 1 Axes>"
      ]
     },
     "metadata": {
      "needs_background": "light"
     },
     "output_type": "display_data"
    }
   ],
   "source": [
    "sns.relplot(x=\"tripduration\", y=\"birthyear\", hue=\"gender\", data=biking_2013_subset)\n",
    "plt.xlabel(\"trip duration\")\n",
    "plt.ylabel(\"birth year\")\n",
    "plt.show()"
   ]
  },
  {
   "cell_type": "code",
   "execution_count": 28,
   "metadata": {},
   "outputs": [
    {
     "data": {
      "image/png": "[encoded data removed]",
      "text/plain": [
       "<Figure size 431.5x360 with 1 Axes>"
      ]
     },
     "metadata": {
      "needs_background": "light"
     },
     "output_type": "display_data"
    }
   ],
   "source": [
    "sns.relplot(x=\"birthyear\", y=\"tripduration\", hue=\"gender\", data=biking_2013_subset)\n",
    "plt.xlabel(\"birth year\")\n",
    "plt.ylabel(\"trip duration\")\n",
    "plt.show()"
   ]
  },
  {
   "cell_type": "code",
   "execution_count": 29,
   "metadata": {},
   "outputs": [
    {
     "data": {
      "image/png": "[encoded data removed]",
      "text/plain": [
       "<Figure size 431.5x360 with 1 Axes>"
      ]
     },
     "metadata": {
      "needs_background": "light"
     },
     "output_type": "display_data"
    }
   ],
   "source": [
    "sns.relplot(x=\"tripduration\", y=\"birthyear\", hue=\"gender\", data=biking_2016_subset)\n",
    "plt.xlabel(\"trip duration\")\n",
    "plt.ylabel(\"birth year\")\n",
    "plt.show()"
   ]
  },
  {
   "cell_type": "code",
   "execution_count": 30,
   "metadata": {},
   "outputs": [
    {
     "data": {
      "image/png": "[encoded data removed]",
      "text/plain": [
       "<Figure size 431.5x360 with 1 Axes>"
      ]
     },
     "metadata": {
      "needs_background": "light"
     },
     "output_type": "display_data"
    }
   ],
   "source": [
    "sns.relplot(x=\"birthyear\", y=\"tripduration\", hue=\"gender\", data=biking_2016_subset)\n",
    "plt.xlabel(\"birth year\")\n",
    "plt.ylabel(\"trip duration\")\n",
    "plt.show()"
   ]
  },
  {
   "cell_type": "code",
   "execution_count": 31,
   "metadata": {
    "scrolled": true
   },
   "outputs": [
    {
     "name": "stderr",
     "output_type": "stream",
     "text": [
      "<ipython-input-31-36810c0d1a17>:3: SettingWithCopyWarning: \n",
      "A value is trying to be set on a copy of a slice from a DataFrame\n",
      "\n",
      "See the caveats in the documentation: https://pandas.pydata.org/pandas-docs/stable/user_guide/indexing.html#returning-a-view-versus-a-copy\n",
      "  biking_2016_subset[\"start station latitude\"][x] = round(biking_2016_subset[\"start station latitude\"][x],2)\n",
      "<ipython-input-31-36810c0d1a17>:4: SettingWithCopyWarning: \n",
      "A value is trying to be set on a copy of a slice from a DataFrame\n",
      "\n",
      "See the caveats in the documentation: https://pandas.pydata.org/pandas-docs/stable/user_guide/indexing.html#returning-a-view-versus-a-copy\n",
      "  biking_2016_subset[\"start station longitude\"][x] = round(biking_2016_subset[\"start station longitude\"][x],2)\n"
     ]
    },
    {
     "data": {
      "text/html": [
       "<div>\n",
       "<style scoped>\n",
       "    .dataframe tbody tr th:only-of-type {\n",
       "        vertical-align: middle;\n",
       "    }\n",
       "\n",
       "    .dataframe tbody tr th {\n",
       "        vertical-align: top;\n",
       "    }\n",
       "\n",
       "    .dataframe thead th {\n",
       "        text-align: right;\n",
       "    }\n",
       "</style>\n",
       "<table border=\"1\" class=\"dataframe\">\n",
       "  <thead>\n",
       "    <tr style=\"text-align: right;\">\n",
       "      <th></th>\n",
       "      <th>index</th>\n",
       "      <th>tripduration</th>\n",
       "      <th>starttime</th>\n",
       "      <th>stoptime</th>\n",
       "      <th>start station id</th>\n",
       "      <th>start station name</th>\n",
       "      <th>start station latitude</th>\n",
       "      <th>start station longitude</th>\n",
       "      <th>end station id</th>\n",
       "      <th>end station name</th>\n",
       "      <th>end station latitude</th>\n",
       "      <th>end station longitude</th>\n",
       "      <th>bikeid</th>\n",
       "      <th>usertype</th>\n",
       "      <th>birthyear</th>\n",
       "      <th>gender</th>\n",
       "    </tr>\n",
       "  </thead>\n",
       "  <tbody>\n",
       "    <tr>\n",
       "      <th>0</th>\n",
       "      <td>1048327</td>\n",
       "      <td>1103</td>\n",
       "      <td>6/22/2016 18:53:53</td>\n",
       "      <td>6/22/2016 19:12:16</td>\n",
       "      <td>513</td>\n",
       "      <td>W 56 St &amp; 10 Ave</td>\n",
       "      <td>40.77</td>\n",
       "      <td>-73.99</td>\n",
       "      <td>494</td>\n",
       "      <td>W 26 St &amp; 8 Ave</td>\n",
       "      <td>40.747348</td>\n",
       "      <td>-73.997236</td>\n",
       "      <td>21245</td>\n",
       "      <td>Subscriber</td>\n",
       "      <td>1983.0</td>\n",
       "      <td>2</td>\n",
       "    </tr>\n",
       "    <tr>\n",
       "      <th>1</th>\n",
       "      <td>59908</td>\n",
       "      <td>451</td>\n",
       "      <td>6/2/2016 07:54:58</td>\n",
       "      <td>6/2/2016 08:02:30</td>\n",
       "      <td>3122</td>\n",
       "      <td>48 Ave &amp; 5 St</td>\n",
       "      <td>40.74</td>\n",
       "      <td>-73.96</td>\n",
       "      <td>3126</td>\n",
       "      <td>44 Dr &amp; Jackson Ave</td>\n",
       "      <td>40.747182</td>\n",
       "      <td>-73.943264</td>\n",
       "      <td>17648</td>\n",
       "      <td>Subscriber</td>\n",
       "      <td>1983.0</td>\n",
       "      <td>2</td>\n",
       "    </tr>\n",
       "    <tr>\n",
       "      <th>2</th>\n",
       "      <td>97765</td>\n",
       "      <td>559</td>\n",
       "      <td>6/2/2016 18:49:19</td>\n",
       "      <td>6/2/2016 18:58:39</td>\n",
       "      <td>434</td>\n",
       "      <td>9 Ave &amp; W 18 St</td>\n",
       "      <td>40.74</td>\n",
       "      <td>-74.00</td>\n",
       "      <td>345</td>\n",
       "      <td>W 13 St &amp; 6 Ave</td>\n",
       "      <td>40.736494</td>\n",
       "      <td>-73.997044</td>\n",
       "      <td>20177</td>\n",
       "      <td>Subscriber</td>\n",
       "      <td>1988.0</td>\n",
       "      <td>1</td>\n",
       "    </tr>\n",
       "    <tr>\n",
       "      <th>3</th>\n",
       "      <td>947825</td>\n",
       "      <td>316</td>\n",
       "      <td>6/20/2016 21:10:31</td>\n",
       "      <td>6/20/2016 21:15:48</td>\n",
       "      <td>388</td>\n",
       "      <td>W 26 St &amp; 10 Ave</td>\n",
       "      <td>40.75</td>\n",
       "      <td>-74.00</td>\n",
       "      <td>434</td>\n",
       "      <td>9 Ave &amp; W 18 St</td>\n",
       "      <td>40.743174</td>\n",
       "      <td>-74.003664</td>\n",
       "      <td>16844</td>\n",
       "      <td>Subscriber</td>\n",
       "      <td>1968.0</td>\n",
       "      <td>1</td>\n",
       "    </tr>\n",
       "    <tr>\n",
       "      <th>4</th>\n",
       "      <td>805364</td>\n",
       "      <td>521</td>\n",
       "      <td>6/18/2016 00:44:11</td>\n",
       "      <td>6/18/2016 00:52:52</td>\n",
       "      <td>2003</td>\n",
       "      <td>1 Ave &amp; E 18 St</td>\n",
       "      <td>40.73</td>\n",
       "      <td>-73.98</td>\n",
       "      <td>454</td>\n",
       "      <td>E 51 St &amp; 1 Ave</td>\n",
       "      <td>40.754557</td>\n",
       "      <td>-73.965930</td>\n",
       "      <td>19623</td>\n",
       "      <td>Subscriber</td>\n",
       "      <td>1989.0</td>\n",
       "      <td>1</td>\n",
       "    </tr>\n",
       "  </tbody>\n",
       "</table>\n",
       "</div>"
      ],
      "text/plain": [
       "     index  tripduration           starttime            stoptime  \\\n",
       "0  1048327          1103  6/22/2016 18:53:53  6/22/2016 19:12:16   \n",
       "1    59908           451   6/2/2016 07:54:58   6/2/2016 08:02:30   \n",
       "2    97765           559   6/2/2016 18:49:19   6/2/2016 18:58:39   \n",
       "3   947825           316  6/20/2016 21:10:31  6/20/2016 21:15:48   \n",
       "4   805364           521  6/18/2016 00:44:11  6/18/2016 00:52:52   \n",
       "\n",
       "   start station id start station name  start station latitude  \\\n",
       "0               513   W 56 St & 10 Ave                   40.77   \n",
       "1              3122      48 Ave & 5 St                   40.74   \n",
       "2               434    9 Ave & W 18 St                   40.74   \n",
       "3               388   W 26 St & 10 Ave                   40.75   \n",
       "4              2003    1 Ave & E 18 St                   40.73   \n",
       "\n",
       "   start station longitude  end station id     end station name  \\\n",
       "0                   -73.99             494      W 26 St & 8 Ave   \n",
       "1                   -73.96            3126  44 Dr & Jackson Ave   \n",
       "2                   -74.00             345      W 13 St & 6 Ave   \n",
       "3                   -74.00             434      9 Ave & W 18 St   \n",
       "4                   -73.98             454      E 51 St & 1 Ave   \n",
       "\n",
       "   end station latitude  end station longitude  bikeid    usertype  birthyear  \\\n",
       "0             40.747348             -73.997236   21245  Subscriber     1983.0   \n",
       "1             40.747182             -73.943264   17648  Subscriber     1983.0   \n",
       "2             40.736494             -73.997044   20177  Subscriber     1988.0   \n",
       "3             40.743174             -74.003664   16844  Subscriber     1968.0   \n",
       "4             40.754557             -73.965930   19623  Subscriber     1989.0   \n",
       "\n",
       "   gender  \n",
       "0       2  \n",
       "1       2  \n",
       "2       1  \n",
       "3       1  \n",
       "4       1  "
      ]
     },
     "execution_count": 31,
     "metadata": {},
     "output_type": "execute_result"
    }
   ],
   "source": [
    "## Edit the longitude and latitude to two decimal places\n",
    "for x in range(len(biking_2016_subset)):\n",
    "    biking_2016_subset[\"start station latitude\"][x] = round(biking_2016_subset[\"start station latitude\"][x],2)\n",
    "    biking_2016_subset[\"start station longitude\"][x] = round(biking_2016_subset[\"start station longitude\"][x],2)\n",
    "biking_2016_subset.head()"
   ]
  },
  {
   "cell_type": "code",
   "execution_count": 32,
   "metadata": {},
   "outputs": [
    {
     "name": "stderr",
     "output_type": "stream",
     "text": [
      "<ipython-input-32-a74393b0deba>:2: SettingWithCopyWarning: \n",
      "A value is trying to be set on a copy of a slice from a DataFrame\n",
      "\n",
      "See the caveats in the documentation: https://pandas.pydata.org/pandas-docs/stable/user_guide/indexing.html#returning-a-view-versus-a-copy\n",
      "  biking_2013_subset[\"start station latitude\"][x] = round(biking_2013_subset[\"start station latitude\"][x],2)\n",
      "<ipython-input-32-a74393b0deba>:3: SettingWithCopyWarning: \n",
      "A value is trying to be set on a copy of a slice from a DataFrame\n",
      "\n",
      "See the caveats in the documentation: https://pandas.pydata.org/pandas-docs/stable/user_guide/indexing.html#returning-a-view-versus-a-copy\n",
      "  biking_2013_subset[\"start station longitude\"][x] = round(biking_2013_subset[\"start station longitude\"][x],2)\n"
     ]
    },
    {
     "data": {
      "text/html": [
       "<div>\n",
       "<style scoped>\n",
       "    .dataframe tbody tr th:only-of-type {\n",
       "        vertical-align: middle;\n",
       "    }\n",
       "\n",
       "    .dataframe tbody tr th {\n",
       "        vertical-align: top;\n",
       "    }\n",
       "\n",
       "    .dataframe thead th {\n",
       "        text-align: right;\n",
       "    }\n",
       "</style>\n",
       "<table border=\"1\" class=\"dataframe\">\n",
       "  <thead>\n",
       "    <tr style=\"text-align: right;\">\n",
       "      <th></th>\n",
       "      <th>index</th>\n",
       "      <th>tripduration</th>\n",
       "      <th>starttime</th>\n",
       "      <th>stoptime</th>\n",
       "      <th>start station id</th>\n",
       "      <th>start station name</th>\n",
       "      <th>start station latitude</th>\n",
       "      <th>start station longitude</th>\n",
       "      <th>end station id</th>\n",
       "      <th>end station name</th>\n",
       "      <th>end station latitude</th>\n",
       "      <th>end station longitude</th>\n",
       "      <th>bikeid</th>\n",
       "      <th>usertype</th>\n",
       "      <th>birthyear</th>\n",
       "      <th>gender</th>\n",
       "    </tr>\n",
       "  </thead>\n",
       "  <tbody>\n",
       "    <tr>\n",
       "      <th>0</th>\n",
       "      <td>293204</td>\n",
       "      <td>936</td>\n",
       "      <td>2013-06-20 17:34:19</td>\n",
       "      <td>2013-06-20 17:49:55</td>\n",
       "      <td>151</td>\n",
       "      <td>Cleveland Pl &amp; Spring St</td>\n",
       "      <td>40.72</td>\n",
       "      <td>-74.00</td>\n",
       "      <td>402.0</td>\n",
       "      <td>Broadway &amp; E 22 St</td>\n",
       "      <td>40.740343</td>\n",
       "      <td>-73.989551</td>\n",
       "      <td>15610</td>\n",
       "      <td>Subscriber</td>\n",
       "      <td>1981.0</td>\n",
       "      <td>2</td>\n",
       "    </tr>\n",
       "    <tr>\n",
       "      <th>1</th>\n",
       "      <td>299950</td>\n",
       "      <td>349</td>\n",
       "      <td>2013-06-20 20:06:31</td>\n",
       "      <td>2013-06-20 20:12:20</td>\n",
       "      <td>435</td>\n",
       "      <td>W 21 St &amp; 6 Ave</td>\n",
       "      <td>40.74</td>\n",
       "      <td>-73.99</td>\n",
       "      <td>459.0</td>\n",
       "      <td>W 20 St &amp; 11 Ave</td>\n",
       "      <td>40.746745</td>\n",
       "      <td>-74.007756</td>\n",
       "      <td>14611</td>\n",
       "      <td>Subscriber</td>\n",
       "      <td>1962.0</td>\n",
       "      <td>1</td>\n",
       "    </tr>\n",
       "    <tr>\n",
       "      <th>2</th>\n",
       "      <td>449621</td>\n",
       "      <td>1002</td>\n",
       "      <td>2013-06-26 11:14:51</td>\n",
       "      <td>2013-06-26 11:31:33</td>\n",
       "      <td>330</td>\n",
       "      <td>Reade St &amp; Broadway</td>\n",
       "      <td>40.71</td>\n",
       "      <td>-74.01</td>\n",
       "      <td>330.0</td>\n",
       "      <td>Reade St &amp; Broadway</td>\n",
       "      <td>40.714505</td>\n",
       "      <td>-74.005628</td>\n",
       "      <td>15378</td>\n",
       "      <td>Subscriber</td>\n",
       "      <td>1957.0</td>\n",
       "      <td>1</td>\n",
       "    </tr>\n",
       "    <tr>\n",
       "      <th>3</th>\n",
       "      <td>467913</td>\n",
       "      <td>1077</td>\n",
       "      <td>2013-06-26 21:03:11</td>\n",
       "      <td>2013-06-26 21:21:08</td>\n",
       "      <td>327</td>\n",
       "      <td>Vesey Pl &amp; River Terrace</td>\n",
       "      <td>40.72</td>\n",
       "      <td>-74.02</td>\n",
       "      <td>327.0</td>\n",
       "      <td>Vesey Pl &amp; River Terrace</td>\n",
       "      <td>40.715338</td>\n",
       "      <td>-74.016584</td>\n",
       "      <td>17497</td>\n",
       "      <td>Subscriber</td>\n",
       "      <td>1982.0</td>\n",
       "      <td>1</td>\n",
       "    </tr>\n",
       "    <tr>\n",
       "      <th>4</th>\n",
       "      <td>371314</td>\n",
       "      <td>317</td>\n",
       "      <td>2013-06-23 13:34:14</td>\n",
       "      <td>2013-06-23 13:39:31</td>\n",
       "      <td>489</td>\n",
       "      <td>10 Ave &amp; W 28 St</td>\n",
       "      <td>40.75</td>\n",
       "      <td>-74.00</td>\n",
       "      <td>441.0</td>\n",
       "      <td>E 52 St &amp; 2 Ave</td>\n",
       "      <td>40.756014</td>\n",
       "      <td>-73.967416</td>\n",
       "      <td>17213</td>\n",
       "      <td>Subscriber</td>\n",
       "      <td>1944.0</td>\n",
       "      <td>2</td>\n",
       "    </tr>\n",
       "  </tbody>\n",
       "</table>\n",
       "</div>"
      ],
      "text/plain": [
       "    index  tripduration            starttime             stoptime  \\\n",
       "0  293204           936  2013-06-20 17:34:19  2013-06-20 17:49:55   \n",
       "1  299950           349  2013-06-20 20:06:31  2013-06-20 20:12:20   \n",
       "2  449621          1002  2013-06-26 11:14:51  2013-06-26 11:31:33   \n",
       "3  467913          1077  2013-06-26 21:03:11  2013-06-26 21:21:08   \n",
       "4  371314           317  2013-06-23 13:34:14  2013-06-23 13:39:31   \n",
       "\n",
       "   start station id        start station name  start station latitude  \\\n",
       "0               151  Cleveland Pl & Spring St                   40.72   \n",
       "1               435           W 21 St & 6 Ave                   40.74   \n",
       "2               330       Reade St & Broadway                   40.71   \n",
       "3               327  Vesey Pl & River Terrace                   40.72   \n",
       "4               489          10 Ave & W 28 St                   40.75   \n",
       "\n",
       "   start station longitude  end station id          end station name  \\\n",
       "0                   -74.00           402.0        Broadway & E 22 St   \n",
       "1                   -73.99           459.0          W 20 St & 11 Ave   \n",
       "2                   -74.01           330.0       Reade St & Broadway   \n",
       "3                   -74.02           327.0  Vesey Pl & River Terrace   \n",
       "4                   -74.00           441.0           E 52 St & 2 Ave   \n",
       "\n",
       "   end station latitude  end station longitude  bikeid    usertype  birthyear  \\\n",
       "0             40.740343             -73.989551   15610  Subscriber     1981.0   \n",
       "1             40.746745             -74.007756   14611  Subscriber     1962.0   \n",
       "2             40.714505             -74.005628   15378  Subscriber     1957.0   \n",
       "3             40.715338             -74.016584   17497  Subscriber     1982.0   \n",
       "4             40.756014             -73.967416   17213  Subscriber     1944.0   \n",
       "\n",
       "   gender  \n",
       "0       2  \n",
       "1       1  \n",
       "2       1  \n",
       "3       1  \n",
       "4       2  "
      ]
     },
     "execution_count": 32,
     "metadata": {},
     "output_type": "execute_result"
    }
   ],
   "source": [
    "for x in range(len(biking_2013_subset)):\n",
    "    biking_2013_subset[\"start station latitude\"][x] = round(biking_2013_subset[\"start station latitude\"][x],2)\n",
    "    biking_2013_subset[\"start station longitude\"][x] = round(biking_2013_subset[\"start station longitude\"][x],2)\n",
    "biking_2013_subset.head()"
   ]
  },
  {
   "cell_type": "code",
   "execution_count": 33,
   "metadata": {},
   "outputs": [
    {
     "name": "stdout",
     "output_type": "stream",
     "text": [
      "MULTILINESTRING ((-73.90225363399998 40.56218937300008, -73.90231957199995 40.562170853000055))\n"
     ]
    }
   ],
   "source": [
    "print(routes_subset[\"the_geom\"][0])"
   ]
  },
  {
   "cell_type": "code",
   "execution_count": 34,
   "metadata": {},
   "outputs": [],
   "source": [
    "routes_subset[\"latitude\"] = pd.DataFrame(np.zeros(len(routes_subset)))"
   ]
  },
  {
   "cell_type": "code",
   "execution_count": 35,
   "metadata": {},
   "outputs": [],
   "source": [
    "routes_subset[\"longitude\"] = pd.DataFrame(np.zeros(len(routes_subset)))"
   ]
  },
  {
   "cell_type": "code",
   "execution_count": 36,
   "metadata": {},
   "outputs": [
    {
     "name": "stderr",
     "output_type": "stream",
     "text": [
      "<ipython-input-36-cbb1a64bbb9c>:2: SettingWithCopyWarning: \n",
      "A value is trying to be set on a copy of a slice from a DataFrame\n",
      "\n",
      "See the caveats in the documentation: https://pandas.pydata.org/pandas-docs/stable/user_guide/indexing.html#returning-a-view-versus-a-copy\n",
      "  routes_subset[\"longitude\"][x] = float(routes_subset[\"the_geom\"][x][18:24])\n",
      "<ipython-input-36-cbb1a64bbb9c>:3: SettingWithCopyWarning: \n",
      "A value is trying to be set on a copy of a slice from a DataFrame\n",
      "\n",
      "See the caveats in the documentation: https://pandas.pydata.org/pandas-docs/stable/user_guide/indexing.html#returning-a-view-versus-a-copy\n",
      "  routes_subset[\"latitude\"][x] = float(routes_subset[\"the_geom\"][x][37:42])\n"
     ]
    },
    {
     "data": {
      "text/html": [
       "<div>\n",
       "<style scoped>\n",
       "    .dataframe tbody tr th:only-of-type {\n",
       "        vertical-align: middle;\n",
       "    }\n",
       "\n",
       "    .dataframe tbody tr th {\n",
       "        vertical-align: top;\n",
       "    }\n",
       "\n",
       "    .dataframe thead th {\n",
       "        text-align: right;\n",
       "    }\n",
       "</style>\n",
       "<table border=\"1\" class=\"dataframe\">\n",
       "  <thead>\n",
       "    <tr style=\"text-align: right;\">\n",
       "      <th></th>\n",
       "      <th>index</th>\n",
       "      <th>fromstreet</th>\n",
       "      <th>street</th>\n",
       "      <th>boro</th>\n",
       "      <th>the_geom</th>\n",
       "      <th>tostreet</th>\n",
       "      <th>onoffst</th>\n",
       "      <th>allclasses</th>\n",
       "      <th>instdate</th>\n",
       "      <th>moddate</th>\n",
       "      <th>comments</th>\n",
       "      <th>bikedir</th>\n",
       "      <th>lanecount</th>\n",
       "      <th>ft_facilit</th>\n",
       "      <th>tf_facilit</th>\n",
       "      <th>SegmentID</th>\n",
       "      <th>Shape_Leng</th>\n",
       "      <th>latitude</th>\n",
       "      <th>longitude</th>\n",
       "    </tr>\n",
       "  </thead>\n",
       "  <tbody>\n",
       "    <tr>\n",
       "      <th>0</th>\n",
       "      <td>7356</td>\n",
       "      <td>BEACH 193 ST</td>\n",
       "      <td>STATE RD</td>\n",
       "      <td>4</td>\n",
       "      <td>MULTILINESTRING ((-73.90225363399998 40.562189...</td>\n",
       "      <td>BEACH 169 ST</td>\n",
       "      <td>ON</td>\n",
       "      <td>II</td>\n",
       "      <td>05/01/1997 12:00:00 AM +0000</td>\n",
       "      <td>05/01/1997 12:00:00 AM +0000</td>\n",
       "      <td>NaN</td>\n",
       "      <td>R</td>\n",
       "      <td>1</td>\n",
       "      <td>Curbside</td>\n",
       "      <td>NaN</td>\n",
       "      <td>149081.0</td>\n",
       "      <td>0.000068</td>\n",
       "      <td>40.56</td>\n",
       "      <td>-73.90</td>\n",
       "    </tr>\n",
       "    <tr>\n",
       "      <th>1</th>\n",
       "      <td>9269</td>\n",
       "      <td>32 AVE</td>\n",
       "      <td>101 ST</td>\n",
       "      <td>4</td>\n",
       "      <td>MULTILINESTRING ((-73.86824140499994 40.761723...</td>\n",
       "      <td>ASTORIA BLVD</td>\n",
       "      <td>ON</td>\n",
       "      <td>II</td>\n",
       "      <td>10/14/2016 12:00:00 AM +0000</td>\n",
       "      <td>10/14/2016 12:00:00 AM +0000</td>\n",
       "      <td>NaN</td>\n",
       "      <td>L</td>\n",
       "      <td>1</td>\n",
       "      <td>NaN</td>\n",
       "      <td>Standard</td>\n",
       "      <td>177415.0</td>\n",
       "      <td>0.000619</td>\n",
       "      <td>40.76</td>\n",
       "      <td>-73.86</td>\n",
       "    </tr>\n",
       "    <tr>\n",
       "      <th>2</th>\n",
       "      <td>12243</td>\n",
       "      <td>E 125 ST</td>\n",
       "      <td>2 AV</td>\n",
       "      <td>1</td>\n",
       "      <td>MULTILINESTRING ((-73.93411419099994 40.802046...</td>\n",
       "      <td>E 104 ST</td>\n",
       "      <td>ON</td>\n",
       "      <td>I</td>\n",
       "      <td>10/26/2012 12:00:00 AM +0000</td>\n",
       "      <td>10/26/2012 12:00:00 AM +0000</td>\n",
       "      <td>NaN</td>\n",
       "      <td>L</td>\n",
       "      <td>1</td>\n",
       "      <td>NaN</td>\n",
       "      <td>Protected Path</td>\n",
       "      <td>110979.0</td>\n",
       "      <td>0.000060</td>\n",
       "      <td>40.80</td>\n",
       "      <td>-73.93</td>\n",
       "    </tr>\n",
       "    <tr>\n",
       "      <th>3</th>\n",
       "      <td>9482</td>\n",
       "      <td>SUNNYSIDE AV</td>\n",
       "      <td>VERMONT ST</td>\n",
       "      <td>3</td>\n",
       "      <td>MULTILINESTRING ((-73.89597729299999 40.680112...</td>\n",
       "      <td>COZINE AV</td>\n",
       "      <td>ON</td>\n",
       "      <td>III</td>\n",
       "      <td>10/01/2009 12:00:00 AM +0000</td>\n",
       "      <td>10/01/2009 12:00:00 AM +0000</td>\n",
       "      <td>NaN</td>\n",
       "      <td>L</td>\n",
       "      <td>1</td>\n",
       "      <td>NaN</td>\n",
       "      <td>Sharrows</td>\n",
       "      <td>47593.0</td>\n",
       "      <td>0.001175</td>\n",
       "      <td>40.68</td>\n",
       "      <td>-73.89</td>\n",
       "    </tr>\n",
       "    <tr>\n",
       "      <th>4</th>\n",
       "      <td>13586</td>\n",
       "      <td>GARRISON AVE</td>\n",
       "      <td>HUNTS PT AV</td>\n",
       "      <td>2</td>\n",
       "      <td>MULTILINESTRING ((-73.88838357299994 40.817305...</td>\n",
       "      <td>SPOFFORD AVE</td>\n",
       "      <td>ON</td>\n",
       "      <td>II</td>\n",
       "      <td>11/01/2011 12:00:00 AM +0000</td>\n",
       "      <td>11/01/2011 12:00:00 AM +0000</td>\n",
       "      <td>NaN</td>\n",
       "      <td>2</td>\n",
       "      <td>2</td>\n",
       "      <td>Standard</td>\n",
       "      <td>Standard</td>\n",
       "      <td>9002144.0</td>\n",
       "      <td>0.000059</td>\n",
       "      <td>40.81</td>\n",
       "      <td>-73.88</td>\n",
       "    </tr>\n",
       "  </tbody>\n",
       "</table>\n",
       "</div>"
      ],
      "text/plain": [
       "   index    fromstreet       street  boro  \\\n",
       "0   7356  BEACH 193 ST     STATE RD     4   \n",
       "1   9269        32 AVE       101 ST     4   \n",
       "2  12243      E 125 ST         2 AV     1   \n",
       "3   9482  SUNNYSIDE AV   VERMONT ST     3   \n",
       "4  13586  GARRISON AVE  HUNTS PT AV     2   \n",
       "\n",
       "                                            the_geom      tostreet onoffst  \\\n",
       "0  MULTILINESTRING ((-73.90225363399998 40.562189...  BEACH 169 ST      ON   \n",
       "1  MULTILINESTRING ((-73.86824140499994 40.761723...  ASTORIA BLVD      ON   \n",
       "2  MULTILINESTRING ((-73.93411419099994 40.802046...      E 104 ST      ON   \n",
       "3  MULTILINESTRING ((-73.89597729299999 40.680112...     COZINE AV      ON   \n",
       "4  MULTILINESTRING ((-73.88838357299994 40.817305...  SPOFFORD AVE      ON   \n",
       "\n",
       "  allclasses                      instdate                       moddate  \\\n",
       "0         II  05/01/1997 12:00:00 AM +0000  05/01/1997 12:00:00 AM +0000   \n",
       "1         II  10/14/2016 12:00:00 AM +0000  10/14/2016 12:00:00 AM +0000   \n",
       "2          I  10/26/2012 12:00:00 AM +0000  10/26/2012 12:00:00 AM +0000   \n",
       "3        III  10/01/2009 12:00:00 AM +0000  10/01/2009 12:00:00 AM +0000   \n",
       "4         II  11/01/2011 12:00:00 AM +0000  11/01/2011 12:00:00 AM +0000   \n",
       "\n",
       "  comments bikedir  lanecount ft_facilit      tf_facilit  SegmentID  \\\n",
       "0      NaN       R          1   Curbside             NaN   149081.0   \n",
       "1      NaN       L          1        NaN        Standard   177415.0   \n",
       "2      NaN       L          1        NaN  Protected Path   110979.0   \n",
       "3      NaN       L          1        NaN        Sharrows    47593.0   \n",
       "4      NaN       2          2   Standard        Standard  9002144.0   \n",
       "\n",
       "   Shape_Leng  latitude  longitude  \n",
       "0    0.000068     40.56     -73.90  \n",
       "1    0.000619     40.76     -73.86  \n",
       "2    0.000060     40.80     -73.93  \n",
       "3    0.001175     40.68     -73.89  \n",
       "4    0.000059     40.81     -73.88  "
      ]
     },
     "execution_count": 36,
     "metadata": {},
     "output_type": "execute_result"
    }
   ],
   "source": [
    "for x in range(len(routes_subset)):\n",
    "    routes_subset[\"longitude\"][x] = float(routes_subset[\"the_geom\"][x][18:24])\n",
    "    routes_subset[\"latitude\"][x] = float(routes_subset[\"the_geom\"][x][37:42])\n",
    "routes_subset.head()                       "
   ]
  },
  {
   "cell_type": "code",
   "execution_count": 37,
   "metadata": {},
   "outputs": [
    {
     "data": {
      "text/html": [
       "<div>\n",
       "<style scoped>\n",
       "    .dataframe tbody tr th:only-of-type {\n",
       "        vertical-align: middle;\n",
       "    }\n",
       "\n",
       "    .dataframe tbody tr th {\n",
       "        vertical-align: top;\n",
       "    }\n",
       "\n",
       "    .dataframe thead th {\n",
       "        text-align: right;\n",
       "    }\n",
       "</style>\n",
       "<table border=\"1\" class=\"dataframe\">\n",
       "  <thead>\n",
       "    <tr style=\"text-align: right;\">\n",
       "      <th></th>\n",
       "      <th>boro</th>\n",
       "      <th>latitude</th>\n",
       "      <th>longitude</th>\n",
       "    </tr>\n",
       "  </thead>\n",
       "  <tbody>\n",
       "    <tr>\n",
       "      <th>0</th>\n",
       "      <td>4</td>\n",
       "      <td>40.56</td>\n",
       "      <td>-73.90</td>\n",
       "    </tr>\n",
       "    <tr>\n",
       "      <th>1</th>\n",
       "      <td>4</td>\n",
       "      <td>40.76</td>\n",
       "      <td>-73.86</td>\n",
       "    </tr>\n",
       "    <tr>\n",
       "      <th>2</th>\n",
       "      <td>1</td>\n",
       "      <td>40.80</td>\n",
       "      <td>-73.93</td>\n",
       "    </tr>\n",
       "    <tr>\n",
       "      <th>3</th>\n",
       "      <td>3</td>\n",
       "      <td>40.68</td>\n",
       "      <td>-73.89</td>\n",
       "    </tr>\n",
       "    <tr>\n",
       "      <th>4</th>\n",
       "      <td>2</td>\n",
       "      <td>40.81</td>\n",
       "      <td>-73.88</td>\n",
       "    </tr>\n",
       "  </tbody>\n",
       "</table>\n",
       "</div>"
      ],
      "text/plain": [
       "   boro  latitude  longitude\n",
       "0     4     40.56     -73.90\n",
       "1     4     40.76     -73.86\n",
       "2     1     40.80     -73.93\n",
       "3     3     40.68     -73.89\n",
       "4     2     40.81     -73.88"
      ]
     },
     "execution_count": 37,
     "metadata": {},
     "output_type": "execute_result"
    }
   ],
   "source": [
    "routes_subset = routes_subset[[\"boro\", \"latitude\", \"longitude\"]]\n",
    "routes_subset.head()"
   ]
  },
  {
   "cell_type": "code",
   "execution_count": 38,
   "metadata": {},
   "outputs": [
    {
     "data": {
      "text/html": [
       "<div>\n",
       "<style scoped>\n",
       "    .dataframe tbody tr th:only-of-type {\n",
       "        vertical-align: middle;\n",
       "    }\n",
       "\n",
       "    .dataframe tbody tr th {\n",
       "        vertical-align: top;\n",
       "    }\n",
       "\n",
       "    .dataframe thead th {\n",
       "        text-align: right;\n",
       "    }\n",
       "</style>\n",
       "<table border=\"1\" class=\"dataframe\">\n",
       "  <thead>\n",
       "    <tr style=\"text-align: right;\">\n",
       "      <th></th>\n",
       "      <th>boro</th>\n",
       "      <th>start station latitude</th>\n",
       "      <th>start station longitude</th>\n",
       "    </tr>\n",
       "  </thead>\n",
       "  <tbody>\n",
       "    <tr>\n",
       "      <th>0</th>\n",
       "      <td>4</td>\n",
       "      <td>40.56</td>\n",
       "      <td>-73.90</td>\n",
       "    </tr>\n",
       "    <tr>\n",
       "      <th>1</th>\n",
       "      <td>4</td>\n",
       "      <td>40.76</td>\n",
       "      <td>-73.86</td>\n",
       "    </tr>\n",
       "    <tr>\n",
       "      <th>2</th>\n",
       "      <td>1</td>\n",
       "      <td>40.80</td>\n",
       "      <td>-73.93</td>\n",
       "    </tr>\n",
       "    <tr>\n",
       "      <th>3</th>\n",
       "      <td>3</td>\n",
       "      <td>40.68</td>\n",
       "      <td>-73.89</td>\n",
       "    </tr>\n",
       "    <tr>\n",
       "      <th>4</th>\n",
       "      <td>2</td>\n",
       "      <td>40.81</td>\n",
       "      <td>-73.88</td>\n",
       "    </tr>\n",
       "  </tbody>\n",
       "</table>\n",
       "</div>"
      ],
      "text/plain": [
       "   boro  start station latitude  start station longitude\n",
       "0     4                   40.56                   -73.90\n",
       "1     4                   40.76                   -73.86\n",
       "2     1                   40.80                   -73.93\n",
       "3     3                   40.68                   -73.89\n",
       "4     2                   40.81                   -73.88"
      ]
     },
     "execution_count": 38,
     "metadata": {},
     "output_type": "execute_result"
    }
   ],
   "source": [
    "routes_subset.rename(columns={'latitude':'start station latitude', 'longitude':'start station longitude'}, inplace=True)\n",
    "routes_subset.head()"
   ]
  },
  {
   "cell_type": "code",
   "execution_count": 39,
   "metadata": {},
   "outputs": [],
   "source": [
    "biking_2013_routes = pd.merge(routes_subset, biking_2013_subset, how=\"right\", on=[\"start station latitude\",\"start station longitude\"])"
   ]
  },
  {
   "cell_type": "code",
   "execution_count": 41,
   "metadata": {},
   "outputs": [
    {
     "data": {
      "text/html": [
       "<div>\n",
       "<style scoped>\n",
       "    .dataframe tbody tr th:only-of-type {\n",
       "        vertical-align: middle;\n",
       "    }\n",
       "\n",
       "    .dataframe tbody tr th {\n",
       "        vertical-align: top;\n",
       "    }\n",
       "\n",
       "    .dataframe thead th {\n",
       "        text-align: right;\n",
       "    }\n",
       "</style>\n",
       "<table border=\"1\" class=\"dataframe\">\n",
       "  <thead>\n",
       "    <tr style=\"text-align: right;\">\n",
       "      <th></th>\n",
       "      <th>boro</th>\n",
       "      <th>start station latitude</th>\n",
       "      <th>start station longitude</th>\n",
       "      <th>index</th>\n",
       "      <th>tripduration</th>\n",
       "      <th>starttime</th>\n",
       "      <th>stoptime</th>\n",
       "      <th>start station id</th>\n",
       "      <th>start station name</th>\n",
       "      <th>end station id</th>\n",
       "      <th>end station name</th>\n",
       "      <th>end station latitude</th>\n",
       "      <th>end station longitude</th>\n",
       "      <th>bikeid</th>\n",
       "      <th>usertype</th>\n",
       "      <th>birthyear</th>\n",
       "      <th>gender</th>\n",
       "    </tr>\n",
       "  </thead>\n",
       "  <tbody>\n",
       "    <tr>\n",
       "      <th>0</th>\n",
       "      <td>1.0</td>\n",
       "      <td>40.72</td>\n",
       "      <td>-73.98</td>\n",
       "      <td>43818</td>\n",
       "      <td>6865</td>\n",
       "      <td>2013-06-04 18:46:26</td>\n",
       "      <td>2013-06-04 20:40:51</td>\n",
       "      <td>356</td>\n",
       "      <td>Bialystoker Pl &amp; Delancey St</td>\n",
       "      <td>NaN</td>\n",
       "      <td>NaN</td>\n",
       "      <td>NaN</td>\n",
       "      <td>NaN</td>\n",
       "      <td>18408</td>\n",
       "      <td>Subscriber</td>\n",
       "      <td>1980.0</td>\n",
       "      <td>1</td>\n",
       "    </tr>\n",
       "    <tr>\n",
       "      <th>1</th>\n",
       "      <td>1.0</td>\n",
       "      <td>40.72</td>\n",
       "      <td>-73.98</td>\n",
       "      <td>43818</td>\n",
       "      <td>6865</td>\n",
       "      <td>2013-06-04 18:46:26</td>\n",
       "      <td>2013-06-04 20:40:51</td>\n",
       "      <td>356</td>\n",
       "      <td>Bialystoker Pl &amp; Delancey St</td>\n",
       "      <td>NaN</td>\n",
       "      <td>NaN</td>\n",
       "      <td>NaN</td>\n",
       "      <td>NaN</td>\n",
       "      <td>18408</td>\n",
       "      <td>Subscriber</td>\n",
       "      <td>1980.0</td>\n",
       "      <td>1</td>\n",
       "    </tr>\n",
       "    <tr>\n",
       "      <th>2</th>\n",
       "      <td>1.0</td>\n",
       "      <td>40.72</td>\n",
       "      <td>-73.98</td>\n",
       "      <td>43818</td>\n",
       "      <td>6865</td>\n",
       "      <td>2013-06-04 18:46:26</td>\n",
       "      <td>2013-06-04 20:40:51</td>\n",
       "      <td>356</td>\n",
       "      <td>Bialystoker Pl &amp; Delancey St</td>\n",
       "      <td>NaN</td>\n",
       "      <td>NaN</td>\n",
       "      <td>NaN</td>\n",
       "      <td>NaN</td>\n",
       "      <td>18408</td>\n",
       "      <td>Subscriber</td>\n",
       "      <td>1980.0</td>\n",
       "      <td>1</td>\n",
       "    </tr>\n",
       "    <tr>\n",
       "      <th>3</th>\n",
       "      <td>1.0</td>\n",
       "      <td>40.72</td>\n",
       "      <td>-73.98</td>\n",
       "      <td>43818</td>\n",
       "      <td>6865</td>\n",
       "      <td>2013-06-04 18:46:26</td>\n",
       "      <td>2013-06-04 20:40:51</td>\n",
       "      <td>356</td>\n",
       "      <td>Bialystoker Pl &amp; Delancey St</td>\n",
       "      <td>NaN</td>\n",
       "      <td>NaN</td>\n",
       "      <td>NaN</td>\n",
       "      <td>NaN</td>\n",
       "      <td>18408</td>\n",
       "      <td>Subscriber</td>\n",
       "      <td>1980.0</td>\n",
       "      <td>1</td>\n",
       "    </tr>\n",
       "    <tr>\n",
       "      <th>4</th>\n",
       "      <td>1.0</td>\n",
       "      <td>40.72</td>\n",
       "      <td>-73.98</td>\n",
       "      <td>43818</td>\n",
       "      <td>6865</td>\n",
       "      <td>2013-06-04 18:46:26</td>\n",
       "      <td>2013-06-04 20:40:51</td>\n",
       "      <td>356</td>\n",
       "      <td>Bialystoker Pl &amp; Delancey St</td>\n",
       "      <td>NaN</td>\n",
       "      <td>NaN</td>\n",
       "      <td>NaN</td>\n",
       "      <td>NaN</td>\n",
       "      <td>18408</td>\n",
       "      <td>Subscriber</td>\n",
       "      <td>1980.0</td>\n",
       "      <td>1</td>\n",
       "    </tr>\n",
       "  </tbody>\n",
       "</table>\n",
       "</div>"
      ],
      "text/plain": [
       "   boro  start station latitude  start station longitude  index  tripduration  \\\n",
       "0   1.0                   40.72                   -73.98  43818          6865   \n",
       "1   1.0                   40.72                   -73.98  43818          6865   \n",
       "2   1.0                   40.72                   -73.98  43818          6865   \n",
       "3   1.0                   40.72                   -73.98  43818          6865   \n",
       "4   1.0                   40.72                   -73.98  43818          6865   \n",
       "\n",
       "             starttime             stoptime  start station id  \\\n",
       "0  2013-06-04 18:46:26  2013-06-04 20:40:51               356   \n",
       "1  2013-06-04 18:46:26  2013-06-04 20:40:51               356   \n",
       "2  2013-06-04 18:46:26  2013-06-04 20:40:51               356   \n",
       "3  2013-06-04 18:46:26  2013-06-04 20:40:51               356   \n",
       "4  2013-06-04 18:46:26  2013-06-04 20:40:51               356   \n",
       "\n",
       "             start station name  end station id end station name  \\\n",
       "0  Bialystoker Pl & Delancey St             NaN              NaN   \n",
       "1  Bialystoker Pl & Delancey St             NaN              NaN   \n",
       "2  Bialystoker Pl & Delancey St             NaN              NaN   \n",
       "3  Bialystoker Pl & Delancey St             NaN              NaN   \n",
       "4  Bialystoker Pl & Delancey St             NaN              NaN   \n",
       "\n",
       "   end station latitude  end station longitude  bikeid    usertype  birthyear  \\\n",
       "0                   NaN                    NaN   18408  Subscriber     1980.0   \n",
       "1                   NaN                    NaN   18408  Subscriber     1980.0   \n",
       "2                   NaN                    NaN   18408  Subscriber     1980.0   \n",
       "3                   NaN                    NaN   18408  Subscriber     1980.0   \n",
       "4                   NaN                    NaN   18408  Subscriber     1980.0   \n",
       "\n",
       "   gender  \n",
       "0       1  \n",
       "1       1  \n",
       "2       1  \n",
       "3       1  \n",
       "4       1  "
      ]
     },
     "execution_count": 41,
     "metadata": {},
     "output_type": "execute_result"
    }
   ],
   "source": [
    "biking_2013_routes.head()"
   ]
  },
  {
   "cell_type": "code",
   "execution_count": 42,
   "metadata": {},
   "outputs": [
    {
     "data": {
      "text/html": [
       "<div>\n",
       "<style scoped>\n",
       "    .dataframe tbody tr th:only-of-type {\n",
       "        vertical-align: middle;\n",
       "    }\n",
       "\n",
       "    .dataframe tbody tr th {\n",
       "        vertical-align: top;\n",
       "    }\n",
       "\n",
       "    .dataframe thead th {\n",
       "        text-align: right;\n",
       "    }\n",
       "</style>\n",
       "<table border=\"1\" class=\"dataframe\">\n",
       "  <thead>\n",
       "    <tr style=\"text-align: right;\">\n",
       "      <th></th>\n",
       "      <th>boro</th>\n",
       "      <th>start station latitude</th>\n",
       "      <th>start station longitude</th>\n",
       "      <th>index</th>\n",
       "      <th>tripduration</th>\n",
       "      <th>starttime</th>\n",
       "      <th>stoptime</th>\n",
       "      <th>start station id</th>\n",
       "      <th>start station name</th>\n",
       "      <th>end station id</th>\n",
       "      <th>end station name</th>\n",
       "      <th>end station latitude</th>\n",
       "      <th>end station longitude</th>\n",
       "      <th>bikeid</th>\n",
       "      <th>usertype</th>\n",
       "      <th>birthyear</th>\n",
       "      <th>gender</th>\n",
       "    </tr>\n",
       "  </thead>\n",
       "  <tbody>\n",
       "    <tr>\n",
       "      <th>0</th>\n",
       "      <td>1.0</td>\n",
       "      <td>40.72</td>\n",
       "      <td>-73.98</td>\n",
       "      <td>43818</td>\n",
       "      <td>6865</td>\n",
       "      <td>2013-06-04 18:46:26</td>\n",
       "      <td>2013-06-04 20:40:51</td>\n",
       "      <td>356</td>\n",
       "      <td>Bialystoker Pl &amp; Delancey St</td>\n",
       "      <td>NaN</td>\n",
       "      <td>NaN</td>\n",
       "      <td>NaN</td>\n",
       "      <td>NaN</td>\n",
       "      <td>18408</td>\n",
       "      <td>Subscriber</td>\n",
       "      <td>1980.0</td>\n",
       "      <td>1</td>\n",
       "    </tr>\n",
       "    <tr>\n",
       "      <th>8</th>\n",
       "      <td>1.0</td>\n",
       "      <td>40.72</td>\n",
       "      <td>-73.98</td>\n",
       "      <td>416821</td>\n",
       "      <td>663</td>\n",
       "      <td>2013-06-25 08:23:45</td>\n",
       "      <td>2013-06-25 08:34:48</td>\n",
       "      <td>393</td>\n",
       "      <td>E 5 St &amp; Avenue C</td>\n",
       "      <td>293.0</td>\n",
       "      <td>Lafayette St &amp; E 8 St</td>\n",
       "      <td>40.730207</td>\n",
       "      <td>-73.991026</td>\n",
       "      <td>16733</td>\n",
       "      <td>Subscriber</td>\n",
       "      <td>1957.0</td>\n",
       "      <td>2</td>\n",
       "    </tr>\n",
       "    <tr>\n",
       "      <th>16</th>\n",
       "      <td>1.0</td>\n",
       "      <td>40.72</td>\n",
       "      <td>-73.98</td>\n",
       "      <td>305402</td>\n",
       "      <td>1452</td>\n",
       "      <td>2013-06-21 07:00:30</td>\n",
       "      <td>2013-06-21 07:24:42</td>\n",
       "      <td>349</td>\n",
       "      <td>Rivington St &amp; Ridge St</td>\n",
       "      <td>522.0</td>\n",
       "      <td>E 51 St &amp; Lexington Ave</td>\n",
       "      <td>40.757148</td>\n",
       "      <td>-73.972078</td>\n",
       "      <td>19616</td>\n",
       "      <td>Subscriber</td>\n",
       "      <td>1987.0</td>\n",
       "      <td>2</td>\n",
       "    </tr>\n",
       "    <tr>\n",
       "      <th>24</th>\n",
       "      <td>1.0</td>\n",
       "      <td>40.72</td>\n",
       "      <td>-73.98</td>\n",
       "      <td>525696</td>\n",
       "      <td>719</td>\n",
       "      <td>2013-06-29 09:27:43</td>\n",
       "      <td>2013-06-29 09:39:42</td>\n",
       "      <td>349</td>\n",
       "      <td>Rivington St &amp; Ridge St</td>\n",
       "      <td>369.0</td>\n",
       "      <td>Washington Pl &amp; 6 Ave</td>\n",
       "      <td>40.732241</td>\n",
       "      <td>-74.000264</td>\n",
       "      <td>17302</td>\n",
       "      <td>Subscriber</td>\n",
       "      <td>1982.0</td>\n",
       "      <td>1</td>\n",
       "    </tr>\n",
       "    <tr>\n",
       "      <th>32</th>\n",
       "      <td>1.0</td>\n",
       "      <td>40.72</td>\n",
       "      <td>-73.98</td>\n",
       "      <td>290404</td>\n",
       "      <td>561</td>\n",
       "      <td>2013-06-20 16:08:52</td>\n",
       "      <td>2013-06-20 16:18:13</td>\n",
       "      <td>411</td>\n",
       "      <td>E 6 St &amp; Avenue D</td>\n",
       "      <td>502.0</td>\n",
       "      <td>Henry St &amp; Grand St</td>\n",
       "      <td>40.714215</td>\n",
       "      <td>-73.981346</td>\n",
       "      <td>17235</td>\n",
       "      <td>Subscriber</td>\n",
       "      <td>1964.0</td>\n",
       "      <td>2</td>\n",
       "    </tr>\n",
       "  </tbody>\n",
       "</table>\n",
       "</div>"
      ],
      "text/plain": [
       "    boro  start station latitude  start station longitude   index  \\\n",
       "0    1.0                   40.72                   -73.98   43818   \n",
       "8    1.0                   40.72                   -73.98  416821   \n",
       "16   1.0                   40.72                   -73.98  305402   \n",
       "24   1.0                   40.72                   -73.98  525696   \n",
       "32   1.0                   40.72                   -73.98  290404   \n",
       "\n",
       "    tripduration            starttime             stoptime  start station id  \\\n",
       "0           6865  2013-06-04 18:46:26  2013-06-04 20:40:51               356   \n",
       "8            663  2013-06-25 08:23:45  2013-06-25 08:34:48               393   \n",
       "16          1452  2013-06-21 07:00:30  2013-06-21 07:24:42               349   \n",
       "24           719  2013-06-29 09:27:43  2013-06-29 09:39:42               349   \n",
       "32           561  2013-06-20 16:08:52  2013-06-20 16:18:13               411   \n",
       "\n",
       "              start station name  end station id         end station name  \\\n",
       "0   Bialystoker Pl & Delancey St             NaN                      NaN   \n",
       "8              E 5 St & Avenue C           293.0    Lafayette St & E 8 St   \n",
       "16       Rivington St & Ridge St           522.0  E 51 St & Lexington Ave   \n",
       "24       Rivington St & Ridge St           369.0    Washington Pl & 6 Ave   \n",
       "32             E 6 St & Avenue D           502.0      Henry St & Grand St   \n",
       "\n",
       "    end station latitude  end station longitude  bikeid    usertype  \\\n",
       "0                    NaN                    NaN   18408  Subscriber   \n",
       "8              40.730207             -73.991026   16733  Subscriber   \n",
       "16             40.757148             -73.972078   19616  Subscriber   \n",
       "24             40.732241             -74.000264   17302  Subscriber   \n",
       "32             40.714215             -73.981346   17235  Subscriber   \n",
       "\n",
       "    birthyear  gender  \n",
       "0      1980.0       1  \n",
       "8      1957.0       2  \n",
       "16     1987.0       2  \n",
       "24     1982.0       1  \n",
       "32     1964.0       2  "
      ]
     },
     "execution_count": 42,
     "metadata": {},
     "output_type": "execute_result"
    }
   ],
   "source": [
    "biking_2013_routes = biking_2013_routes.drop_duplicates()\n",
    "biking_2013_routes.head()"
   ]
  },
  {
   "cell_type": "code",
   "execution_count": 43,
   "metadata": {},
   "outputs": [
    {
     "data": {
      "text/plain": [
       "1002"
      ]
     },
     "execution_count": 43,
     "metadata": {},
     "output_type": "execute_result"
    }
   ],
   "source": [
    "biking_2013_routes.shape[0]"
   ]
  },
  {
   "cell_type": "code",
   "execution_count": 44,
   "metadata": {},
   "outputs": [],
   "source": [
    "biking_2013_routes = biking_2013_routes.dropna()"
   ]
  },
  {
   "cell_type": "code",
   "execution_count": 45,
   "metadata": {},
   "outputs": [
    {
     "data": {
      "text/plain": [
       "797"
      ]
     },
     "execution_count": 45,
     "metadata": {},
     "output_type": "execute_result"
    }
   ],
   "source": [
    "biking_2013_routes.shape[0]"
   ]
  },
  {
   "cell_type": "code",
   "execution_count": 46,
   "metadata": {},
   "outputs": [
    {
     "data": {
      "text/html": [
       "<div>\n",
       "<style scoped>\n",
       "    .dataframe tbody tr th:only-of-type {\n",
       "        vertical-align: middle;\n",
       "    }\n",
       "\n",
       "    .dataframe tbody tr th {\n",
       "        vertical-align: top;\n",
       "    }\n",
       "\n",
       "    .dataframe thead th {\n",
       "        text-align: right;\n",
       "    }\n",
       "</style>\n",
       "<table border=\"1\" class=\"dataframe\">\n",
       "  <thead>\n",
       "    <tr style=\"text-align: right;\">\n",
       "      <th></th>\n",
       "      <th>Zone</th>\n",
       "      <th>start station latitude</th>\n",
       "      <th>start station longitude</th>\n",
       "      <th>index</th>\n",
       "      <th>tripduration</th>\n",
       "      <th>starttime</th>\n",
       "      <th>stoptime</th>\n",
       "      <th>start station id</th>\n",
       "      <th>start station name</th>\n",
       "      <th>end station id</th>\n",
       "      <th>end station name</th>\n",
       "      <th>end station latitude</th>\n",
       "      <th>end station longitude</th>\n",
       "      <th>bikeid</th>\n",
       "      <th>usertype</th>\n",
       "      <th>birthyear</th>\n",
       "      <th>gender</th>\n",
       "    </tr>\n",
       "  </thead>\n",
       "  <tbody>\n",
       "  </tbody>\n",
       "</table>\n",
       "</div>"
      ],
      "text/plain": [
       "Empty DataFrame\n",
       "Columns: [Zone, start station latitude, start station longitude, index, tripduration, starttime, stoptime, start station id, start station name, end station id, end station name, end station latitude, end station longitude, bikeid, usertype, birthyear, gender]\n",
       "Index: []"
      ]
     },
     "execution_count": 46,
     "metadata": {},
     "output_type": "execute_result"
    }
   ],
   "source": [
    "biking_2013_routes.rename(columns={'boro':'Zone'}, inplace=True)\n",
    "biking_2013_routes.head(0)"
   ]
  },
  {
   "cell_type": "code",
   "execution_count": 140,
   "metadata": {},
   "outputs": [],
   "source": [
    "biking_2016_routes = pd.merge(routes_subset, biking_2016_subset, how=\"right\", on=[\"start station latitude\",\"start station longitude\"])"
   ]
  },
  {
   "cell_type": "code",
   "execution_count": 141,
   "metadata": {},
   "outputs": [
    {
     "data": {
      "text/html": [
       "<div>\n",
       "<style scoped>\n",
       "    .dataframe tbody tr th:only-of-type {\n",
       "        vertical-align: middle;\n",
       "    }\n",
       "\n",
       "    .dataframe tbody tr th {\n",
       "        vertical-align: top;\n",
       "    }\n",
       "\n",
       "    .dataframe thead th {\n",
       "        text-align: right;\n",
       "    }\n",
       "</style>\n",
       "<table border=\"1\" class=\"dataframe\">\n",
       "  <thead>\n",
       "    <tr style=\"text-align: right;\">\n",
       "      <th></th>\n",
       "      <th>boro</th>\n",
       "      <th>start station latitude</th>\n",
       "      <th>start station longitude</th>\n",
       "      <th>index</th>\n",
       "      <th>tripduration</th>\n",
       "      <th>starttime</th>\n",
       "      <th>stoptime</th>\n",
       "      <th>start station id</th>\n",
       "      <th>start station name</th>\n",
       "      <th>end station id</th>\n",
       "      <th>end station name</th>\n",
       "      <th>end station latitude</th>\n",
       "      <th>end station longitude</th>\n",
       "      <th>bikeid</th>\n",
       "      <th>usertype</th>\n",
       "      <th>birthyear</th>\n",
       "      <th>gender</th>\n",
       "    </tr>\n",
       "  </thead>\n",
       "  <tbody>\n",
       "    <tr>\n",
       "      <th>0</th>\n",
       "      <td>1.0</td>\n",
       "      <td>40.75</td>\n",
       "      <td>-73.99</td>\n",
       "      <td>1242409</td>\n",
       "      <td>641</td>\n",
       "      <td>6/26/2016 18:19:17</td>\n",
       "      <td>6/26/2016 18:29:59</td>\n",
       "      <td>498</td>\n",
       "      <td>Broadway &amp; W 32 St</td>\n",
       "      <td>528</td>\n",
       "      <td>2 Ave &amp; E 31 St</td>\n",
       "      <td>40.742909</td>\n",
       "      <td>-73.977061</td>\n",
       "      <td>25678</td>\n",
       "      <td>Subscriber</td>\n",
       "      <td>1993.0</td>\n",
       "      <td>1</td>\n",
       "    </tr>\n",
       "    <tr>\n",
       "      <th>1</th>\n",
       "      <td>1.0</td>\n",
       "      <td>40.75</td>\n",
       "      <td>-73.99</td>\n",
       "      <td>1242409</td>\n",
       "      <td>641</td>\n",
       "      <td>6/26/2016 18:19:17</td>\n",
       "      <td>6/26/2016 18:29:59</td>\n",
       "      <td>498</td>\n",
       "      <td>Broadway &amp; W 32 St</td>\n",
       "      <td>528</td>\n",
       "      <td>2 Ave &amp; E 31 St</td>\n",
       "      <td>40.742909</td>\n",
       "      <td>-73.977061</td>\n",
       "      <td>25678</td>\n",
       "      <td>Subscriber</td>\n",
       "      <td>1993.0</td>\n",
       "      <td>1</td>\n",
       "    </tr>\n",
       "    <tr>\n",
       "      <th>2</th>\n",
       "      <td>1.0</td>\n",
       "      <td>40.75</td>\n",
       "      <td>-73.99</td>\n",
       "      <td>742387</td>\n",
       "      <td>184</td>\n",
       "      <td>6/16/2016 19:32:46</td>\n",
       "      <td>6/16/2016 19:35:50</td>\n",
       "      <td>492</td>\n",
       "      <td>W 33 St &amp; 7 Ave</td>\n",
       "      <td>446</td>\n",
       "      <td>W 24 St &amp; 7 Ave</td>\n",
       "      <td>40.744876</td>\n",
       "      <td>-73.995299</td>\n",
       "      <td>15870</td>\n",
       "      <td>Subscriber</td>\n",
       "      <td>1969.0</td>\n",
       "      <td>1</td>\n",
       "    </tr>\n",
       "    <tr>\n",
       "      <th>3</th>\n",
       "      <td>1.0</td>\n",
       "      <td>40.75</td>\n",
       "      <td>-73.99</td>\n",
       "      <td>742387</td>\n",
       "      <td>184</td>\n",
       "      <td>6/16/2016 19:32:46</td>\n",
       "      <td>6/16/2016 19:35:50</td>\n",
       "      <td>492</td>\n",
       "      <td>W 33 St &amp; 7 Ave</td>\n",
       "      <td>446</td>\n",
       "      <td>W 24 St &amp; 7 Ave</td>\n",
       "      <td>40.744876</td>\n",
       "      <td>-73.995299</td>\n",
       "      <td>15870</td>\n",
       "      <td>Subscriber</td>\n",
       "      <td>1969.0</td>\n",
       "      <td>1</td>\n",
       "    </tr>\n",
       "    <tr>\n",
       "      <th>4</th>\n",
       "      <td>1.0</td>\n",
       "      <td>40.75</td>\n",
       "      <td>-73.99</td>\n",
       "      <td>1363324</td>\n",
       "      <td>918</td>\n",
       "      <td>6/29/2016 09:27:01</td>\n",
       "      <td>6/29/2016 09:42:20</td>\n",
       "      <td>533</td>\n",
       "      <td>Broadway &amp; W 39 St</td>\n",
       "      <td>168</td>\n",
       "      <td>W 18 St &amp; 6 Ave</td>\n",
       "      <td>40.739713</td>\n",
       "      <td>-73.994564</td>\n",
       "      <td>20817</td>\n",
       "      <td>Subscriber</td>\n",
       "      <td>1988.0</td>\n",
       "      <td>2</td>\n",
       "    </tr>\n",
       "  </tbody>\n",
       "</table>\n",
       "</div>"
      ],
      "text/plain": [
       "   boro  start station latitude  start station longitude    index  \\\n",
       "0   1.0                   40.75                   -73.99  1242409   \n",
       "1   1.0                   40.75                   -73.99  1242409   \n",
       "2   1.0                   40.75                   -73.99   742387   \n",
       "3   1.0                   40.75                   -73.99   742387   \n",
       "4   1.0                   40.75                   -73.99  1363324   \n",
       "\n",
       "   tripduration           starttime            stoptime  start station id  \\\n",
       "0           641  6/26/2016 18:19:17  6/26/2016 18:29:59               498   \n",
       "1           641  6/26/2016 18:19:17  6/26/2016 18:29:59               498   \n",
       "2           184  6/16/2016 19:32:46  6/16/2016 19:35:50               492   \n",
       "3           184  6/16/2016 19:32:46  6/16/2016 19:35:50               492   \n",
       "4           918  6/29/2016 09:27:01  6/29/2016 09:42:20               533   \n",
       "\n",
       "   start station name  end station id end station name  end station latitude  \\\n",
       "0  Broadway & W 32 St             528  2 Ave & E 31 St             40.742909   \n",
       "1  Broadway & W 32 St             528  2 Ave & E 31 St             40.742909   \n",
       "2     W 33 St & 7 Ave             446  W 24 St & 7 Ave             40.744876   \n",
       "3     W 33 St & 7 Ave             446  W 24 St & 7 Ave             40.744876   \n",
       "4  Broadway & W 39 St             168  W 18 St & 6 Ave             40.739713   \n",
       "\n",
       "   end station longitude  bikeid    usertype  birthyear  gender  \n",
       "0             -73.977061   25678  Subscriber     1993.0       1  \n",
       "1             -73.977061   25678  Subscriber     1993.0       1  \n",
       "2             -73.995299   15870  Subscriber     1969.0       1  \n",
       "3             -73.995299   15870  Subscriber     1969.0       1  \n",
       "4             -73.994564   20817  Subscriber     1988.0       2  "
      ]
     },
     "execution_count": 141,
     "metadata": {},
     "output_type": "execute_result"
    }
   ],
   "source": [
    "biking_2016_routes.head()"
   ]
  },
  {
   "cell_type": "code",
   "execution_count": 142,
   "metadata": {},
   "outputs": [
    {
     "data": {
      "text/html": [
       "<div>\n",
       "<style scoped>\n",
       "    .dataframe tbody tr th:only-of-type {\n",
       "        vertical-align: middle;\n",
       "    }\n",
       "\n",
       "    .dataframe tbody tr th {\n",
       "        vertical-align: top;\n",
       "    }\n",
       "\n",
       "    .dataframe thead th {\n",
       "        text-align: right;\n",
       "    }\n",
       "</style>\n",
       "<table border=\"1\" class=\"dataframe\">\n",
       "  <thead>\n",
       "    <tr style=\"text-align: right;\">\n",
       "      <th></th>\n",
       "      <th>boro</th>\n",
       "      <th>start station latitude</th>\n",
       "      <th>start station longitude</th>\n",
       "      <th>index</th>\n",
       "      <th>tripduration</th>\n",
       "      <th>starttime</th>\n",
       "      <th>stoptime</th>\n",
       "      <th>start station id</th>\n",
       "      <th>start station name</th>\n",
       "      <th>end station id</th>\n",
       "      <th>end station name</th>\n",
       "      <th>end station latitude</th>\n",
       "      <th>end station longitude</th>\n",
       "      <th>bikeid</th>\n",
       "      <th>usertype</th>\n",
       "      <th>birthyear</th>\n",
       "      <th>gender</th>\n",
       "    </tr>\n",
       "  </thead>\n",
       "  <tbody>\n",
       "    <tr>\n",
       "      <th>0</th>\n",
       "      <td>1.0</td>\n",
       "      <td>40.75</td>\n",
       "      <td>-73.99</td>\n",
       "      <td>1242409</td>\n",
       "      <td>641</td>\n",
       "      <td>6/26/2016 18:19:17</td>\n",
       "      <td>6/26/2016 18:29:59</td>\n",
       "      <td>498</td>\n",
       "      <td>Broadway &amp; W 32 St</td>\n",
       "      <td>528</td>\n",
       "      <td>2 Ave &amp; E 31 St</td>\n",
       "      <td>40.742909</td>\n",
       "      <td>-73.977061</td>\n",
       "      <td>25678</td>\n",
       "      <td>Subscriber</td>\n",
       "      <td>1993.0</td>\n",
       "      <td>1</td>\n",
       "    </tr>\n",
       "    <tr>\n",
       "      <th>2</th>\n",
       "      <td>1.0</td>\n",
       "      <td>40.75</td>\n",
       "      <td>-73.99</td>\n",
       "      <td>742387</td>\n",
       "      <td>184</td>\n",
       "      <td>6/16/2016 19:32:46</td>\n",
       "      <td>6/16/2016 19:35:50</td>\n",
       "      <td>492</td>\n",
       "      <td>W 33 St &amp; 7 Ave</td>\n",
       "      <td>446</td>\n",
       "      <td>W 24 St &amp; 7 Ave</td>\n",
       "      <td>40.744876</td>\n",
       "      <td>-73.995299</td>\n",
       "      <td>15870</td>\n",
       "      <td>Subscriber</td>\n",
       "      <td>1969.0</td>\n",
       "      <td>1</td>\n",
       "    </tr>\n",
       "    <tr>\n",
       "      <th>4</th>\n",
       "      <td>1.0</td>\n",
       "      <td>40.75</td>\n",
       "      <td>-73.99</td>\n",
       "      <td>1363324</td>\n",
       "      <td>918</td>\n",
       "      <td>6/29/2016 09:27:01</td>\n",
       "      <td>6/29/2016 09:42:20</td>\n",
       "      <td>533</td>\n",
       "      <td>Broadway &amp; W 39 St</td>\n",
       "      <td>168</td>\n",
       "      <td>W 18 St &amp; 6 Ave</td>\n",
       "      <td>40.739713</td>\n",
       "      <td>-73.994564</td>\n",
       "      <td>20817</td>\n",
       "      <td>Subscriber</td>\n",
       "      <td>1988.0</td>\n",
       "      <td>2</td>\n",
       "    </tr>\n",
       "    <tr>\n",
       "      <th>6</th>\n",
       "      <td>1.0</td>\n",
       "      <td>40.75</td>\n",
       "      <td>-73.99</td>\n",
       "      <td>583701</td>\n",
       "      <td>614</td>\n",
       "      <td>6/13/2016 18:39:02</td>\n",
       "      <td>6/13/2016 18:49:17</td>\n",
       "      <td>379</td>\n",
       "      <td>W 31 St &amp; 7 Ave</td>\n",
       "      <td>475</td>\n",
       "      <td>E 16 St &amp; Irving Pl</td>\n",
       "      <td>40.735243</td>\n",
       "      <td>-73.987586</td>\n",
       "      <td>19640</td>\n",
       "      <td>Subscriber</td>\n",
       "      <td>1970.0</td>\n",
       "      <td>1</td>\n",
       "    </tr>\n",
       "    <tr>\n",
       "      <th>8</th>\n",
       "      <td>1.0</td>\n",
       "      <td>40.75</td>\n",
       "      <td>-73.99</td>\n",
       "      <td>1320796</td>\n",
       "      <td>236</td>\n",
       "      <td>6/28/2016 13:19:09</td>\n",
       "      <td>6/28/2016 13:23:05</td>\n",
       "      <td>533</td>\n",
       "      <td>Broadway &amp; W 39 St</td>\n",
       "      <td>498</td>\n",
       "      <td>Broadway &amp; W 32 St</td>\n",
       "      <td>40.748549</td>\n",
       "      <td>-73.988084</td>\n",
       "      <td>16735</td>\n",
       "      <td>Subscriber</td>\n",
       "      <td>1960.0</td>\n",
       "      <td>1</td>\n",
       "    </tr>\n",
       "  </tbody>\n",
       "</table>\n",
       "</div>"
      ],
      "text/plain": [
       "   boro  start station latitude  start station longitude    index  \\\n",
       "0   1.0                   40.75                   -73.99  1242409   \n",
       "2   1.0                   40.75                   -73.99   742387   \n",
       "4   1.0                   40.75                   -73.99  1363324   \n",
       "6   1.0                   40.75                   -73.99   583701   \n",
       "8   1.0                   40.75                   -73.99  1320796   \n",
       "\n",
       "   tripduration           starttime            stoptime  start station id  \\\n",
       "0           641  6/26/2016 18:19:17  6/26/2016 18:29:59               498   \n",
       "2           184  6/16/2016 19:32:46  6/16/2016 19:35:50               492   \n",
       "4           918  6/29/2016 09:27:01  6/29/2016 09:42:20               533   \n",
       "6           614  6/13/2016 18:39:02  6/13/2016 18:49:17               379   \n",
       "8           236  6/28/2016 13:19:09  6/28/2016 13:23:05               533   \n",
       "\n",
       "   start station name  end station id     end station name  \\\n",
       "0  Broadway & W 32 St             528      2 Ave & E 31 St   \n",
       "2     W 33 St & 7 Ave             446      W 24 St & 7 Ave   \n",
       "4  Broadway & W 39 St             168      W 18 St & 6 Ave   \n",
       "6     W 31 St & 7 Ave             475  E 16 St & Irving Pl   \n",
       "8  Broadway & W 39 St             498   Broadway & W 32 St   \n",
       "\n",
       "   end station latitude  end station longitude  bikeid    usertype  birthyear  \\\n",
       "0             40.742909             -73.977061   25678  Subscriber     1993.0   \n",
       "2             40.744876             -73.995299   15870  Subscriber     1969.0   \n",
       "4             40.739713             -73.994564   20817  Subscriber     1988.0   \n",
       "6             40.735243             -73.987586   19640  Subscriber     1970.0   \n",
       "8             40.748549             -73.988084   16735  Subscriber     1960.0   \n",
       "\n",
       "   gender  \n",
       "0       1  \n",
       "2       1  \n",
       "4       2  \n",
       "6       1  \n",
       "8       1  "
      ]
     },
     "execution_count": 142,
     "metadata": {},
     "output_type": "execute_result"
    }
   ],
   "source": [
    "biking_2016_routes = biking_2016_routes.drop_duplicates()\n",
    "biking_2016_routes.head()"
   ]
  },
  {
   "cell_type": "code",
   "execution_count": 143,
   "metadata": {},
   "outputs": [],
   "source": [
    "biking_2016_routes = biking_2016_routes.dropna()"
   ]
  },
  {
   "cell_type": "code",
   "execution_count": 144,
   "metadata": {},
   "outputs": [
    {
     "data": {
      "text/html": [
       "<div>\n",
       "<style scoped>\n",
       "    .dataframe tbody tr th:only-of-type {\n",
       "        vertical-align: middle;\n",
       "    }\n",
       "\n",
       "    .dataframe tbody tr th {\n",
       "        vertical-align: top;\n",
       "    }\n",
       "\n",
       "    .dataframe thead th {\n",
       "        text-align: right;\n",
       "    }\n",
       "</style>\n",
       "<table border=\"1\" class=\"dataframe\">\n",
       "  <thead>\n",
       "    <tr style=\"text-align: right;\">\n",
       "      <th></th>\n",
       "      <th>Zone</th>\n",
       "      <th>start station latitude</th>\n",
       "      <th>start station longitude</th>\n",
       "      <th>index</th>\n",
       "      <th>tripduration</th>\n",
       "      <th>starttime</th>\n",
       "      <th>stoptime</th>\n",
       "      <th>start station id</th>\n",
       "      <th>start station name</th>\n",
       "      <th>end station id</th>\n",
       "      <th>end station name</th>\n",
       "      <th>end station latitude</th>\n",
       "      <th>end station longitude</th>\n",
       "      <th>bikeid</th>\n",
       "      <th>usertype</th>\n",
       "      <th>birthyear</th>\n",
       "      <th>gender</th>\n",
       "    </tr>\n",
       "  </thead>\n",
       "  <tbody>\n",
       "  </tbody>\n",
       "</table>\n",
       "</div>"
      ],
      "text/plain": [
       "Empty DataFrame\n",
       "Columns: [Zone, start station latitude, start station longitude, index, tripduration, starttime, stoptime, start station id, start station name, end station id, end station name, end station latitude, end station longitude, bikeid, usertype, birthyear, gender]\n",
       "Index: []"
      ]
     },
     "execution_count": 144,
     "metadata": {},
     "output_type": "execute_result"
    }
   ],
   "source": [
    "biking_2016_routes.rename(columns={'boro':'Zone'}, inplace=True)\n",
    "biking_2016_routes.head(0)"
   ]
  },
  {
   "cell_type": "code",
   "execution_count": 50,
   "metadata": {},
   "outputs": [
    {
     "data": {
      "image/png": "[encoded data removed]",
      "text/plain": [
       "<Figure size 432x288 with 1 Axes>"
      ]
     },
     "metadata": {
      "needs_background": "light"
     },
     "output_type": "display_data"
    }
   ],
   "source": [
    "plt.hist(biking_2013_routes[\"Zone\"])\n",
    "plt.xlabel(\"Zone\")\n",
    "plt.ylabel(\"Frequency\")\n",
    "plt.show()"
   ]
  },
  {
   "cell_type": "code",
   "execution_count": 145,
   "metadata": {},
   "outputs": [
    {
     "data": {
      "image/png": "[encoded data removed]",
      "text/plain": [
       "<Figure size 432x288 with 1 Axes>"
      ]
     },
     "metadata": {
      "needs_background": "light"
     },
     "output_type": "display_data"
    }
   ],
   "source": [
    "plt.hist(biking_2016_routes[\"Zone\"])\n",
    "plt.xlabel(\"Zone\")\n",
    "plt.ylabel(\"Frequency\")\n",
    "plt.show()"
   ]
  },
  {
   "cell_type": "code",
   "execution_count": 52,
   "metadata": {},
   "outputs": [
    {
     "data": {
      "image/png": "[encoded data removed]",
      "text/plain": [
       "<Figure size 441.75x360 with 1 Axes>"
      ]
     },
     "metadata": {
      "needs_background": "light"
     },
     "output_type": "display_data"
    }
   ],
   "source": [
    "sns.relplot(x=\"tripduration\", y=\"Zone\", hue=\"birthyear\", data=biking_2013_routes)\n",
    "plt.xlabel(\"zone\")\n",
    "plt.ylabel(\"trip duration\")\n",
    "plt.show()"
   ]
  },
  {
   "cell_type": "code",
   "execution_count": 146,
   "metadata": {},
   "outputs": [
    {
     "data": {
      "image/png": "[encoded data removed]",
      "text/plain": [
       "<Figure size 421.5x360 with 1 Axes>"
      ]
     },
     "metadata": {
      "needs_background": "light"
     },
     "output_type": "display_data"
    }
   ],
   "source": [
    "sns.relplot(x=\"tripduration\", y=\"Zone\", hue=\"birthyear\", data=biking_2016_routes)\n",
    "plt.xlabel(\"zone\")\n",
    "plt.ylabel(\"trip duration\")\n",
    "plt.show()"
   ]
  },
  {
   "cell_type": "code",
   "execution_count": 53,
   "metadata": {},
   "outputs": [
    {
     "data": {
      "image/png": "[encoded data removed]",
      "text/plain": [
       "<Figure size 421.375x360 with 1 Axes>"
      ]
     },
     "metadata": {
      "needs_background": "light"
     },
     "output_type": "display_data"
    }
   ],
   "source": [
    "sns.relplot(x=\"birthyear\", y=\"tripduration\", hue=\"Zone\", data=biking_2013_routes)\n",
    "plt.xlabel(\"zone\")\n",
    "plt.ylabel(\"trip duration\")\n",
    "plt.show()"
   ]
  },
  {
   "cell_type": "code",
   "execution_count": 147,
   "metadata": {},
   "outputs": [
    {
     "data": {
      "image/png": "[encoded data removed]",
      "text/plain": [
       "<Figure size 412x360 with 1 Axes>"
      ]
     },
     "metadata": {
      "needs_background": "light"
     },
     "output_type": "display_data"
    }
   ],
   "source": [
    "sns.relplot(x=\"birthyear\", y=\"tripduration\", hue=\"Zone\", data=biking_2016_routes)\n",
    "plt.xlabel(\"zone\")\n",
    "plt.ylabel(\"trip duration\")\n",
    "plt.show()"
   ]
  },
  {
   "cell_type": "code",
   "execution_count": 54,
   "metadata": {},
   "outputs": [
    {
     "data": {
      "text/html": [
       "<div>\n",
       "<style scoped>\n",
       "    .dataframe tbody tr th:only-of-type {\n",
       "        vertical-align: middle;\n",
       "    }\n",
       "\n",
       "    .dataframe tbody tr th {\n",
       "        vertical-align: top;\n",
       "    }\n",
       "\n",
       "    .dataframe thead th {\n",
       "        text-align: right;\n",
       "    }\n",
       "</style>\n",
       "<table border=\"1\" class=\"dataframe\">\n",
       "  <thead>\n",
       "    <tr style=\"text-align: right;\">\n",
       "      <th></th>\n",
       "      <th>Unnamed: 0</th>\n",
       "      <th>Zone</th>\n",
       "      <th>District</th>\n",
       "      <th>Fiscal Month Number</th>\n",
       "      <th>Fiscal Year</th>\n",
       "      <th>Month Name</th>\n",
       "      <th>Diversion Rate</th>\n",
       "      <th>Capture Rate-Paper (Total Paper / Max Paper)</th>\n",
       "      <th>Capture Rate-MGP (Total MGP / Max MGP)</th>\n",
       "      <th>Capture Rate</th>\n",
       "    </tr>\n",
       "  </thead>\n",
       "  <tbody>\n",
       "    <tr>\n",
       "      <th>0</th>\n",
       "      <td>0</td>\n",
       "      <td>Manhattan</td>\n",
       "      <td>MN01</td>\n",
       "      <td>11</td>\n",
       "      <td>2010</td>\n",
       "      <td>May</td>\n",
       "      <td>29.3</td>\n",
       "      <td>54.4</td>\n",
       "      <td>70.2</td>\n",
       "      <td>58.2</td>\n",
       "    </tr>\n",
       "    <tr>\n",
       "      <th>1</th>\n",
       "      <td>1</td>\n",
       "      <td>Manhattan</td>\n",
       "      <td>MN02</td>\n",
       "      <td>11</td>\n",
       "      <td>2010</td>\n",
       "      <td>May</td>\n",
       "      <td>26.5</td>\n",
       "      <td>44.3</td>\n",
       "      <td>79.0</td>\n",
       "      <td>52.7</td>\n",
       "    </tr>\n",
       "    <tr>\n",
       "      <th>2</th>\n",
       "      <td>2</td>\n",
       "      <td>Manhattan</td>\n",
       "      <td>MN03</td>\n",
       "      <td>11</td>\n",
       "      <td>2010</td>\n",
       "      <td>May</td>\n",
       "      <td>13.1</td>\n",
       "      <td>47.5</td>\n",
       "      <td>39.5</td>\n",
       "      <td>44.0</td>\n",
       "    </tr>\n",
       "    <tr>\n",
       "      <th>3</th>\n",
       "      <td>3</td>\n",
       "      <td>Manhattan</td>\n",
       "      <td>MN04</td>\n",
       "      <td>11</td>\n",
       "      <td>2010</td>\n",
       "      <td>May</td>\n",
       "      <td>23.1</td>\n",
       "      <td>37.4</td>\n",
       "      <td>73.0</td>\n",
       "      <td>45.9</td>\n",
       "    </tr>\n",
       "    <tr>\n",
       "      <th>4</th>\n",
       "      <td>4</td>\n",
       "      <td>Manhattan</td>\n",
       "      <td>MN05</td>\n",
       "      <td>11</td>\n",
       "      <td>2010</td>\n",
       "      <td>May</td>\n",
       "      <td>23.8</td>\n",
       "      <td>41.1</td>\n",
       "      <td>66.6</td>\n",
       "      <td>47.3</td>\n",
       "    </tr>\n",
       "  </tbody>\n",
       "</table>\n",
       "</div>"
      ],
      "text/plain": [
       "   Unnamed: 0       Zone District  Fiscal Month Number  Fiscal Year  \\\n",
       "0           0  Manhattan     MN01                   11         2010   \n",
       "1           1  Manhattan     MN02                   11         2010   \n",
       "2           2  Manhattan     MN03                   11         2010   \n",
       "3           3  Manhattan     MN04                   11         2010   \n",
       "4           4  Manhattan     MN05                   11         2010   \n",
       "\n",
       "  Month Name  Diversion Rate  Capture Rate-Paper (Total Paper / Max Paper)  \\\n",
       "0        May            29.3                                          54.4   \n",
       "1        May            26.5                                          44.3   \n",
       "2        May            13.1                                          47.5   \n",
       "3        May            23.1                                          37.4   \n",
       "4        May            23.8                                          41.1   \n",
       "\n",
       "   Capture Rate-MGP (Total MGP / Max MGP)  Capture Rate  \n",
       "0                                    70.2          58.2  \n",
       "1                                    79.0          52.7  \n",
       "2                                    39.5          44.0  \n",
       "3                                    73.0          45.9  \n",
       "4                                    66.6          47.3  "
      ]
     },
     "execution_count": 54,
     "metadata": {},
     "output_type": "execute_result"
    }
   ],
   "source": [
    "recycling_2010 = pd.read_csv('recycling_2010.csv')\n",
    "recycling_2010.head()"
   ]
  },
  {
   "cell_type": "code",
   "execution_count": 55,
   "metadata": {},
   "outputs": [
    {
     "data": {
      "text/html": [
       "<div>\n",
       "<style scoped>\n",
       "    .dataframe tbody tr th:only-of-type {\n",
       "        vertical-align: middle;\n",
       "    }\n",
       "\n",
       "    .dataframe tbody tr th {\n",
       "        vertical-align: top;\n",
       "    }\n",
       "\n",
       "    .dataframe thead th {\n",
       "        text-align: right;\n",
       "    }\n",
       "</style>\n",
       "<table border=\"1\" class=\"dataframe\">\n",
       "  <thead>\n",
       "    <tr style=\"text-align: right;\">\n",
       "      <th></th>\n",
       "      <th>Unnamed: 0</th>\n",
       "      <th>Zone</th>\n",
       "      <th>District</th>\n",
       "      <th>Fiscal Month Number</th>\n",
       "      <th>Fiscal Year</th>\n",
       "      <th>Month Name</th>\n",
       "      <th>Diversion Rate</th>\n",
       "      <th>Capture Rate-Paper (Total Paper / Max Paper)</th>\n",
       "      <th>Capture Rate-MGP (Total MGP / Max MGP)</th>\n",
       "      <th>Capture Rate</th>\n",
       "    </tr>\n",
       "  </thead>\n",
       "  <tbody>\n",
       "    <tr>\n",
       "      <th>0</th>\n",
       "      <td>59</td>\n",
       "      <td>Brooklyn</td>\n",
       "      <td>BKN01</td>\n",
       "      <td>1</td>\n",
       "      <td>2016</td>\n",
       "      <td>July</td>\n",
       "      <td>14.7</td>\n",
       "      <td>44.0</td>\n",
       "      <td>43.2</td>\n",
       "      <td>43.6</td>\n",
       "    </tr>\n",
       "    <tr>\n",
       "      <th>1</th>\n",
       "      <td>60</td>\n",
       "      <td>Brooklyn</td>\n",
       "      <td>BKN02</td>\n",
       "      <td>1</td>\n",
       "      <td>2016</td>\n",
       "      <td>July</td>\n",
       "      <td>16.5</td>\n",
       "      <td>30.2</td>\n",
       "      <td>49.8</td>\n",
       "      <td>36.0</td>\n",
       "    </tr>\n",
       "    <tr>\n",
       "      <th>2</th>\n",
       "      <td>61</td>\n",
       "      <td>Brooklyn</td>\n",
       "      <td>BKN03</td>\n",
       "      <td>1</td>\n",
       "      <td>2016</td>\n",
       "      <td>July</td>\n",
       "      <td>10.1</td>\n",
       "      <td>29.0</td>\n",
       "      <td>32.8</td>\n",
       "      <td>30.8</td>\n",
       "    </tr>\n",
       "    <tr>\n",
       "      <th>3</th>\n",
       "      <td>62</td>\n",
       "      <td>Brooklyn</td>\n",
       "      <td>BKN04</td>\n",
       "      <td>1</td>\n",
       "      <td>2016</td>\n",
       "      <td>July</td>\n",
       "      <td>12.4</td>\n",
       "      <td>30.6</td>\n",
       "      <td>46.4</td>\n",
       "      <td>37.8</td>\n",
       "    </tr>\n",
       "    <tr>\n",
       "      <th>4</th>\n",
       "      <td>63</td>\n",
       "      <td>Brooklyn</td>\n",
       "      <td>BKN05</td>\n",
       "      <td>1</td>\n",
       "      <td>2016</td>\n",
       "      <td>July</td>\n",
       "      <td>9.1</td>\n",
       "      <td>23.5</td>\n",
       "      <td>33.0</td>\n",
       "      <td>27.9</td>\n",
       "    </tr>\n",
       "  </tbody>\n",
       "</table>\n",
       "</div>"
      ],
      "text/plain": [
       "   Unnamed: 0      Zone District  Fiscal Month Number  Fiscal Year Month Name  \\\n",
       "0          59  Brooklyn    BKN01                    1         2016       July   \n",
       "1          60  Brooklyn    BKN02                    1         2016       July   \n",
       "2          61  Brooklyn    BKN03                    1         2016       July   \n",
       "3          62  Brooklyn    BKN04                    1         2016       July   \n",
       "4          63  Brooklyn    BKN05                    1         2016       July   \n",
       "\n",
       "   Diversion Rate  Capture Rate-Paper (Total Paper / Max Paper)  \\\n",
       "0            14.7                                          44.0   \n",
       "1            16.5                                          30.2   \n",
       "2            10.1                                          29.0   \n",
       "3            12.4                                          30.6   \n",
       "4             9.1                                          23.5   \n",
       "\n",
       "   Capture Rate-MGP (Total MGP / Max MGP)  Capture Rate  \n",
       "0                                    43.2          43.6  \n",
       "1                                    49.8          36.0  \n",
       "2                                    32.8          30.8  \n",
       "3                                    46.4          37.8  \n",
       "4                                    33.0          27.9  "
      ]
     },
     "execution_count": 55,
     "metadata": {},
     "output_type": "execute_result"
    }
   ],
   "source": [
    "recycling_2016 = pd.read_csv('recycling_2016.csv')\n",
    "recycling_2016.head()"
   ]
  },
  {
   "cell_type": "code",
   "execution_count": 56,
   "metadata": {},
   "outputs": [
    {
     "data": {
      "text/html": [
       "<div>\n",
       "<style scoped>\n",
       "    .dataframe tbody tr th:only-of-type {\n",
       "        vertical-align: middle;\n",
       "    }\n",
       "\n",
       "    .dataframe tbody tr th {\n",
       "        vertical-align: top;\n",
       "    }\n",
       "\n",
       "    .dataframe thead th {\n",
       "        text-align: right;\n",
       "    }\n",
       "</style>\n",
       "<table border=\"1\" class=\"dataframe\">\n",
       "  <thead>\n",
       "    <tr style=\"text-align: right;\">\n",
       "      <th></th>\n",
       "      <th>Unnamed: 0</th>\n",
       "      <th>Zone</th>\n",
       "      <th>District</th>\n",
       "      <th>Fiscal Month Number</th>\n",
       "      <th>Fiscal Year</th>\n",
       "      <th>Month Name</th>\n",
       "      <th>Diversion Rate</th>\n",
       "      <th>Capture Rate-Paper (Total Paper / Max Paper)</th>\n",
       "      <th>Capture Rate-MGP (Total MGP / Max MGP)</th>\n",
       "      <th>Capture Rate</th>\n",
       "    </tr>\n",
       "  </thead>\n",
       "  <tbody>\n",
       "    <tr>\n",
       "      <th>0</th>\n",
       "      <td>0</td>\n",
       "      <td>1</td>\n",
       "      <td>MN01</td>\n",
       "      <td>11</td>\n",
       "      <td>2010</td>\n",
       "      <td>May</td>\n",
       "      <td>29.3</td>\n",
       "      <td>54.4</td>\n",
       "      <td>70.2</td>\n",
       "      <td>58.2</td>\n",
       "    </tr>\n",
       "    <tr>\n",
       "      <th>1</th>\n",
       "      <td>1</td>\n",
       "      <td>1</td>\n",
       "      <td>MN02</td>\n",
       "      <td>11</td>\n",
       "      <td>2010</td>\n",
       "      <td>May</td>\n",
       "      <td>26.5</td>\n",
       "      <td>44.3</td>\n",
       "      <td>79.0</td>\n",
       "      <td>52.7</td>\n",
       "    </tr>\n",
       "    <tr>\n",
       "      <th>2</th>\n",
       "      <td>2</td>\n",
       "      <td>1</td>\n",
       "      <td>MN03</td>\n",
       "      <td>11</td>\n",
       "      <td>2010</td>\n",
       "      <td>May</td>\n",
       "      <td>13.1</td>\n",
       "      <td>47.5</td>\n",
       "      <td>39.5</td>\n",
       "      <td>44.0</td>\n",
       "    </tr>\n",
       "    <tr>\n",
       "      <th>3</th>\n",
       "      <td>3</td>\n",
       "      <td>1</td>\n",
       "      <td>MN04</td>\n",
       "      <td>11</td>\n",
       "      <td>2010</td>\n",
       "      <td>May</td>\n",
       "      <td>23.1</td>\n",
       "      <td>37.4</td>\n",
       "      <td>73.0</td>\n",
       "      <td>45.9</td>\n",
       "    </tr>\n",
       "    <tr>\n",
       "      <th>4</th>\n",
       "      <td>4</td>\n",
       "      <td>1</td>\n",
       "      <td>MN05</td>\n",
       "      <td>11</td>\n",
       "      <td>2010</td>\n",
       "      <td>May</td>\n",
       "      <td>23.8</td>\n",
       "      <td>41.1</td>\n",
       "      <td>66.6</td>\n",
       "      <td>47.3</td>\n",
       "    </tr>\n",
       "  </tbody>\n",
       "</table>\n",
       "</div>"
      ],
      "text/plain": [
       "   Unnamed: 0  Zone District  Fiscal Month Number  Fiscal Year Month Name  \\\n",
       "0           0     1     MN01                   11         2010        May   \n",
       "1           1     1     MN02                   11         2010        May   \n",
       "2           2     1     MN03                   11         2010        May   \n",
       "3           3     1     MN04                   11         2010        May   \n",
       "4           4     1     MN05                   11         2010        May   \n",
       "\n",
       "   Diversion Rate  Capture Rate-Paper (Total Paper / Max Paper)  \\\n",
       "0            29.3                                          54.4   \n",
       "1            26.5                                          44.3   \n",
       "2            13.1                                          47.5   \n",
       "3            23.1                                          37.4   \n",
       "4            23.8                                          41.1   \n",
       "\n",
       "   Capture Rate-MGP (Total MGP / Max MGP)  Capture Rate  \n",
       "0                                    70.2          58.2  \n",
       "1                                    79.0          52.7  \n",
       "2                                    39.5          44.0  \n",
       "3                                    73.0          45.9  \n",
       "4                                    66.6          47.3  "
      ]
     },
     "execution_count": 56,
     "metadata": {},
     "output_type": "execute_result"
    }
   ],
   "source": [
    "zone_map = {\"Manhattan\":1, \"Bronx\":2, \"Brooklyn\":3, \"Queens\":4 , \"Staten Island\":5}\n",
    "w = recycling_2010['Zone'].map(zone_map)\n",
    "recycling_2010['Zone'] = w\n",
    "recycling_2010.head()"
   ]
  },
  {
   "cell_type": "code",
   "execution_count": 162,
   "metadata": {},
   "outputs": [
    {
     "data": {
      "text/html": [
       "<div>\n",
       "<style scoped>\n",
       "    .dataframe tbody tr th:only-of-type {\n",
       "        vertical-align: middle;\n",
       "    }\n",
       "\n",
       "    .dataframe tbody tr th {\n",
       "        vertical-align: top;\n",
       "    }\n",
       "\n",
       "    .dataframe thead th {\n",
       "        text-align: right;\n",
       "    }\n",
       "</style>\n",
       "<table border=\"1\" class=\"dataframe\">\n",
       "  <thead>\n",
       "    <tr style=\"text-align: right;\">\n",
       "      <th></th>\n",
       "      <th>Unnamed: 0</th>\n",
       "      <th>Zone</th>\n",
       "      <th>District</th>\n",
       "      <th>Fiscal Month Number</th>\n",
       "      <th>Fiscal Year</th>\n",
       "      <th>Month Name</th>\n",
       "      <th>Diversion Rate</th>\n",
       "      <th>Capture Rate-Paper (Total Paper / Max Paper)</th>\n",
       "      <th>Capture Rate-MGP (Total MGP / Max MGP)</th>\n",
       "      <th>Capture Rate</th>\n",
       "    </tr>\n",
       "  </thead>\n",
       "  <tbody>\n",
       "    <tr>\n",
       "      <th>0</th>\n",
       "      <td>59</td>\n",
       "      <td>3</td>\n",
       "      <td>BKN01</td>\n",
       "      <td>1</td>\n",
       "      <td>2016</td>\n",
       "      <td>July</td>\n",
       "      <td>14.7</td>\n",
       "      <td>44.0</td>\n",
       "      <td>43.2</td>\n",
       "      <td>43.6</td>\n",
       "    </tr>\n",
       "    <tr>\n",
       "      <th>1</th>\n",
       "      <td>60</td>\n",
       "      <td>3</td>\n",
       "      <td>BKN02</td>\n",
       "      <td>1</td>\n",
       "      <td>2016</td>\n",
       "      <td>July</td>\n",
       "      <td>16.5</td>\n",
       "      <td>30.2</td>\n",
       "      <td>49.8</td>\n",
       "      <td>36.0</td>\n",
       "    </tr>\n",
       "    <tr>\n",
       "      <th>2</th>\n",
       "      <td>61</td>\n",
       "      <td>3</td>\n",
       "      <td>BKN03</td>\n",
       "      <td>1</td>\n",
       "      <td>2016</td>\n",
       "      <td>July</td>\n",
       "      <td>10.1</td>\n",
       "      <td>29.0</td>\n",
       "      <td>32.8</td>\n",
       "      <td>30.8</td>\n",
       "    </tr>\n",
       "    <tr>\n",
       "      <th>3</th>\n",
       "      <td>62</td>\n",
       "      <td>3</td>\n",
       "      <td>BKN04</td>\n",
       "      <td>1</td>\n",
       "      <td>2016</td>\n",
       "      <td>July</td>\n",
       "      <td>12.4</td>\n",
       "      <td>30.6</td>\n",
       "      <td>46.4</td>\n",
       "      <td>37.8</td>\n",
       "    </tr>\n",
       "    <tr>\n",
       "      <th>4</th>\n",
       "      <td>63</td>\n",
       "      <td>3</td>\n",
       "      <td>BKN05</td>\n",
       "      <td>1</td>\n",
       "      <td>2016</td>\n",
       "      <td>July</td>\n",
       "      <td>9.1</td>\n",
       "      <td>23.5</td>\n",
       "      <td>33.0</td>\n",
       "      <td>27.9</td>\n",
       "    </tr>\n",
       "  </tbody>\n",
       "</table>\n",
       "</div>"
      ],
      "text/plain": [
       "   Unnamed: 0  Zone District  Fiscal Month Number  Fiscal Year Month Name  \\\n",
       "0          59     3    BKN01                    1         2016       July   \n",
       "1          60     3    BKN02                    1         2016       July   \n",
       "2          61     3    BKN03                    1         2016       July   \n",
       "3          62     3    BKN04                    1         2016       July   \n",
       "4          63     3    BKN05                    1         2016       July   \n",
       "\n",
       "   Diversion Rate  Capture Rate-Paper (Total Paper / Max Paper)  \\\n",
       "0            14.7                                          44.0   \n",
       "1            16.5                                          30.2   \n",
       "2            10.1                                          29.0   \n",
       "3            12.4                                          30.6   \n",
       "4             9.1                                          23.5   \n",
       "\n",
       "   Capture Rate-MGP (Total MGP / Max MGP)  Capture Rate  \n",
       "0                                    43.2          43.6  \n",
       "1                                    49.8          36.0  \n",
       "2                                    32.8          30.8  \n",
       "3                                    46.4          37.8  \n",
       "4                                    33.0          27.9  "
      ]
     },
     "execution_count": 162,
     "metadata": {},
     "output_type": "execute_result"
    }
   ],
   "source": [
    "zone_map = {\"Manhattan\":1, \"Bronx\":2, \"Brooklyn\":3, \"Queens\":4 , \"Staten Island\":5}\n",
    "t = recycling_2016['Zone'].map(zone_map)\n",
    "recycling_2016['Zone'] = t\n",
    "recycling_2016.head()"
   ]
  },
  {
   "cell_type": "code",
   "execution_count": 72,
   "metadata": {},
   "outputs": [
    {
     "data": {
      "image/png": "[encoded data removed]",
      "text/plain": [
       "<Figure size 432x288 with 1 Axes>"
      ]
     },
     "metadata": {
      "needs_background": "light"
     },
     "output_type": "display_data"
    }
   ],
   "source": [
    "plt.plot(biking_2013_recycle[\"tripduration\"], biking_2013_recycle[\"Capture Rate\"] )\n",
    "plt.xlabel(\"trip duration\")\n",
    "plt.ylabel(\"capture rate\")\n",
    "plt.show()"
   ]
  },
  {
   "cell_type": "code",
   "execution_count": 73,
   "metadata": {},
   "outputs": [
    {
     "data": {
      "image/png": "[encoded data removed]",
      "text/plain": [
       "<Figure size 421.375x360 with 1 Axes>"
      ]
     },
     "metadata": {
      "needs_background": "light"
     },
     "output_type": "display_data"
    }
   ],
   "source": [
    "sns.relplot(x=\"tripduration\", y=\"Capture Rate\", hue=\"Zone\", data=biking_2013_recycle)\n",
    "plt.xlabel(\"trip duration\")\n",
    "plt.ylabel(\"capture rate\")\n",
    "plt.show()"
   ]
  },
  {
   "cell_type": "code",
   "execution_count": 119,
   "metadata": {},
   "outputs": [],
   "source": [
    "n_bootstrap = 1000\n",
    "bootstrap_slopes = np.zeros(n_bootstrap)\n",
    "bootstrap_intercepts = np.zeros(n_bootstrap)\n",
    "bootstrap_corr = np.zeros(n_bootstrap)\n",
    "\n",
    "for i in range(n_bootstrap):\n",
    "    fake_data = biking_2013_routes.sample(n=len(recycling_2010), replace=True)\n",
    "    fake_model = LinearRegression().fit(fake_data[[\"tripduration\"]], recycling_2010[[\"Diversion Rate\"]])\n",
    "    bootstrap_slopes[i] = fake_model.coef_\n",
    "    bootstrap_intercepts[i] = fake_model.intercept_\n",
    "    bootstrap_corr[i] = fake_model.score(fake_data[[\"tripduration\"]],  recycling_2010[[\"Diversion Rate\"]])"
   ]
  },
  {
   "cell_type": "code",
   "execution_count": 124,
   "metadata": {},
   "outputs": [
    {
     "data": {
      "image/png": "[encoded data removed]",
      "text/plain": [
       "<Figure size 432x288 with 1 Axes>"
      ]
     },
     "metadata": {
      "needs_background": "light"
     },
     "output_type": "display_data"
    }
   ],
   "source": [
    "plt.hist(bootstrap_slopes, bins=15)\n",
    "plt.show()"
   ]
  },
  {
   "cell_type": "code",
   "execution_count": 136,
   "metadata": {},
   "outputs": [
    {
     "data": {
      "text/plain": [
       "-1.1673344727802952e-05"
      ]
     },
     "execution_count": 136,
     "metadata": {},
     "output_type": "execute_result"
    }
   ],
   "source": [
    "slope_average = bootstrap_slopes.mean()\n",
    "slope_average"
   ]
  },
  {
   "cell_type": "code",
   "execution_count": 126,
   "metadata": {},
   "outputs": [
    {
     "data": {
      "image/png": "[encoded data removed]",
      "text/plain": [
       "<Figure size 432x288 with 1 Axes>"
      ]
     },
     "metadata": {
      "needs_background": "light"
     },
     "output_type": "display_data"
    }
   ],
   "source": [
    "plt.hist(bootstrap_intercepts, bins=15)\n",
    "plt.show()"
   ]
  },
  {
   "cell_type": "code",
   "execution_count": 138,
   "metadata": {},
   "outputs": [
    {
     "data": {
      "text/plain": [
       "-1.1673344727802952e-05"
      ]
     },
     "execution_count": 138,
     "metadata": {},
     "output_type": "execute_result"
    }
   ],
   "source": [
    "intercept_average = bootstrap_slopes.mean()\n",
    "intercept_average"
   ]
  },
  {
   "cell_type": "code",
   "execution_count": 127,
   "metadata": {},
   "outputs": [
    {
     "data": {
      "image/png": "[encoded data removed]",
      "text/plain": [
       "<Figure size 432x288 with 1 Axes>"
      ]
     },
     "metadata": {
      "needs_background": "light"
     },
     "output_type": "display_data"
    }
   ],
   "source": [
    "plt.hist(bootstrap_corr, bins=15)\n",
    "plt.show()"
   ]
  },
  {
   "cell_type": "code",
   "execution_count": 139,
   "metadata": {},
   "outputs": [
    {
     "data": {
      "text/plain": [
       "0.01747722048928231"
      ]
     },
     "execution_count": 139,
     "metadata": {},
     "output_type": "execute_result"
    }
   ],
   "source": [
    "corr_average = bootstrap_corr.mean()\n",
    "corr_average"
   ]
  },
  {
   "cell_type": "code",
   "execution_count": 150,
   "metadata": {},
   "outputs": [],
   "source": [
    "bootstrap_slopes_16 = np.zeros(n_bootstrap)\n",
    "bootstrap_intercepts_16 = np.zeros(n_bootstrap)\n",
    "bootstrap_corr_16 = np.zeros(n_bootstrap)\n",
    "\n",
    "for i in range(n_bootstrap):\n",
    "    fake_data_16 = biking_2016_routes.sample(n=len(recycling_2016), replace=True)\n",
    "    fake_model_16 = LinearRegression().fit(fake_data_16[[\"tripduration\"]], recycling_2016[[\"Diversion Rate\"]])\n",
    "    bootstrap_slopes_16[i] = fake_model_16.coef_\n",
    "    bootstrap_intercepts_16[i] = fake_model_16.intercept_\n",
    "    bootstrap_corr_16[i] = fake_model_16.score(fake_data_16[[\"tripduration\"]],  recycling_2016[[\"Diversion Rate\"]])"
   ]
  },
  {
   "cell_type": "code",
   "execution_count": 151,
   "metadata": {},
   "outputs": [
    {
     "data": {
      "image/png": "[encoded data removed]",
      "text/plain": [
       "<Figure size 432x288 with 1 Axes>"
      ]
     },
     "metadata": {
      "needs_background": "light"
     },
     "output_type": "display_data"
    }
   ],
   "source": [
    "plt.hist(bootstrap_slopes_16, bins=15)\n",
    "plt.show()"
   ]
  },
  {
   "cell_type": "code",
   "execution_count": 152,
   "metadata": {},
   "outputs": [
    {
     "data": {
      "text/plain": [
       "1.5392453843624893e-05"
      ]
     },
     "execution_count": 152,
     "metadata": {},
     "output_type": "execute_result"
    }
   ],
   "source": [
    "slope_average_16 = bootstrap_slopes_16.mean()\n",
    "slope_average_16"
   ]
  },
  {
   "cell_type": "code",
   "execution_count": 153,
   "metadata": {},
   "outputs": [
    {
     "data": {
      "image/png": "[encoded data removed]",
      "text/plain": [
       "<Figure size 432x288 with 1 Axes>"
      ]
     },
     "metadata": {
      "needs_background": "light"
     },
     "output_type": "display_data"
    }
   ],
   "source": [
    "plt.hist(bootstrap_intercepts_16, bins=15)\n",
    "plt.show()"
   ]
  },
  {
   "cell_type": "code",
   "execution_count": 154,
   "metadata": {},
   "outputs": [
    {
     "data": {
      "text/plain": [
       "1.5392453843624893e-05"
      ]
     },
     "execution_count": 154,
     "metadata": {},
     "output_type": "execute_result"
    }
   ],
   "source": [
    "intercept_average_16 = bootstrap_slopes_16.mean()\n",
    "intercept_average_16"
   ]
  },
  {
   "cell_type": "code",
   "execution_count": 155,
   "metadata": {},
   "outputs": [
    {
     "data": {
      "image/png": "[encoded data removed]",
      "text/plain": [
       "<Figure size 432x288 with 1 Axes>"
      ]
     },
     "metadata": {
      "needs_background": "light"
     },
     "output_type": "display_data"
    }
   ],
   "source": [
    "plt.hist(bootstrap_corr_16, bins=15)\n",
    "plt.show()"
   ]
  },
  {
   "cell_type": "code",
   "execution_count": 156,
   "metadata": {},
   "outputs": [
    {
     "data": {
      "text/plain": [
       "0.008417495220525583"
      ]
     },
     "execution_count": 156,
     "metadata": {},
     "output_type": "execute_result"
    }
   ],
   "source": [
    "corr_average_16 = bootstrap_corr_16.mean()\n",
    "corr_average_16"
   ]
  },
  {
   "cell_type": "code",
   "execution_count": 160,
   "metadata": {},
   "outputs": [
    {
     "data": {
      "text/plain": [
       "Text(10.395989583333332, 0.5, 'Diversion Rate 2010')"
      ]
     },
     "execution_count": 160,
     "metadata": {},
     "output_type": "execute_result"
    },
    {
     "data": {
      "image/png": "[encoded data removed]",
      "text/plain": [
       "<Figure size 402.375x360 with 1 Axes>"
      ]
     },
     "metadata": {
      "needs_background": "light"
     },
     "output_type": "display_data"
    }
   ],
   "source": [
    "sns.relplot(x=\"Capture Rate\", y=\"Diversion Rate\", hue=\"Zone\", data=recycling_2010);\n",
    "plt.xlabel(\"Capture Rate 2010\")\n",
    "plt.ylabel(\"Diversion Rate 2010\")"
   ]
  },
  {
   "cell_type": "code",
   "execution_count": 163,
   "metadata": {},
   "outputs": [
    {
     "data": {
      "text/plain": [
       "Text(11.52893229166667, 0.5, 'Diversion Rate 2016')"
      ]
     },
     "execution_count": 163,
     "metadata": {},
     "output_type": "execute_result"
    },
    {
     "data": {
      "image/png": "[encoded data removed]",
      "text/plain": [
       "<Figure size 402.375x360 with 1 Axes>"
      ]
     },
     "metadata": {
      "needs_background": "light"
     },
     "output_type": "display_data"
    }
   ],
   "source": [
    "sns.relplot(x=\"Capture Rate\", y=\"Diversion Rate\", hue=\"Zone\", data=recycling_2016);\n",
    "plt.xlabel(\"Capture Rate 2016\")\n",
    "plt.ylabel(\"Diversion Rate 2016\")"
   ]
  },
  {
   "cell_type": "code",
   "execution_count": 175,
   "metadata": {},
   "outputs": [
    {
     "data": {
      "text/plain": [
       "array([[51.27272727, 16.16363636],\n",
       "       [28.08      ,  8.68      ],\n",
       "       [40.96111111, 13.7       ],\n",
       "       [59.32222222, 20.5       ],\n",
       "       [48.9       , 24.61666667]])"
      ]
     },
     "execution_count": 175,
     "metadata": {},
     "output_type": "execute_result"
    }
   ],
   "source": [
    "recycling_2010_copy = recycling_2010.copy()\n",
    "\n",
    "## initialize a KMeans object\n",
    "clustering = KMeans(n_clusters = 5, random_state = 15)\n",
    "\n",
    "## perform the KMeans algorithm on the penguins_clean bill and flipper length data\n",
    "clustering.fit(recycling_2010_copy[[\"Capture Rate\", \"Diversion Rate\"]])\n",
    "\n",
    "##finding the cluster centers\n",
    "clustering.cluster_centers_"
   ]
  },
  {
   "cell_type": "code",
   "execution_count": 176,
   "metadata": {},
   "outputs": [
    {
     "data": {
      "text/html": [
       "<div>\n",
       "<style scoped>\n",
       "    .dataframe tbody tr th:only-of-type {\n",
       "        vertical-align: middle;\n",
       "    }\n",
       "\n",
       "    .dataframe tbody tr th {\n",
       "        vertical-align: top;\n",
       "    }\n",
       "\n",
       "    .dataframe thead th {\n",
       "        text-align: right;\n",
       "    }\n",
       "</style>\n",
       "<table border=\"1\" class=\"dataframe\">\n",
       "  <thead>\n",
       "    <tr style=\"text-align: right;\">\n",
       "      <th></th>\n",
       "      <th>Unnamed: 0</th>\n",
       "      <th>Zone</th>\n",
       "      <th>Fiscal Month Number</th>\n",
       "      <th>Fiscal Year</th>\n",
       "      <th>Diversion Rate</th>\n",
       "      <th>Capture Rate-Paper (Total Paper / Max Paper)</th>\n",
       "      <th>Capture Rate-MGP (Total MGP / Max MGP)</th>\n",
       "      <th>Capture Rate</th>\n",
       "    </tr>\n",
       "  </thead>\n",
       "  <tbody>\n",
       "    <tr>\n",
       "      <th>count</th>\n",
       "      <td>59.000000</td>\n",
       "      <td>59.000000</td>\n",
       "      <td>59.0</td>\n",
       "      <td>59.0</td>\n",
       "      <td>59.000000</td>\n",
       "      <td>59.000000</td>\n",
       "      <td>59.000000</td>\n",
       "      <td>59.000000</td>\n",
       "    </tr>\n",
       "    <tr>\n",
       "      <th>mean</th>\n",
       "      <td>29.000000</td>\n",
       "      <td>2.728814</td>\n",
       "      <td>11.0</td>\n",
       "      <td>2010.0</td>\n",
       "      <td>15.030508</td>\n",
       "      <td>39.864407</td>\n",
       "      <td>50.272881</td>\n",
       "      <td>43.216949</td>\n",
       "    </tr>\n",
       "    <tr>\n",
       "      <th>std</th>\n",
       "      <td>17.175564</td>\n",
       "      <td>1.186570</td>\n",
       "      <td>0.0</td>\n",
       "      <td>0.0</td>\n",
       "      <td>5.440977</td>\n",
       "      <td>11.478928</td>\n",
       "      <td>15.095110</td>\n",
       "      <td>11.305341</td>\n",
       "    </tr>\n",
       "    <tr>\n",
       "      <th>min</th>\n",
       "      <td>0.000000</td>\n",
       "      <td>1.000000</td>\n",
       "      <td>11.0</td>\n",
       "      <td>2010.0</td>\n",
       "      <td>4.900000</td>\n",
       "      <td>16.700000</td>\n",
       "      <td>16.500000</td>\n",
       "      <td>16.600000</td>\n",
       "    </tr>\n",
       "    <tr>\n",
       "      <th>25%</th>\n",
       "      <td>14.500000</td>\n",
       "      <td>2.000000</td>\n",
       "      <td>11.0</td>\n",
       "      <td>2010.0</td>\n",
       "      <td>10.950000</td>\n",
       "      <td>32.200000</td>\n",
       "      <td>39.200000</td>\n",
       "      <td>34.700000</td>\n",
       "    </tr>\n",
       "    <tr>\n",
       "      <th>50%</th>\n",
       "      <td>29.000000</td>\n",
       "      <td>3.000000</td>\n",
       "      <td>11.0</td>\n",
       "      <td>2010.0</td>\n",
       "      <td>14.400000</td>\n",
       "      <td>41.100000</td>\n",
       "      <td>51.300000</td>\n",
       "      <td>43.600000</td>\n",
       "    </tr>\n",
       "    <tr>\n",
       "      <th>75%</th>\n",
       "      <td>43.500000</td>\n",
       "      <td>4.000000</td>\n",
       "      <td>11.0</td>\n",
       "      <td>2010.0</td>\n",
       "      <td>17.900000</td>\n",
       "      <td>47.650000</td>\n",
       "      <td>61.350000</td>\n",
       "      <td>52.050000</td>\n",
       "    </tr>\n",
       "    <tr>\n",
       "      <th>max</th>\n",
       "      <td>58.000000</td>\n",
       "      <td>5.000000</td>\n",
       "      <td>11.0</td>\n",
       "      <td>2010.0</td>\n",
       "      <td>29.300000</td>\n",
       "      <td>65.600000</td>\n",
       "      <td>79.000000</td>\n",
       "      <td>66.100000</td>\n",
       "    </tr>\n",
       "  </tbody>\n",
       "</table>\n",
       "</div>"
      ],
      "text/plain": [
       "       Unnamed: 0       Zone  Fiscal Month Number  Fiscal Year  \\\n",
       "count   59.000000  59.000000                 59.0         59.0   \n",
       "mean    29.000000   2.728814                 11.0       2010.0   \n",
       "std     17.175564   1.186570                  0.0          0.0   \n",
       "min      0.000000   1.000000                 11.0       2010.0   \n",
       "25%     14.500000   2.000000                 11.0       2010.0   \n",
       "50%     29.000000   3.000000                 11.0       2010.0   \n",
       "75%     43.500000   4.000000                 11.0       2010.0   \n",
       "max     58.000000   5.000000                 11.0       2010.0   \n",
       "\n",
       "       Diversion Rate  Capture Rate-Paper (Total Paper / Max Paper)  \\\n",
       "count       59.000000                                     59.000000   \n",
       "mean        15.030508                                     39.864407   \n",
       "std          5.440977                                     11.478928   \n",
       "min          4.900000                                     16.700000   \n",
       "25%         10.950000                                     32.200000   \n",
       "50%         14.400000                                     41.100000   \n",
       "75%         17.900000                                     47.650000   \n",
       "max         29.300000                                     65.600000   \n",
       "\n",
       "       Capture Rate-MGP (Total MGP / Max MGP)  Capture Rate  \n",
       "count                               59.000000     59.000000  \n",
       "mean                                50.272881     43.216949  \n",
       "std                                 15.095110     11.305341  \n",
       "min                                 16.500000     16.600000  \n",
       "25%                                 39.200000     34.700000  \n",
       "50%                                 51.300000     43.600000  \n",
       "75%                                 61.350000     52.050000  \n",
       "max                                 79.000000     66.100000  "
      ]
     },
     "execution_count": 176,
     "metadata": {},
     "output_type": "execute_result"
    }
   ],
   "source": [
    "recycling_2010_copy.describe()"
   ]
  },
  {
   "cell_type": "code",
   "execution_count": 177,
   "metadata": {},
   "outputs": [
    {
     "data": {
      "text/plain": [
       "array([3, 4, 2, 4, 4], dtype=int32)"
      ]
     },
     "execution_count": 177,
     "metadata": {},
     "output_type": "execute_result"
    }
   ],
   "source": [
    "cluster_labels = clustering.labels_\n",
    "cluster_labels[0:5]"
   ]
  },
  {
   "cell_type": "code",
   "execution_count": 178,
   "metadata": {},
   "outputs": [
    {
     "data": {
      "text/plain": [
       "59"
      ]
     },
     "execution_count": 178,
     "metadata": {},
     "output_type": "execute_result"
    }
   ],
   "source": [
    "len(cluster_labels)"
   ]
  },
  {
   "cell_type": "code",
   "execution_count": 179,
   "metadata": {},
   "outputs": [
    {
     "data": {
      "text/html": [
       "<div>\n",
       "<style scoped>\n",
       "    .dataframe tbody tr th:only-of-type {\n",
       "        vertical-align: middle;\n",
       "    }\n",
       "\n",
       "    .dataframe tbody tr th {\n",
       "        vertical-align: top;\n",
       "    }\n",
       "\n",
       "    .dataframe thead th {\n",
       "        text-align: right;\n",
       "    }\n",
       "</style>\n",
       "<table border=\"1\" class=\"dataframe\">\n",
       "  <thead>\n",
       "    <tr style=\"text-align: right;\">\n",
       "      <th></th>\n",
       "      <th>Unnamed: 0</th>\n",
       "      <th>Zone</th>\n",
       "      <th>District</th>\n",
       "      <th>Fiscal Month Number</th>\n",
       "      <th>Fiscal Year</th>\n",
       "      <th>Month Name</th>\n",
       "      <th>Diversion Rate</th>\n",
       "      <th>Capture Rate-Paper (Total Paper / Max Paper)</th>\n",
       "      <th>Capture Rate-MGP (Total MGP / Max MGP)</th>\n",
       "      <th>Capture Rate</th>\n",
       "      <th>cluster_label</th>\n",
       "    </tr>\n",
       "  </thead>\n",
       "  <tbody>\n",
       "    <tr>\n",
       "      <th>0</th>\n",
       "      <td>0</td>\n",
       "      <td>1</td>\n",
       "      <td>MN01</td>\n",
       "      <td>11</td>\n",
       "      <td>2010</td>\n",
       "      <td>May</td>\n",
       "      <td>29.3</td>\n",
       "      <td>54.4</td>\n",
       "      <td>70.2</td>\n",
       "      <td>58.2</td>\n",
       "      <td>3</td>\n",
       "    </tr>\n",
       "    <tr>\n",
       "      <th>1</th>\n",
       "      <td>1</td>\n",
       "      <td>1</td>\n",
       "      <td>MN02</td>\n",
       "      <td>11</td>\n",
       "      <td>2010</td>\n",
       "      <td>May</td>\n",
       "      <td>26.5</td>\n",
       "      <td>44.3</td>\n",
       "      <td>79.0</td>\n",
       "      <td>52.7</td>\n",
       "      <td>4</td>\n",
       "    </tr>\n",
       "    <tr>\n",
       "      <th>2</th>\n",
       "      <td>2</td>\n",
       "      <td>1</td>\n",
       "      <td>MN03</td>\n",
       "      <td>11</td>\n",
       "      <td>2010</td>\n",
       "      <td>May</td>\n",
       "      <td>13.1</td>\n",
       "      <td>47.5</td>\n",
       "      <td>39.5</td>\n",
       "      <td>44.0</td>\n",
       "      <td>2</td>\n",
       "    </tr>\n",
       "    <tr>\n",
       "      <th>3</th>\n",
       "      <td>3</td>\n",
       "      <td>1</td>\n",
       "      <td>MN04</td>\n",
       "      <td>11</td>\n",
       "      <td>2010</td>\n",
       "      <td>May</td>\n",
       "      <td>23.1</td>\n",
       "      <td>37.4</td>\n",
       "      <td>73.0</td>\n",
       "      <td>45.9</td>\n",
       "      <td>4</td>\n",
       "    </tr>\n",
       "    <tr>\n",
       "      <th>4</th>\n",
       "      <td>4</td>\n",
       "      <td>1</td>\n",
       "      <td>MN05</td>\n",
       "      <td>11</td>\n",
       "      <td>2010</td>\n",
       "      <td>May</td>\n",
       "      <td>23.8</td>\n",
       "      <td>41.1</td>\n",
       "      <td>66.6</td>\n",
       "      <td>47.3</td>\n",
       "      <td>4</td>\n",
       "    </tr>\n",
       "  </tbody>\n",
       "</table>\n",
       "</div>"
      ],
      "text/plain": [
       "   Unnamed: 0  Zone District  Fiscal Month Number  Fiscal Year Month Name  \\\n",
       "0           0     1     MN01                   11         2010        May   \n",
       "1           1     1     MN02                   11         2010        May   \n",
       "2           2     1     MN03                   11         2010        May   \n",
       "3           3     1     MN04                   11         2010        May   \n",
       "4           4     1     MN05                   11         2010        May   \n",
       "\n",
       "   Diversion Rate  Capture Rate-Paper (Total Paper / Max Paper)  \\\n",
       "0            29.3                                          54.4   \n",
       "1            26.5                                          44.3   \n",
       "2            13.1                                          47.5   \n",
       "3            23.1                                          37.4   \n",
       "4            23.8                                          41.1   \n",
       "\n",
       "   Capture Rate-MGP (Total MGP / Max MGP)  Capture Rate  cluster_label  \n",
       "0                                    70.2          58.2              3  \n",
       "1                                    79.0          52.7              4  \n",
       "2                                    39.5          44.0              2  \n",
       "3                                    73.0          45.9              4  \n",
       "4                                    66.6          47.3              4  "
      ]
     },
     "execution_count": 179,
     "metadata": {},
     "output_type": "execute_result"
    }
   ],
   "source": [
    "recycling_2010_copy['cluster_label'] = cluster_labels\n",
    "recycling_2010_copy.head()"
   ]
  },
  {
   "cell_type": "code",
   "execution_count": 180,
   "metadata": {},
   "outputs": [
    {
     "data": {
      "text/plain": [
       "Text(13.535850694444441, 0.5, 'Diversion Rate 2010')"
      ]
     },
     "execution_count": 180,
     "metadata": {},
     "output_type": "execute_result"
    },
    {
     "data": {
      "image/png": "[encoded data removed]",
      "text/plain": [
       "<Figure size 439.375x360 with 1 Axes>"
      ]
     },
     "metadata": {
      "needs_background": "light"
     },
     "output_type": "display_data"
    }
   ],
   "source": [
    "sns.relplot(x=\"Capture Rate\", y=\"Diversion Rate\", hue=\"Zone\", style=\"cluster_label\", data=recycling_2010_copy);\n",
    "plt.xlabel(\"Capture Rate 2010\")\n",
    "plt.ylabel(\"Diversion Rate 2010\")"
   ]
  },
  {
   "cell_type": "code",
   "execution_count": 207,
   "metadata": {},
   "outputs": [
    {
     "data": {
      "text/html": [
       "<div>\n",
       "<style scoped>\n",
       "    .dataframe tbody tr th:only-of-type {\n",
       "        vertical-align: middle;\n",
       "    }\n",
       "\n",
       "    .dataframe tbody tr th {\n",
       "        vertical-align: top;\n",
       "    }\n",
       "\n",
       "    .dataframe thead th {\n",
       "        text-align: right;\n",
       "    }\n",
       "</style>\n",
       "<table border=\"1\" class=\"dataframe\">\n",
       "  <thead>\n",
       "    <tr style=\"text-align: right;\">\n",
       "      <th></th>\n",
       "      <th>cluster_label</th>\n",
       "      <th>predicted_zone</th>\n",
       "    </tr>\n",
       "  </thead>\n",
       "  <tbody>\n",
       "    <tr>\n",
       "      <th>0</th>\n",
       "      <td>0</td>\n",
       "      <td>1</td>\n",
       "    </tr>\n",
       "    <tr>\n",
       "      <th>1</th>\n",
       "      <td>1</td>\n",
       "      <td>2</td>\n",
       "    </tr>\n",
       "    <tr>\n",
       "      <th>2</th>\n",
       "      <td>2</td>\n",
       "      <td>3</td>\n",
       "    </tr>\n",
       "    <tr>\n",
       "      <th>3</th>\n",
       "      <td>3</td>\n",
       "      <td>4</td>\n",
       "    </tr>\n",
       "    <tr>\n",
       "      <th>4</th>\n",
       "      <td>4</td>\n",
       "      <td>5</td>\n",
       "    </tr>\n",
       "  </tbody>\n",
       "</table>\n",
       "</div>"
      ],
      "text/plain": [
       "   cluster_label  predicted_zone\n",
       "0              0               1\n",
       "1              1               2\n",
       "2              2               3\n",
       "3              3               4\n",
       "4              4               5"
      ]
     },
     "execution_count": 207,
     "metadata": {},
     "output_type": "execute_result"
    }
   ],
   "source": [
    "predicted_zone_lookup = pd.DataFrame({\"cluster_label\": [0, 1, 2, 3, 4],\n",
    "                                        \"predicted_zone\": [1, 2, 3, 4, 5]})\n",
    "predicted_zone_lookup.head()"
   ]
  },
  {
   "cell_type": "code",
   "execution_count": 208,
   "metadata": {},
   "outputs": [
    {
     "data": {
      "text/html": [
       "<div>\n",
       "<style scoped>\n",
       "    .dataframe tbody tr th:only-of-type {\n",
       "        vertical-align: middle;\n",
       "    }\n",
       "\n",
       "    .dataframe tbody tr th {\n",
       "        vertical-align: top;\n",
       "    }\n",
       "\n",
       "    .dataframe thead th {\n",
       "        text-align: right;\n",
       "    }\n",
       "</style>\n",
       "<table border=\"1\" class=\"dataframe\">\n",
       "  <thead>\n",
       "    <tr style=\"text-align: right;\">\n",
       "      <th></th>\n",
       "      <th>Unnamed: 0</th>\n",
       "      <th>Zone</th>\n",
       "      <th>District</th>\n",
       "      <th>Fiscal Month Number</th>\n",
       "      <th>Fiscal Year</th>\n",
       "      <th>Month Name</th>\n",
       "      <th>Diversion Rate</th>\n",
       "      <th>Capture Rate-Paper (Total Paper / Max Paper)</th>\n",
       "      <th>Capture Rate-MGP (Total MGP / Max MGP)</th>\n",
       "      <th>Capture Rate</th>\n",
       "      <th>cluster_label</th>\n",
       "      <th>predicted_zone</th>\n",
       "    </tr>\n",
       "  </thead>\n",
       "  <tbody>\n",
       "    <tr>\n",
       "      <th>0</th>\n",
       "      <td>0</td>\n",
       "      <td>1</td>\n",
       "      <td>MN01</td>\n",
       "      <td>11</td>\n",
       "      <td>2010</td>\n",
       "      <td>May</td>\n",
       "      <td>29.3</td>\n",
       "      <td>54.4</td>\n",
       "      <td>70.2</td>\n",
       "      <td>58.2</td>\n",
       "      <td>3</td>\n",
       "      <td>4</td>\n",
       "    </tr>\n",
       "    <tr>\n",
       "      <th>1</th>\n",
       "      <td>33</td>\n",
       "      <td>3</td>\n",
       "      <td>BKS06</td>\n",
       "      <td>11</td>\n",
       "      <td>2010</td>\n",
       "      <td>May</td>\n",
       "      <td>24.4</td>\n",
       "      <td>48.5</td>\n",
       "      <td>76.5</td>\n",
       "      <td>56.8</td>\n",
       "      <td>3</td>\n",
       "      <td>4</td>\n",
       "    </tr>\n",
       "    <tr>\n",
       "      <th>2</th>\n",
       "      <td>35</td>\n",
       "      <td>3</td>\n",
       "      <td>BKS10</td>\n",
       "      <td>11</td>\n",
       "      <td>2010</td>\n",
       "      <td>May</td>\n",
       "      <td>20.2</td>\n",
       "      <td>61.5</td>\n",
       "      <td>61.9</td>\n",
       "      <td>61.7</td>\n",
       "      <td>3</td>\n",
       "      <td>4</td>\n",
       "    </tr>\n",
       "    <tr>\n",
       "      <th>3</th>\n",
       "      <td>42</td>\n",
       "      <td>4</td>\n",
       "      <td>QW01</td>\n",
       "      <td>11</td>\n",
       "      <td>2010</td>\n",
       "      <td>May</td>\n",
       "      <td>18.3</td>\n",
       "      <td>54.8</td>\n",
       "      <td>57.5</td>\n",
       "      <td>55.8</td>\n",
       "      <td>3</td>\n",
       "      <td>4</td>\n",
       "    </tr>\n",
       "    <tr>\n",
       "      <th>4</th>\n",
       "      <td>43</td>\n",
       "      <td>4</td>\n",
       "      <td>QW02</td>\n",
       "      <td>11</td>\n",
       "      <td>2010</td>\n",
       "      <td>May</td>\n",
       "      <td>18.6</td>\n",
       "      <td>55.0</td>\n",
       "      <td>59.7</td>\n",
       "      <td>56.8</td>\n",
       "      <td>3</td>\n",
       "      <td>4</td>\n",
       "    </tr>\n",
       "  </tbody>\n",
       "</table>\n",
       "</div>"
      ],
      "text/plain": [
       "   Unnamed: 0  Zone District  Fiscal Month Number  Fiscal Year Month Name  \\\n",
       "0           0     1     MN01                   11         2010        May   \n",
       "1          33     3    BKS06                   11         2010        May   \n",
       "2          35     3    BKS10                   11         2010        May   \n",
       "3          42     4     QW01                   11         2010        May   \n",
       "4          43     4     QW02                   11         2010        May   \n",
       "\n",
       "   Diversion Rate  Capture Rate-Paper (Total Paper / Max Paper)  \\\n",
       "0            29.3                                          54.4   \n",
       "1            24.4                                          48.5   \n",
       "2            20.2                                          61.5   \n",
       "3            18.3                                          54.8   \n",
       "4            18.6                                          55.0   \n",
       "\n",
       "   Capture Rate-MGP (Total MGP / Max MGP)  Capture Rate  cluster_label  \\\n",
       "0                                    70.2          58.2              3   \n",
       "1                                    76.5          56.8              3   \n",
       "2                                    61.9          61.7              3   \n",
       "3                                    57.5          55.8              3   \n",
       "4                                    59.7          56.8              3   \n",
       "\n",
       "   predicted_zone  \n",
       "0               4  \n",
       "1               4  \n",
       "2               4  \n",
       "3               4  \n",
       "4               4  "
      ]
     },
     "execution_count": 208,
     "metadata": {},
     "output_type": "execute_result"
    }
   ],
   "source": [
    "zone_predict = pd.merge(recycling_2010_copy, predicted_zone_lookup, on=\"cluster_label\")\n",
    "zone_predict.head()"
   ]
  },
  {
   "cell_type": "code",
   "execution_count": 209,
   "metadata": {},
   "outputs": [
    {
     "name": "stdout",
     "output_type": "stream",
     "text": [
      "number of rows in zone predict data set: 59\n"
     ]
    }
   ],
   "source": [
    "total_rows = zone_predict.shape[0]\n",
    "print(\"number of rows in zone predict data set: \" + str(total_rows))"
   ]
  },
  {
   "cell_type": "code",
   "execution_count": 227,
   "metadata": {},
   "outputs": [
    {
     "data": {
      "text/plain": [
       "0"
      ]
     },
     "execution_count": 227,
     "metadata": {},
     "output_type": "execute_result"
    }
   ],
   "source": [
    "num_correct = 0\n",
    "for i in range(total_rows):\n",
    "    val = zone_predict.iloc[i]['Zone'] == zone_predict.iloc[i]['predicted_zone']\n",
    "    val = str(val)\n",
    "    if (val == 'True'):        \n",
    "        num_correct += num_correct\n",
    "num_correct"
   ]
  },
  {
   "cell_type": "code",
   "execution_count": 215,
   "metadata": {},
   "outputs": [
    {
     "data": {
      "text/plain": [
       "True"
      ]
     },
     "execution_count": 215,
     "metadata": {},
     "output_type": "execute_result"
    }
   ],
   "source": [
    "zone_predict.iloc[3]['Zone'] == zone_predict.iloc[3]['predicted_zone']"
   ]
  },
  {
   "cell_type": "code",
   "execution_count": 216,
   "metadata": {},
   "outputs": [
    {
     "data": {
      "text/plain": [
       "numpy.int64"
      ]
     },
     "execution_count": 216,
     "metadata": {},
     "output_type": "execute_result"
    }
   ],
   "source": [
    "type(zone_predict.iloc[3]['Zone'])"
   ]
  },
  {
   "cell_type": "code",
   "execution_count": 217,
   "metadata": {},
   "outputs": [
    {
     "data": {
      "text/plain": [
       "numpy.int64"
      ]
     },
     "execution_count": 217,
     "metadata": {},
     "output_type": "execute_result"
    }
   ],
   "source": [
    "type(zone_predict.iloc[3]['predicted_zone'])"
   ]
  },
  {
   "cell_type": "markdown",
   "metadata": {},
   "source": [
    "Story:\n",
    " - Ideal vs. realistic capture rate probabilities (decrease)/ difference in recycling from 2010 - 2016 (90% confidence\n",
    " - Graphs by boro (bar graphs)\n",
    " - Pollution aggregate per year vs. biking counts vs. recycling\n",
    " - Pollution 2011 vs. 2018 (train-test split to see trends/linear regression)\n",
    " - K-means by industry\n",
    " - Top 5 cities/industries for pollutors over the years"
   ]
  },
  {
   "cell_type": "code",
   "execution_count": 228,
   "metadata": {},
   "outputs": [],
   "source": [
    "biking_2013_routes.to_csv('biking_2013.csv')"
   ]
  },
  {
   "cell_type": "code",
   "execution_count": 229,
   "metadata": {},
   "outputs": [],
   "source": [
    "biking_2016_routes.to_csv('biking_2016.csv')"
   ]
  },
  {
   "cell_type": "code",
   "execution_count": null,
   "metadata": {},
   "outputs": [],
   "source": []
  }
 ],
 "metadata": {
  "kernelspec": {
   "display_name": "Python 3",
   "language": "python",
   "name": "python3"
  },
  "language_info": {
   "codemirror_mode": {
    "name": "ipython",
    "version": 3
   },
   "file_extension": ".py",
   "mimetype": "text/x-python",
   "name": "python",
   "nbconvert_exporter": "python",
   "pygments_lexer": "ipython3",
   "version": "3.6.10"
  }
 },
 "nbformat": 4,
 "nbformat_minor": 4
}
