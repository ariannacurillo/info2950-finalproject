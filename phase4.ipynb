{
 "cells": [
  {
   "cell_type": "code",
   "execution_count": 2,
   "metadata": {},
   "outputs": [],
   "source": [
    "## load libraries\n",
    "import pandas as pd\n",
    "import numpy as np\n",
    "import matplotlib.pyplot as plt\n",
    "from scipy import stats\n",
    "import seaborn as sns\n",
    "from datetime import datetime\n",
    "from sklearn.linear_model import LinearRegression\n",
    "from sklearn.linear_model import LogisticRegression\n",
    "from sklearn.model_selection import train_test_split\n",
    "from scipy import stats\n",
    "from scipy.stats import poisson, ttest_ind"
   ]
  },
  {
   "cell_type": "code",
   "execution_count": 42,
   "metadata": {},
   "outputs": [
    {
     "data": {
      "text/html": [
       "<div>\n",
       "<style scoped>\n",
       "    .dataframe tbody tr th:only-of-type {\n",
       "        vertical-align: middle;\n",
       "    }\n",
       "\n",
       "    .dataframe tbody tr th {\n",
       "        vertical-align: top;\n",
       "    }\n",
       "\n",
       "    .dataframe thead th {\n",
       "        text-align: right;\n",
       "    }\n",
       "</style>\n",
       "<table border=\"1\" class=\"dataframe\">\n",
       "  <thead>\n",
       "    <tr style=\"text-align: right;\">\n",
       "      <th></th>\n",
       "      <th>tripduration</th>\n",
       "      <th>starttime</th>\n",
       "      <th>stoptime</th>\n",
       "      <th>start station id</th>\n",
       "      <th>start station name</th>\n",
       "      <th>start station latitude</th>\n",
       "      <th>start station longitude</th>\n",
       "      <th>end station id</th>\n",
       "      <th>end station name</th>\n",
       "      <th>end station latitude</th>\n",
       "      <th>end station longitude</th>\n",
       "      <th>bikeid</th>\n",
       "      <th>usertype</th>\n",
       "      <th>birthyear</th>\n",
       "      <th>gender</th>\n",
       "    </tr>\n",
       "  </thead>\n",
       "  <tbody>\n",
       "    <tr>\n",
       "      <th>0</th>\n",
       "      <td>695</td>\n",
       "      <td>2013-06-01 00:00:01</td>\n",
       "      <td>2013-06-01 00:11:36</td>\n",
       "      <td>444</td>\n",
       "      <td>Broadway &amp; W 24 St</td>\n",
       "      <td>40.742354</td>\n",
       "      <td>-73.989151</td>\n",
       "      <td>434.0</td>\n",
       "      <td>9 Ave &amp; W 18 St</td>\n",
       "      <td>40.743174</td>\n",
       "      <td>-74.003664</td>\n",
       "      <td>19678</td>\n",
       "      <td>Subscriber</td>\n",
       "      <td>1983.0</td>\n",
       "      <td>1</td>\n",
       "    </tr>\n",
       "    <tr>\n",
       "      <th>1</th>\n",
       "      <td>693</td>\n",
       "      <td>2013-06-01 00:00:08</td>\n",
       "      <td>2013-06-01 00:11:41</td>\n",
       "      <td>444</td>\n",
       "      <td>Broadway &amp; W 24 St</td>\n",
       "      <td>40.742354</td>\n",
       "      <td>-73.989151</td>\n",
       "      <td>434.0</td>\n",
       "      <td>9 Ave &amp; W 18 St</td>\n",
       "      <td>40.743174</td>\n",
       "      <td>-74.003664</td>\n",
       "      <td>16649</td>\n",
       "      <td>Subscriber</td>\n",
       "      <td>1984.0</td>\n",
       "      <td>1</td>\n",
       "    </tr>\n",
       "    <tr>\n",
       "      <th>2</th>\n",
       "      <td>2059</td>\n",
       "      <td>2013-06-01 00:00:44</td>\n",
       "      <td>2013-06-01 00:35:03</td>\n",
       "      <td>406</td>\n",
       "      <td>Hicks St &amp; Montague St</td>\n",
       "      <td>40.695128</td>\n",
       "      <td>-73.995951</td>\n",
       "      <td>406.0</td>\n",
       "      <td>Hicks St &amp; Montague St</td>\n",
       "      <td>40.695128</td>\n",
       "      <td>-73.995951</td>\n",
       "      <td>19599</td>\n",
       "      <td>Customer</td>\n",
       "      <td>NaN</td>\n",
       "      <td>0</td>\n",
       "    </tr>\n",
       "    <tr>\n",
       "      <th>3</th>\n",
       "      <td>123</td>\n",
       "      <td>2013-06-01 00:01:04</td>\n",
       "      <td>2013-06-01 00:03:07</td>\n",
       "      <td>475</td>\n",
       "      <td>E 15 St &amp; Irving Pl</td>\n",
       "      <td>40.735243</td>\n",
       "      <td>-73.987586</td>\n",
       "      <td>262.0</td>\n",
       "      <td>Washington Park</td>\n",
       "      <td>40.691782</td>\n",
       "      <td>-73.973730</td>\n",
       "      <td>16352</td>\n",
       "      <td>Subscriber</td>\n",
       "      <td>1960.0</td>\n",
       "      <td>1</td>\n",
       "    </tr>\n",
       "    <tr>\n",
       "      <th>4</th>\n",
       "      <td>1521</td>\n",
       "      <td>2013-06-01 00:01:22</td>\n",
       "      <td>2013-06-01 00:26:43</td>\n",
       "      <td>2008</td>\n",
       "      <td>Little West St &amp; 1 Pl</td>\n",
       "      <td>40.705693</td>\n",
       "      <td>-74.016777</td>\n",
       "      <td>310.0</td>\n",
       "      <td>State St &amp; Smith St</td>\n",
       "      <td>40.689269</td>\n",
       "      <td>-73.989129</td>\n",
       "      <td>15567</td>\n",
       "      <td>Subscriber</td>\n",
       "      <td>1983.0</td>\n",
       "      <td>1</td>\n",
       "    </tr>\n",
       "  </tbody>\n",
       "</table>\n",
       "</div>"
      ],
      "text/plain": [
       "   tripduration            starttime             stoptime  start station id  \\\n",
       "0           695  2013-06-01 00:00:01  2013-06-01 00:11:36               444   \n",
       "1           693  2013-06-01 00:00:08  2013-06-01 00:11:41               444   \n",
       "2          2059  2013-06-01 00:00:44  2013-06-01 00:35:03               406   \n",
       "3           123  2013-06-01 00:01:04  2013-06-01 00:03:07               475   \n",
       "4          1521  2013-06-01 00:01:22  2013-06-01 00:26:43              2008   \n",
       "\n",
       "       start station name  start station latitude  start station longitude  \\\n",
       "0      Broadway & W 24 St               40.742354               -73.989151   \n",
       "1      Broadway & W 24 St               40.742354               -73.989151   \n",
       "2  Hicks St & Montague St               40.695128               -73.995951   \n",
       "3     E 15 St & Irving Pl               40.735243               -73.987586   \n",
       "4   Little West St & 1 Pl               40.705693               -74.016777   \n",
       "\n",
       "   end station id        end station name  end station latitude  \\\n",
       "0           434.0         9 Ave & W 18 St             40.743174   \n",
       "1           434.0         9 Ave & W 18 St             40.743174   \n",
       "2           406.0  Hicks St & Montague St             40.695128   \n",
       "3           262.0         Washington Park             40.691782   \n",
       "4           310.0     State St & Smith St             40.689269   \n",
       "\n",
       "   end station longitude  bikeid    usertype  birthyear  gender  \n",
       "0             -74.003664   19678  Subscriber     1983.0       1  \n",
       "1             -74.003664   16649  Subscriber     1984.0       1  \n",
       "2             -73.995951   19599    Customer        NaN       0  \n",
       "3             -73.973730   16352  Subscriber     1960.0       1  \n",
       "4             -73.989129   15567  Subscriber     1983.0       1  "
      ]
     },
     "execution_count": 42,
     "metadata": {},
     "output_type": "execute_result"
    }
   ],
   "source": [
    "## load data on ghg data\n",
    "biking_2013 = pd.read_csv(\"201306-citibike-tripdata.csv\")\n",
    "biking_2013 = biking_2013.rename(columns={\"birth year\":\"birthyear\"})\n",
    "biking_2013.head()"
   ]
  },
  {
   "cell_type": "code",
   "execution_count": 43,
   "metadata": {},
   "outputs": [
    {
     "data": {
      "text/html": [
       "<div>\n",
       "<style scoped>\n",
       "    .dataframe tbody tr th:only-of-type {\n",
       "        vertical-align: middle;\n",
       "    }\n",
       "\n",
       "    .dataframe tbody tr th {\n",
       "        vertical-align: top;\n",
       "    }\n",
       "\n",
       "    .dataframe thead th {\n",
       "        text-align: right;\n",
       "    }\n",
       "</style>\n",
       "<table border=\"1\" class=\"dataframe\">\n",
       "  <thead>\n",
       "    <tr style=\"text-align: right;\">\n",
       "      <th></th>\n",
       "      <th>tripduration</th>\n",
       "      <th>starttime</th>\n",
       "      <th>stoptime</th>\n",
       "      <th>start station id</th>\n",
       "      <th>start station name</th>\n",
       "      <th>start station latitude</th>\n",
       "      <th>start station longitude</th>\n",
       "      <th>end station id</th>\n",
       "      <th>end station name</th>\n",
       "      <th>end station latitude</th>\n",
       "      <th>end station longitude</th>\n",
       "      <th>bikeid</th>\n",
       "      <th>usertype</th>\n",
       "      <th>birthyear</th>\n",
       "      <th>gender</th>\n",
       "    </tr>\n",
       "  </thead>\n",
       "  <tbody>\n",
       "    <tr>\n",
       "      <th>0</th>\n",
       "      <td>330</td>\n",
       "      <td>2019-06-01 00:00:01.5000</td>\n",
       "      <td>2019-06-01 00:05:31.7600</td>\n",
       "      <td>3602</td>\n",
       "      <td>31 Ave &amp; 34 St</td>\n",
       "      <td>40.763154</td>\n",
       "      <td>-73.920827</td>\n",
       "      <td>3570</td>\n",
       "      <td>35 Ave &amp; 37 St</td>\n",
       "      <td>40.755733</td>\n",
       "      <td>-73.923661</td>\n",
       "      <td>20348</td>\n",
       "      <td>Subscriber</td>\n",
       "      <td>1992</td>\n",
       "      <td>1</td>\n",
       "    </tr>\n",
       "    <tr>\n",
       "      <th>1</th>\n",
       "      <td>830</td>\n",
       "      <td>2019-06-01 00:00:04.2400</td>\n",
       "      <td>2019-06-01 00:13:55.1470</td>\n",
       "      <td>3054</td>\n",
       "      <td>Greene Ave &amp; Throop Ave</td>\n",
       "      <td>40.689493</td>\n",
       "      <td>-73.942061</td>\n",
       "      <td>3781</td>\n",
       "      <td>Greene Av &amp; Myrtle Av</td>\n",
       "      <td>40.698568</td>\n",
       "      <td>-73.918877</td>\n",
       "      <td>34007</td>\n",
       "      <td>Subscriber</td>\n",
       "      <td>1987</td>\n",
       "      <td>2</td>\n",
       "    </tr>\n",
       "    <tr>\n",
       "      <th>2</th>\n",
       "      <td>380</td>\n",
       "      <td>2019-06-01 00:00:06.0190</td>\n",
       "      <td>2019-06-01 00:06:26.7790</td>\n",
       "      <td>229</td>\n",
       "      <td>Great Jones St</td>\n",
       "      <td>40.727434</td>\n",
       "      <td>-73.993790</td>\n",
       "      <td>326</td>\n",
       "      <td>E 11 St &amp; 1 Ave</td>\n",
       "      <td>40.729538</td>\n",
       "      <td>-73.984267</td>\n",
       "      <td>20587</td>\n",
       "      <td>Subscriber</td>\n",
       "      <td>1990</td>\n",
       "      <td>2</td>\n",
       "    </tr>\n",
       "    <tr>\n",
       "      <th>3</th>\n",
       "      <td>1155</td>\n",
       "      <td>2019-06-01 00:00:06.7760</td>\n",
       "      <td>2019-06-01 00:19:22.5380</td>\n",
       "      <td>3771</td>\n",
       "      <td>McKibbin St &amp; Bogart St</td>\n",
       "      <td>40.706237</td>\n",
       "      <td>-73.933871</td>\n",
       "      <td>3016</td>\n",
       "      <td>Kent Ave &amp; N 7 St</td>\n",
       "      <td>40.720368</td>\n",
       "      <td>-73.961651</td>\n",
       "      <td>33762</td>\n",
       "      <td>Subscriber</td>\n",
       "      <td>1987</td>\n",
       "      <td>1</td>\n",
       "    </tr>\n",
       "    <tr>\n",
       "      <th>4</th>\n",
       "      <td>1055</td>\n",
       "      <td>2019-06-01 00:00:07.5200</td>\n",
       "      <td>2019-06-01 00:17:42.5580</td>\n",
       "      <td>441</td>\n",
       "      <td>E 52 St &amp; 2 Ave</td>\n",
       "      <td>40.756014</td>\n",
       "      <td>-73.967416</td>\n",
       "      <td>3159</td>\n",
       "      <td>W 67 St &amp; Broadway</td>\n",
       "      <td>40.774925</td>\n",
       "      <td>-73.982666</td>\n",
       "      <td>31290</td>\n",
       "      <td>Subscriber</td>\n",
       "      <td>1973</td>\n",
       "      <td>1</td>\n",
       "    </tr>\n",
       "  </tbody>\n",
       "</table>\n",
       "</div>"
      ],
      "text/plain": [
       "   tripduration                 starttime                  stoptime  \\\n",
       "0           330  2019-06-01 00:00:01.5000  2019-06-01 00:05:31.7600   \n",
       "1           830  2019-06-01 00:00:04.2400  2019-06-01 00:13:55.1470   \n",
       "2           380  2019-06-01 00:00:06.0190  2019-06-01 00:06:26.7790   \n",
       "3          1155  2019-06-01 00:00:06.7760  2019-06-01 00:19:22.5380   \n",
       "4          1055  2019-06-01 00:00:07.5200  2019-06-01 00:17:42.5580   \n",
       "\n",
       "   start station id       start station name  start station latitude  \\\n",
       "0              3602           31 Ave & 34 St               40.763154   \n",
       "1              3054  Greene Ave & Throop Ave               40.689493   \n",
       "2               229           Great Jones St               40.727434   \n",
       "3              3771  McKibbin St & Bogart St               40.706237   \n",
       "4               441          E 52 St & 2 Ave               40.756014   \n",
       "\n",
       "   start station longitude  end station id       end station name  \\\n",
       "0               -73.920827            3570         35 Ave & 37 St   \n",
       "1               -73.942061            3781  Greene Av & Myrtle Av   \n",
       "2               -73.993790             326        E 11 St & 1 Ave   \n",
       "3               -73.933871            3016      Kent Ave & N 7 St   \n",
       "4               -73.967416            3159     W 67 St & Broadway   \n",
       "\n",
       "   end station latitude  end station longitude  bikeid    usertype  birthyear  \\\n",
       "0             40.755733             -73.923661   20348  Subscriber       1992   \n",
       "1             40.698568             -73.918877   34007  Subscriber       1987   \n",
       "2             40.729538             -73.984267   20587  Subscriber       1990   \n",
       "3             40.720368             -73.961651   33762  Subscriber       1987   \n",
       "4             40.774925             -73.982666   31290  Subscriber       1973   \n",
       "\n",
       "   gender  \n",
       "0       1  \n",
       "1       2  \n",
       "2       2  \n",
       "3       1  \n",
       "4       1  "
      ]
     },
     "execution_count": 43,
     "metadata": {},
     "output_type": "execute_result"
    }
   ],
   "source": [
    "biking_2019 = pd.read_csv(\"201906-citibike-tripdata.csv\")\n",
    "biking_2019 = biking_2019.rename(columns={\"birth year\":\"birthyear\"})\n",
    "biking_2019.head()"
   ]
  },
  {
   "cell_type": "code",
   "execution_count": 6,
   "metadata": {},
   "outputs": [
    {
     "data": {
      "text/plain": [
       "2125370"
      ]
     },
     "execution_count": 6,
     "metadata": {},
     "output_type": "execute_result"
    }
   ],
   "source": [
    "len(biking_2019)"
   ]
  },
  {
   "cell_type": "code",
   "execution_count": 7,
   "metadata": {},
   "outputs": [
    {
     "data": {
      "text/plain": [
       "577703"
      ]
     },
     "execution_count": 7,
     "metadata": {},
     "output_type": "execute_result"
    }
   ],
   "source": [
    "len(biking_2013)"
   ]
  },
  {
   "cell_type": "code",
   "execution_count": 18,
   "metadata": {},
   "outputs": [
    {
     "data": {
      "image/png": "[encoded data removed]",
      "text/plain": [
       "<Figure size 432x288 with 1 Axes>"
      ]
     },
     "metadata": {
      "needs_background": "light"
     },
     "output_type": "display_data"
    }
   ],
   "source": [
    "plt.plot(biking_2013[\"tripduration\"])\n",
    "plt.xlabel(\"User id\")\n",
    "plt.ylabel(\"Trip duration in 2013\")\n",
    "plt.show()"
   ]
  },
  {
   "cell_type": "code",
   "execution_count": 19,
   "metadata": {},
   "outputs": [
    {
     "data": {
      "image/png": "[encoded data removed]",
      "text/plain": [
       "<Figure size 432x288 with 1 Axes>"
      ]
     },
     "metadata": {
      "needs_background": "light"
     },
     "output_type": "display_data"
    }
   ],
   "source": [
    "plt.plot(biking_2019[\"tripduration\"])\n",
    "plt.xlabel(\"User id\")\n",
    "plt.ylabel(\"Trip duration in 2019\")\n",
    "plt.show()"
   ]
  },
  {
   "cell_type": "code",
   "execution_count": 26,
   "metadata": {},
   "outputs": [
    {
     "data": {
      "text/plain": [
       "337384"
      ]
     },
     "execution_count": 26,
     "metadata": {},
     "output_type": "execute_result"
    }
   ],
   "source": [
    "num_subscribers_2013 = biking_2013.query(\"usertype == 'Subscriber'\")\n",
    "len(num_subscribers_2013)"
   ]
  },
  {
   "cell_type": "code",
   "execution_count": 27,
   "metadata": {},
   "outputs": [
    {
     "data": {
      "text/plain": [
       "1752526"
      ]
     },
     "execution_count": 27,
     "metadata": {},
     "output_type": "execute_result"
    }
   ],
   "source": [
    "num_subscribers_2019 = biking_2019.query(\"usertype == 'Subscriber'\")\n",
    "len(num_subscribers_2019)"
   ]
  },
  {
   "cell_type": "code",
   "execution_count": 29,
   "metadata": {},
   "outputs": [
    {
     "name": "stdout",
     "output_type": "stream",
     "text": [
      "The percent of subscribers in 2013 is 58.40%\n"
     ]
    }
   ],
   "source": [
    "percent_subscribers_2013 = len(num_subscribers_2013) / len(biking_2013)\n",
    "print(\"The percent of subscribers in 2013 is \" + \"{:.2%}\".format(percent_subscribers_2013))"
   ]
  },
  {
   "cell_type": "code",
   "execution_count": 30,
   "metadata": {},
   "outputs": [
    {
     "name": "stdout",
     "output_type": "stream",
     "text": [
      "The percent of subscribers in 2019 is 82.46%\n"
     ]
    }
   ],
   "source": [
    "percent_subscribers_2019 = len(num_subscribers_2019) / len(biking_2019)\n",
    "print(\"The percent of subscribers in 2019 is \" + \"{:.2%}\".format(percent_subscribers_2019))"
   ]
  },
  {
   "cell_type": "code",
   "execution_count": 31,
   "metadata": {},
   "outputs": [
    {
     "name": "stdout",
     "output_type": "stream",
     "text": [
      "The percent of change of subscribers from 2013 to 2019 is 419.45%\n"
     ]
    }
   ],
   "source": [
    "##Percent change in subscribers from 2013 to 2019\n",
    "percent_change = (len(num_subscribers_2019) - len(num_subscribers_2013) ) / len(num_subscribers_2013)\n",
    "print(\"The percent of change of subscribers from 2013 to 2019 is \" + \"{:.2%}\".format(percent_change))"
   ]
  },
  {
   "cell_type": "code",
   "execution_count": 45,
   "metadata": {},
   "outputs": [
    {
     "data": {
      "text/html": [
       "<div>\n",
       "<style scoped>\n",
       "    .dataframe tbody tr th:only-of-type {\n",
       "        vertical-align: middle;\n",
       "    }\n",
       "\n",
       "    .dataframe tbody tr th {\n",
       "        vertical-align: top;\n",
       "    }\n",
       "\n",
       "    .dataframe thead th {\n",
       "        text-align: right;\n",
       "    }\n",
       "</style>\n",
       "<table border=\"1\" class=\"dataframe\">\n",
       "  <thead>\n",
       "    <tr style=\"text-align: right;\">\n",
       "      <th></th>\n",
       "      <th>index</th>\n",
       "      <th>tripduration</th>\n",
       "      <th>starttime</th>\n",
       "      <th>stoptime</th>\n",
       "      <th>start station id</th>\n",
       "      <th>start station name</th>\n",
       "      <th>start station latitude</th>\n",
       "      <th>start station longitude</th>\n",
       "      <th>end station id</th>\n",
       "      <th>end station name</th>\n",
       "      <th>end station latitude</th>\n",
       "      <th>end station longitude</th>\n",
       "      <th>bikeid</th>\n",
       "      <th>usertype</th>\n",
       "      <th>birthyear</th>\n",
       "      <th>gender</th>\n",
       "    </tr>\n",
       "  </thead>\n",
       "  <tbody>\n",
       "    <tr>\n",
       "      <th>0</th>\n",
       "      <td>0</td>\n",
       "      <td>695</td>\n",
       "      <td>2013-06-01 00:00:01</td>\n",
       "      <td>2013-06-01 00:11:36</td>\n",
       "      <td>444</td>\n",
       "      <td>Broadway &amp; W 24 St</td>\n",
       "      <td>40.742354</td>\n",
       "      <td>-73.989151</td>\n",
       "      <td>434.0</td>\n",
       "      <td>9 Ave &amp; W 18 St</td>\n",
       "      <td>40.743174</td>\n",
       "      <td>-74.003664</td>\n",
       "      <td>19678</td>\n",
       "      <td>Subscriber</td>\n",
       "      <td>1983.0</td>\n",
       "      <td>1</td>\n",
       "    </tr>\n",
       "    <tr>\n",
       "      <th>1</th>\n",
       "      <td>1</td>\n",
       "      <td>693</td>\n",
       "      <td>2013-06-01 00:00:08</td>\n",
       "      <td>2013-06-01 00:11:41</td>\n",
       "      <td>444</td>\n",
       "      <td>Broadway &amp; W 24 St</td>\n",
       "      <td>40.742354</td>\n",
       "      <td>-73.989151</td>\n",
       "      <td>434.0</td>\n",
       "      <td>9 Ave &amp; W 18 St</td>\n",
       "      <td>40.743174</td>\n",
       "      <td>-74.003664</td>\n",
       "      <td>16649</td>\n",
       "      <td>Subscriber</td>\n",
       "      <td>1984.0</td>\n",
       "      <td>1</td>\n",
       "    </tr>\n",
       "    <tr>\n",
       "      <th>2</th>\n",
       "      <td>3</td>\n",
       "      <td>123</td>\n",
       "      <td>2013-06-01 00:01:04</td>\n",
       "      <td>2013-06-01 00:03:07</td>\n",
       "      <td>475</td>\n",
       "      <td>E 15 St &amp; Irving Pl</td>\n",
       "      <td>40.735243</td>\n",
       "      <td>-73.987586</td>\n",
       "      <td>262.0</td>\n",
       "      <td>Washington Park</td>\n",
       "      <td>40.691782</td>\n",
       "      <td>-73.973730</td>\n",
       "      <td>16352</td>\n",
       "      <td>Subscriber</td>\n",
       "      <td>1960.0</td>\n",
       "      <td>1</td>\n",
       "    </tr>\n",
       "    <tr>\n",
       "      <th>3</th>\n",
       "      <td>4</td>\n",
       "      <td>1521</td>\n",
       "      <td>2013-06-01 00:01:22</td>\n",
       "      <td>2013-06-01 00:26:43</td>\n",
       "      <td>2008</td>\n",
       "      <td>Little West St &amp; 1 Pl</td>\n",
       "      <td>40.705693</td>\n",
       "      <td>-74.016777</td>\n",
       "      <td>310.0</td>\n",
       "      <td>State St &amp; Smith St</td>\n",
       "      <td>40.689269</td>\n",
       "      <td>-73.989129</td>\n",
       "      <td>15567</td>\n",
       "      <td>Subscriber</td>\n",
       "      <td>1983.0</td>\n",
       "      <td>1</td>\n",
       "    </tr>\n",
       "    <tr>\n",
       "      <th>4</th>\n",
       "      <td>6</td>\n",
       "      <td>2057</td>\n",
       "      <td>2013-06-01 00:02:33</td>\n",
       "      <td>2013-06-01 00:36:50</td>\n",
       "      <td>285</td>\n",
       "      <td>Broadway &amp; E 14 St</td>\n",
       "      <td>40.734546</td>\n",
       "      <td>-73.990741</td>\n",
       "      <td>532.0</td>\n",
       "      <td>S 5 Pl &amp; S 5 St</td>\n",
       "      <td>40.710451</td>\n",
       "      <td>-73.960876</td>\n",
       "      <td>15693</td>\n",
       "      <td>Subscriber</td>\n",
       "      <td>1991.0</td>\n",
       "      <td>1</td>\n",
       "    </tr>\n",
       "  </tbody>\n",
       "</table>\n",
       "</div>"
      ],
      "text/plain": [
       "   index  tripduration            starttime             stoptime  \\\n",
       "0      0           695  2013-06-01 00:00:01  2013-06-01 00:11:36   \n",
       "1      1           693  2013-06-01 00:00:08  2013-06-01 00:11:41   \n",
       "2      3           123  2013-06-01 00:01:04  2013-06-01 00:03:07   \n",
       "3      4          1521  2013-06-01 00:01:22  2013-06-01 00:26:43   \n",
       "4      6          2057  2013-06-01 00:02:33  2013-06-01 00:36:50   \n",
       "\n",
       "   start station id     start station name  start station latitude  \\\n",
       "0               444     Broadway & W 24 St               40.742354   \n",
       "1               444     Broadway & W 24 St               40.742354   \n",
       "2               475    E 15 St & Irving Pl               40.735243   \n",
       "3              2008  Little West St & 1 Pl               40.705693   \n",
       "4               285     Broadway & E 14 St               40.734546   \n",
       "\n",
       "   start station longitude  end station id     end station name  \\\n",
       "0               -73.989151           434.0      9 Ave & W 18 St   \n",
       "1               -73.989151           434.0      9 Ave & W 18 St   \n",
       "2               -73.987586           262.0      Washington Park   \n",
       "3               -74.016777           310.0  State St & Smith St   \n",
       "4               -73.990741           532.0      S 5 Pl & S 5 St   \n",
       "\n",
       "   end station latitude  end station longitude  bikeid    usertype  birthyear  \\\n",
       "0             40.743174             -74.003664   19678  Subscriber     1983.0   \n",
       "1             40.743174             -74.003664   16649  Subscriber     1984.0   \n",
       "2             40.691782             -73.973730   16352  Subscriber     1960.0   \n",
       "3             40.689269             -73.989129   15567  Subscriber     1983.0   \n",
       "4             40.710451             -73.960876   15693  Subscriber     1991.0   \n",
       "\n",
       "   gender  \n",
       "0       1  \n",
       "1       1  \n",
       "2       1  \n",
       "3       1  \n",
       "4       1  "
      ]
     },
     "execution_count": 45,
     "metadata": {},
     "output_type": "execute_result"
    }
   ],
   "source": [
    "biking_2013_subset = biking_2013.query('birthyear > 1920 & gender > 0')\n",
    "biking_2013_subset = biking_2013_subset.reset_index(level=0)\n",
    "biking_2013_subset.head()"
   ]
  },
  {
   "cell_type": "code",
   "execution_count": 46,
   "metadata": {},
   "outputs": [
    {
     "data": {
      "text/html": [
       "<div>\n",
       "<style scoped>\n",
       "    .dataframe tbody tr th:only-of-type {\n",
       "        vertical-align: middle;\n",
       "    }\n",
       "\n",
       "    .dataframe tbody tr th {\n",
       "        vertical-align: top;\n",
       "    }\n",
       "\n",
       "    .dataframe thead th {\n",
       "        text-align: right;\n",
       "    }\n",
       "</style>\n",
       "<table border=\"1\" class=\"dataframe\">\n",
       "  <thead>\n",
       "    <tr style=\"text-align: right;\">\n",
       "      <th></th>\n",
       "      <th>index</th>\n",
       "      <th>tripduration</th>\n",
       "      <th>starttime</th>\n",
       "      <th>stoptime</th>\n",
       "      <th>start station id</th>\n",
       "      <th>start station name</th>\n",
       "      <th>start station latitude</th>\n",
       "      <th>start station longitude</th>\n",
       "      <th>end station id</th>\n",
       "      <th>end station name</th>\n",
       "      <th>end station latitude</th>\n",
       "      <th>end station longitude</th>\n",
       "      <th>bikeid</th>\n",
       "      <th>usertype</th>\n",
       "      <th>birthyear</th>\n",
       "      <th>gender</th>\n",
       "    </tr>\n",
       "  </thead>\n",
       "  <tbody>\n",
       "    <tr>\n",
       "      <th>0</th>\n",
       "      <td>0</td>\n",
       "      <td>330</td>\n",
       "      <td>2019-06-01 00:00:01.5000</td>\n",
       "      <td>2019-06-01 00:05:31.7600</td>\n",
       "      <td>3602</td>\n",
       "      <td>31 Ave &amp; 34 St</td>\n",
       "      <td>40.763154</td>\n",
       "      <td>-73.920827</td>\n",
       "      <td>3570</td>\n",
       "      <td>35 Ave &amp; 37 St</td>\n",
       "      <td>40.755733</td>\n",
       "      <td>-73.923661</td>\n",
       "      <td>20348</td>\n",
       "      <td>Subscriber</td>\n",
       "      <td>1992</td>\n",
       "      <td>1</td>\n",
       "    </tr>\n",
       "    <tr>\n",
       "      <th>1</th>\n",
       "      <td>1</td>\n",
       "      <td>830</td>\n",
       "      <td>2019-06-01 00:00:04.2400</td>\n",
       "      <td>2019-06-01 00:13:55.1470</td>\n",
       "      <td>3054</td>\n",
       "      <td>Greene Ave &amp; Throop Ave</td>\n",
       "      <td>40.689493</td>\n",
       "      <td>-73.942061</td>\n",
       "      <td>3781</td>\n",
       "      <td>Greene Av &amp; Myrtle Av</td>\n",
       "      <td>40.698568</td>\n",
       "      <td>-73.918877</td>\n",
       "      <td>34007</td>\n",
       "      <td>Subscriber</td>\n",
       "      <td>1987</td>\n",
       "      <td>2</td>\n",
       "    </tr>\n",
       "    <tr>\n",
       "      <th>2</th>\n",
       "      <td>2</td>\n",
       "      <td>380</td>\n",
       "      <td>2019-06-01 00:00:06.0190</td>\n",
       "      <td>2019-06-01 00:06:26.7790</td>\n",
       "      <td>229</td>\n",
       "      <td>Great Jones St</td>\n",
       "      <td>40.727434</td>\n",
       "      <td>-73.993790</td>\n",
       "      <td>326</td>\n",
       "      <td>E 11 St &amp; 1 Ave</td>\n",
       "      <td>40.729538</td>\n",
       "      <td>-73.984267</td>\n",
       "      <td>20587</td>\n",
       "      <td>Subscriber</td>\n",
       "      <td>1990</td>\n",
       "      <td>2</td>\n",
       "    </tr>\n",
       "    <tr>\n",
       "      <th>3</th>\n",
       "      <td>3</td>\n",
       "      <td>1155</td>\n",
       "      <td>2019-06-01 00:00:06.7760</td>\n",
       "      <td>2019-06-01 00:19:22.5380</td>\n",
       "      <td>3771</td>\n",
       "      <td>McKibbin St &amp; Bogart St</td>\n",
       "      <td>40.706237</td>\n",
       "      <td>-73.933871</td>\n",
       "      <td>3016</td>\n",
       "      <td>Kent Ave &amp; N 7 St</td>\n",
       "      <td>40.720368</td>\n",
       "      <td>-73.961651</td>\n",
       "      <td>33762</td>\n",
       "      <td>Subscriber</td>\n",
       "      <td>1987</td>\n",
       "      <td>1</td>\n",
       "    </tr>\n",
       "    <tr>\n",
       "      <th>4</th>\n",
       "      <td>4</td>\n",
       "      <td>1055</td>\n",
       "      <td>2019-06-01 00:00:07.5200</td>\n",
       "      <td>2019-06-01 00:17:42.5580</td>\n",
       "      <td>441</td>\n",
       "      <td>E 52 St &amp; 2 Ave</td>\n",
       "      <td>40.756014</td>\n",
       "      <td>-73.967416</td>\n",
       "      <td>3159</td>\n",
       "      <td>W 67 St &amp; Broadway</td>\n",
       "      <td>40.774925</td>\n",
       "      <td>-73.982666</td>\n",
       "      <td>31290</td>\n",
       "      <td>Subscriber</td>\n",
       "      <td>1973</td>\n",
       "      <td>1</td>\n",
       "    </tr>\n",
       "  </tbody>\n",
       "</table>\n",
       "</div>"
      ],
      "text/plain": [
       "   index  tripduration                 starttime                  stoptime  \\\n",
       "0      0           330  2019-06-01 00:00:01.5000  2019-06-01 00:05:31.7600   \n",
       "1      1           830  2019-06-01 00:00:04.2400  2019-06-01 00:13:55.1470   \n",
       "2      2           380  2019-06-01 00:00:06.0190  2019-06-01 00:06:26.7790   \n",
       "3      3          1155  2019-06-01 00:00:06.7760  2019-06-01 00:19:22.5380   \n",
       "4      4          1055  2019-06-01 00:00:07.5200  2019-06-01 00:17:42.5580   \n",
       "\n",
       "   start station id       start station name  start station latitude  \\\n",
       "0              3602           31 Ave & 34 St               40.763154   \n",
       "1              3054  Greene Ave & Throop Ave               40.689493   \n",
       "2               229           Great Jones St               40.727434   \n",
       "3              3771  McKibbin St & Bogart St               40.706237   \n",
       "4               441          E 52 St & 2 Ave               40.756014   \n",
       "\n",
       "   start station longitude  end station id       end station name  \\\n",
       "0               -73.920827            3570         35 Ave & 37 St   \n",
       "1               -73.942061            3781  Greene Av & Myrtle Av   \n",
       "2               -73.993790             326        E 11 St & 1 Ave   \n",
       "3               -73.933871            3016      Kent Ave & N 7 St   \n",
       "4               -73.967416            3159     W 67 St & Broadway   \n",
       "\n",
       "   end station latitude  end station longitude  bikeid    usertype  birthyear  \\\n",
       "0             40.755733             -73.923661   20348  Subscriber       1992   \n",
       "1             40.698568             -73.918877   34007  Subscriber       1987   \n",
       "2             40.729538             -73.984267   20587  Subscriber       1990   \n",
       "3             40.720368             -73.961651   33762  Subscriber       1987   \n",
       "4             40.774925             -73.982666   31290  Subscriber       1973   \n",
       "\n",
       "   gender  \n",
       "0       1  \n",
       "1       2  \n",
       "2       2  \n",
       "3       1  \n",
       "4       1  "
      ]
     },
     "execution_count": 46,
     "metadata": {},
     "output_type": "execute_result"
    }
   ],
   "source": [
    "biking_2019_subset = biking_2019.query('birthyear > 1920 & gender > 0')\n",
    "biking_2019_subset = biking_2019_subset.reset_index(level=0)\n",
    "biking_2019_subset.head()"
   ]
  },
  {
   "cell_type": "code",
   "execution_count": 49,
   "metadata": {},
   "outputs": [
    {
     "data": {
      "image/png": "[encoded data removed]",
      "text/plain": [
       "<Figure size 431.5x360 with 1 Axes>"
      ]
     },
     "metadata": {
      "needs_background": "light"
     },
     "output_type": "display_data"
    }
   ],
   "source": [
    "sns.relplot(x=\"birthyear\", y=\"tripduration\", hue=\"gender\", data=biking_2013_subset)\n",
    "plt.xlabel(\"birth year\")\n",
    "plt.ylabel(\"trip duration\")\n",
    "plt.show()"
   ]
  },
  {
   "cell_type": "code",
   "execution_count": 50,
   "metadata": {},
   "outputs": [
    {
     "data": {
      "image/png": "[encoded data removed]",
      "text/plain": [
       "<Figure size 431.5x360 with 1 Axes>"
      ]
     },
     "metadata": {
      "needs_background": "light"
     },
     "output_type": "display_data"
    }
   ],
   "source": [
    "sns.relplot(x=\"birthyear\", y=\"tripduration\", hue=\"gender\", data=biking_2019_subset)\n",
    "plt.xlabel(\"birth year\")\n",
    "plt.ylabel(\"trip duration\")\n",
    "plt.show()"
   ]
  },
  {
   "cell_type": "code",
   "execution_count": null,
   "metadata": {},
   "outputs": [],
   "source": []
  }
 ],
 "metadata": {
  "kernelspec": {
   "display_name": "Python 3",
   "language": "python",
   "name": "python3"
  },
  "language_info": {
   "codemirror_mode": {
    "name": "ipython",
    "version": 3
   },
   "file_extension": ".py",
   "mimetype": "text/x-python",
   "name": "python",
   "nbconvert_exporter": "python",
   "pygments_lexer": "ipython3",
   "version": "3.8.3"
  }
 },
 "nbformat": 4,
 "nbformat_minor": 4
}
